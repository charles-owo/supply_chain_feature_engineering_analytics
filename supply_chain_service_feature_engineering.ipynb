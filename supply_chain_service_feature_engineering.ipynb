{
 "cells": [
  {
   "cell_type": "markdown",
   "source": [
    "# Importing Libraries"
   ],
   "metadata": {
    "collapsed": false
   },
   "id": "db0b1b781ec9d943"
  },
  {
   "cell_type": "code",
   "execution_count": 1,
   "outputs": [],
   "source": [
    "import numpy as np\n",
    "import pandas as pd\n",
    "import matplotlib.pyplot as plt\n",
    "import seaborn as sns"
   ],
   "metadata": {
    "collapsed": false,
    "ExecuteTime": {
     "end_time": "2023-08-01T09:15:08.259344600Z",
     "start_time": "2023-08-01T09:15:08.241252300Z"
    }
   },
   "id": "269859e11f4b736d"
  },
  {
   "cell_type": "markdown",
   "source": [
    "# Agenda—To distill and articulate data-derived insights in a manner that is easily comprehensible for Stakeholders without a technical background"
   ],
   "metadata": {
    "collapsed": false
   },
   "id": "969c0fd1a9ced4ae"
  },
  {
   "cell_type": "markdown",
   "source": [
    "# Importing Dataset"
   ],
   "metadata": {
    "collapsed": false
   },
   "id": "87b53e132f6b9faa"
  },
  {
   "cell_type": "code",
   "execution_count": 3,
   "outputs": [],
   "source": [
    "df = pd.read_csv('https://d2beiqkhq929f0.cloudfront.net/public_assets/assets/000/001/551/original/delhivery_data.csv?1642751181')"
   ],
   "metadata": {
    "collapsed": false,
    "ExecuteTime": {
     "end_time": "2023-08-01T09:19:53.887747Z",
     "start_time": "2023-08-01T09:19:50.431469Z"
    }
   },
   "id": "b87fb9194e2ae764"
  },
  {
   "cell_type": "code",
   "execution_count": 10,
   "outputs": [
    {
     "data": {
      "text/plain": "            data          trip_creation_time  \\\n34024   training  2018-09-24 18:33:32.808484   \n42655       test  2018-09-28 23:58:15.954304   \n99874   training  2018-09-17 21:58:03.159275   \n54219   training  2018-09-13 19:17:42.304008   \n144273  training  2018-09-22 00:01:29.437600   \n1310    training  2018-09-21 20:55:53.211057   \n77635   training  2018-09-16 03:23:02.287055   \n100730      test  2018-09-27 23:30:48.544795   \n37297   training  2018-09-13 23:15:17.438421   \n51008       test  2018-10-01 22:11:11.373626   \n88122       test  2018-09-27 18:03:26.267086   \n36200   training  2018-09-25 23:51:40.638237   \n135268  training  2018-09-18 05:21:00.039156   \n38983   training  2018-09-21 21:11:40.424812   \n103482  training  2018-09-19 17:59:24.196392   \n109374  training  2018-09-14 10:22:11.545246   \n14005   training  2018-09-17 19:32:40.490746   \n51113   training  2018-09-20 22:18:07.540013   \n70018       test  2018-09-27 20:54:10.390299   \n82504       test  2018-09-30 22:47:32.291898   \n\n                                      route_schedule_uuid route_type  \\\n34024   thanos::sroute:38e6d56f-8d2e-44c8-9366-85501ed...        FTL   \n42655   thanos::sroute:13fa1010-c6ab-4fcb-a3dc-33cce5b...        FTL   \n99874   thanos::sroute:0904e75c-b3ac-4278-96cf-802835a...        FTL   \n54219   thanos::sroute:69409580-4bf0-4bbf-96fe-9e7bc65...        FTL   \n144273  thanos::sroute:13140865-962a-41fa-a28d-aa85e32...    Carting   \n1310    thanos::sroute:a47a9fc6-858c-4a83-b7fc-760c9de...    Carting   \n77635   thanos::sroute:d44a95bc-1d78-49aa-a987-ea5763a...        FTL   \n100730  thanos::sroute:f6d1ba62-76a2-4dba-83ec-3ac0803...        FTL   \n37297   thanos::sroute:1396edcd-faad-4029-a574-f71a85a...    Carting   \n51008   thanos::sroute:828f0a4b-da11-4921-88df-5316ddb...        FTL   \n88122   thanos::sroute:9dbf891b-a5c8-4643-abde-b47c6b5...    Carting   \n36200   thanos::sroute:9e13f8b8-837d-4541-8c0e-4475cfa...    Carting   \n135268  thanos::sroute:396d96a3-e2f8-4c40-af0e-056e11f...        FTL   \n38983   thanos::sroute:d1697c04-febd-4558-9ea3-f86f89c...        FTL   \n103482  thanos::sroute:2cb11ecd-7ac1-4c28-8781-af0ca81...        FTL   \n109374  thanos::sroute:c75d1203-985d-4add-be9c-d4e3707...    Carting   \n14005   thanos::sroute:c5d2b749-1f63-470b-ab9d-50735a1...        FTL   \n51113   thanos::sroute:4a82dc91-6e1b-4d75-8b07-dba2aec...    Carting   \n70018   thanos::sroute:10f4477e-356d-4f01-bb23-3a1fc24...        FTL   \n82504   thanos::sroute:d26c2fa7-68f9-4eb7-ba6e-ef9eb67...        FTL   \n\n                      trip_uuid source_center  \\\n34024   trip-153781401280823388  IND756100AAC   \n42655   trip-153817909595408548  IND814133AAB   \n99874   trip-153722148315884812  IND141003AAB   \n54219   trip-153686626230371287  IND000000ACB   \n144273  trip-153757448943710607  IND602024AAA   \n1310    trip-153756335321071471  IND642126AAA   \n77635   trip-153706818243491326  IND411033AAA   \n100730  trip-153809104854446587  IND457226AAA   \n37297   trip-153688051743814671  IND201007AAA   \n51008   trip-153843187137342828  IND000000ACB   \n88122   trip-153807140626682458  IND600056AAB   \n36200   trip-153791950063768363  IND623407AAA   \n135268  trip-153724806003887830  IND421302AAG   \n38983   trip-153756430042455627  IND000000ACB   \n103482  trip-153737996419614301  IND562132AAA   \n109374  trip-153692053217908870  IND614715AAA   \n14005   trip-153721276049052801  IND673592AAA   \n51113   trip-153748188753979085  IND530012AAA   \n70018   trip-153808165039003346  IND626123AAA   \n82504   trip-153834765229163948  IND585104AAA   \n\n                                       source_name destination_center  \\\n34024                 Bhadrak_Central_I_2 (Orissa)       IND758034AAA   \n42655                Godda_Central_D_2 (Jharkhand)       IND816109AAA   \n99874                Ludhiana_GillChwk_DC (Punjab)       IND142026AAA   \n54219                Gurgaon_Bilaspur_HB (Haryana)       IND411033AAA   \n144273            Chennai_Vepmpttu_DC (Tamil Nadu)       IND602001AAA   \n1310             Udumalpet_Artclgrd_D (Tamil Nadu)       IND642001AAA   \n77635                Pune_Tathawde_H (Maharashtra)       IND000000ACB   \n100730           Jaora_RtlamNka_D (Madhya Pradesh)       IND382430AAB   \n37297          GZB_Mohan_Nagar_DPC (Uttar Pradesh)       IND245304AAA   \n51008                Gurgaon_Bilaspur_HB (Haryana)       IND821115AAB   \n88122              MAA_Poonamallee_HB (Tamil Nadu)       IND600032AAB   \n36200         Thiruvadanai_RamnadRD_D (Tamil Nadu)       IND623315AAB   \n135268           Bhiwandi_Mankoli_HB (Maharashtra)       IND110037AAM   \n38983                Gurgaon_Bilaspur_HB (Haryana)       IND209304AAA   \n103482            Bangalore_Nelmngla_H (Karnataka)       IND000000ACB   \n109374       Thirthurpondi_Madaprum_D (Tamil Nadu)       IND614809AAA   \n14005               SultnBthry_Kollgpra_D (Kerala)       IND562132AAA   \n51113   Visakhapatnam_Gajuwaka_IP (Andhra Pradesh)       IND532001AAB   \n70018            Sivakasi_Msstreet_DC (Tamil Nadu)       IND627756AAA   \n82504              Gulbarga_Nehrugnj_I (Karnataka)       IND585330AAE   \n\n                              destination_name               od_start_time  \\\n34024                Joda_Central_D_1 (Orissa)  2018-09-24 18:33:32.808484   \n42655         Sahebganj_BaraLoha_D (Jharkhand)  2018-09-29 07:41:26.848140   \n99874                      Jagraon_DC (Punjab)  2018-09-18 01:53:25.457230   \n54219            Pune_Tathawde_H (Maharashtra)  2018-09-13 23:01:22.605483   \n144273        Chennai_Thiruvlr_DC (Tamil Nadu)  2018-09-22 01:51:35.310201   \n1310         Pollachi_Venkatsa_DC (Tamil Nadu)  2018-09-22 03:01:39.434692   \n77635            Gurgaon_Bilaspur_HB (Haryana)  2018-09-16 03:23:02.287055   \n100730            Ahmedabad_East_H_1 (Gujarat)  2018-09-28 07:12:23.601840   \n37297       Pilkhuwa_HapurRD_D (Uttar Pradesh)  2018-09-13 23:15:17.438421   \n51008              Sasaram_Central_I_2 (Bihar)  2018-10-01 22:11:11.373626   \n88122                 Chennai_Hub (Tamil Nadu)  2018-09-27 18:03:26.267086   \n36200           Oriyur_Vllyaprm_D (Tamil Nadu)  2018-09-26 01:53:42.525112   \n135268                 Delhi_Airport_H (Delhi)  2018-09-18 05:21:00.039156   \n38983       Kanpur_Central_H_6 (Uttar Pradesh)  2018-09-21 21:11:40.424812   \n103482           Gurgaon_Bilaspur_HB (Haryana)  2018-09-20 03:05:35.093781   \n109374     Pushpavanam_Thmpulam_D (Tamil Nadu)  2018-09-14 11:19:09.977595   \n14005         Bangalore_Nelmngla_H (Karnataka)  2018-09-18 02:27:28.517316   \n51113   Srikakulam_Kuslpram_I (Andhra Pradesh)  2018-09-20 22:18:07.540013   \n70018            Sankaran_Kovil_D (Tamil Nadu)  2018-09-28 00:34:02.610069   \n82504            Humnabad_EBroad_D (Karnataka)  2018-09-30 22:47:32.291898   \n\n        ...            cutoff_timestamp  actual_distance_to_destination  \\\n34024   ...         2018-09-25 00:05:54                       29.603419   \n42655   ...         2018-09-29 08:35:45                       46.468210   \n99874   ...         2018-09-18 02:20:10                       22.545417   \n54219   ...         2018-09-14 02:14:10                     1084.727982   \n144273  ...         2018-09-22 02:25:23                        9.744223   \n1310    ...         2018-09-22 03:29:27                       18.800981   \n77635   ...         2018-09-17 01:44:06                      596.856783   \n100730  ...         2018-09-28 10:24:30                      221.075652   \n37297   ...         2018-09-14 01:22:25                        9.438208   \n51008   ...         2018-10-02 12:28:09                      484.292188   \n88122   ...         2018-09-27 18:20:08                       32.258408   \n36200   ...         2018-09-26 02:09:23                       10.360735   \n135268  ...         2018-09-19 00:30:10                      574.619393   \n38983   ...         2018-09-22 01:54:30                      353.559377   \n103482  ...         2018-09-21 20:31:17                      331.314218   \n109374  ...  2018-09-14 11:19:09.977595                       22.128630   \n14005   ...         2018-09-18 09:47:17                       47.256514   \n51113   ...         2018-09-21 01:17:19                       10.195779   \n70018   ...         2018-09-28 02:08:37                       22.060666   \n82504   ...         2018-10-01 01:05:31                       54.145210   \n\n        actual_time  osrm_time osrm_distance    factor  segment_actual_time  \\\n34024         118.0       32.0       44.5552  3.687500                118.0   \n42655         110.0       52.0       73.7488  2.115385                 74.0   \n99874          36.0       16.0       22.7557  2.250000                 36.0   \n54219        1817.0      966.0     1314.6207  1.880952                 37.0   \n144273         18.0        7.0       10.2764  2.571429                 18.0   \n1310           23.0       20.0       19.8514  1.150000                 11.0   \n77635         568.0      580.0      785.6759  0.979310                  2.0   \n100730        359.0      208.0      277.6297  1.725962                 65.0   \n37297          17.0       10.0        9.4679  1.700000                 17.0   \n51008         741.0      374.0      526.5650  1.981283                 23.0   \n88122          45.0       33.0       37.2074  1.363636                  8.0   \n36200          16.0       16.0       10.8460  1.000000                 16.0   \n135268       1030.0      507.0      694.3788  2.031558                 69.0   \n38983         801.0      305.0      427.1615  2.626230                 39.0   \n103482        602.0      372.0      424.6177  1.618280                 26.0   \n109374         58.0       39.0       33.6464  1.487179                 16.0   \n14005          82.0       67.0       60.5002  1.223881                 40.0   \n51113          13.0        7.0       10.3831  1.857143                 13.0   \n70018          33.0       21.0       23.7956  1.571429                 33.0   \n82504          78.0       41.0       58.8882  1.902439                 12.0   \n\n        segment_osrm_time  segment_osrm_distance  segment_factor  \n34024                32.0                44.5552        3.687500  \n42655                83.0               106.5829        0.891566  \n99874                16.0                22.7557        2.250000  \n54219                31.0                44.0220        1.193548  \n144273                7.0                10.2764        2.571429  \n1310                  9.0                 9.7467        1.222222  \n77635                53.0                50.4485        0.037736  \n100730               41.0                44.6933        1.585366  \n37297                10.0                 9.4679        1.700000  \n51008                16.0                23.3727        1.437500  \n88122                 4.0                 5.2103        2.000000  \n36200                16.0                10.8460        1.000000  \n135268               38.0                54.9924        1.815789  \n38983                37.0                46.6146        1.054054  \n103482               17.0                24.5788        1.529412  \n109374                3.0                 3.3085        5.333333  \n14005                38.0                30.4964        1.052632  \n51113                 7.0                10.3831        1.857143  \n70018                21.0                23.7956        1.571429  \n82504                 6.0                 9.1463        2.000000  \n\n[20 rows x 24 columns]",
      "text/html": "<div>\n<style scoped>\n    .dataframe tbody tr th:only-of-type {\n        vertical-align: middle;\n    }\n\n    .dataframe tbody tr th {\n        vertical-align: top;\n    }\n\n    .dataframe thead th {\n        text-align: right;\n    }\n</style>\n<table border=\"1\" class=\"dataframe\">\n  <thead>\n    <tr style=\"text-align: right;\">\n      <th></th>\n      <th>data</th>\n      <th>trip_creation_time</th>\n      <th>route_schedule_uuid</th>\n      <th>route_type</th>\n      <th>trip_uuid</th>\n      <th>source_center</th>\n      <th>source_name</th>\n      <th>destination_center</th>\n      <th>destination_name</th>\n      <th>od_start_time</th>\n      <th>...</th>\n      <th>cutoff_timestamp</th>\n      <th>actual_distance_to_destination</th>\n      <th>actual_time</th>\n      <th>osrm_time</th>\n      <th>osrm_distance</th>\n      <th>factor</th>\n      <th>segment_actual_time</th>\n      <th>segment_osrm_time</th>\n      <th>segment_osrm_distance</th>\n      <th>segment_factor</th>\n    </tr>\n  </thead>\n  <tbody>\n    <tr>\n      <th>34024</th>\n      <td>training</td>\n      <td>2018-09-24 18:33:32.808484</td>\n      <td>thanos::sroute:38e6d56f-8d2e-44c8-9366-85501ed...</td>\n      <td>FTL</td>\n      <td>trip-153781401280823388</td>\n      <td>IND756100AAC</td>\n      <td>Bhadrak_Central_I_2 (Orissa)</td>\n      <td>IND758034AAA</td>\n      <td>Joda_Central_D_1 (Orissa)</td>\n      <td>2018-09-24 18:33:32.808484</td>\n      <td>...</td>\n      <td>2018-09-25 00:05:54</td>\n      <td>29.603419</td>\n      <td>118.0</td>\n      <td>32.0</td>\n      <td>44.5552</td>\n      <td>3.687500</td>\n      <td>118.0</td>\n      <td>32.0</td>\n      <td>44.5552</td>\n      <td>3.687500</td>\n    </tr>\n    <tr>\n      <th>42655</th>\n      <td>test</td>\n      <td>2018-09-28 23:58:15.954304</td>\n      <td>thanos::sroute:13fa1010-c6ab-4fcb-a3dc-33cce5b...</td>\n      <td>FTL</td>\n      <td>trip-153817909595408548</td>\n      <td>IND814133AAB</td>\n      <td>Godda_Central_D_2 (Jharkhand)</td>\n      <td>IND816109AAA</td>\n      <td>Sahebganj_BaraLoha_D (Jharkhand)</td>\n      <td>2018-09-29 07:41:26.848140</td>\n      <td>...</td>\n      <td>2018-09-29 08:35:45</td>\n      <td>46.468210</td>\n      <td>110.0</td>\n      <td>52.0</td>\n      <td>73.7488</td>\n      <td>2.115385</td>\n      <td>74.0</td>\n      <td>83.0</td>\n      <td>106.5829</td>\n      <td>0.891566</td>\n    </tr>\n    <tr>\n      <th>99874</th>\n      <td>training</td>\n      <td>2018-09-17 21:58:03.159275</td>\n      <td>thanos::sroute:0904e75c-b3ac-4278-96cf-802835a...</td>\n      <td>FTL</td>\n      <td>trip-153722148315884812</td>\n      <td>IND141003AAB</td>\n      <td>Ludhiana_GillChwk_DC (Punjab)</td>\n      <td>IND142026AAA</td>\n      <td>Jagraon_DC (Punjab)</td>\n      <td>2018-09-18 01:53:25.457230</td>\n      <td>...</td>\n      <td>2018-09-18 02:20:10</td>\n      <td>22.545417</td>\n      <td>36.0</td>\n      <td>16.0</td>\n      <td>22.7557</td>\n      <td>2.250000</td>\n      <td>36.0</td>\n      <td>16.0</td>\n      <td>22.7557</td>\n      <td>2.250000</td>\n    </tr>\n    <tr>\n      <th>54219</th>\n      <td>training</td>\n      <td>2018-09-13 19:17:42.304008</td>\n      <td>thanos::sroute:69409580-4bf0-4bbf-96fe-9e7bc65...</td>\n      <td>FTL</td>\n      <td>trip-153686626230371287</td>\n      <td>IND000000ACB</td>\n      <td>Gurgaon_Bilaspur_HB (Haryana)</td>\n      <td>IND411033AAA</td>\n      <td>Pune_Tathawde_H (Maharashtra)</td>\n      <td>2018-09-13 23:01:22.605483</td>\n      <td>...</td>\n      <td>2018-09-14 02:14:10</td>\n      <td>1084.727982</td>\n      <td>1817.0</td>\n      <td>966.0</td>\n      <td>1314.6207</td>\n      <td>1.880952</td>\n      <td>37.0</td>\n      <td>31.0</td>\n      <td>44.0220</td>\n      <td>1.193548</td>\n    </tr>\n    <tr>\n      <th>144273</th>\n      <td>training</td>\n      <td>2018-09-22 00:01:29.437600</td>\n      <td>thanos::sroute:13140865-962a-41fa-a28d-aa85e32...</td>\n      <td>Carting</td>\n      <td>trip-153757448943710607</td>\n      <td>IND602024AAA</td>\n      <td>Chennai_Vepmpttu_DC (Tamil Nadu)</td>\n      <td>IND602001AAA</td>\n      <td>Chennai_Thiruvlr_DC (Tamil Nadu)</td>\n      <td>2018-09-22 01:51:35.310201</td>\n      <td>...</td>\n      <td>2018-09-22 02:25:23</td>\n      <td>9.744223</td>\n      <td>18.0</td>\n      <td>7.0</td>\n      <td>10.2764</td>\n      <td>2.571429</td>\n      <td>18.0</td>\n      <td>7.0</td>\n      <td>10.2764</td>\n      <td>2.571429</td>\n    </tr>\n    <tr>\n      <th>1310</th>\n      <td>training</td>\n      <td>2018-09-21 20:55:53.211057</td>\n      <td>thanos::sroute:a47a9fc6-858c-4a83-b7fc-760c9de...</td>\n      <td>Carting</td>\n      <td>trip-153756335321071471</td>\n      <td>IND642126AAA</td>\n      <td>Udumalpet_Artclgrd_D (Tamil Nadu)</td>\n      <td>IND642001AAA</td>\n      <td>Pollachi_Venkatsa_DC (Tamil Nadu)</td>\n      <td>2018-09-22 03:01:39.434692</td>\n      <td>...</td>\n      <td>2018-09-22 03:29:27</td>\n      <td>18.800981</td>\n      <td>23.0</td>\n      <td>20.0</td>\n      <td>19.8514</td>\n      <td>1.150000</td>\n      <td>11.0</td>\n      <td>9.0</td>\n      <td>9.7467</td>\n      <td>1.222222</td>\n    </tr>\n    <tr>\n      <th>77635</th>\n      <td>training</td>\n      <td>2018-09-16 03:23:02.287055</td>\n      <td>thanos::sroute:d44a95bc-1d78-49aa-a987-ea5763a...</td>\n      <td>FTL</td>\n      <td>trip-153706818243491326</td>\n      <td>IND411033AAA</td>\n      <td>Pune_Tathawde_H (Maharashtra)</td>\n      <td>IND000000ACB</td>\n      <td>Gurgaon_Bilaspur_HB (Haryana)</td>\n      <td>2018-09-16 03:23:02.287055</td>\n      <td>...</td>\n      <td>2018-09-17 01:44:06</td>\n      <td>596.856783</td>\n      <td>568.0</td>\n      <td>580.0</td>\n      <td>785.6759</td>\n      <td>0.979310</td>\n      <td>2.0</td>\n      <td>53.0</td>\n      <td>50.4485</td>\n      <td>0.037736</td>\n    </tr>\n    <tr>\n      <th>100730</th>\n      <td>test</td>\n      <td>2018-09-27 23:30:48.544795</td>\n      <td>thanos::sroute:f6d1ba62-76a2-4dba-83ec-3ac0803...</td>\n      <td>FTL</td>\n      <td>trip-153809104854446587</td>\n      <td>IND457226AAA</td>\n      <td>Jaora_RtlamNka_D (Madhya Pradesh)</td>\n      <td>IND382430AAB</td>\n      <td>Ahmedabad_East_H_1 (Gujarat)</td>\n      <td>2018-09-28 07:12:23.601840</td>\n      <td>...</td>\n      <td>2018-09-28 10:24:30</td>\n      <td>221.075652</td>\n      <td>359.0</td>\n      <td>208.0</td>\n      <td>277.6297</td>\n      <td>1.725962</td>\n      <td>65.0</td>\n      <td>41.0</td>\n      <td>44.6933</td>\n      <td>1.585366</td>\n    </tr>\n    <tr>\n      <th>37297</th>\n      <td>training</td>\n      <td>2018-09-13 23:15:17.438421</td>\n      <td>thanos::sroute:1396edcd-faad-4029-a574-f71a85a...</td>\n      <td>Carting</td>\n      <td>trip-153688051743814671</td>\n      <td>IND201007AAA</td>\n      <td>GZB_Mohan_Nagar_DPC (Uttar Pradesh)</td>\n      <td>IND245304AAA</td>\n      <td>Pilkhuwa_HapurRD_D (Uttar Pradesh)</td>\n      <td>2018-09-13 23:15:17.438421</td>\n      <td>...</td>\n      <td>2018-09-14 01:22:25</td>\n      <td>9.438208</td>\n      <td>17.0</td>\n      <td>10.0</td>\n      <td>9.4679</td>\n      <td>1.700000</td>\n      <td>17.0</td>\n      <td>10.0</td>\n      <td>9.4679</td>\n      <td>1.700000</td>\n    </tr>\n    <tr>\n      <th>51008</th>\n      <td>test</td>\n      <td>2018-10-01 22:11:11.373626</td>\n      <td>thanos::sroute:828f0a4b-da11-4921-88df-5316ddb...</td>\n      <td>FTL</td>\n      <td>trip-153843187137342828</td>\n      <td>IND000000ACB</td>\n      <td>Gurgaon_Bilaspur_HB (Haryana)</td>\n      <td>IND821115AAB</td>\n      <td>Sasaram_Central_I_2 (Bihar)</td>\n      <td>2018-10-01 22:11:11.373626</td>\n      <td>...</td>\n      <td>2018-10-02 12:28:09</td>\n      <td>484.292188</td>\n      <td>741.0</td>\n      <td>374.0</td>\n      <td>526.5650</td>\n      <td>1.981283</td>\n      <td>23.0</td>\n      <td>16.0</td>\n      <td>23.3727</td>\n      <td>1.437500</td>\n    </tr>\n    <tr>\n      <th>88122</th>\n      <td>test</td>\n      <td>2018-09-27 18:03:26.267086</td>\n      <td>thanos::sroute:9dbf891b-a5c8-4643-abde-b47c6b5...</td>\n      <td>Carting</td>\n      <td>trip-153807140626682458</td>\n      <td>IND600056AAB</td>\n      <td>MAA_Poonamallee_HB (Tamil Nadu)</td>\n      <td>IND600032AAB</td>\n      <td>Chennai_Hub (Tamil Nadu)</td>\n      <td>2018-09-27 18:03:26.267086</td>\n      <td>...</td>\n      <td>2018-09-27 18:20:08</td>\n      <td>32.258408</td>\n      <td>45.0</td>\n      <td>33.0</td>\n      <td>37.2074</td>\n      <td>1.363636</td>\n      <td>8.0</td>\n      <td>4.0</td>\n      <td>5.2103</td>\n      <td>2.000000</td>\n    </tr>\n    <tr>\n      <th>36200</th>\n      <td>training</td>\n      <td>2018-09-25 23:51:40.638237</td>\n      <td>thanos::sroute:9e13f8b8-837d-4541-8c0e-4475cfa...</td>\n      <td>Carting</td>\n      <td>trip-153791950063768363</td>\n      <td>IND623407AAA</td>\n      <td>Thiruvadanai_RamnadRD_D (Tamil Nadu)</td>\n      <td>IND623315AAB</td>\n      <td>Oriyur_Vllyaprm_D (Tamil Nadu)</td>\n      <td>2018-09-26 01:53:42.525112</td>\n      <td>...</td>\n      <td>2018-09-26 02:09:23</td>\n      <td>10.360735</td>\n      <td>16.0</td>\n      <td>16.0</td>\n      <td>10.8460</td>\n      <td>1.000000</td>\n      <td>16.0</td>\n      <td>16.0</td>\n      <td>10.8460</td>\n      <td>1.000000</td>\n    </tr>\n    <tr>\n      <th>135268</th>\n      <td>training</td>\n      <td>2018-09-18 05:21:00.039156</td>\n      <td>thanos::sroute:396d96a3-e2f8-4c40-af0e-056e11f...</td>\n      <td>FTL</td>\n      <td>trip-153724806003887830</td>\n      <td>IND421302AAG</td>\n      <td>Bhiwandi_Mankoli_HB (Maharashtra)</td>\n      <td>IND110037AAM</td>\n      <td>Delhi_Airport_H (Delhi)</td>\n      <td>2018-09-18 05:21:00.039156</td>\n      <td>...</td>\n      <td>2018-09-19 00:30:10</td>\n      <td>574.619393</td>\n      <td>1030.0</td>\n      <td>507.0</td>\n      <td>694.3788</td>\n      <td>2.031558</td>\n      <td>69.0</td>\n      <td>38.0</td>\n      <td>54.9924</td>\n      <td>1.815789</td>\n    </tr>\n    <tr>\n      <th>38983</th>\n      <td>training</td>\n      <td>2018-09-21 21:11:40.424812</td>\n      <td>thanos::sroute:d1697c04-febd-4558-9ea3-f86f89c...</td>\n      <td>FTL</td>\n      <td>trip-153756430042455627</td>\n      <td>IND000000ACB</td>\n      <td>Gurgaon_Bilaspur_HB (Haryana)</td>\n      <td>IND209304AAA</td>\n      <td>Kanpur_Central_H_6 (Uttar Pradesh)</td>\n      <td>2018-09-21 21:11:40.424812</td>\n      <td>...</td>\n      <td>2018-09-22 01:54:30</td>\n      <td>353.559377</td>\n      <td>801.0</td>\n      <td>305.0</td>\n      <td>427.1615</td>\n      <td>2.626230</td>\n      <td>39.0</td>\n      <td>37.0</td>\n      <td>46.6146</td>\n      <td>1.054054</td>\n    </tr>\n    <tr>\n      <th>103482</th>\n      <td>training</td>\n      <td>2018-09-19 17:59:24.196392</td>\n      <td>thanos::sroute:2cb11ecd-7ac1-4c28-8781-af0ca81...</td>\n      <td>FTL</td>\n      <td>trip-153737996419614301</td>\n      <td>IND562132AAA</td>\n      <td>Bangalore_Nelmngla_H (Karnataka)</td>\n      <td>IND000000ACB</td>\n      <td>Gurgaon_Bilaspur_HB (Haryana)</td>\n      <td>2018-09-20 03:05:35.093781</td>\n      <td>...</td>\n      <td>2018-09-21 20:31:17</td>\n      <td>331.314218</td>\n      <td>602.0</td>\n      <td>372.0</td>\n      <td>424.6177</td>\n      <td>1.618280</td>\n      <td>26.0</td>\n      <td>17.0</td>\n      <td>24.5788</td>\n      <td>1.529412</td>\n    </tr>\n    <tr>\n      <th>109374</th>\n      <td>training</td>\n      <td>2018-09-14 10:22:11.545246</td>\n      <td>thanos::sroute:c75d1203-985d-4add-be9c-d4e3707...</td>\n      <td>Carting</td>\n      <td>trip-153692053217908870</td>\n      <td>IND614715AAA</td>\n      <td>Thirthurpondi_Madaprum_D (Tamil Nadu)</td>\n      <td>IND614809AAA</td>\n      <td>Pushpavanam_Thmpulam_D (Tamil Nadu)</td>\n      <td>2018-09-14 11:19:09.977595</td>\n      <td>...</td>\n      <td>2018-09-14 11:19:09.977595</td>\n      <td>22.128630</td>\n      <td>58.0</td>\n      <td>39.0</td>\n      <td>33.6464</td>\n      <td>1.487179</td>\n      <td>16.0</td>\n      <td>3.0</td>\n      <td>3.3085</td>\n      <td>5.333333</td>\n    </tr>\n    <tr>\n      <th>14005</th>\n      <td>training</td>\n      <td>2018-09-17 19:32:40.490746</td>\n      <td>thanos::sroute:c5d2b749-1f63-470b-ab9d-50735a1...</td>\n      <td>FTL</td>\n      <td>trip-153721276049052801</td>\n      <td>IND673592AAA</td>\n      <td>SultnBthry_Kollgpra_D (Kerala)</td>\n      <td>IND562132AAA</td>\n      <td>Bangalore_Nelmngla_H (Karnataka)</td>\n      <td>2018-09-18 02:27:28.517316</td>\n      <td>...</td>\n      <td>2018-09-18 09:47:17</td>\n      <td>47.256514</td>\n      <td>82.0</td>\n      <td>67.0</td>\n      <td>60.5002</td>\n      <td>1.223881</td>\n      <td>40.0</td>\n      <td>38.0</td>\n      <td>30.4964</td>\n      <td>1.052632</td>\n    </tr>\n    <tr>\n      <th>51113</th>\n      <td>training</td>\n      <td>2018-09-20 22:18:07.540013</td>\n      <td>thanos::sroute:4a82dc91-6e1b-4d75-8b07-dba2aec...</td>\n      <td>Carting</td>\n      <td>trip-153748188753979085</td>\n      <td>IND530012AAA</td>\n      <td>Visakhapatnam_Gajuwaka_IP (Andhra Pradesh)</td>\n      <td>IND532001AAB</td>\n      <td>Srikakulam_Kuslpram_I (Andhra Pradesh)</td>\n      <td>2018-09-20 22:18:07.540013</td>\n      <td>...</td>\n      <td>2018-09-21 01:17:19</td>\n      <td>10.195779</td>\n      <td>13.0</td>\n      <td>7.0</td>\n      <td>10.3831</td>\n      <td>1.857143</td>\n      <td>13.0</td>\n      <td>7.0</td>\n      <td>10.3831</td>\n      <td>1.857143</td>\n    </tr>\n    <tr>\n      <th>70018</th>\n      <td>test</td>\n      <td>2018-09-27 20:54:10.390299</td>\n      <td>thanos::sroute:10f4477e-356d-4f01-bb23-3a1fc24...</td>\n      <td>FTL</td>\n      <td>trip-153808165039003346</td>\n      <td>IND626123AAA</td>\n      <td>Sivakasi_Msstreet_DC (Tamil Nadu)</td>\n      <td>IND627756AAA</td>\n      <td>Sankaran_Kovil_D (Tamil Nadu)</td>\n      <td>2018-09-28 00:34:02.610069</td>\n      <td>...</td>\n      <td>2018-09-28 02:08:37</td>\n      <td>22.060666</td>\n      <td>33.0</td>\n      <td>21.0</td>\n      <td>23.7956</td>\n      <td>1.571429</td>\n      <td>33.0</td>\n      <td>21.0</td>\n      <td>23.7956</td>\n      <td>1.571429</td>\n    </tr>\n    <tr>\n      <th>82504</th>\n      <td>test</td>\n      <td>2018-09-30 22:47:32.291898</td>\n      <td>thanos::sroute:d26c2fa7-68f9-4eb7-ba6e-ef9eb67...</td>\n      <td>FTL</td>\n      <td>trip-153834765229163948</td>\n      <td>IND585104AAA</td>\n      <td>Gulbarga_Nehrugnj_I (Karnataka)</td>\n      <td>IND585330AAE</td>\n      <td>Humnabad_EBroad_D (Karnataka)</td>\n      <td>2018-09-30 22:47:32.291898</td>\n      <td>...</td>\n      <td>2018-10-01 01:05:31</td>\n      <td>54.145210</td>\n      <td>78.0</td>\n      <td>41.0</td>\n      <td>58.8882</td>\n      <td>1.902439</td>\n      <td>12.0</td>\n      <td>6.0</td>\n      <td>9.1463</td>\n      <td>2.000000</td>\n    </tr>\n  </tbody>\n</table>\n<p>20 rows × 24 columns</p>\n</div>"
     },
     "execution_count": 10,
     "metadata": {},
     "output_type": "execute_result"
    }
   ],
   "source": [
    "df.sample(20)"
   ],
   "metadata": {
    "collapsed": false,
    "ExecuteTime": {
     "end_time": "2023-08-01T09:40:43.325493200Z",
     "start_time": "2023-08-01T09:40:43.292491800Z"
    }
   },
   "id": "45728a3f50b9e8a6"
  },
  {
   "cell_type": "markdown",
   "source": [
    "# Basic Data Exploration\n",
    "-  Under Column Profiling, we can see there are few Null Values for destination name and source name which is equivalent to 0.3% of data so we dropped them"
   ],
   "metadata": {
    "collapsed": false
   },
   "id": "502d468c5ce8cd1b"
  },
  {
   "cell_type": "markdown",
   "source": [
    " Dropping Unnecessary Columns"
   ],
   "metadata": {
    "collapsed": false
   },
   "id": "3298af824abca174"
  },
  {
   "cell_type": "code",
   "execution_count": 12,
   "outputs": [],
   "source": [
    "df.drop(['is_cutoff','cutoff_factor','cutoff_timestamp','factor','segment_factor'],axis=1,inplace=True)"
   ],
   "metadata": {
    "collapsed": false,
    "ExecuteTime": {
     "end_time": "2023-08-01T09:41:20.560232600Z",
     "start_time": "2023-08-01T09:41:20.523389Z"
    }
   },
   "id": "3e5599425de7ea81"
  },
  {
   "cell_type": "markdown",
   "source": [
    "\n",
    "## Basic Column Profiling\n"
   ],
   "metadata": {
    "collapsed": false
   },
   "id": "f09f84e73f1160f"
  },
  {
   "cell_type": "code",
   "execution_count": 13,
   "outputs": [
    {
     "name": "stdout",
     "output_type": "stream",
     "text": [
      "<class 'pandas.core.frame.DataFrame'>\n",
      "RangeIndex: 144867 entries, 0 to 144866\n",
      "Data columns (total 19 columns):\n",
      " #   Column                          Non-Null Count   Dtype  \n",
      "---  ------                          --------------   -----  \n",
      " 0   data                            144867 non-null  object \n",
      " 1   trip_creation_time              144867 non-null  object \n",
      " 2   route_schedule_uuid             144867 non-null  object \n",
      " 3   route_type                      144867 non-null  object \n",
      " 4   trip_uuid                       144867 non-null  object \n",
      " 5   source_center                   144867 non-null  object \n",
      " 6   source_name                     144574 non-null  object \n",
      " 7   destination_center              144867 non-null  object \n",
      " 8   destination_name                144606 non-null  object \n",
      " 9   od_start_time                   144867 non-null  object \n",
      " 10  od_end_time                     144867 non-null  object \n",
      " 11  start_scan_to_end_scan          144867 non-null  float64\n",
      " 12  actual_distance_to_destination  144867 non-null  float64\n",
      " 13  actual_time                     144867 non-null  float64\n",
      " 14  osrm_time                       144867 non-null  float64\n",
      " 15  osrm_distance                   144867 non-null  float64\n",
      " 16  segment_actual_time             144867 non-null  float64\n",
      " 17  segment_osrm_time               144867 non-null  float64\n",
      " 18  segment_osrm_distance           144867 non-null  float64\n",
      "dtypes: float64(8), object(11)\n",
      "memory usage: 21.0+ MB\n"
     ]
    }
   ],
   "source": [
    "df.info()"
   ],
   "metadata": {
    "collapsed": false,
    "ExecuteTime": {
     "end_time": "2023-08-01T09:41:57.842324500Z",
     "start_time": "2023-08-01T09:41:57.667965100Z"
    }
   },
   "id": "11bce4131ba37968"
  },
  {
   "cell_type": "markdown",
   "source": [
    "Getting Percentage of Null Values"
   ],
   "metadata": {
    "collapsed": false
   },
   "id": "2feb75bb48bd9759"
  },
  {
   "cell_type": "code",
   "execution_count": 22,
   "outputs": [
    {
     "data": {
      "text/plain": "Index(['source_name', 'destination_name'], dtype='object')"
     },
     "execution_count": 22,
     "metadata": {},
     "output_type": "execute_result"
    }
   ],
   "source": [
    "df.columns[df.isna().any()]"
   ],
   "metadata": {
    "collapsed": false,
    "ExecuteTime": {
     "end_time": "2023-08-01T09:57:11.574223800Z",
     "start_time": "2023-08-01T09:57:11.417822Z"
    }
   },
   "id": "aecbf5bb533b0afd"
  },
  {
   "cell_type": "code",
   "execution_count": 16,
   "outputs": [
    {
     "data": {
      "text/plain": "data                              0.000000\ntrip_creation_time                0.000000\nroute_schedule_uuid               0.000000\nroute_type                        0.000000\ntrip_uuid                         0.000000\nsource_center                     0.000000\nsource_name                       0.202254\ndestination_center                0.000000\ndestination_name                  0.180165\nod_start_time                     0.000000\nod_end_time                       0.000000\nstart_scan_to_end_scan            0.000000\nactual_distance_to_destination    0.000000\nactual_time                       0.000000\nosrm_time                         0.000000\nosrm_distance                     0.000000\nsegment_actual_time               0.000000\nsegment_osrm_time                 0.000000\nsegment_osrm_distance             0.000000\ndtype: float64"
     },
     "execution_count": 16,
     "metadata": {},
     "output_type": "execute_result"
    }
   ],
   "source": [
    "df.isna().sum()/df.shape[0] *100"
   ],
   "metadata": {
    "collapsed": false,
    "ExecuteTime": {
     "end_time": "2023-08-01T09:54:04.062264900Z",
     "start_time": "2023-08-01T09:54:03.910333100Z"
    }
   },
   "id": "8b31414ef9fcd894"
  },
  {
   "cell_type": "code",
   "execution_count": 25,
   "outputs": [
    {
     "data": {
      "text/plain": "0    Gurgaon_Bilaspur_HB (Haryana)\nName: source_name, dtype: object"
     },
     "execution_count": 25,
     "metadata": {},
     "output_type": "execute_result"
    }
   ],
   "source": [
    "df[df.isnull().any(axis=1)]['source_name'].mode()"
   ],
   "metadata": {
    "collapsed": false,
    "ExecuteTime": {
     "end_time": "2023-08-01T09:58:37.345537800Z",
     "start_time": "2023-08-01T09:58:37.200886Z"
    }
   },
   "id": "8f340e03ad98f64e"
  },
  {
   "cell_type": "code",
   "execution_count": 26,
   "outputs": [
    {
     "data": {
      "text/plain": "0    Jaipur_Hub (Rajasthan)\nName: destination_name, dtype: object"
     },
     "execution_count": 26,
     "metadata": {},
     "output_type": "execute_result"
    }
   ],
   "source": [
    "df[df.isnull().any(axis=1)]['destination_name'].mode()"
   ],
   "metadata": {
    "collapsed": false,
    "ExecuteTime": {
     "end_time": "2023-08-01T09:58:53.877555700Z",
     "start_time": "2023-08-01T09:58:53.728885300Z"
    }
   },
   "id": "30660a4c0dd5b324"
  },
  {
   "cell_type": "code",
   "execution_count": 29,
   "outputs": [
    {
     "data": {
      "text/plain": "            data          trip_creation_time  \\\n12698   training  2018-09-25 09:18:45.016913   \n12699   training  2018-09-25 09:18:45.016913   \n12700   training  2018-09-25 09:18:45.016913   \n12701   training  2018-09-25 09:18:45.016913   \n12702   training  2018-09-25 09:18:45.016913   \n...          ...                         ...   \n144478      test  2018-10-03 09:06:06.690094   \n144479      test  2018-10-03 09:06:06.690094   \n144480      test  2018-10-03 09:06:06.690094   \n144481      test  2018-10-03 09:06:06.690094   \n144482      test  2018-10-03 09:06:06.690094   \n\n                                      route_schedule_uuid route_type  \\\n12698   thanos::sroute:cbef3b6a-79ea-4d5e-a215-b558a70...        FTL   \n12699   thanos::sroute:cbef3b6a-79ea-4d5e-a215-b558a70...        FTL   \n12700   thanos::sroute:cbef3b6a-79ea-4d5e-a215-b558a70...        FTL   \n12701   thanos::sroute:cbef3b6a-79ea-4d5e-a215-b558a70...        FTL   \n12702   thanos::sroute:cbef3b6a-79ea-4d5e-a215-b558a70...        FTL   \n...                                                   ...        ...   \n144478  thanos::sroute:cbef3b6a-79ea-4d5e-a215-b558a70...        FTL   \n144479  thanos::sroute:cbef3b6a-79ea-4d5e-a215-b558a70...        FTL   \n144480  thanos::sroute:cbef3b6a-79ea-4d5e-a215-b558a70...        FTL   \n144481  thanos::sroute:cbef3b6a-79ea-4d5e-a215-b558a70...        FTL   \n144482  thanos::sroute:cbef3b6a-79ea-4d5e-a215-b558a70...        FTL   \n\n                      trip_uuid source_center                    source_name  \\\n12698   trip-153786712501643905  IND000000ACB  Gurgaon_Bilaspur_HB (Haryana)   \n12699   trip-153786712501643905  IND000000ACB  Gurgaon_Bilaspur_HB (Haryana)   \n12700   trip-153786712501643905  IND000000ACB  Gurgaon_Bilaspur_HB (Haryana)   \n12701   trip-153786712501643905  IND000000ACB  Gurgaon_Bilaspur_HB (Haryana)   \n12702   trip-153786712501643905  IND000000ACB  Gurgaon_Bilaspur_HB (Haryana)   \n...                         ...           ...                            ...   \n144478  trip-153855756668984584  IND000000ACB  Gurgaon_Bilaspur_HB (Haryana)   \n144479  trip-153855756668984584  IND000000ACB  Gurgaon_Bilaspur_HB (Haryana)   \n144480  trip-153855756668984584  IND000000ACB  Gurgaon_Bilaspur_HB (Haryana)   \n144481  trip-153855756668984584  IND000000ACB  Gurgaon_Bilaspur_HB (Haryana)   \n144482  trip-153855756668984584  IND000000ACB  Gurgaon_Bilaspur_HB (Haryana)   \n\n       destination_center destination_name               od_start_time  \\\n12698        IND282002AAD              NaN  2018-09-25 09:18:45.016913   \n12699        IND282002AAD              NaN  2018-09-25 09:18:45.016913   \n12700        IND282002AAD              NaN  2018-09-25 09:18:45.016913   \n12701        IND282002AAD              NaN  2018-09-25 09:18:45.016913   \n12702        IND282002AAD              NaN  2018-09-25 09:18:45.016913   \n...                   ...              ...                         ...   \n144478       IND282002AAD              NaN  2018-10-03 09:06:06.690094   \n144479       IND282002AAD              NaN  2018-10-03 09:06:06.690094   \n144480       IND282002AAD              NaN  2018-10-03 09:06:06.690094   \n144481       IND282002AAD              NaN  2018-10-03 09:06:06.690094   \n144482       IND282002AAD              NaN  2018-10-03 09:06:06.690094   \n\n                       od_end_time  start_scan_to_end_scan  \\\n12698   2018-09-25 16:20:44.535746                   421.0   \n12699   2018-09-25 16:20:44.535746                   421.0   \n12700   2018-09-25 16:20:44.535746                   421.0   \n12701   2018-09-25 16:20:44.535746                   421.0   \n12702   2018-09-25 16:20:44.535746                   421.0   \n...                            ...                     ...   \n144478  2018-10-03 17:34:21.835475                   508.0   \n144479  2018-10-03 17:34:21.835475                   508.0   \n144480  2018-10-03 17:34:21.835475                   508.0   \n144481  2018-10-03 17:34:21.835475                   508.0   \n144482  2018-10-03 17:34:21.835475                   508.0   \n\n        actual_distance_to_destination  actual_time  osrm_time  osrm_distance  \\\n12698                        22.160956         28.0       17.0        24.1262   \n12699                        44.479059         74.0       35.0        50.8427   \n12700                        66.027549        104.0       52.0        74.3000   \n12701                        88.254030        127.0       69.0        97.8516   \n12702                       110.081934        180.0       86.0       121.8770   \n...                                ...          ...        ...            ...   \n144478                       89.773705        108.0       70.0        99.4096   \n144479                      110.854079        138.0       94.0       124.6598   \n144480                      132.514233        304.0      119.0       147.2295   \n144481                      154.024566        337.0      130.0       177.2394   \n144482                      159.222535        345.0      136.0       182.4480   \n\n        segment_actual_time  segment_osrm_time  segment_osrm_distance  \n12698                  28.0               17.0                24.1262  \n12699                  45.0               18.0                26.7165  \n12700                  30.0               16.0                23.4574  \n12701                  22.0               16.0                23.5516  \n12702                  53.0               16.0                24.0254  \n...                     ...                ...                    ...  \n144478                 21.0               16.0                23.3595  \n144479                 30.0               24.0                25.2502  \n144480                166.0               24.0                22.5697  \n144481                 33.0               27.0                24.9784  \n144482                  8.0                5.0                 5.2086  \n\n[80 rows x 19 columns]",
      "text/html": "<div>\n<style scoped>\n    .dataframe tbody tr th:only-of-type {\n        vertical-align: middle;\n    }\n\n    .dataframe tbody tr th {\n        vertical-align: top;\n    }\n\n    .dataframe thead th {\n        text-align: right;\n    }\n</style>\n<table border=\"1\" class=\"dataframe\">\n  <thead>\n    <tr style=\"text-align: right;\">\n      <th></th>\n      <th>data</th>\n      <th>trip_creation_time</th>\n      <th>route_schedule_uuid</th>\n      <th>route_type</th>\n      <th>trip_uuid</th>\n      <th>source_center</th>\n      <th>source_name</th>\n      <th>destination_center</th>\n      <th>destination_name</th>\n      <th>od_start_time</th>\n      <th>od_end_time</th>\n      <th>start_scan_to_end_scan</th>\n      <th>actual_distance_to_destination</th>\n      <th>actual_time</th>\n      <th>osrm_time</th>\n      <th>osrm_distance</th>\n      <th>segment_actual_time</th>\n      <th>segment_osrm_time</th>\n      <th>segment_osrm_distance</th>\n    </tr>\n  </thead>\n  <tbody>\n    <tr>\n      <th>12698</th>\n      <td>training</td>\n      <td>2018-09-25 09:18:45.016913</td>\n      <td>thanos::sroute:cbef3b6a-79ea-4d5e-a215-b558a70...</td>\n      <td>FTL</td>\n      <td>trip-153786712501643905</td>\n      <td>IND000000ACB</td>\n      <td>Gurgaon_Bilaspur_HB (Haryana)</td>\n      <td>IND282002AAD</td>\n      <td>NaN</td>\n      <td>2018-09-25 09:18:45.016913</td>\n      <td>2018-09-25 16:20:44.535746</td>\n      <td>421.0</td>\n      <td>22.160956</td>\n      <td>28.0</td>\n      <td>17.0</td>\n      <td>24.1262</td>\n      <td>28.0</td>\n      <td>17.0</td>\n      <td>24.1262</td>\n    </tr>\n    <tr>\n      <th>12699</th>\n      <td>training</td>\n      <td>2018-09-25 09:18:45.016913</td>\n      <td>thanos::sroute:cbef3b6a-79ea-4d5e-a215-b558a70...</td>\n      <td>FTL</td>\n      <td>trip-153786712501643905</td>\n      <td>IND000000ACB</td>\n      <td>Gurgaon_Bilaspur_HB (Haryana)</td>\n      <td>IND282002AAD</td>\n      <td>NaN</td>\n      <td>2018-09-25 09:18:45.016913</td>\n      <td>2018-09-25 16:20:44.535746</td>\n      <td>421.0</td>\n      <td>44.479059</td>\n      <td>74.0</td>\n      <td>35.0</td>\n      <td>50.8427</td>\n      <td>45.0</td>\n      <td>18.0</td>\n      <td>26.7165</td>\n    </tr>\n    <tr>\n      <th>12700</th>\n      <td>training</td>\n      <td>2018-09-25 09:18:45.016913</td>\n      <td>thanos::sroute:cbef3b6a-79ea-4d5e-a215-b558a70...</td>\n      <td>FTL</td>\n      <td>trip-153786712501643905</td>\n      <td>IND000000ACB</td>\n      <td>Gurgaon_Bilaspur_HB (Haryana)</td>\n      <td>IND282002AAD</td>\n      <td>NaN</td>\n      <td>2018-09-25 09:18:45.016913</td>\n      <td>2018-09-25 16:20:44.535746</td>\n      <td>421.0</td>\n      <td>66.027549</td>\n      <td>104.0</td>\n      <td>52.0</td>\n      <td>74.3000</td>\n      <td>30.0</td>\n      <td>16.0</td>\n      <td>23.4574</td>\n    </tr>\n    <tr>\n      <th>12701</th>\n      <td>training</td>\n      <td>2018-09-25 09:18:45.016913</td>\n      <td>thanos::sroute:cbef3b6a-79ea-4d5e-a215-b558a70...</td>\n      <td>FTL</td>\n      <td>trip-153786712501643905</td>\n      <td>IND000000ACB</td>\n      <td>Gurgaon_Bilaspur_HB (Haryana)</td>\n      <td>IND282002AAD</td>\n      <td>NaN</td>\n      <td>2018-09-25 09:18:45.016913</td>\n      <td>2018-09-25 16:20:44.535746</td>\n      <td>421.0</td>\n      <td>88.254030</td>\n      <td>127.0</td>\n      <td>69.0</td>\n      <td>97.8516</td>\n      <td>22.0</td>\n      <td>16.0</td>\n      <td>23.5516</td>\n    </tr>\n    <tr>\n      <th>12702</th>\n      <td>training</td>\n      <td>2018-09-25 09:18:45.016913</td>\n      <td>thanos::sroute:cbef3b6a-79ea-4d5e-a215-b558a70...</td>\n      <td>FTL</td>\n      <td>trip-153786712501643905</td>\n      <td>IND000000ACB</td>\n      <td>Gurgaon_Bilaspur_HB (Haryana)</td>\n      <td>IND282002AAD</td>\n      <td>NaN</td>\n      <td>2018-09-25 09:18:45.016913</td>\n      <td>2018-09-25 16:20:44.535746</td>\n      <td>421.0</td>\n      <td>110.081934</td>\n      <td>180.0</td>\n      <td>86.0</td>\n      <td>121.8770</td>\n      <td>53.0</td>\n      <td>16.0</td>\n      <td>24.0254</td>\n    </tr>\n    <tr>\n      <th>...</th>\n      <td>...</td>\n      <td>...</td>\n      <td>...</td>\n      <td>...</td>\n      <td>...</td>\n      <td>...</td>\n      <td>...</td>\n      <td>...</td>\n      <td>...</td>\n      <td>...</td>\n      <td>...</td>\n      <td>...</td>\n      <td>...</td>\n      <td>...</td>\n      <td>...</td>\n      <td>...</td>\n      <td>...</td>\n      <td>...</td>\n      <td>...</td>\n    </tr>\n    <tr>\n      <th>144478</th>\n      <td>test</td>\n      <td>2018-10-03 09:06:06.690094</td>\n      <td>thanos::sroute:cbef3b6a-79ea-4d5e-a215-b558a70...</td>\n      <td>FTL</td>\n      <td>trip-153855756668984584</td>\n      <td>IND000000ACB</td>\n      <td>Gurgaon_Bilaspur_HB (Haryana)</td>\n      <td>IND282002AAD</td>\n      <td>NaN</td>\n      <td>2018-10-03 09:06:06.690094</td>\n      <td>2018-10-03 17:34:21.835475</td>\n      <td>508.0</td>\n      <td>89.773705</td>\n      <td>108.0</td>\n      <td>70.0</td>\n      <td>99.4096</td>\n      <td>21.0</td>\n      <td>16.0</td>\n      <td>23.3595</td>\n    </tr>\n    <tr>\n      <th>144479</th>\n      <td>test</td>\n      <td>2018-10-03 09:06:06.690094</td>\n      <td>thanos::sroute:cbef3b6a-79ea-4d5e-a215-b558a70...</td>\n      <td>FTL</td>\n      <td>trip-153855756668984584</td>\n      <td>IND000000ACB</td>\n      <td>Gurgaon_Bilaspur_HB (Haryana)</td>\n      <td>IND282002AAD</td>\n      <td>NaN</td>\n      <td>2018-10-03 09:06:06.690094</td>\n      <td>2018-10-03 17:34:21.835475</td>\n      <td>508.0</td>\n      <td>110.854079</td>\n      <td>138.0</td>\n      <td>94.0</td>\n      <td>124.6598</td>\n      <td>30.0</td>\n      <td>24.0</td>\n      <td>25.2502</td>\n    </tr>\n    <tr>\n      <th>144480</th>\n      <td>test</td>\n      <td>2018-10-03 09:06:06.690094</td>\n      <td>thanos::sroute:cbef3b6a-79ea-4d5e-a215-b558a70...</td>\n      <td>FTL</td>\n      <td>trip-153855756668984584</td>\n      <td>IND000000ACB</td>\n      <td>Gurgaon_Bilaspur_HB (Haryana)</td>\n      <td>IND282002AAD</td>\n      <td>NaN</td>\n      <td>2018-10-03 09:06:06.690094</td>\n      <td>2018-10-03 17:34:21.835475</td>\n      <td>508.0</td>\n      <td>132.514233</td>\n      <td>304.0</td>\n      <td>119.0</td>\n      <td>147.2295</td>\n      <td>166.0</td>\n      <td>24.0</td>\n      <td>22.5697</td>\n    </tr>\n    <tr>\n      <th>144481</th>\n      <td>test</td>\n      <td>2018-10-03 09:06:06.690094</td>\n      <td>thanos::sroute:cbef3b6a-79ea-4d5e-a215-b558a70...</td>\n      <td>FTL</td>\n      <td>trip-153855756668984584</td>\n      <td>IND000000ACB</td>\n      <td>Gurgaon_Bilaspur_HB (Haryana)</td>\n      <td>IND282002AAD</td>\n      <td>NaN</td>\n      <td>2018-10-03 09:06:06.690094</td>\n      <td>2018-10-03 17:34:21.835475</td>\n      <td>508.0</td>\n      <td>154.024566</td>\n      <td>337.0</td>\n      <td>130.0</td>\n      <td>177.2394</td>\n      <td>33.0</td>\n      <td>27.0</td>\n      <td>24.9784</td>\n    </tr>\n    <tr>\n      <th>144482</th>\n      <td>test</td>\n      <td>2018-10-03 09:06:06.690094</td>\n      <td>thanos::sroute:cbef3b6a-79ea-4d5e-a215-b558a70...</td>\n      <td>FTL</td>\n      <td>trip-153855756668984584</td>\n      <td>IND000000ACB</td>\n      <td>Gurgaon_Bilaspur_HB (Haryana)</td>\n      <td>IND282002AAD</td>\n      <td>NaN</td>\n      <td>2018-10-03 09:06:06.690094</td>\n      <td>2018-10-03 17:34:21.835475</td>\n      <td>508.0</td>\n      <td>159.222535</td>\n      <td>345.0</td>\n      <td>136.0</td>\n      <td>182.4480</td>\n      <td>8.0</td>\n      <td>5.0</td>\n      <td>5.2086</td>\n    </tr>\n  </tbody>\n</table>\n<p>80 rows × 19 columns</p>\n</div>"
     },
     "execution_count": 29,
     "metadata": {},
     "output_type": "execute_result"
    }
   ],
   "source": [
    "df.loc[(df['source_name']=='Gurgaon_Bilaspur_HB (Haryana)') & (df['destination_name'].isna())]"
   ],
   "metadata": {
    "collapsed": false,
    "ExecuteTime": {
     "end_time": "2023-08-01T10:00:17.763976900Z",
     "start_time": "2023-08-01T10:00:17.721953100Z"
    }
   },
   "id": "8c24e8beef315300"
  },
  {
   "cell_type": "code",
   "execution_count": 53,
   "outputs": [],
   "source": [
    "list_of_source_center = df.groupby(['source_center','source_name']).size()\n",
    "list_of_source_center = pd.DataFrame(list_of_source_center)\n",
    "list_of_source_center = list_of_source_center.reset_index()\n",
    "list_of_source_center = list_of_source_center.rename(columns={0: 'count'})"
   ],
   "metadata": {
    "collapsed": false,
    "ExecuteTime": {
     "end_time": "2023-08-01T10:21:27.622413500Z",
     "start_time": "2023-08-01T10:21:27.581317700Z"
    }
   },
   "id": "656947bc65990b0d"
  },
  {
   "cell_type": "code",
   "execution_count": 56,
   "outputs": [
    {
     "data": {
      "text/plain": "source_center    0\nsource_name      0\ncount            0\ndtype: int64"
     },
     "execution_count": 56,
     "metadata": {},
     "output_type": "execute_result"
    }
   ],
   "source": [
    "list_of_source_center.isna().sum()"
   ],
   "metadata": {
    "collapsed": false,
    "ExecuteTime": {
     "end_time": "2023-08-01T10:22:54.752929200Z",
     "start_time": "2023-08-01T10:22:54.710630300Z"
    }
   },
   "id": "5e1e00acfdb3b85c"
  },
  {
   "cell_type": "code",
   "execution_count": 57,
   "outputs": [],
   "source": [
    "list_of_destination_center = df.groupby(['destination_center','destination_name']).size()\n",
    "list_of_destination_center = pd.DataFrame(list_of_destination_center)\n",
    "list_of_destination_center = list_of_destination_center.reset_index()\n",
    "list_of_destination_center = list_of_destination_center.rename(columns={0: 'count'})"
   ],
   "metadata": {
    "collapsed": false,
    "ExecuteTime": {
     "end_time": "2023-08-01T10:24:54.003678200Z",
     "start_time": "2023-08-01T10:24:53.957993600Z"
    }
   },
   "id": "fa9e1c631e1e0cfb"
  },
  {
   "cell_type": "code",
   "execution_count": 60,
   "outputs": [
    {
     "data": {
      "text/plain": "destination_center    0\ndestination_name      0\ncount                 0\ndtype: int64"
     },
     "execution_count": 60,
     "metadata": {},
     "output_type": "execute_result"
    }
   ],
   "source": [
    "list_of_destination_center.isna().sum()"
   ],
   "metadata": {
    "collapsed": false,
    "ExecuteTime": {
     "end_time": "2023-08-01T10:25:09.122080800Z",
     "start_time": "2023-08-01T10:25:09.079465600Z"
    }
   },
   "id": "7c1347917f98476e"
  },
  {
   "cell_type": "markdown",
   "source": [
    "### checking whether Id's and Columns are Matching"
   ],
   "metadata": {
    "collapsed": false
   },
   "id": "ce6d77acfad5c756"
  },
  {
   "cell_type": "code",
   "execution_count": 66,
   "outputs": [
    {
     "data": {
      "text/plain": "False"
     },
     "execution_count": 66,
     "metadata": {},
     "output_type": "execute_result"
    }
   ],
   "source": [
    "list_of_source_center['source_center'].isin(list_of_destination_center['destination_center']).all()"
   ],
   "metadata": {
    "collapsed": false,
    "ExecuteTime": {
     "end_time": "2023-08-01T10:27:01.307628Z",
     "start_time": "2023-08-01T10:27:01.272901900Z"
    }
   },
   "id": "a6849cecfd6c02c5"
  },
  {
   "cell_type": "markdown",
   "source": [
    "Hmm, Let's Inspect'"
   ],
   "metadata": {
    "collapsed": false
   },
   "id": "275914601744e930"
  },
  {
   "cell_type": "code",
   "execution_count": null,
   "outputs": [],
   "source": [],
   "metadata": {
    "collapsed": false
   },
   "id": "e45e548a9974190a"
  },
  {
   "cell_type": "code",
   "execution_count": null,
   "outputs": [],
   "source": [],
   "metadata": {
    "collapsed": false
   },
   "id": "c3e20303335b1ede"
  },
  {
   "cell_type": "code",
   "execution_count": null,
   "outputs": [],
   "source": [],
   "metadata": {
    "collapsed": false
   },
   "id": "733f8480bdb9100c"
  }
 ],
 "metadata": {
  "kernelspec": {
   "display_name": "Python 3",
   "language": "python",
   "name": "python3"
  },
  "language_info": {
   "codemirror_mode": {
    "name": "ipython",
    "version": 2
   },
   "file_extension": ".py",
   "mimetype": "text/x-python",
   "name": "python",
   "nbconvert_exporter": "python",
   "pygments_lexer": "ipython2",
   "version": "2.7.6"
  }
 },
 "nbformat": 4,
 "nbformat_minor": 5
}
