{
 "cells": [
  {
   "cell_type": "markdown",
   "id": "db0b1b781ec9d943",
   "metadata": {},
   "source": [
    "# Importing Libraries"
   ]
  },
  {
   "cell_type": "code",
   "execution_count": 1,
   "id": "269859e11f4b736d",
   "metadata": {
    "ExecuteTime": {
     "end_time": "2023-08-27T12:56:43.975760300Z",
     "start_time": "2023-08-27T12:56:43.277667700Z"
    }
   },
   "outputs": [],
   "source": [
    "import numpy as np\n",
    "import pandas as pd\n",
    "import matplotlib.pyplot as plt\n",
    "import seaborn as sns\n",
    "from sklearn.impute import SimpleImputer\n",
    "import missingno as msng"
   ]
  },
  {
   "cell_type": "markdown",
   "id": "969c0fd1a9ced4ae",
   "metadata": {},
   "source": [
    "# Agenda—To distill and articulate data-derived insights in a manner that is easily comprehensible for Stakeholders without a technical background"
   ]
  },
  {
   "cell_type": "markdown",
   "id": "87b53e132f6b9faa",
   "metadata": {},
   "source": [
    "# Importing Dataset"
   ]
  },
  {
   "cell_type": "code",
   "execution_count": 2,
   "id": "b87fb9194e2ae764",
   "metadata": {
    "ExecuteTime": {
     "end_time": "2023-08-27T12:57:19.593761800Z",
     "start_time": "2023-08-27T12:57:15.978463100Z"
    }
   },
   "outputs": [],
   "source": [
    "df = pd.read_csv('https://d2beiqkhq929f0.cloudfront.net/public_assets/assets/000/001/551/original/delhivery_data.csv?1642751181')"
   ]
  },
  {
   "cell_type": "code",
   "execution_count": 3,
   "id": "45728a3f50b9e8a6",
   "metadata": {
    "ExecuteTime": {
     "end_time": "2023-08-27T12:57:19.660043500Z",
     "start_time": "2023-08-27T12:57:19.594755500Z"
    }
   },
   "outputs": [
    {
     "data": {
      "text/plain": "       data          trip_creation_time  \\\n0  training  2018-09-20 02:35:36.476840   \n1  training  2018-09-20 02:35:36.476840   \n2  training  2018-09-20 02:35:36.476840   \n3  training  2018-09-20 02:35:36.476840   \n4  training  2018-09-20 02:35:36.476840   \n5  training  2018-09-20 02:35:36.476840   \n6  training  2018-09-20 02:35:36.476840   \n7  training  2018-09-20 02:35:36.476840   \n8  training  2018-09-20 02:35:36.476840   \n9  training  2018-09-20 02:35:36.476840   \n\n                                 route_schedule_uuid route_type  \\\n0  thanos::sroute:eb7bfc78-b351-4c0e-a951-fa3d5c3...    Carting   \n1  thanos::sroute:eb7bfc78-b351-4c0e-a951-fa3d5c3...    Carting   \n2  thanos::sroute:eb7bfc78-b351-4c0e-a951-fa3d5c3...    Carting   \n3  thanos::sroute:eb7bfc78-b351-4c0e-a951-fa3d5c3...    Carting   \n4  thanos::sroute:eb7bfc78-b351-4c0e-a951-fa3d5c3...    Carting   \n5  thanos::sroute:eb7bfc78-b351-4c0e-a951-fa3d5c3...    Carting   \n6  thanos::sroute:eb7bfc78-b351-4c0e-a951-fa3d5c3...    Carting   \n7  thanos::sroute:eb7bfc78-b351-4c0e-a951-fa3d5c3...    Carting   \n8  thanos::sroute:eb7bfc78-b351-4c0e-a951-fa3d5c3...    Carting   \n9  thanos::sroute:eb7bfc78-b351-4c0e-a951-fa3d5c3...    Carting   \n\n                 trip_uuid source_center                    source_name  \\\n0  trip-153741093647649320  IND388121AAA     Anand_VUNagar_DC (Gujarat)   \n1  trip-153741093647649320  IND388121AAA     Anand_VUNagar_DC (Gujarat)   \n2  trip-153741093647649320  IND388121AAA     Anand_VUNagar_DC (Gujarat)   \n3  trip-153741093647649320  IND388121AAA     Anand_VUNagar_DC (Gujarat)   \n4  trip-153741093647649320  IND388121AAA     Anand_VUNagar_DC (Gujarat)   \n5  trip-153741093647649320  IND388620AAB  Khambhat_MotvdDPP_D (Gujarat)   \n6  trip-153741093647649320  IND388620AAB  Khambhat_MotvdDPP_D (Gujarat)   \n7  trip-153741093647649320  IND388620AAB  Khambhat_MotvdDPP_D (Gujarat)   \n8  trip-153741093647649320  IND388620AAB  Khambhat_MotvdDPP_D (Gujarat)   \n9  trip-153741093647649320  IND388620AAB  Khambhat_MotvdDPP_D (Gujarat)   \n\n  destination_center               destination_name  \\\n0       IND388620AAB  Khambhat_MotvdDPP_D (Gujarat)   \n1       IND388620AAB  Khambhat_MotvdDPP_D (Gujarat)   \n2       IND388620AAB  Khambhat_MotvdDPP_D (Gujarat)   \n3       IND388620AAB  Khambhat_MotvdDPP_D (Gujarat)   \n4       IND388620AAB  Khambhat_MotvdDPP_D (Gujarat)   \n5       IND388320AAA     Anand_Vaghasi_IP (Gujarat)   \n6       IND388320AAA     Anand_Vaghasi_IP (Gujarat)   \n7       IND388320AAA     Anand_Vaghasi_IP (Gujarat)   \n8       IND388320AAA     Anand_Vaghasi_IP (Gujarat)   \n9       IND388320AAA     Anand_Vaghasi_IP (Gujarat)   \n\n                od_start_time  ...            cutoff_timestamp  \\\n0  2018-09-20 03:21:32.418600  ...         2018-09-20 04:27:55   \n1  2018-09-20 03:21:32.418600  ...         2018-09-20 04:17:55   \n2  2018-09-20 03:21:32.418600  ...  2018-09-20 04:01:19.505586   \n3  2018-09-20 03:21:32.418600  ...         2018-09-20 03:39:57   \n4  2018-09-20 03:21:32.418600  ...         2018-09-20 03:33:55   \n5  2018-09-20 04:47:45.236797  ...         2018-09-20 06:15:58   \n6  2018-09-20 04:47:45.236797  ...         2018-09-20 05:47:29   \n7  2018-09-20 04:47:45.236797  ...         2018-09-20 05:25:58   \n8  2018-09-20 04:47:45.236797  ...         2018-09-20 05:15:56   \n9  2018-09-20 04:47:45.236797  ...         2018-09-20 04:49:20   \n\n   actual_distance_to_destination  actual_time  osrm_time osrm_distance  \\\n0                       10.435660         14.0       11.0       11.9653   \n1                       18.936842         24.0       20.0       21.7243   \n2                       27.637279         40.0       28.0       32.5395   \n3                       36.118028         62.0       40.0       45.5620   \n4                       39.386040         68.0       44.0       54.2181   \n5                       10.403038         15.0       11.0       12.1171   \n6                       18.045481         44.0       17.0       21.2890   \n7                       28.061896         65.0       29.0       35.8252   \n8                       38.939167         76.0       39.0       47.1900   \n9                       43.595802        102.0       45.0       53.2334   \n\n     factor  segment_actual_time  segment_osrm_time  segment_osrm_distance  \\\n0  1.272727                 14.0               11.0                11.9653   \n1  1.200000                 10.0                9.0                 9.7590   \n2  1.428571                 16.0                7.0                10.8152   \n3  1.550000                 21.0               12.0                13.0224   \n4  1.545455                  6.0                5.0                 3.9153   \n5  1.363636                 15.0               11.0                12.1171   \n6  2.588235                 28.0                6.0                 9.1719   \n7  2.241379                 21.0               11.0                14.5362   \n8  1.948718                 10.0               10.0                11.3648   \n9  2.266667                 26.0                6.0                 6.0434   \n\n   segment_factor  \n0        1.272727  \n1        1.111111  \n2        2.285714  \n3        1.750000  \n4        1.200000  \n5        1.363636  \n6        4.666667  \n7        1.909091  \n8        1.000000  \n9        4.333333  \n\n[10 rows x 24 columns]",
      "text/html": "<div>\n<style scoped>\n    .dataframe tbody tr th:only-of-type {\n        vertical-align: middle;\n    }\n\n    .dataframe tbody tr th {\n        vertical-align: top;\n    }\n\n    .dataframe thead th {\n        text-align: right;\n    }\n</style>\n<table border=\"1\" class=\"dataframe\">\n  <thead>\n    <tr style=\"text-align: right;\">\n      <th></th>\n      <th>data</th>\n      <th>trip_creation_time</th>\n      <th>route_schedule_uuid</th>\n      <th>route_type</th>\n      <th>trip_uuid</th>\n      <th>source_center</th>\n      <th>source_name</th>\n      <th>destination_center</th>\n      <th>destination_name</th>\n      <th>od_start_time</th>\n      <th>...</th>\n      <th>cutoff_timestamp</th>\n      <th>actual_distance_to_destination</th>\n      <th>actual_time</th>\n      <th>osrm_time</th>\n      <th>osrm_distance</th>\n      <th>factor</th>\n      <th>segment_actual_time</th>\n      <th>segment_osrm_time</th>\n      <th>segment_osrm_distance</th>\n      <th>segment_factor</th>\n    </tr>\n  </thead>\n  <tbody>\n    <tr>\n      <th>0</th>\n      <td>training</td>\n      <td>2018-09-20 02:35:36.476840</td>\n      <td>thanos::sroute:eb7bfc78-b351-4c0e-a951-fa3d5c3...</td>\n      <td>Carting</td>\n      <td>trip-153741093647649320</td>\n      <td>IND388121AAA</td>\n      <td>Anand_VUNagar_DC (Gujarat)</td>\n      <td>IND388620AAB</td>\n      <td>Khambhat_MotvdDPP_D (Gujarat)</td>\n      <td>2018-09-20 03:21:32.418600</td>\n      <td>...</td>\n      <td>2018-09-20 04:27:55</td>\n      <td>10.435660</td>\n      <td>14.0</td>\n      <td>11.0</td>\n      <td>11.9653</td>\n      <td>1.272727</td>\n      <td>14.0</td>\n      <td>11.0</td>\n      <td>11.9653</td>\n      <td>1.272727</td>\n    </tr>\n    <tr>\n      <th>1</th>\n      <td>training</td>\n      <td>2018-09-20 02:35:36.476840</td>\n      <td>thanos::sroute:eb7bfc78-b351-4c0e-a951-fa3d5c3...</td>\n      <td>Carting</td>\n      <td>trip-153741093647649320</td>\n      <td>IND388121AAA</td>\n      <td>Anand_VUNagar_DC (Gujarat)</td>\n      <td>IND388620AAB</td>\n      <td>Khambhat_MotvdDPP_D (Gujarat)</td>\n      <td>2018-09-20 03:21:32.418600</td>\n      <td>...</td>\n      <td>2018-09-20 04:17:55</td>\n      <td>18.936842</td>\n      <td>24.0</td>\n      <td>20.0</td>\n      <td>21.7243</td>\n      <td>1.200000</td>\n      <td>10.0</td>\n      <td>9.0</td>\n      <td>9.7590</td>\n      <td>1.111111</td>\n    </tr>\n    <tr>\n      <th>2</th>\n      <td>training</td>\n      <td>2018-09-20 02:35:36.476840</td>\n      <td>thanos::sroute:eb7bfc78-b351-4c0e-a951-fa3d5c3...</td>\n      <td>Carting</td>\n      <td>trip-153741093647649320</td>\n      <td>IND388121AAA</td>\n      <td>Anand_VUNagar_DC (Gujarat)</td>\n      <td>IND388620AAB</td>\n      <td>Khambhat_MotvdDPP_D (Gujarat)</td>\n      <td>2018-09-20 03:21:32.418600</td>\n      <td>...</td>\n      <td>2018-09-20 04:01:19.505586</td>\n      <td>27.637279</td>\n      <td>40.0</td>\n      <td>28.0</td>\n      <td>32.5395</td>\n      <td>1.428571</td>\n      <td>16.0</td>\n      <td>7.0</td>\n      <td>10.8152</td>\n      <td>2.285714</td>\n    </tr>\n    <tr>\n      <th>3</th>\n      <td>training</td>\n      <td>2018-09-20 02:35:36.476840</td>\n      <td>thanos::sroute:eb7bfc78-b351-4c0e-a951-fa3d5c3...</td>\n      <td>Carting</td>\n      <td>trip-153741093647649320</td>\n      <td>IND388121AAA</td>\n      <td>Anand_VUNagar_DC (Gujarat)</td>\n      <td>IND388620AAB</td>\n      <td>Khambhat_MotvdDPP_D (Gujarat)</td>\n      <td>2018-09-20 03:21:32.418600</td>\n      <td>...</td>\n      <td>2018-09-20 03:39:57</td>\n      <td>36.118028</td>\n      <td>62.0</td>\n      <td>40.0</td>\n      <td>45.5620</td>\n      <td>1.550000</td>\n      <td>21.0</td>\n      <td>12.0</td>\n      <td>13.0224</td>\n      <td>1.750000</td>\n    </tr>\n    <tr>\n      <th>4</th>\n      <td>training</td>\n      <td>2018-09-20 02:35:36.476840</td>\n      <td>thanos::sroute:eb7bfc78-b351-4c0e-a951-fa3d5c3...</td>\n      <td>Carting</td>\n      <td>trip-153741093647649320</td>\n      <td>IND388121AAA</td>\n      <td>Anand_VUNagar_DC (Gujarat)</td>\n      <td>IND388620AAB</td>\n      <td>Khambhat_MotvdDPP_D (Gujarat)</td>\n      <td>2018-09-20 03:21:32.418600</td>\n      <td>...</td>\n      <td>2018-09-20 03:33:55</td>\n      <td>39.386040</td>\n      <td>68.0</td>\n      <td>44.0</td>\n      <td>54.2181</td>\n      <td>1.545455</td>\n      <td>6.0</td>\n      <td>5.0</td>\n      <td>3.9153</td>\n      <td>1.200000</td>\n    </tr>\n    <tr>\n      <th>5</th>\n      <td>training</td>\n      <td>2018-09-20 02:35:36.476840</td>\n      <td>thanos::sroute:eb7bfc78-b351-4c0e-a951-fa3d5c3...</td>\n      <td>Carting</td>\n      <td>trip-153741093647649320</td>\n      <td>IND388620AAB</td>\n      <td>Khambhat_MotvdDPP_D (Gujarat)</td>\n      <td>IND388320AAA</td>\n      <td>Anand_Vaghasi_IP (Gujarat)</td>\n      <td>2018-09-20 04:47:45.236797</td>\n      <td>...</td>\n      <td>2018-09-20 06:15:58</td>\n      <td>10.403038</td>\n      <td>15.0</td>\n      <td>11.0</td>\n      <td>12.1171</td>\n      <td>1.363636</td>\n      <td>15.0</td>\n      <td>11.0</td>\n      <td>12.1171</td>\n      <td>1.363636</td>\n    </tr>\n    <tr>\n      <th>6</th>\n      <td>training</td>\n      <td>2018-09-20 02:35:36.476840</td>\n      <td>thanos::sroute:eb7bfc78-b351-4c0e-a951-fa3d5c3...</td>\n      <td>Carting</td>\n      <td>trip-153741093647649320</td>\n      <td>IND388620AAB</td>\n      <td>Khambhat_MotvdDPP_D (Gujarat)</td>\n      <td>IND388320AAA</td>\n      <td>Anand_Vaghasi_IP (Gujarat)</td>\n      <td>2018-09-20 04:47:45.236797</td>\n      <td>...</td>\n      <td>2018-09-20 05:47:29</td>\n      <td>18.045481</td>\n      <td>44.0</td>\n      <td>17.0</td>\n      <td>21.2890</td>\n      <td>2.588235</td>\n      <td>28.0</td>\n      <td>6.0</td>\n      <td>9.1719</td>\n      <td>4.666667</td>\n    </tr>\n    <tr>\n      <th>7</th>\n      <td>training</td>\n      <td>2018-09-20 02:35:36.476840</td>\n      <td>thanos::sroute:eb7bfc78-b351-4c0e-a951-fa3d5c3...</td>\n      <td>Carting</td>\n      <td>trip-153741093647649320</td>\n      <td>IND388620AAB</td>\n      <td>Khambhat_MotvdDPP_D (Gujarat)</td>\n      <td>IND388320AAA</td>\n      <td>Anand_Vaghasi_IP (Gujarat)</td>\n      <td>2018-09-20 04:47:45.236797</td>\n      <td>...</td>\n      <td>2018-09-20 05:25:58</td>\n      <td>28.061896</td>\n      <td>65.0</td>\n      <td>29.0</td>\n      <td>35.8252</td>\n      <td>2.241379</td>\n      <td>21.0</td>\n      <td>11.0</td>\n      <td>14.5362</td>\n      <td>1.909091</td>\n    </tr>\n    <tr>\n      <th>8</th>\n      <td>training</td>\n      <td>2018-09-20 02:35:36.476840</td>\n      <td>thanos::sroute:eb7bfc78-b351-4c0e-a951-fa3d5c3...</td>\n      <td>Carting</td>\n      <td>trip-153741093647649320</td>\n      <td>IND388620AAB</td>\n      <td>Khambhat_MotvdDPP_D (Gujarat)</td>\n      <td>IND388320AAA</td>\n      <td>Anand_Vaghasi_IP (Gujarat)</td>\n      <td>2018-09-20 04:47:45.236797</td>\n      <td>...</td>\n      <td>2018-09-20 05:15:56</td>\n      <td>38.939167</td>\n      <td>76.0</td>\n      <td>39.0</td>\n      <td>47.1900</td>\n      <td>1.948718</td>\n      <td>10.0</td>\n      <td>10.0</td>\n      <td>11.3648</td>\n      <td>1.000000</td>\n    </tr>\n    <tr>\n      <th>9</th>\n      <td>training</td>\n      <td>2018-09-20 02:35:36.476840</td>\n      <td>thanos::sroute:eb7bfc78-b351-4c0e-a951-fa3d5c3...</td>\n      <td>Carting</td>\n      <td>trip-153741093647649320</td>\n      <td>IND388620AAB</td>\n      <td>Khambhat_MotvdDPP_D (Gujarat)</td>\n      <td>IND388320AAA</td>\n      <td>Anand_Vaghasi_IP (Gujarat)</td>\n      <td>2018-09-20 04:47:45.236797</td>\n      <td>...</td>\n      <td>2018-09-20 04:49:20</td>\n      <td>43.595802</td>\n      <td>102.0</td>\n      <td>45.0</td>\n      <td>53.2334</td>\n      <td>2.266667</td>\n      <td>26.0</td>\n      <td>6.0</td>\n      <td>6.0434</td>\n      <td>4.333333</td>\n    </tr>\n  </tbody>\n</table>\n<p>10 rows × 24 columns</p>\n</div>"
     },
     "execution_count": 3,
     "metadata": {},
     "output_type": "execute_result"
    }
   ],
   "source": [
    "df.head(10)"
   ]
  },
  {
   "cell_type": "markdown",
   "id": "5cd8ff2932b2f98a",
   "metadata": {},
   "source": [
    "# Basic Data Cleaning and Wrangling"
   ]
  },
  {
   "cell_type": "markdown",
   "id": "2feb75bb48bd9759",
   "metadata": {},
   "source": [
    "## Dealing With Null Values\n",
    "- Find out columns which contain Null Values\n",
    "- Find out the percentage of Null Values\n",
    "- Create a Reference Data Reference Dataset and match values from that dataset\n",
    "- If there are Still Null Values, then it's better to delete them or impute them (depends on dataset)\n",
    "### Insights on Null Values\n",
    "- Only two columns Source_Name, Destination_Name have Null Values \n",
    "- Only 0.2 percent and 0.18 percent of data from Source_Name, Destination_Name have Null Values, It can still be mapped  "
   ]
  },
  {
   "cell_type": "markdown",
   "id": "4efabd74b5467850",
   "metadata": {},
   "source": [
    "Deleting irrelevant columns"
   ]
  },
  {
   "cell_type": "code",
   "execution_count": 4,
   "outputs": [
    {
     "name": "stdout",
     "output_type": "stream",
     "text": [
      "<class 'pandas.core.frame.DataFrame'>\n",
      "RangeIndex: 144867 entries, 0 to 144866\n",
      "Data columns (total 24 columns):\n",
      " #   Column                          Non-Null Count   Dtype  \n",
      "---  ------                          --------------   -----  \n",
      " 0   data                            144867 non-null  object \n",
      " 1   trip_creation_time              144867 non-null  object \n",
      " 2   route_schedule_uuid             144867 non-null  object \n",
      " 3   route_type                      144867 non-null  object \n",
      " 4   trip_uuid                       144867 non-null  object \n",
      " 5   source_center                   144867 non-null  object \n",
      " 6   source_name                     144574 non-null  object \n",
      " 7   destination_center              144867 non-null  object \n",
      " 8   destination_name                144606 non-null  object \n",
      " 9   od_start_time                   144867 non-null  object \n",
      " 10  od_end_time                     144867 non-null  object \n",
      " 11  start_scan_to_end_scan          144867 non-null  float64\n",
      " 12  is_cutoff                       144867 non-null  bool   \n",
      " 13  cutoff_factor                   144867 non-null  int64  \n",
      " 14  cutoff_timestamp                144867 non-null  object \n",
      " 15  actual_distance_to_destination  144867 non-null  float64\n",
      " 16  actual_time                     144867 non-null  float64\n",
      " 17  osrm_time                       144867 non-null  float64\n",
      " 18  osrm_distance                   144867 non-null  float64\n",
      " 19  factor                          144867 non-null  float64\n",
      " 20  segment_actual_time             144867 non-null  float64\n",
      " 21  segment_osrm_time               144867 non-null  float64\n",
      " 22  segment_osrm_distance           144867 non-null  float64\n",
      " 23  segment_factor                  144867 non-null  float64\n",
      "dtypes: bool(1), float64(10), int64(1), object(12)\n",
      "memory usage: 25.6+ MB\n"
     ]
    }
   ],
   "source": [
    "df.info()"
   ],
   "metadata": {
    "collapsed": false,
    "ExecuteTime": {
     "end_time": "2023-08-27T12:57:25.028197Z",
     "start_time": "2023-08-27T12:57:24.941750Z"
    }
   },
   "id": "1365fd7447d13f4f"
  },
  {
   "cell_type": "code",
   "execution_count": 5,
   "id": "324e0f880753b1bd",
   "metadata": {
    "ExecuteTime": {
     "end_time": "2023-08-27T12:57:26.559813Z",
     "start_time": "2023-08-27T12:57:26.509253300Z"
    }
   },
   "outputs": [],
   "source": [
    "df.drop(columns=['is_cutoff','cutoff_factor','cutoff_timestamp','factor','segment_factor'],inplace=True)"
   ]
  },
  {
   "cell_type": "markdown",
   "id": "49441b96610c932f",
   "metadata": {},
   "source": [
    "Getting Columns with Null Values"
   ]
  },
  {
   "cell_type": "code",
   "execution_count": 6,
   "id": "aecbf5bb533b0afd",
   "metadata": {
    "ExecuteTime": {
     "end_time": "2023-08-27T12:57:27.455140100Z",
     "start_time": "2023-08-27T12:57:27.363696Z"
    }
   },
   "outputs": [
    {
     "data": {
      "text/plain": "Index(['source_name', 'destination_name'], dtype='object')"
     },
     "execution_count": 6,
     "metadata": {},
     "output_type": "execute_result"
    }
   ],
   "source": [
    "df.columns[df.isna().any()]"
   ]
  },
  {
   "cell_type": "markdown",
   "id": "41817c55cf9a9833",
   "metadata": {},
   "source": [
    "Getting Percentage of Null Values"
   ]
  },
  {
   "cell_type": "code",
   "execution_count": 8,
   "id": "8b31414ef9fcd894",
   "metadata": {
    "ExecuteTime": {
     "end_time": "2023-08-27T12:57:33.640775900Z",
     "start_time": "2023-08-27T12:57:33.545313500Z"
    }
   },
   "outputs": [
    {
     "data": {
      "text/plain": "                             index  miss_perc\n0                             data   0.000000\n1               trip_creation_time   0.000000\n2              route_schedule_uuid   0.000000\n3                       route_type   0.000000\n4                        trip_uuid   0.000000\n5                    source_center   0.000000\n6                      source_name   0.202254\n7               destination_center   0.000000\n8                 destination_name   0.180165\n9                    od_start_time   0.000000\n10                     od_end_time   0.000000\n11          start_scan_to_end_scan   0.000000\n12  actual_distance_to_destination   0.000000\n13                     actual_time   0.000000\n14                       osrm_time   0.000000\n15                   osrm_distance   0.000000\n16             segment_actual_time   0.000000\n17               segment_osrm_time   0.000000\n18           segment_osrm_distance   0.000000",
      "text/html": "<div>\n<style scoped>\n    .dataframe tbody tr th:only-of-type {\n        vertical-align: middle;\n    }\n\n    .dataframe tbody tr th {\n        vertical-align: top;\n    }\n\n    .dataframe thead th {\n        text-align: right;\n    }\n</style>\n<table border=\"1\" class=\"dataframe\">\n  <thead>\n    <tr style=\"text-align: right;\">\n      <th></th>\n      <th>index</th>\n      <th>miss_perc</th>\n    </tr>\n  </thead>\n  <tbody>\n    <tr>\n      <th>0</th>\n      <td>data</td>\n      <td>0.000000</td>\n    </tr>\n    <tr>\n      <th>1</th>\n      <td>trip_creation_time</td>\n      <td>0.000000</td>\n    </tr>\n    <tr>\n      <th>2</th>\n      <td>route_schedule_uuid</td>\n      <td>0.000000</td>\n    </tr>\n    <tr>\n      <th>3</th>\n      <td>route_type</td>\n      <td>0.000000</td>\n    </tr>\n    <tr>\n      <th>4</th>\n      <td>trip_uuid</td>\n      <td>0.000000</td>\n    </tr>\n    <tr>\n      <th>5</th>\n      <td>source_center</td>\n      <td>0.000000</td>\n    </tr>\n    <tr>\n      <th>6</th>\n      <td>source_name</td>\n      <td>0.202254</td>\n    </tr>\n    <tr>\n      <th>7</th>\n      <td>destination_center</td>\n      <td>0.000000</td>\n    </tr>\n    <tr>\n      <th>8</th>\n      <td>destination_name</td>\n      <td>0.180165</td>\n    </tr>\n    <tr>\n      <th>9</th>\n      <td>od_start_time</td>\n      <td>0.000000</td>\n    </tr>\n    <tr>\n      <th>10</th>\n      <td>od_end_time</td>\n      <td>0.000000</td>\n    </tr>\n    <tr>\n      <th>11</th>\n      <td>start_scan_to_end_scan</td>\n      <td>0.000000</td>\n    </tr>\n    <tr>\n      <th>12</th>\n      <td>actual_distance_to_destination</td>\n      <td>0.000000</td>\n    </tr>\n    <tr>\n      <th>13</th>\n      <td>actual_time</td>\n      <td>0.000000</td>\n    </tr>\n    <tr>\n      <th>14</th>\n      <td>osrm_time</td>\n      <td>0.000000</td>\n    </tr>\n    <tr>\n      <th>15</th>\n      <td>osrm_distance</td>\n      <td>0.000000</td>\n    </tr>\n    <tr>\n      <th>16</th>\n      <td>segment_actual_time</td>\n      <td>0.000000</td>\n    </tr>\n    <tr>\n      <th>17</th>\n      <td>segment_osrm_time</td>\n      <td>0.000000</td>\n    </tr>\n    <tr>\n      <th>18</th>\n      <td>segment_osrm_distance</td>\n      <td>0.000000</td>\n    </tr>\n  </tbody>\n</table>\n</div>"
     },
     "execution_count": 8,
     "metadata": {},
     "output_type": "execute_result"
    }
   ],
   "source": [
    "(df.isna().sum()/df.shape[0] *100).reset_index().rename({0: \"miss_perc\"},axis = 1)"
   ]
  },
  {
   "cell_type": "markdown",
   "id": "9e6d43f9ea6daea2",
   "metadata": {},
   "source": [
    "Getting A visual representation of Columns with Null Values, and whether there is a Correlation b/w or not"
   ]
  },
  {
   "cell_type": "code",
   "execution_count": 9,
   "id": "5bc11c05c1922689",
   "metadata": {
    "ExecuteTime": {
     "end_time": "2023-08-27T12:57:35.771168500Z",
     "start_time": "2023-08-27T12:57:35.202631900Z"
    }
   },
   "outputs": [
    {
     "data": {
      "text/plain": "<Axes: >"
     },
     "execution_count": 9,
     "metadata": {},
     "output_type": "execute_result"
    },
    {
     "data": {
      "text/plain": "<Figure size 500x500 with 2 Axes>",
      "image/png": "[encoded data removed]"
     },
     "metadata": {},
     "output_type": "display_data"
    }
   ],
   "source": [
    "msng.heatmap(df,cmap='plasma',figsize=(5,5))"
   ]
  },
  {
   "cell_type": "markdown",
   "id": "96ab903a08c0ae27",
   "metadata": {},
   "source": [
    "###  Handling Null Values\n",
    "- Create a Reference list of Center Code and Center Name and Validated Result \n",
    "- Turns out There Few Center-ID With Null Values, Which resulted in the same result as Before"
   ]
  },
  {
   "cell_type": "code",
   "execution_count": 10,
   "id": "286b0a3411c454a4",
   "metadata": {
    "ExecuteTime": {
     "end_time": "2023-08-27T12:57:37.278249500Z",
     "start_time": "2023-08-27T12:57:37.214173800Z"
    }
   },
   "outputs": [
    {
     "data": {
      "text/plain": "            center                                name\n1102  IND628613AAA   Peikulam_SriVnktpm_D (Tamil Nadu)\n672   IND462022AAA  Bhopal_Trnsport_H (Madhya Pradesh)\n452   IND362265AAA                Veraval_DC (Gujarat)\n1210  IND700136AAG    Kolkata_Narynpur_C (West Bengal)\n1012  IND591304AAA       Athani_VikrmMah_D (Karnataka)",
      "text/html": "<div>\n<style scoped>\n    .dataframe tbody tr th:only-of-type {\n        vertical-align: middle;\n    }\n\n    .dataframe tbody tr th {\n        vertical-align: top;\n    }\n\n    .dataframe thead th {\n        text-align: right;\n    }\n</style>\n<table border=\"1\" class=\"dataframe\">\n  <thead>\n    <tr style=\"text-align: right;\">\n      <th></th>\n      <th>center</th>\n      <th>name</th>\n    </tr>\n  </thead>\n  <tbody>\n    <tr>\n      <th>1102</th>\n      <td>IND628613AAA</td>\n      <td>Peikulam_SriVnktpm_D (Tamil Nadu)</td>\n    </tr>\n    <tr>\n      <th>672</th>\n      <td>IND462022AAA</td>\n      <td>Bhopal_Trnsport_H (Madhya Pradesh)</td>\n    </tr>\n    <tr>\n      <th>452</th>\n      <td>IND362265AAA</td>\n      <td>Veraval_DC (Gujarat)</td>\n    </tr>\n    <tr>\n      <th>1210</th>\n      <td>IND700136AAG</td>\n      <td>Kolkata_Narynpur_C (West Bengal)</td>\n    </tr>\n    <tr>\n      <th>1012</th>\n      <td>IND591304AAA</td>\n      <td>Athani_VikrmMah_D (Karnataka)</td>\n    </tr>\n  </tbody>\n</table>\n</div>"
     },
     "execution_count": 10,
     "metadata": {},
     "output_type": "execute_result"
    }
   ],
   "source": [
    "list_of_source_center = df.groupby(['source_center','source_name']).size().reset_index()\n",
    "list_of_source_center = list_of_source_center.rename(columns={0: 'count','source_center':'center','source_name':'name'}).drop(columns=['count'])\n",
    "list_of_source_center.sample(5)"
   ]
  },
  {
   "cell_type": "code",
   "execution_count": 11,
   "id": "26b203af397d7fe0",
   "metadata": {
    "ExecuteTime": {
     "end_time": "2023-08-27T12:57:38.350254Z",
     "start_time": "2023-08-27T12:57:38.255360600Z"
    }
   },
   "outputs": [
    {
     "data": {
      "text/plain": "            center                               name\n644   IND443301AAA    Mehkar_SagarDPP_D (Maharashtra)\n3     IND000000ABA         Cochin_Chtrpuza_D (Kerala)\n1171  IND691506AAA   Kottarakkara_Amankovl_D (Kerala)\n738   IND501301AAC  Ghatkesar_Central_D_1 (Telangana)\n398   IND334001AAB             Bikaner_DC (Rajasthan)",
      "text/html": "<div>\n<style scoped>\n    .dataframe tbody tr th:only-of-type {\n        vertical-align: middle;\n    }\n\n    .dataframe tbody tr th {\n        vertical-align: top;\n    }\n\n    .dataframe thead th {\n        text-align: right;\n    }\n</style>\n<table border=\"1\" class=\"dataframe\">\n  <thead>\n    <tr style=\"text-align: right;\">\n      <th></th>\n      <th>center</th>\n      <th>name</th>\n    </tr>\n  </thead>\n  <tbody>\n    <tr>\n      <th>644</th>\n      <td>IND443301AAA</td>\n      <td>Mehkar_SagarDPP_D (Maharashtra)</td>\n    </tr>\n    <tr>\n      <th>3</th>\n      <td>IND000000ABA</td>\n      <td>Cochin_Chtrpuza_D (Kerala)</td>\n    </tr>\n    <tr>\n      <th>1171</th>\n      <td>IND691506AAA</td>\n      <td>Kottarakkara_Amankovl_D (Kerala)</td>\n    </tr>\n    <tr>\n      <th>738</th>\n      <td>IND501301AAC</td>\n      <td>Ghatkesar_Central_D_1 (Telangana)</td>\n    </tr>\n    <tr>\n      <th>398</th>\n      <td>IND334001AAB</td>\n      <td>Bikaner_DC (Rajasthan)</td>\n    </tr>\n  </tbody>\n</table>\n</div>"
     },
     "execution_count": 11,
     "metadata": {},
     "output_type": "execute_result"
    }
   ],
   "source": [
    "list_of_destination_center = df.groupby(['destination_center','destination_name']).size().reset_index()\n",
    "list_of_destination_center = list_of_destination_center.rename(columns={0: 'count','destination_center':'center','destination_name':'name'}).drop(columns=['count'])\n",
    "list_of_destination_center.sample(5)"
   ]
  },
  {
   "cell_type": "code",
   "execution_count": 12,
   "id": "4a60696c4e451873",
   "metadata": {
    "ExecuteTime": {
     "end_time": "2023-08-27T12:57:39.246714900Z",
     "start_time": "2023-08-27T12:57:39.224047Z"
    }
   },
   "outputs": [],
   "source": [
    "center_lookup = pd.concat([list_of_source_center,list_of_destination_center],ignore_index=True)\n",
    "center_lookup.drop_duplicates(inplace=True)\n",
    "center_to_name = center_lookup.set_index('center')['name'].to_dict()"
   ]
  },
  {
   "cell_type": "markdown",
   "id": "ce6d77acfad5c756",
   "metadata": {},
   "source": [
    "#### Method—1 Filling Values using Reference\n",
    "- After Creating a Reference Table, we create a Dictionary \n",
    "- Later we apply the map function to the respective columns"
   ]
  },
  {
   "cell_type": "code",
   "execution_count": 13,
   "id": "a034b9bf3d15c9b",
   "metadata": {
    "ExecuteTime": {
     "end_time": "2023-08-27T12:57:41.328492600Z",
     "start_time": "2023-08-27T12:57:41.308710400Z"
    }
   },
   "outputs": [
    {
     "data": {
      "text/plain": "{'IND000000AAL': 'Pune_PC (Maharashtra)',\n 'IND000000AAQ': 'Barasat_KrshnNgr_D (West Bengal)',\n 'IND000000AAS': 'Bongaigaon_Chpaguri_D (Assam)',\n 'IND000000AAZ': 'Buldhana_Thsil3PL_D (Maharashtra)',\n 'IND000000ABA': 'Cochin_Chtrpuza_D (Kerala)'}"
     },
     "execution_count": 13,
     "metadata": {},
     "output_type": "execute_result"
    }
   ],
   "source": [
    "center_to_name  # this is a dictionary of all the Center and Names\n",
    "dict(zip(list(center_to_name.keys())[:5], list(center_to_name.values())[:5])) #Top 5 entries of this dictionary"
   ]
  },
  {
   "cell_type": "code",
   "execution_count": 14,
   "id": "404fb338d2b7cb63",
   "metadata": {
    "ExecuteTime": {
     "end_time": "2023-08-27T12:57:42.858956800Z",
     "start_time": "2023-08-27T12:57:42.816484800Z"
    }
   },
   "outputs": [],
   "source": [
    "df['source_name'] = df['source_center'].map(center_to_name)\n",
    "df['destination_name'] = df['destination_center'].map(center_to_name)"
   ]
  },
  {
   "cell_type": "markdown",
   "id": "a8bff13871635e96",
   "metadata": {},
   "source": [
    "#### Checking Null Values\n",
    "- Turns out there are still Null Values \n",
    "- The Best way to move forward is to got with Method 2 i.e. Imputing using Mode"
   ]
  },
  {
   "cell_type": "code",
   "execution_count": 15,
   "id": "ad9472910d7f0f17",
   "metadata": {
    "ExecuteTime": {
     "end_time": "2023-08-27T12:57:45.835675800Z",
     "start_time": "2023-08-27T12:57:45.754967Z"
    }
   },
   "outputs": [
    {
     "name": "stdout",
     "output_type": "stream",
     "text": [
      "Are there any null values in dataset : True\n"
     ]
    }
   ],
   "source": [
    "print(f\"Are there any null values in dataset : {df.isna().any().any()}\")"
   ]
  },
  {
   "cell_type": "markdown",
   "id": "2491012c3fb18903",
   "metadata": {},
   "source": [
    "Getting List of Center with null values "
   ]
  },
  {
   "cell_type": "code",
   "execution_count": 16,
   "id": "eb33a9de773e5d9a",
   "metadata": {
    "ExecuteTime": {
     "end_time": "2023-08-27T12:57:50.078321800Z",
     "start_time": "2023-08-27T12:57:50.027933Z"
    }
   },
   "outputs": [],
   "source": [
    "null_source_center = pd.Series(df[df['source_name'].isna()]['source_center'].unique())\n",
    "null_destination_center = pd.Series(df[df['destination_name'].isna()]['destination_center'].unique())"
   ]
  },
  {
   "cell_type": "code",
   "execution_count": 17,
   "id": "76c33bc1645fa783",
   "metadata": {
    "ExecuteTime": {
     "end_time": "2023-08-27T12:57:55.196772Z",
     "start_time": "2023-08-27T12:57:55.172471200Z"
    }
   },
   "outputs": [
    {
     "data": {
      "text/plain": "    Null Centres\n0   IND342902A1B\n1   IND577116AAA\n2   IND282002AAD\n3   IND465333A1B\n4   IND841301AAC\n5   IND509103AAC\n6   IND126116AAA\n7   IND331022A1B\n8   IND505326AAB\n9   IND852118A1B\n10  IND342902A1B\n11  IND577116AAA\n12  IND282002AAD\n13  IND465333A1B\n14  IND841301AAC\n15  IND505326AAB\n16  IND852118A1B\n17  IND126116AAA\n18  IND509103AAC\n19  IND221005A1A\n20  IND250002AAC\n21  IND331001A1C\n22  IND122015AAC",
      "text/html": "<div>\n<style scoped>\n    .dataframe tbody tr th:only-of-type {\n        vertical-align: middle;\n    }\n\n    .dataframe tbody tr th {\n        vertical-align: top;\n    }\n\n    .dataframe thead th {\n        text-align: right;\n    }\n</style>\n<table border=\"1\" class=\"dataframe\">\n  <thead>\n    <tr style=\"text-align: right;\">\n      <th></th>\n      <th>Null Centres</th>\n    </tr>\n  </thead>\n  <tbody>\n    <tr>\n      <th>0</th>\n      <td>IND342902A1B</td>\n    </tr>\n    <tr>\n      <th>1</th>\n      <td>IND577116AAA</td>\n    </tr>\n    <tr>\n      <th>2</th>\n      <td>IND282002AAD</td>\n    </tr>\n    <tr>\n      <th>3</th>\n      <td>IND465333A1B</td>\n    </tr>\n    <tr>\n      <th>4</th>\n      <td>IND841301AAC</td>\n    </tr>\n    <tr>\n      <th>5</th>\n      <td>IND509103AAC</td>\n    </tr>\n    <tr>\n      <th>6</th>\n      <td>IND126116AAA</td>\n    </tr>\n    <tr>\n      <th>7</th>\n      <td>IND331022A1B</td>\n    </tr>\n    <tr>\n      <th>8</th>\n      <td>IND505326AAB</td>\n    </tr>\n    <tr>\n      <th>9</th>\n      <td>IND852118A1B</td>\n    </tr>\n    <tr>\n      <th>10</th>\n      <td>IND342902A1B</td>\n    </tr>\n    <tr>\n      <th>11</th>\n      <td>IND577116AAA</td>\n    </tr>\n    <tr>\n      <th>12</th>\n      <td>IND282002AAD</td>\n    </tr>\n    <tr>\n      <th>13</th>\n      <td>IND465333A1B</td>\n    </tr>\n    <tr>\n      <th>14</th>\n      <td>IND841301AAC</td>\n    </tr>\n    <tr>\n      <th>15</th>\n      <td>IND505326AAB</td>\n    </tr>\n    <tr>\n      <th>16</th>\n      <td>IND852118A1B</td>\n    </tr>\n    <tr>\n      <th>17</th>\n      <td>IND126116AAA</td>\n    </tr>\n    <tr>\n      <th>18</th>\n      <td>IND509103AAC</td>\n    </tr>\n    <tr>\n      <th>19</th>\n      <td>IND221005A1A</td>\n    </tr>\n    <tr>\n      <th>20</th>\n      <td>IND250002AAC</td>\n    </tr>\n    <tr>\n      <th>21</th>\n      <td>IND331001A1C</td>\n    </tr>\n    <tr>\n      <th>22</th>\n      <td>IND122015AAC</td>\n    </tr>\n  </tbody>\n</table>\n</div>"
     },
     "execution_count": 17,
     "metadata": {},
     "output_type": "execute_result"
    }
   ],
   "source": [
    "pd.DataFrame(pd.concat([null_source_center,null_destination_center],ignore_index=True)).rename(columns={0:\"Null Centres\"})"
   ]
  },
  {
   "cell_type": "markdown",
   "id": "fe54f92a4f6ba0b6",
   "metadata": {},
   "source": [
    "#### Method 2 - Deleting Null Values \n",
    "- Reason Why we didn't went with impute is because if we decide to impute using mode , there would be an conflict with source code and destination code "
   ]
  },
  {
   "cell_type": "code",
   "execution_count": 18,
   "id": "27475f55997ce3a2",
   "metadata": {
    "ExecuteTime": {
     "end_time": "2023-08-27T12:57:57.622617700Z",
     "start_time": "2023-08-27T12:57:57.529070600Z"
    }
   },
   "outputs": [],
   "source": [
    "df = df.dropna()"
   ]
  },
  {
   "cell_type": "markdown",
   "id": "1b8d6d74517043a7",
   "metadata": {},
   "source": [
    "#### Checking Null Values"
   ]
  },
  {
   "cell_type": "code",
   "execution_count": 19,
   "id": "e65fcaac2ba34fc5",
   "metadata": {
    "ExecuteTime": {
     "end_time": "2023-08-27T12:58:23.647863200Z",
     "start_time": "2023-08-27T12:58:23.558705800Z"
    }
   },
   "outputs": [
    {
     "name": "stdout",
     "output_type": "stream",
     "text": [
      "Are there any NUll values in Dataset : False\n"
     ]
    }
   ],
   "source": [
    "print(f\"Are there any NUll values in Dataset : {df.isna().any().any()}\")"
   ]
  },
  {
   "cell_type": "markdown",
   "id": "e888879b9fd47491",
   "metadata": {},
   "source": [
    "## Examining the Data Structure\n",
    "- Analyzing the data types of the columns and implementing necessary corrections.\n",
    "- Conduct a detailed overview of the columns.\n",
    "- After Manipulating the Data and Adding Features, we have 14.7K rows and 28 Features (Columns)\n",
    "## Data Wrangling Procedures\n",
    "- The dataset contained several columns that required conversion from object data type to a datetime data type.\n",
    "- The format of this dataset is wide with almost 19 features.\n",
    "- This non-aggregated dataset is segmented with visible divisions between each segment. It's best to aggregate it \n",
    "- Columns like actual_time, osrm_time etc. are computed using a cumulative sum of columns like segment_actual_time, segment_osrm_time \n",
    "- To get started first, we did aggregation at segment level by creating a feature `unified_key` which is concatenation of Unique ID for a trip, source, destination.  This Activity reduced the dataset from 100K++ rows to 22K++ rows\n",
    "- Changed column to of `start_scan_to_end_scan ` to `delivery duration` for better clarity of features\n",
    "- We further did Aggregation at `trip_uuid` Level , further reducing table to just 14k rows"
   ]
  },
  {
   "cell_type": "code",
   "execution_count": 20,
   "id": "c8d82374a583b85",
   "metadata": {
    "ExecuteTime": {
     "end_time": "2023-08-27T12:59:32.769502900Z",
     "start_time": "2023-08-27T12:59:32.728631700Z"
    }
   },
   "outputs": [
    {
     "data": {
      "text/plain": "           data          trip_creation_time  \\\n98743  training  2018-09-19 12:22:07.301055   \n81497  training  2018-09-13 01:57:34.360771   \n59172  training  2018-09-21 22:54:20.579966   \n95550      test  2018-09-29 01:44:54.654787   \n61770      test  2018-09-29 20:17:23.173937   \n\n                                     route_schedule_uuid route_type  \\\n98743  thanos::sroute:f3756bb4-745e-49f3-8608-5a88652...        FTL   \n81497  thanos::sroute:828f0a4b-da11-4921-88df-5316ddb...        FTL   \n59172  thanos::sroute:9cada9d8-0df2-48a3-8784-3cf5da9...    Carting   \n95550  thanos::sroute:ea7ffec5-756e-450d-9fbf-9466b8e...        FTL   \n61770  thanos::sroute:55f92e5f-4e98-4f2c-944d-98aceb6...        FTL   \n\n                     trip_uuid source_center  \\\n98743  trip-153735972730081305  IND231217AAA   \n81497  trip-153680385436053322  IND000000ACB   \n59172  trip-153757046057972149  IND131021AAA   \n95550  trip-153818549465453720  IND125001AAA   \n61770  trip-153825224317368975  IND852113AAA   \n\n                             source_name destination_center  \\\n98743  Renukoot_Govind_D (Uttar Pradesh)       IND231225AAB   \n81497      Gurgaon_Bilaspur_HB (Haryana)       IND821115AAB   \n59172       Sonipat_AmzonDev_V (Haryana)       IND131028AAA   \n95550         Hisar_ModelTwn_P (Haryana)       IND110037AAM   \n61770       Madhepura_Krishnpr_D (Bihar)       IND852139AAB   \n\n                       destination_name               od_start_time  \\\n98743   Anpara_Parasi_D (Uttar Pradesh)  2018-09-20 00:47:52.470055   \n81497       Sasaram_Central_I_2 (Bihar)  2018-09-13 01:57:34.360771   \n59172        Sonipat_Kundli_P (Haryana)  2018-09-21 22:54:20.579966   \n95550           Delhi_Airport_H (Delhi)  2018-09-29 13:27:18.675388   \n61770  Triveninganj_Central_D_1 (Bihar)  2018-09-30 05:35:05.320994   \n\n                      od_end_time  start_scan_to_end_scan  \\\n98743  2018-09-20 02:34:54.660986                   107.0   \n81497  2018-09-14 04:33:20.191753                  1595.0   \n59172  2018-09-21 23:45:38.614962                    51.0   \n95550  2018-09-30 01:26:45.338559                   719.0   \n61770  2018-09-30 07:19:57.676516                   104.0   \n\n       actual_distance_to_destination  actual_time  osrm_time  osrm_distance  \\\n98743                       22.310283         37.0       18.0        26.1620   \n81497                      333.844903        574.0      252.0       352.3594   \n59172                        9.599419         16.0        9.0        10.7272   \n95550                       44.375582         97.0       58.0        72.1650   \n61770                       21.031925         62.0       28.0        36.7003   \n\n       segment_actual_time  segment_osrm_time  segment_osrm_distance  \n98743                 37.0               18.0                26.1620  \n81497                 34.0               18.0                26.0369  \n59172                 16.0                9.0                10.7272  \n95550                 45.0               31.0                33.1357  \n61770                 62.0               28.0                36.7003  ",
      "text/html": "<div>\n<style scoped>\n    .dataframe tbody tr th:only-of-type {\n        vertical-align: middle;\n    }\n\n    .dataframe tbody tr th {\n        vertical-align: top;\n    }\n\n    .dataframe thead th {\n        text-align: right;\n    }\n</style>\n<table border=\"1\" class=\"dataframe\">\n  <thead>\n    <tr style=\"text-align: right;\">\n      <th></th>\n      <th>data</th>\n      <th>trip_creation_time</th>\n      <th>route_schedule_uuid</th>\n      <th>route_type</th>\n      <th>trip_uuid</th>\n      <th>source_center</th>\n      <th>source_name</th>\n      <th>destination_center</th>\n      <th>destination_name</th>\n      <th>od_start_time</th>\n      <th>od_end_time</th>\n      <th>start_scan_to_end_scan</th>\n      <th>actual_distance_to_destination</th>\n      <th>actual_time</th>\n      <th>osrm_time</th>\n      <th>osrm_distance</th>\n      <th>segment_actual_time</th>\n      <th>segment_osrm_time</th>\n      <th>segment_osrm_distance</th>\n    </tr>\n  </thead>\n  <tbody>\n    <tr>\n      <th>98743</th>\n      <td>training</td>\n      <td>2018-09-19 12:22:07.301055</td>\n      <td>thanos::sroute:f3756bb4-745e-49f3-8608-5a88652...</td>\n      <td>FTL</td>\n      <td>trip-153735972730081305</td>\n      <td>IND231217AAA</td>\n      <td>Renukoot_Govind_D (Uttar Pradesh)</td>\n      <td>IND231225AAB</td>\n      <td>Anpara_Parasi_D (Uttar Pradesh)</td>\n      <td>2018-09-20 00:47:52.470055</td>\n      <td>2018-09-20 02:34:54.660986</td>\n      <td>107.0</td>\n      <td>22.310283</td>\n      <td>37.0</td>\n      <td>18.0</td>\n      <td>26.1620</td>\n      <td>37.0</td>\n      <td>18.0</td>\n      <td>26.1620</td>\n    </tr>\n    <tr>\n      <th>81497</th>\n      <td>training</td>\n      <td>2018-09-13 01:57:34.360771</td>\n      <td>thanos::sroute:828f0a4b-da11-4921-88df-5316ddb...</td>\n      <td>FTL</td>\n      <td>trip-153680385436053322</td>\n      <td>IND000000ACB</td>\n      <td>Gurgaon_Bilaspur_HB (Haryana)</td>\n      <td>IND821115AAB</td>\n      <td>Sasaram_Central_I_2 (Bihar)</td>\n      <td>2018-09-13 01:57:34.360771</td>\n      <td>2018-09-14 04:33:20.191753</td>\n      <td>1595.0</td>\n      <td>333.844903</td>\n      <td>574.0</td>\n      <td>252.0</td>\n      <td>352.3594</td>\n      <td>34.0</td>\n      <td>18.0</td>\n      <td>26.0369</td>\n    </tr>\n    <tr>\n      <th>59172</th>\n      <td>training</td>\n      <td>2018-09-21 22:54:20.579966</td>\n      <td>thanos::sroute:9cada9d8-0df2-48a3-8784-3cf5da9...</td>\n      <td>Carting</td>\n      <td>trip-153757046057972149</td>\n      <td>IND131021AAA</td>\n      <td>Sonipat_AmzonDev_V (Haryana)</td>\n      <td>IND131028AAA</td>\n      <td>Sonipat_Kundli_P (Haryana)</td>\n      <td>2018-09-21 22:54:20.579966</td>\n      <td>2018-09-21 23:45:38.614962</td>\n      <td>51.0</td>\n      <td>9.599419</td>\n      <td>16.0</td>\n      <td>9.0</td>\n      <td>10.7272</td>\n      <td>16.0</td>\n      <td>9.0</td>\n      <td>10.7272</td>\n    </tr>\n    <tr>\n      <th>95550</th>\n      <td>test</td>\n      <td>2018-09-29 01:44:54.654787</td>\n      <td>thanos::sroute:ea7ffec5-756e-450d-9fbf-9466b8e...</td>\n      <td>FTL</td>\n      <td>trip-153818549465453720</td>\n      <td>IND125001AAA</td>\n      <td>Hisar_ModelTwn_P (Haryana)</td>\n      <td>IND110037AAM</td>\n      <td>Delhi_Airport_H (Delhi)</td>\n      <td>2018-09-29 13:27:18.675388</td>\n      <td>2018-09-30 01:26:45.338559</td>\n      <td>719.0</td>\n      <td>44.375582</td>\n      <td>97.0</td>\n      <td>58.0</td>\n      <td>72.1650</td>\n      <td>45.0</td>\n      <td>31.0</td>\n      <td>33.1357</td>\n    </tr>\n    <tr>\n      <th>61770</th>\n      <td>test</td>\n      <td>2018-09-29 20:17:23.173937</td>\n      <td>thanos::sroute:55f92e5f-4e98-4f2c-944d-98aceb6...</td>\n      <td>FTL</td>\n      <td>trip-153825224317368975</td>\n      <td>IND852113AAA</td>\n      <td>Madhepura_Krishnpr_D (Bihar)</td>\n      <td>IND852139AAB</td>\n      <td>Triveninganj_Central_D_1 (Bihar)</td>\n      <td>2018-09-30 05:35:05.320994</td>\n      <td>2018-09-30 07:19:57.676516</td>\n      <td>104.0</td>\n      <td>21.031925</td>\n      <td>62.0</td>\n      <td>28.0</td>\n      <td>36.7003</td>\n      <td>62.0</td>\n      <td>28.0</td>\n      <td>36.7003</td>\n    </tr>\n  </tbody>\n</table>\n</div>"
     },
     "execution_count": 20,
     "metadata": {},
     "output_type": "execute_result"
    }
   ],
   "source": [
    "df.sample(5)"
   ]
  },
  {
   "cell_type": "code",
   "execution_count": 21,
   "id": "76ee6acb3b9f094b",
   "metadata": {
    "ExecuteTime": {
     "end_time": "2023-08-27T12:59:34.838443200Z",
     "start_time": "2023-08-27T12:59:34.751001600Z"
    }
   },
   "outputs": [
    {
     "name": "stdout",
     "output_type": "stream",
     "text": [
      "<class 'pandas.core.frame.DataFrame'>\n",
      "Index: 144316 entries, 0 to 144866\n",
      "Data columns (total 19 columns):\n",
      " #   Column                          Non-Null Count   Dtype  \n",
      "---  ------                          --------------   -----  \n",
      " 0   data                            144316 non-null  object \n",
      " 1   trip_creation_time              144316 non-null  object \n",
      " 2   route_schedule_uuid             144316 non-null  object \n",
      " 3   route_type                      144316 non-null  object \n",
      " 4   trip_uuid                       144316 non-null  object \n",
      " 5   source_center                   144316 non-null  object \n",
      " 6   source_name                     144316 non-null  object \n",
      " 7   destination_center              144316 non-null  object \n",
      " 8   destination_name                144316 non-null  object \n",
      " 9   od_start_time                   144316 non-null  object \n",
      " 10  od_end_time                     144316 non-null  object \n",
      " 11  start_scan_to_end_scan          144316 non-null  float64\n",
      " 12  actual_distance_to_destination  144316 non-null  float64\n",
      " 13  actual_time                     144316 non-null  float64\n",
      " 14  osrm_time                       144316 non-null  float64\n",
      " 15  osrm_distance                   144316 non-null  float64\n",
      " 16  segment_actual_time             144316 non-null  float64\n",
      " 17  segment_osrm_time               144316 non-null  float64\n",
      " 18  segment_osrm_distance           144316 non-null  float64\n",
      "dtypes: float64(8), object(11)\n",
      "memory usage: 22.0+ MB\n"
     ]
    }
   ],
   "source": [
    "df.info()"
   ]
  },
  {
   "cell_type": "markdown",
   "id": "2cd2090a148df462",
   "metadata": {},
   "source": [
    "Converting dtype from Object to Datetime "
   ]
  },
  {
   "cell_type": "code",
   "execution_count": 22,
   "id": "5ca8bf713fb265ba",
   "metadata": {
    "ExecuteTime": {
     "end_time": "2023-08-27T12:59:36.724385800Z",
     "start_time": "2023-08-27T12:59:36.586242300Z"
    }
   },
   "outputs": [],
   "source": [
    "cols = ['trip_creation_time','od_start_time','od_end_time']\n",
    "\n",
    "for col in cols:\n",
    "    temp = pd.to_datetime(df[col], format=\"%Y-%m-%d %H:%M:%S.%f\", errors='coerce')\n",
    "    if temp.isnull().any():\n",
    "        df[col] = pd.to_datetime(df[col], format=\"%Y-%m-%d %H:%M:%S\", errors='coerce')\n",
    "    else:\n",
    "        df[col] = temp"
   ]
  },
  {
   "cell_type": "markdown",
   "id": "5db3f4bf118f5ca3",
   "metadata": {},
   "source": [
    "creating a segment key"
   ]
  },
  {
   "cell_type": "code",
   "execution_count": 23,
   "id": "95d2b82c7db2facf",
   "metadata": {
    "ExecuteTime": {
     "end_time": "2023-08-27T12:59:38.841761300Z",
     "start_time": "2023-08-27T12:59:38.747770100Z"
    }
   },
   "outputs": [
    {
     "data": {
      "text/plain": "            data         trip_creation_time  \\\n0       training 2018-09-20 02:35:36.476840   \n1       training 2018-09-20 02:35:36.476840   \n2       training 2018-09-20 02:35:36.476840   \n3       training 2018-09-20 02:35:36.476840   \n4       training 2018-09-20 02:35:36.476840   \n...          ...                        ...   \n144862  training 2018-09-20 16:24:28.436231   \n144863  training 2018-09-20 16:24:28.436231   \n144864  training 2018-09-20 16:24:28.436231   \n144865  training 2018-09-20 16:24:28.436231   \n144866  training 2018-09-20 16:24:28.436231   \n\n                                      route_schedule_uuid route_type  \\\n0       thanos::sroute:eb7bfc78-b351-4c0e-a951-fa3d5c3...    Carting   \n1       thanos::sroute:eb7bfc78-b351-4c0e-a951-fa3d5c3...    Carting   \n2       thanos::sroute:eb7bfc78-b351-4c0e-a951-fa3d5c3...    Carting   \n3       thanos::sroute:eb7bfc78-b351-4c0e-a951-fa3d5c3...    Carting   \n4       thanos::sroute:eb7bfc78-b351-4c0e-a951-fa3d5c3...    Carting   \n...                                                   ...        ...   \n144862  thanos::sroute:f0569d2f-4e20-4c31-8542-67b86d5...    Carting   \n144863  thanos::sroute:f0569d2f-4e20-4c31-8542-67b86d5...    Carting   \n144864  thanos::sroute:f0569d2f-4e20-4c31-8542-67b86d5...    Carting   \n144865  thanos::sroute:f0569d2f-4e20-4c31-8542-67b86d5...    Carting   \n144866  thanos::sroute:f0569d2f-4e20-4c31-8542-67b86d5...    Carting   \n\n                      trip_uuid source_center                 source_name  \\\n0       trip-153741093647649320  IND388121AAA  Anand_VUNagar_DC (Gujarat)   \n1       trip-153741093647649320  IND388121AAA  Anand_VUNagar_DC (Gujarat)   \n2       trip-153741093647649320  IND388121AAA  Anand_VUNagar_DC (Gujarat)   \n3       trip-153741093647649320  IND388121AAA  Anand_VUNagar_DC (Gujarat)   \n4       trip-153741093647649320  IND388121AAA  Anand_VUNagar_DC (Gujarat)   \n...                         ...           ...                         ...   \n144862  trip-153746066843555182  IND131028AAB  Sonipat_Kundli_H (Haryana)   \n144863  trip-153746066843555182  IND131028AAB  Sonipat_Kundli_H (Haryana)   \n144864  trip-153746066843555182  IND131028AAB  Sonipat_Kundli_H (Haryana)   \n144865  trip-153746066843555182  IND131028AAB  Sonipat_Kundli_H (Haryana)   \n144866  trip-153746066843555182  IND131028AAB  Sonipat_Kundli_H (Haryana)   \n\n       destination_center               destination_name  \\\n0            IND388620AAB  Khambhat_MotvdDPP_D (Gujarat)   \n1            IND388620AAB  Khambhat_MotvdDPP_D (Gujarat)   \n2            IND388620AAB  Khambhat_MotvdDPP_D (Gujarat)   \n3            IND388620AAB  Khambhat_MotvdDPP_D (Gujarat)   \n4            IND388620AAB  Khambhat_MotvdDPP_D (Gujarat)   \n...                   ...                            ...   \n144862       IND000000ACB  Gurgaon_Bilaspur_HB (Haryana)   \n144863       IND000000ACB  Gurgaon_Bilaspur_HB (Haryana)   \n144864       IND000000ACB  Gurgaon_Bilaspur_HB (Haryana)   \n144865       IND000000ACB  Gurgaon_Bilaspur_HB (Haryana)   \n144866       IND000000ACB  Gurgaon_Bilaspur_HB (Haryana)   \n\n                    od_start_time                od_end_time  \\\n0      2018-09-20 03:21:32.418600 2018-09-20 04:47:45.236797   \n1      2018-09-20 03:21:32.418600 2018-09-20 04:47:45.236797   \n2      2018-09-20 03:21:32.418600 2018-09-20 04:47:45.236797   \n3      2018-09-20 03:21:32.418600 2018-09-20 04:47:45.236797   \n4      2018-09-20 03:21:32.418600 2018-09-20 04:47:45.236797   \n...                           ...                        ...   \n144862 2018-09-20 16:24:28.436231 2018-09-20 23:32:09.618069   \n144863 2018-09-20 16:24:28.436231 2018-09-20 23:32:09.618069   \n144864 2018-09-20 16:24:28.436231 2018-09-20 23:32:09.618069   \n144865 2018-09-20 16:24:28.436231 2018-09-20 23:32:09.618069   \n144866 2018-09-20 16:24:28.436231 2018-09-20 23:32:09.618069   \n\n        start_scan_to_end_scan  actual_distance_to_destination  actual_time  \\\n0                         86.0                       10.435660         14.0   \n1                         86.0                       18.936842         24.0   \n2                         86.0                       27.637279         40.0   \n3                         86.0                       36.118028         62.0   \n4                         86.0                       39.386040         68.0   \n...                        ...                             ...          ...   \n144862                   427.0                       45.258278         94.0   \n144863                   427.0                       54.092531        120.0   \n144864                   427.0                       66.163591        140.0   \n144865                   427.0                       73.680667        158.0   \n144866                   427.0                       70.039010        426.0   \n\n        osrm_time  osrm_distance  segment_actual_time  segment_osrm_time  \\\n0            11.0        11.9653                 14.0               11.0   \n1            20.0        21.7243                 10.0                9.0   \n2            28.0        32.5395                 16.0                7.0   \n3            40.0        45.5620                 21.0               12.0   \n4            44.0        54.2181                  6.0                5.0   \n...           ...            ...                  ...                ...   \n144862       60.0        67.9280                 12.0               12.0   \n144863       76.0        85.6829                 26.0               21.0   \n144864       88.0        97.0933                 20.0               34.0   \n144865       98.0       111.2709                 17.0               27.0   \n144866       95.0        88.7319                268.0                9.0   \n\n        segment_osrm_distance  \\\n0                     11.9653   \n1                      9.7590   \n2                     10.8152   \n3                     13.0224   \n4                      3.9153   \n...                       ...   \n144862                 8.1858   \n144863                17.3725   \n144864                20.7053   \n144865                18.8885   \n144866                 8.8088   \n\n                                              unified_key  \n0       trip-153741093647649320 IND388121AAA IND388620AAB  \n1       trip-153741093647649320 IND388121AAA IND388620AAB  \n2       trip-153741093647649320 IND388121AAA IND388620AAB  \n3       trip-153741093647649320 IND388121AAA IND388620AAB  \n4       trip-153741093647649320 IND388121AAA IND388620AAB  \n...                                                   ...  \n144862  trip-153746066843555182 IND131028AAB IND000000ACB  \n144863  trip-153746066843555182 IND131028AAB IND000000ACB  \n144864  trip-153746066843555182 IND131028AAB IND000000ACB  \n144865  trip-153746066843555182 IND131028AAB IND000000ACB  \n144866  trip-153746066843555182 IND131028AAB IND000000ACB  \n\n[144316 rows x 20 columns]",
      "text/html": "<div>\n<style scoped>\n    .dataframe tbody tr th:only-of-type {\n        vertical-align: middle;\n    }\n\n    .dataframe tbody tr th {\n        vertical-align: top;\n    }\n\n    .dataframe thead th {\n        text-align: right;\n    }\n</style>\n<table border=\"1\" class=\"dataframe\">\n  <thead>\n    <tr style=\"text-align: right;\">\n      <th></th>\n      <th>data</th>\n      <th>trip_creation_time</th>\n      <th>route_schedule_uuid</th>\n      <th>route_type</th>\n      <th>trip_uuid</th>\n      <th>source_center</th>\n      <th>source_name</th>\n      <th>destination_center</th>\n      <th>destination_name</th>\n      <th>od_start_time</th>\n      <th>od_end_time</th>\n      <th>start_scan_to_end_scan</th>\n      <th>actual_distance_to_destination</th>\n      <th>actual_time</th>\n      <th>osrm_time</th>\n      <th>osrm_distance</th>\n      <th>segment_actual_time</th>\n      <th>segment_osrm_time</th>\n      <th>segment_osrm_distance</th>\n      <th>unified_key</th>\n    </tr>\n  </thead>\n  <tbody>\n    <tr>\n      <th>0</th>\n      <td>training</td>\n      <td>2018-09-20 02:35:36.476840</td>\n      <td>thanos::sroute:eb7bfc78-b351-4c0e-a951-fa3d5c3...</td>\n      <td>Carting</td>\n      <td>trip-153741093647649320</td>\n      <td>IND388121AAA</td>\n      <td>Anand_VUNagar_DC (Gujarat)</td>\n      <td>IND388620AAB</td>\n      <td>Khambhat_MotvdDPP_D (Gujarat)</td>\n      <td>2018-09-20 03:21:32.418600</td>\n      <td>2018-09-20 04:47:45.236797</td>\n      <td>86.0</td>\n      <td>10.435660</td>\n      <td>14.0</td>\n      <td>11.0</td>\n      <td>11.9653</td>\n      <td>14.0</td>\n      <td>11.0</td>\n      <td>11.9653</td>\n      <td>trip-153741093647649320 IND388121AAA IND388620AAB</td>\n    </tr>\n    <tr>\n      <th>1</th>\n      <td>training</td>\n      <td>2018-09-20 02:35:36.476840</td>\n      <td>thanos::sroute:eb7bfc78-b351-4c0e-a951-fa3d5c3...</td>\n      <td>Carting</td>\n      <td>trip-153741093647649320</td>\n      <td>IND388121AAA</td>\n      <td>Anand_VUNagar_DC (Gujarat)</td>\n      <td>IND388620AAB</td>\n      <td>Khambhat_MotvdDPP_D (Gujarat)</td>\n      <td>2018-09-20 03:21:32.418600</td>\n      <td>2018-09-20 04:47:45.236797</td>\n      <td>86.0</td>\n      <td>18.936842</td>\n      <td>24.0</td>\n      <td>20.0</td>\n      <td>21.7243</td>\n      <td>10.0</td>\n      <td>9.0</td>\n      <td>9.7590</td>\n      <td>trip-153741093647649320 IND388121AAA IND388620AAB</td>\n    </tr>\n    <tr>\n      <th>2</th>\n      <td>training</td>\n      <td>2018-09-20 02:35:36.476840</td>\n      <td>thanos::sroute:eb7bfc78-b351-4c0e-a951-fa3d5c3...</td>\n      <td>Carting</td>\n      <td>trip-153741093647649320</td>\n      <td>IND388121AAA</td>\n      <td>Anand_VUNagar_DC (Gujarat)</td>\n      <td>IND388620AAB</td>\n      <td>Khambhat_MotvdDPP_D (Gujarat)</td>\n      <td>2018-09-20 03:21:32.418600</td>\n      <td>2018-09-20 04:47:45.236797</td>\n      <td>86.0</td>\n      <td>27.637279</td>\n      <td>40.0</td>\n      <td>28.0</td>\n      <td>32.5395</td>\n      <td>16.0</td>\n      <td>7.0</td>\n      <td>10.8152</td>\n      <td>trip-153741093647649320 IND388121AAA IND388620AAB</td>\n    </tr>\n    <tr>\n      <th>3</th>\n      <td>training</td>\n      <td>2018-09-20 02:35:36.476840</td>\n      <td>thanos::sroute:eb7bfc78-b351-4c0e-a951-fa3d5c3...</td>\n      <td>Carting</td>\n      <td>trip-153741093647649320</td>\n      <td>IND388121AAA</td>\n      <td>Anand_VUNagar_DC (Gujarat)</td>\n      <td>IND388620AAB</td>\n      <td>Khambhat_MotvdDPP_D (Gujarat)</td>\n      <td>2018-09-20 03:21:32.418600</td>\n      <td>2018-09-20 04:47:45.236797</td>\n      <td>86.0</td>\n      <td>36.118028</td>\n      <td>62.0</td>\n      <td>40.0</td>\n      <td>45.5620</td>\n      <td>21.0</td>\n      <td>12.0</td>\n      <td>13.0224</td>\n      <td>trip-153741093647649320 IND388121AAA IND388620AAB</td>\n    </tr>\n    <tr>\n      <th>4</th>\n      <td>training</td>\n      <td>2018-09-20 02:35:36.476840</td>\n      <td>thanos::sroute:eb7bfc78-b351-4c0e-a951-fa3d5c3...</td>\n      <td>Carting</td>\n      <td>trip-153741093647649320</td>\n      <td>IND388121AAA</td>\n      <td>Anand_VUNagar_DC (Gujarat)</td>\n      <td>IND388620AAB</td>\n      <td>Khambhat_MotvdDPP_D (Gujarat)</td>\n      <td>2018-09-20 03:21:32.418600</td>\n      <td>2018-09-20 04:47:45.236797</td>\n      <td>86.0</td>\n      <td>39.386040</td>\n      <td>68.0</td>\n      <td>44.0</td>\n      <td>54.2181</td>\n      <td>6.0</td>\n      <td>5.0</td>\n      <td>3.9153</td>\n      <td>trip-153741093647649320 IND388121AAA IND388620AAB</td>\n    </tr>\n    <tr>\n      <th>...</th>\n      <td>...</td>\n      <td>...</td>\n      <td>...</td>\n      <td>...</td>\n      <td>...</td>\n      <td>...</td>\n      <td>...</td>\n      <td>...</td>\n      <td>...</td>\n      <td>...</td>\n      <td>...</td>\n      <td>...</td>\n      <td>...</td>\n      <td>...</td>\n      <td>...</td>\n      <td>...</td>\n      <td>...</td>\n      <td>...</td>\n      <td>...</td>\n      <td>...</td>\n    </tr>\n    <tr>\n      <th>144862</th>\n      <td>training</td>\n      <td>2018-09-20 16:24:28.436231</td>\n      <td>thanos::sroute:f0569d2f-4e20-4c31-8542-67b86d5...</td>\n      <td>Carting</td>\n      <td>trip-153746066843555182</td>\n      <td>IND131028AAB</td>\n      <td>Sonipat_Kundli_H (Haryana)</td>\n      <td>IND000000ACB</td>\n      <td>Gurgaon_Bilaspur_HB (Haryana)</td>\n      <td>2018-09-20 16:24:28.436231</td>\n      <td>2018-09-20 23:32:09.618069</td>\n      <td>427.0</td>\n      <td>45.258278</td>\n      <td>94.0</td>\n      <td>60.0</td>\n      <td>67.9280</td>\n      <td>12.0</td>\n      <td>12.0</td>\n      <td>8.1858</td>\n      <td>trip-153746066843555182 IND131028AAB IND000000ACB</td>\n    </tr>\n    <tr>\n      <th>144863</th>\n      <td>training</td>\n      <td>2018-09-20 16:24:28.436231</td>\n      <td>thanos::sroute:f0569d2f-4e20-4c31-8542-67b86d5...</td>\n      <td>Carting</td>\n      <td>trip-153746066843555182</td>\n      <td>IND131028AAB</td>\n      <td>Sonipat_Kundli_H (Haryana)</td>\n      <td>IND000000ACB</td>\n      <td>Gurgaon_Bilaspur_HB (Haryana)</td>\n      <td>2018-09-20 16:24:28.436231</td>\n      <td>2018-09-20 23:32:09.618069</td>\n      <td>427.0</td>\n      <td>54.092531</td>\n      <td>120.0</td>\n      <td>76.0</td>\n      <td>85.6829</td>\n      <td>26.0</td>\n      <td>21.0</td>\n      <td>17.3725</td>\n      <td>trip-153746066843555182 IND131028AAB IND000000ACB</td>\n    </tr>\n    <tr>\n      <th>144864</th>\n      <td>training</td>\n      <td>2018-09-20 16:24:28.436231</td>\n      <td>thanos::sroute:f0569d2f-4e20-4c31-8542-67b86d5...</td>\n      <td>Carting</td>\n      <td>trip-153746066843555182</td>\n      <td>IND131028AAB</td>\n      <td>Sonipat_Kundli_H (Haryana)</td>\n      <td>IND000000ACB</td>\n      <td>Gurgaon_Bilaspur_HB (Haryana)</td>\n      <td>2018-09-20 16:24:28.436231</td>\n      <td>2018-09-20 23:32:09.618069</td>\n      <td>427.0</td>\n      <td>66.163591</td>\n      <td>140.0</td>\n      <td>88.0</td>\n      <td>97.0933</td>\n      <td>20.0</td>\n      <td>34.0</td>\n      <td>20.7053</td>\n      <td>trip-153746066843555182 IND131028AAB IND000000ACB</td>\n    </tr>\n    <tr>\n      <th>144865</th>\n      <td>training</td>\n      <td>2018-09-20 16:24:28.436231</td>\n      <td>thanos::sroute:f0569d2f-4e20-4c31-8542-67b86d5...</td>\n      <td>Carting</td>\n      <td>trip-153746066843555182</td>\n      <td>IND131028AAB</td>\n      <td>Sonipat_Kundli_H (Haryana)</td>\n      <td>IND000000ACB</td>\n      <td>Gurgaon_Bilaspur_HB (Haryana)</td>\n      <td>2018-09-20 16:24:28.436231</td>\n      <td>2018-09-20 23:32:09.618069</td>\n      <td>427.0</td>\n      <td>73.680667</td>\n      <td>158.0</td>\n      <td>98.0</td>\n      <td>111.2709</td>\n      <td>17.0</td>\n      <td>27.0</td>\n      <td>18.8885</td>\n      <td>trip-153746066843555182 IND131028AAB IND000000ACB</td>\n    </tr>\n    <tr>\n      <th>144866</th>\n      <td>training</td>\n      <td>2018-09-20 16:24:28.436231</td>\n      <td>thanos::sroute:f0569d2f-4e20-4c31-8542-67b86d5...</td>\n      <td>Carting</td>\n      <td>trip-153746066843555182</td>\n      <td>IND131028AAB</td>\n      <td>Sonipat_Kundli_H (Haryana)</td>\n      <td>IND000000ACB</td>\n      <td>Gurgaon_Bilaspur_HB (Haryana)</td>\n      <td>2018-09-20 16:24:28.436231</td>\n      <td>2018-09-20 23:32:09.618069</td>\n      <td>427.0</td>\n      <td>70.039010</td>\n      <td>426.0</td>\n      <td>95.0</td>\n      <td>88.7319</td>\n      <td>268.0</td>\n      <td>9.0</td>\n      <td>8.8088</td>\n      <td>trip-153746066843555182 IND131028AAB IND000000ACB</td>\n    </tr>\n  </tbody>\n</table>\n<p>144316 rows × 20 columns</p>\n</div>"
     },
     "execution_count": 23,
     "metadata": {},
     "output_type": "execute_result"
    }
   ],
   "source": [
    "df['unified_key'] = df['trip_uuid']+ \" \" + df['source_center'] + \" \" +df['destination_center']\n",
    "df"
   ]
  },
  {
   "cell_type": "markdown",
   "source": [
    "Rename Column to get better Understanding"
   ],
   "metadata": {
    "collapsed": false
   },
   "id": "3284a587e71f2aa5"
  },
  {
   "cell_type": "code",
   "execution_count": 24,
   "outputs": [],
   "source": [
    "df.rename(columns={'start_scan_to_end_scan':'delivery_duration'},inplace=True)"
   ],
   "metadata": {
    "collapsed": false,
    "ExecuteTime": {
     "end_time": "2023-08-27T12:59:41.605097800Z",
     "start_time": "2023-08-27T12:59:41.590276Z"
    }
   },
   "id": "ab8cdeb58e452d7"
  },
  {
   "cell_type": "markdown",
   "source": [
    "Grouping BY Unified Key   "
   ],
   "metadata": {
    "collapsed": false
   },
   "id": "98ac229ae501d071"
  },
  {
   "cell_type": "code",
   "execution_count": 26,
   "id": "70f2c6388269ff2",
   "metadata": {
    "ExecuteTime": {
     "end_time": "2023-08-27T13:00:10.499713700Z",
     "start_time": "2023-08-27T13:00:10.476686700Z"
    }
   },
   "outputs": [],
   "source": [
    "create_segment_dict = {\n",
    "\n",
    "    'data' : 'first',\n",
    "    'trip_creation_time': 'first',\n",
    "    'route_schedule_uuid' : 'first',\n",
    "    'route_type' : 'first',\n",
    "    'trip_uuid' : 'first',\n",
    "    'source_center' : 'first',\n",
    "    'source_name' : 'first',\n",
    "\n",
    "    'destination_center' : 'last',\n",
    "    'destination_name' : 'last',\n",
    "\n",
    "    'od_start_time' : 'first',\n",
    "    'od_end_time' : 'first',\n",
    "    'delivery_duration' : 'first',\n",
    "\n",
    "\n",
    "    'actual_distance_to_destination' : 'last',\n",
    "    'actual_time' : 'last',\n",
    "\n",
    "    'osrm_time' : 'last',\n",
    "    'osrm_distance' : 'last',\n",
    "\n",
    "    'segment_actual_time' : 'sum',\n",
    "    'segment_osrm_distance' : 'sum',\n",
    "    'segment_osrm_time' : 'sum',\n",
    "\n",
    "}"
   ]
  },
  {
   "cell_type": "code",
   "execution_count": 27,
   "outputs": [],
   "source": [
    "df = df.groupby('unified_key').agg(create_segment_dict).sort_values(by=['unified_key','od_end_time'], ascending=True).reset_index()"
   ],
   "metadata": {
    "collapsed": false,
    "ExecuteTime": {
     "end_time": "2023-08-27T13:00:11.985005400Z",
     "start_time": "2023-08-27T13:00:11.649293200Z"
    }
   },
   "id": "c7245099bafa91fd"
  },
  {
   "cell_type": "code",
   "execution_count": 29,
   "outputs": [
    {
     "data": {
      "text/plain": "                                             unified_key      data  \\\n0      trip-153671041653548748 IND209304AAA IND000000ACB  training   \n1      trip-153671041653548748 IND462022AAA IND209304AAA  training   \n2      trip-153671042288605164 IND561203AAB IND562101AAA  training   \n3      trip-153671042288605164 IND572101AAA IND561203AAB  training   \n4      trip-153671043369099517 IND000000ACB IND160002AAC  training   \n...                                                  ...       ...   \n26217  trip-153861115439069069 IND628204AAA IND627657AAA      test   \n26218  trip-153861115439069069 IND628613AAA IND627005AAA      test   \n26219  trip-153861115439069069 IND628801AAA IND628204AAA      test   \n26220  trip-153861118270144424 IND583119AAA IND583101AAA      test   \n26221  trip-153861118270144424 IND583201AAA IND583119AAA      test   \n\n              trip_creation_time  \\\n0     2018-09-12 00:00:16.535741   \n1     2018-09-12 00:00:16.535741   \n2     2018-09-12 00:00:22.886430   \n3     2018-09-12 00:00:22.886430   \n4     2018-09-12 00:00:33.691250   \n...                          ...   \n26217 2018-10-03 23:59:14.390954   \n26218 2018-10-03 23:59:14.390954   \n26219 2018-10-03 23:59:14.390954   \n26220 2018-10-03 23:59:42.701692   \n26221 2018-10-03 23:59:42.701692   \n\n                                     route_schedule_uuid route_type  \\\n0      thanos::sroute:d7c989ba-a29b-4a0b-b2f4-288cdc6...        FTL   \n1      thanos::sroute:d7c989ba-a29b-4a0b-b2f4-288cdc6...        FTL   \n2      thanos::sroute:3a1b0ab2-bb0b-4c53-8c59-eb2a2c0...    Carting   \n3      thanos::sroute:3a1b0ab2-bb0b-4c53-8c59-eb2a2c0...    Carting   \n4      thanos::sroute:de5e208e-7641-45e6-8100-4d9fb1e...        FTL   \n...                                                  ...        ...   \n26217  thanos::sroute:c5f2ba2c-8486-4940-8af6-d1d2a6a...    Carting   \n26218  thanos::sroute:c5f2ba2c-8486-4940-8af6-d1d2a6a...    Carting   \n26219  thanos::sroute:c5f2ba2c-8486-4940-8af6-d1d2a6a...    Carting   \n26220  thanos::sroute:412fea14-6d1f-4222-8a5f-a517042...        FTL   \n26221  thanos::sroute:412fea14-6d1f-4222-8a5f-a517042...        FTL   \n\n                     trip_uuid source_center  \\\n0      trip-153671041653548748  IND209304AAA   \n1      trip-153671041653548748  IND462022AAA   \n2      trip-153671042288605164  IND561203AAB   \n3      trip-153671042288605164  IND572101AAA   \n4      trip-153671043369099517  IND000000ACB   \n...                        ...           ...   \n26217  trip-153861115439069069  IND628204AAA   \n26218  trip-153861115439069069  IND628613AAA   \n26219  trip-153861115439069069  IND628801AAA   \n26220  trip-153861118270144424  IND583119AAA   \n26221  trip-153861118270144424  IND583201AAA   \n\n                              source_name destination_center  \\\n0      Kanpur_Central_H_6 (Uttar Pradesh)       IND000000ACB   \n1      Bhopal_Trnsport_H (Madhya Pradesh)       IND209304AAA   \n2       Doddablpur_ChikaDPP_D (Karnataka)       IND562101AAA   \n3           Tumkur_Veersagr_I (Karnataka)       IND561203AAB   \n4           Gurgaon_Bilaspur_HB (Haryana)       IND160002AAC   \n...                                   ...                ...   \n26217  Tirchchndr_Shnmgprm_D (Tamil Nadu)       IND627657AAA   \n26218   Peikulam_SriVnktpm_D (Tamil Nadu)       IND627005AAA   \n26219        Eral_Busstand_D (Tamil Nadu)       IND628204AAA   \n26220       Sandur_WrdN1DPP_D (Karnataka)       IND583101AAA   \n26221                  Hospet (Karnataka)       IND583119AAA   \n\n                            destination_name              od_start_time  \\\n0              Gurgaon_Bilaspur_HB (Haryana) 2018-09-12 16:39:46.858469   \n1         Kanpur_Central_H_6 (Uttar Pradesh) 2018-09-12 00:00:16.535741   \n2          Chikblapur_ShntiSgr_D (Karnataka) 2018-09-12 02:03:09.655591   \n3          Doddablpur_ChikaDPP_D (Karnataka) 2018-09-12 00:00:22.886430   \n4             Chandigarh_Mehmdpur_H (Punjab) 2018-09-14 03:40:17.106733   \n...                                      ...                        ...   \n26217  Thisayanvilai_UdnkdiRD_D (Tamil Nadu) 2018-10-04 02:29:04.272194   \n26218    Tirunelveli_VdkkuSrt_I (Tamil Nadu) 2018-10-04 04:16:39.894872   \n26219     Tirchchndr_Shnmgprm_D (Tamil Nadu) 2018-10-04 01:44:53.808000   \n26220                 Bellary_Dc (Karnataka) 2018-10-04 03:58:40.726547   \n26221          Sandur_WrdN1DPP_D (Karnataka) 2018-10-04 02:51:44.712656   \n\n                     od_end_time  delivery_duration  \\\n0     2018-09-13 13:40:23.123744             1260.0   \n1     2018-09-12 16:39:46.858469              999.0   \n2     2018-09-12 03:01:59.598855               58.0   \n3     2018-09-12 02:03:09.655591              122.0   \n4     2018-09-14 17:34:55.442454              834.0   \n...                          ...                ...   \n26217 2018-10-04 03:31:11.183797               62.0   \n26218 2018-10-04 05:47:45.162682               91.0   \n26219 2018-10-04 02:29:04.272194               44.0   \n26220 2018-10-04 08:46:09.166940              287.0   \n26221 2018-10-04 03:58:40.726547               66.0   \n\n       actual_distance_to_destination  actual_time  osrm_time  osrm_distance  \\\n0                          383.759164        732.0      329.0       446.5496   \n1                          440.973689        830.0      388.0       544.8027   \n2                           24.644021         47.0       26.0        28.1994   \n3                           48.542890         96.0       42.0        56.9116   \n4                          237.439610        611.0      212.0       281.2109   \n...                               ...          ...        ...            ...   \n26217                       33.627182         51.0       41.0        42.5213   \n26218                       33.673835         90.0       48.0        40.6080   \n26219                       12.661945         30.0       14.0        16.0185   \n26220                       40.546740        233.0       42.0        52.5303   \n26221                       25.534793         42.0       26.0        28.0484   \n\n       segment_actual_time  segment_osrm_distance  segment_osrm_time  \n0                    728.0               670.6205              534.0  \n1                    820.0               649.8528              474.0  \n2                     46.0                28.1995               26.0  \n3                     95.0                55.9899               39.0  \n4                    608.0               317.7408              231.0  \n...                    ...                    ...                ...  \n26217                 49.0                42.1431               42.0  \n26218                 89.0                78.5869               77.0  \n26219                 29.0                16.0184               14.0  \n26220                233.0                52.5303               42.0  \n26221                 41.0                28.0484               25.0  \n\n[26222 rows x 20 columns]",
      "text/html": "<div>\n<style scoped>\n    .dataframe tbody tr th:only-of-type {\n        vertical-align: middle;\n    }\n\n    .dataframe tbody tr th {\n        vertical-align: top;\n    }\n\n    .dataframe thead th {\n        text-align: right;\n    }\n</style>\n<table border=\"1\" class=\"dataframe\">\n  <thead>\n    <tr style=\"text-align: right;\">\n      <th></th>\n      <th>unified_key</th>\n      <th>data</th>\n      <th>trip_creation_time</th>\n      <th>route_schedule_uuid</th>\n      <th>route_type</th>\n      <th>trip_uuid</th>\n      <th>source_center</th>\n      <th>source_name</th>\n      <th>destination_center</th>\n      <th>destination_name</th>\n      <th>od_start_time</th>\n      <th>od_end_time</th>\n      <th>delivery_duration</th>\n      <th>actual_distance_to_destination</th>\n      <th>actual_time</th>\n      <th>osrm_time</th>\n      <th>osrm_distance</th>\n      <th>segment_actual_time</th>\n      <th>segment_osrm_distance</th>\n      <th>segment_osrm_time</th>\n    </tr>\n  </thead>\n  <tbody>\n    <tr>\n      <th>0</th>\n      <td>trip-153671041653548748 IND209304AAA IND000000ACB</td>\n      <td>training</td>\n      <td>2018-09-12 00:00:16.535741</td>\n      <td>thanos::sroute:d7c989ba-a29b-4a0b-b2f4-288cdc6...</td>\n      <td>FTL</td>\n      <td>trip-153671041653548748</td>\n      <td>IND209304AAA</td>\n      <td>Kanpur_Central_H_6 (Uttar Pradesh)</td>\n      <td>IND000000ACB</td>\n      <td>Gurgaon_Bilaspur_HB (Haryana)</td>\n      <td>2018-09-12 16:39:46.858469</td>\n      <td>2018-09-13 13:40:23.123744</td>\n      <td>1260.0</td>\n      <td>383.759164</td>\n      <td>732.0</td>\n      <td>329.0</td>\n      <td>446.5496</td>\n      <td>728.0</td>\n      <td>670.6205</td>\n      <td>534.0</td>\n    </tr>\n    <tr>\n      <th>1</th>\n      <td>trip-153671041653548748 IND462022AAA IND209304AAA</td>\n      <td>training</td>\n      <td>2018-09-12 00:00:16.535741</td>\n      <td>thanos::sroute:d7c989ba-a29b-4a0b-b2f4-288cdc6...</td>\n      <td>FTL</td>\n      <td>trip-153671041653548748</td>\n      <td>IND462022AAA</td>\n      <td>Bhopal_Trnsport_H (Madhya Pradesh)</td>\n      <td>IND209304AAA</td>\n      <td>Kanpur_Central_H_6 (Uttar Pradesh)</td>\n      <td>2018-09-12 00:00:16.535741</td>\n      <td>2018-09-12 16:39:46.858469</td>\n      <td>999.0</td>\n      <td>440.973689</td>\n      <td>830.0</td>\n      <td>388.0</td>\n      <td>544.8027</td>\n      <td>820.0</td>\n      <td>649.8528</td>\n      <td>474.0</td>\n    </tr>\n    <tr>\n      <th>2</th>\n      <td>trip-153671042288605164 IND561203AAB IND562101AAA</td>\n      <td>training</td>\n      <td>2018-09-12 00:00:22.886430</td>\n      <td>thanos::sroute:3a1b0ab2-bb0b-4c53-8c59-eb2a2c0...</td>\n      <td>Carting</td>\n      <td>trip-153671042288605164</td>\n      <td>IND561203AAB</td>\n      <td>Doddablpur_ChikaDPP_D (Karnataka)</td>\n      <td>IND562101AAA</td>\n      <td>Chikblapur_ShntiSgr_D (Karnataka)</td>\n      <td>2018-09-12 02:03:09.655591</td>\n      <td>2018-09-12 03:01:59.598855</td>\n      <td>58.0</td>\n      <td>24.644021</td>\n      <td>47.0</td>\n      <td>26.0</td>\n      <td>28.1994</td>\n      <td>46.0</td>\n      <td>28.1995</td>\n      <td>26.0</td>\n    </tr>\n    <tr>\n      <th>3</th>\n      <td>trip-153671042288605164 IND572101AAA IND561203AAB</td>\n      <td>training</td>\n      <td>2018-09-12 00:00:22.886430</td>\n      <td>thanos::sroute:3a1b0ab2-bb0b-4c53-8c59-eb2a2c0...</td>\n      <td>Carting</td>\n      <td>trip-153671042288605164</td>\n      <td>IND572101AAA</td>\n      <td>Tumkur_Veersagr_I (Karnataka)</td>\n      <td>IND561203AAB</td>\n      <td>Doddablpur_ChikaDPP_D (Karnataka)</td>\n      <td>2018-09-12 00:00:22.886430</td>\n      <td>2018-09-12 02:03:09.655591</td>\n      <td>122.0</td>\n      <td>48.542890</td>\n      <td>96.0</td>\n      <td>42.0</td>\n      <td>56.9116</td>\n      <td>95.0</td>\n      <td>55.9899</td>\n      <td>39.0</td>\n    </tr>\n    <tr>\n      <th>4</th>\n      <td>trip-153671043369099517 IND000000ACB IND160002AAC</td>\n      <td>training</td>\n      <td>2018-09-12 00:00:33.691250</td>\n      <td>thanos::sroute:de5e208e-7641-45e6-8100-4d9fb1e...</td>\n      <td>FTL</td>\n      <td>trip-153671043369099517</td>\n      <td>IND000000ACB</td>\n      <td>Gurgaon_Bilaspur_HB (Haryana)</td>\n      <td>IND160002AAC</td>\n      <td>Chandigarh_Mehmdpur_H (Punjab)</td>\n      <td>2018-09-14 03:40:17.106733</td>\n      <td>2018-09-14 17:34:55.442454</td>\n      <td>834.0</td>\n      <td>237.439610</td>\n      <td>611.0</td>\n      <td>212.0</td>\n      <td>281.2109</td>\n      <td>608.0</td>\n      <td>317.7408</td>\n      <td>231.0</td>\n    </tr>\n    <tr>\n      <th>...</th>\n      <td>...</td>\n      <td>...</td>\n      <td>...</td>\n      <td>...</td>\n      <td>...</td>\n      <td>...</td>\n      <td>...</td>\n      <td>...</td>\n      <td>...</td>\n      <td>...</td>\n      <td>...</td>\n      <td>...</td>\n      <td>...</td>\n      <td>...</td>\n      <td>...</td>\n      <td>...</td>\n      <td>...</td>\n      <td>...</td>\n      <td>...</td>\n      <td>...</td>\n    </tr>\n    <tr>\n      <th>26217</th>\n      <td>trip-153861115439069069 IND628204AAA IND627657AAA</td>\n      <td>test</td>\n      <td>2018-10-03 23:59:14.390954</td>\n      <td>thanos::sroute:c5f2ba2c-8486-4940-8af6-d1d2a6a...</td>\n      <td>Carting</td>\n      <td>trip-153861115439069069</td>\n      <td>IND628204AAA</td>\n      <td>Tirchchndr_Shnmgprm_D (Tamil Nadu)</td>\n      <td>IND627657AAA</td>\n      <td>Thisayanvilai_UdnkdiRD_D (Tamil Nadu)</td>\n      <td>2018-10-04 02:29:04.272194</td>\n      <td>2018-10-04 03:31:11.183797</td>\n      <td>62.0</td>\n      <td>33.627182</td>\n      <td>51.0</td>\n      <td>41.0</td>\n      <td>42.5213</td>\n      <td>49.0</td>\n      <td>42.1431</td>\n      <td>42.0</td>\n    </tr>\n    <tr>\n      <th>26218</th>\n      <td>trip-153861115439069069 IND628613AAA IND627005AAA</td>\n      <td>test</td>\n      <td>2018-10-03 23:59:14.390954</td>\n      <td>thanos::sroute:c5f2ba2c-8486-4940-8af6-d1d2a6a...</td>\n      <td>Carting</td>\n      <td>trip-153861115439069069</td>\n      <td>IND628613AAA</td>\n      <td>Peikulam_SriVnktpm_D (Tamil Nadu)</td>\n      <td>IND627005AAA</td>\n      <td>Tirunelveli_VdkkuSrt_I (Tamil Nadu)</td>\n      <td>2018-10-04 04:16:39.894872</td>\n      <td>2018-10-04 05:47:45.162682</td>\n      <td>91.0</td>\n      <td>33.673835</td>\n      <td>90.0</td>\n      <td>48.0</td>\n      <td>40.6080</td>\n      <td>89.0</td>\n      <td>78.5869</td>\n      <td>77.0</td>\n    </tr>\n    <tr>\n      <th>26219</th>\n      <td>trip-153861115439069069 IND628801AAA IND628204AAA</td>\n      <td>test</td>\n      <td>2018-10-03 23:59:14.390954</td>\n      <td>thanos::sroute:c5f2ba2c-8486-4940-8af6-d1d2a6a...</td>\n      <td>Carting</td>\n      <td>trip-153861115439069069</td>\n      <td>IND628801AAA</td>\n      <td>Eral_Busstand_D (Tamil Nadu)</td>\n      <td>IND628204AAA</td>\n      <td>Tirchchndr_Shnmgprm_D (Tamil Nadu)</td>\n      <td>2018-10-04 01:44:53.808000</td>\n      <td>2018-10-04 02:29:04.272194</td>\n      <td>44.0</td>\n      <td>12.661945</td>\n      <td>30.0</td>\n      <td>14.0</td>\n      <td>16.0185</td>\n      <td>29.0</td>\n      <td>16.0184</td>\n      <td>14.0</td>\n    </tr>\n    <tr>\n      <th>26220</th>\n      <td>trip-153861118270144424 IND583119AAA IND583101AAA</td>\n      <td>test</td>\n      <td>2018-10-03 23:59:42.701692</td>\n      <td>thanos::sroute:412fea14-6d1f-4222-8a5f-a517042...</td>\n      <td>FTL</td>\n      <td>trip-153861118270144424</td>\n      <td>IND583119AAA</td>\n      <td>Sandur_WrdN1DPP_D (Karnataka)</td>\n      <td>IND583101AAA</td>\n      <td>Bellary_Dc (Karnataka)</td>\n      <td>2018-10-04 03:58:40.726547</td>\n      <td>2018-10-04 08:46:09.166940</td>\n      <td>287.0</td>\n      <td>40.546740</td>\n      <td>233.0</td>\n      <td>42.0</td>\n      <td>52.5303</td>\n      <td>233.0</td>\n      <td>52.5303</td>\n      <td>42.0</td>\n    </tr>\n    <tr>\n      <th>26221</th>\n      <td>trip-153861118270144424 IND583201AAA IND583119AAA</td>\n      <td>test</td>\n      <td>2018-10-03 23:59:42.701692</td>\n      <td>thanos::sroute:412fea14-6d1f-4222-8a5f-a517042...</td>\n      <td>FTL</td>\n      <td>trip-153861118270144424</td>\n      <td>IND583201AAA</td>\n      <td>Hospet (Karnataka)</td>\n      <td>IND583119AAA</td>\n      <td>Sandur_WrdN1DPP_D (Karnataka)</td>\n      <td>2018-10-04 02:51:44.712656</td>\n      <td>2018-10-04 03:58:40.726547</td>\n      <td>66.0</td>\n      <td>25.534793</td>\n      <td>42.0</td>\n      <td>26.0</td>\n      <td>28.0484</td>\n      <td>41.0</td>\n      <td>28.0484</td>\n      <td>25.0</td>\n    </tr>\n  </tbody>\n</table>\n<p>26222 rows × 20 columns</p>\n</div>"
     },
     "execution_count": 29,
     "metadata": {},
     "output_type": "execute_result"
    }
   ],
   "source": [
    "df"
   ],
   "metadata": {
    "collapsed": false,
    "ExecuteTime": {
     "end_time": "2023-08-27T13:17:56.315145300Z",
     "start_time": "2023-08-27T13:17:56.263900900Z"
    }
   },
   "id": "5a632934c6381bf3"
  },
  {
   "cell_type": "code",
   "execution_count": 30,
   "outputs": [
    {
     "data": {
      "text/plain": "                                         unified_key      data  \\\n0  trip-153671041653548748 IND209304AAA IND000000ACB  training   \n1  trip-153671041653548748 IND462022AAA IND209304AAA  training   \n\n          trip_creation_time  \\\n0 2018-09-12 00:00:16.535741   \n1 2018-09-12 00:00:16.535741   \n\n                                 route_schedule_uuid route_type  \\\n0  thanos::sroute:d7c989ba-a29b-4a0b-b2f4-288cdc6...        FTL   \n1  thanos::sroute:d7c989ba-a29b-4a0b-b2f4-288cdc6...        FTL   \n\n                 trip_uuid source_center                         source_name  \\\n0  trip-153671041653548748  IND209304AAA  Kanpur_Central_H_6 (Uttar Pradesh)   \n1  trip-153671041653548748  IND462022AAA  Bhopal_Trnsport_H (Madhya Pradesh)   \n\n  destination_center                    destination_name  \\\n0       IND000000ACB       Gurgaon_Bilaspur_HB (Haryana)   \n1       IND209304AAA  Kanpur_Central_H_6 (Uttar Pradesh)   \n\n               od_start_time                od_end_time  delivery_duration  \\\n0 2018-09-12 16:39:46.858469 2018-09-13 13:40:23.123744             1260.0   \n1 2018-09-12 00:00:16.535741 2018-09-12 16:39:46.858469              999.0   \n\n   actual_distance_to_destination  actual_time  osrm_time  osrm_distance  \\\n0                      383.759164        732.0      329.0       446.5496   \n1                      440.973689        830.0      388.0       544.8027   \n\n   segment_actual_time  segment_osrm_distance  segment_osrm_time  \n0                728.0               670.6205              534.0  \n1                820.0               649.8528              474.0  ",
      "text/html": "<div>\n<style scoped>\n    .dataframe tbody tr th:only-of-type {\n        vertical-align: middle;\n    }\n\n    .dataframe tbody tr th {\n        vertical-align: top;\n    }\n\n    .dataframe thead th {\n        text-align: right;\n    }\n</style>\n<table border=\"1\" class=\"dataframe\">\n  <thead>\n    <tr style=\"text-align: right;\">\n      <th></th>\n      <th>unified_key</th>\n      <th>data</th>\n      <th>trip_creation_time</th>\n      <th>route_schedule_uuid</th>\n      <th>route_type</th>\n      <th>trip_uuid</th>\n      <th>source_center</th>\n      <th>source_name</th>\n      <th>destination_center</th>\n      <th>destination_name</th>\n      <th>od_start_time</th>\n      <th>od_end_time</th>\n      <th>delivery_duration</th>\n      <th>actual_distance_to_destination</th>\n      <th>actual_time</th>\n      <th>osrm_time</th>\n      <th>osrm_distance</th>\n      <th>segment_actual_time</th>\n      <th>segment_osrm_distance</th>\n      <th>segment_osrm_time</th>\n    </tr>\n  </thead>\n  <tbody>\n    <tr>\n      <th>0</th>\n      <td>trip-153671041653548748 IND209304AAA IND000000ACB</td>\n      <td>training</td>\n      <td>2018-09-12 00:00:16.535741</td>\n      <td>thanos::sroute:d7c989ba-a29b-4a0b-b2f4-288cdc6...</td>\n      <td>FTL</td>\n      <td>trip-153671041653548748</td>\n      <td>IND209304AAA</td>\n      <td>Kanpur_Central_H_6 (Uttar Pradesh)</td>\n      <td>IND000000ACB</td>\n      <td>Gurgaon_Bilaspur_HB (Haryana)</td>\n      <td>2018-09-12 16:39:46.858469</td>\n      <td>2018-09-13 13:40:23.123744</td>\n      <td>1260.0</td>\n      <td>383.759164</td>\n      <td>732.0</td>\n      <td>329.0</td>\n      <td>446.5496</td>\n      <td>728.0</td>\n      <td>670.6205</td>\n      <td>534.0</td>\n    </tr>\n    <tr>\n      <th>1</th>\n      <td>trip-153671041653548748 IND462022AAA IND209304AAA</td>\n      <td>training</td>\n      <td>2018-09-12 00:00:16.535741</td>\n      <td>thanos::sroute:d7c989ba-a29b-4a0b-b2f4-288cdc6...</td>\n      <td>FTL</td>\n      <td>trip-153671041653548748</td>\n      <td>IND462022AAA</td>\n      <td>Bhopal_Trnsport_H (Madhya Pradesh)</td>\n      <td>IND209304AAA</td>\n      <td>Kanpur_Central_H_6 (Uttar Pradesh)</td>\n      <td>2018-09-12 00:00:16.535741</td>\n      <td>2018-09-12 16:39:46.858469</td>\n      <td>999.0</td>\n      <td>440.973689</td>\n      <td>830.0</td>\n      <td>388.0</td>\n      <td>544.8027</td>\n      <td>820.0</td>\n      <td>649.8528</td>\n      <td>474.0</td>\n    </tr>\n  </tbody>\n</table>\n</div>"
     },
     "execution_count": 30,
     "metadata": {},
     "output_type": "execute_result"
    }
   ],
   "source": [
    "df[df['trip_uuid'] == 'trip-153671041653548748']"
   ],
   "metadata": {
    "collapsed": false,
    "ExecuteTime": {
     "end_time": "2023-08-27T13:17:57.868967900Z",
     "start_time": "2023-08-27T13:17:57.749423900Z"
    }
   },
   "id": "a3af065e05ad18a0"
  },
  {
   "cell_type": "code",
   "execution_count": 31,
   "outputs": [],
   "source": [
    "df['od_time_diff_hour'] = (df['od_end_time'] - df['od_start_time']).dt.total_seconds() / 60"
   ],
   "metadata": {
    "collapsed": false,
    "ExecuteTime": {
     "end_time": "2023-08-27T13:18:00.109381100Z",
     "start_time": "2023-08-27T13:17:59.390400800Z"
    }
   },
   "id": "d187c01d2df31c98"
  },
  {
   "cell_type": "markdown",
   "source": [
    "Now we Can do Another Aggregation at Trip Uid Level"
   ],
   "metadata": {
    "collapsed": false
   },
   "id": "1e1d4bc7d4b2ef41"
  },
  {
   "cell_type": "code",
   "execution_count": 32,
   "outputs": [
    {
     "data": {
      "text/plain": "                                             unified_key      data  \\\n0      trip-153671041653548748 IND209304AAA IND000000ACB  training   \n1      trip-153671041653548748 IND462022AAA IND209304AAA  training   \n2      trip-153671042288605164 IND561203AAB IND562101AAA  training   \n3      trip-153671042288605164 IND572101AAA IND561203AAB  training   \n4      trip-153671043369099517 IND000000ACB IND160002AAC  training   \n...                                                  ...       ...   \n26217  trip-153861115439069069 IND628204AAA IND627657AAA      test   \n26218  trip-153861115439069069 IND628613AAA IND627005AAA      test   \n26219  trip-153861115439069069 IND628801AAA IND628204AAA      test   \n26220  trip-153861118270144424 IND583119AAA IND583101AAA      test   \n26221  trip-153861118270144424 IND583201AAA IND583119AAA      test   \n\n              trip_creation_time  \\\n0     2018-09-12 00:00:16.535741   \n1     2018-09-12 00:00:16.535741   \n2     2018-09-12 00:00:22.886430   \n3     2018-09-12 00:00:22.886430   \n4     2018-09-12 00:00:33.691250   \n...                          ...   \n26217 2018-10-03 23:59:14.390954   \n26218 2018-10-03 23:59:14.390954   \n26219 2018-10-03 23:59:14.390954   \n26220 2018-10-03 23:59:42.701692   \n26221 2018-10-03 23:59:42.701692   \n\n                                     route_schedule_uuid route_type  \\\n0      thanos::sroute:d7c989ba-a29b-4a0b-b2f4-288cdc6...        FTL   \n1      thanos::sroute:d7c989ba-a29b-4a0b-b2f4-288cdc6...        FTL   \n2      thanos::sroute:3a1b0ab2-bb0b-4c53-8c59-eb2a2c0...    Carting   \n3      thanos::sroute:3a1b0ab2-bb0b-4c53-8c59-eb2a2c0...    Carting   \n4      thanos::sroute:de5e208e-7641-45e6-8100-4d9fb1e...        FTL   \n...                                                  ...        ...   \n26217  thanos::sroute:c5f2ba2c-8486-4940-8af6-d1d2a6a...    Carting   \n26218  thanos::sroute:c5f2ba2c-8486-4940-8af6-d1d2a6a...    Carting   \n26219  thanos::sroute:c5f2ba2c-8486-4940-8af6-d1d2a6a...    Carting   \n26220  thanos::sroute:412fea14-6d1f-4222-8a5f-a517042...        FTL   \n26221  thanos::sroute:412fea14-6d1f-4222-8a5f-a517042...        FTL   \n\n                     trip_uuid source_center  \\\n0      trip-153671041653548748  IND209304AAA   \n1      trip-153671041653548748  IND462022AAA   \n2      trip-153671042288605164  IND561203AAB   \n3      trip-153671042288605164  IND572101AAA   \n4      trip-153671043369099517  IND000000ACB   \n...                        ...           ...   \n26217  trip-153861115439069069  IND628204AAA   \n26218  trip-153861115439069069  IND628613AAA   \n26219  trip-153861115439069069  IND628801AAA   \n26220  trip-153861118270144424  IND583119AAA   \n26221  trip-153861118270144424  IND583201AAA   \n\n                              source_name destination_center  \\\n0      Kanpur_Central_H_6 (Uttar Pradesh)       IND000000ACB   \n1      Bhopal_Trnsport_H (Madhya Pradesh)       IND209304AAA   \n2       Doddablpur_ChikaDPP_D (Karnataka)       IND562101AAA   \n3           Tumkur_Veersagr_I (Karnataka)       IND561203AAB   \n4           Gurgaon_Bilaspur_HB (Haryana)       IND160002AAC   \n...                                   ...                ...   \n26217  Tirchchndr_Shnmgprm_D (Tamil Nadu)       IND627657AAA   \n26218   Peikulam_SriVnktpm_D (Tamil Nadu)       IND627005AAA   \n26219        Eral_Busstand_D (Tamil Nadu)       IND628204AAA   \n26220       Sandur_WrdN1DPP_D (Karnataka)       IND583101AAA   \n26221                  Hospet (Karnataka)       IND583119AAA   \n\n                            destination_name  ...                od_end_time  \\\n0              Gurgaon_Bilaspur_HB (Haryana)  ... 2018-09-13 13:40:23.123744   \n1         Kanpur_Central_H_6 (Uttar Pradesh)  ... 2018-09-12 16:39:46.858469   \n2          Chikblapur_ShntiSgr_D (Karnataka)  ... 2018-09-12 03:01:59.598855   \n3          Doddablpur_ChikaDPP_D (Karnataka)  ... 2018-09-12 02:03:09.655591   \n4             Chandigarh_Mehmdpur_H (Punjab)  ... 2018-09-14 17:34:55.442454   \n...                                      ...  ...                        ...   \n26217  Thisayanvilai_UdnkdiRD_D (Tamil Nadu)  ... 2018-10-04 03:31:11.183797   \n26218    Tirunelveli_VdkkuSrt_I (Tamil Nadu)  ... 2018-10-04 05:47:45.162682   \n26219     Tirchchndr_Shnmgprm_D (Tamil Nadu)  ... 2018-10-04 02:29:04.272194   \n26220                 Bellary_Dc (Karnataka)  ... 2018-10-04 08:46:09.166940   \n26221          Sandur_WrdN1DPP_D (Karnataka)  ... 2018-10-04 03:58:40.726547   \n\n      delivery_duration  actual_distance_to_destination  actual_time  \\\n0                1260.0                      383.759164        732.0   \n1                 999.0                      440.973689        830.0   \n2                  58.0                       24.644021         47.0   \n3                 122.0                       48.542890         96.0   \n4                 834.0                      237.439610        611.0   \n...                 ...                             ...          ...   \n26217              62.0                       33.627182         51.0   \n26218              91.0                       33.673835         90.0   \n26219              44.0                       12.661945         30.0   \n26220             287.0                       40.546740        233.0   \n26221              66.0                       25.534793         42.0   \n\n       osrm_time  osrm_distance  segment_actual_time  segment_osrm_distance  \\\n0          329.0       446.5496                728.0               670.6205   \n1          388.0       544.8027                820.0               649.8528   \n2           26.0        28.1994                 46.0                28.1995   \n3           42.0        56.9116                 95.0                55.9899   \n4          212.0       281.2109                608.0               317.7408   \n...          ...            ...                  ...                    ...   \n26217       41.0        42.5213                 49.0                42.1431   \n26218       48.0        40.6080                 89.0                78.5869   \n26219       14.0        16.0185                 29.0                16.0184   \n26220       42.0        52.5303                233.0                52.5303   \n26221       26.0        28.0484                 41.0                28.0484   \n\n       segment_osrm_time  od_time_diff_hour  \n0                  534.0        1260.604421  \n1                  474.0         999.505379  \n2                   26.0          58.832388  \n3                   39.0         122.779486  \n4                  231.0         834.638929  \n...                  ...                ...  \n26217               42.0          62.115193  \n26218               77.0          91.087797  \n26219               14.0          44.174403  \n26220               42.0         287.474007  \n26221               25.0          66.933565  \n\n[26222 rows x 21 columns]",
      "text/html": "<div>\n<style scoped>\n    .dataframe tbody tr th:only-of-type {\n        vertical-align: middle;\n    }\n\n    .dataframe tbody tr th {\n        vertical-align: top;\n    }\n\n    .dataframe thead th {\n        text-align: right;\n    }\n</style>\n<table border=\"1\" class=\"dataframe\">\n  <thead>\n    <tr style=\"text-align: right;\">\n      <th></th>\n      <th>unified_key</th>\n      <th>data</th>\n      <th>trip_creation_time</th>\n      <th>route_schedule_uuid</th>\n      <th>route_type</th>\n      <th>trip_uuid</th>\n      <th>source_center</th>\n      <th>source_name</th>\n      <th>destination_center</th>\n      <th>destination_name</th>\n      <th>...</th>\n      <th>od_end_time</th>\n      <th>delivery_duration</th>\n      <th>actual_distance_to_destination</th>\n      <th>actual_time</th>\n      <th>osrm_time</th>\n      <th>osrm_distance</th>\n      <th>segment_actual_time</th>\n      <th>segment_osrm_distance</th>\n      <th>segment_osrm_time</th>\n      <th>od_time_diff_hour</th>\n    </tr>\n  </thead>\n  <tbody>\n    <tr>\n      <th>0</th>\n      <td>trip-153671041653548748 IND209304AAA IND000000ACB</td>\n      <td>training</td>\n      <td>2018-09-12 00:00:16.535741</td>\n      <td>thanos::sroute:d7c989ba-a29b-4a0b-b2f4-288cdc6...</td>\n      <td>FTL</td>\n      <td>trip-153671041653548748</td>\n      <td>IND209304AAA</td>\n      <td>Kanpur_Central_H_6 (Uttar Pradesh)</td>\n      <td>IND000000ACB</td>\n      <td>Gurgaon_Bilaspur_HB (Haryana)</td>\n      <td>...</td>\n      <td>2018-09-13 13:40:23.123744</td>\n      <td>1260.0</td>\n      <td>383.759164</td>\n      <td>732.0</td>\n      <td>329.0</td>\n      <td>446.5496</td>\n      <td>728.0</td>\n      <td>670.6205</td>\n      <td>534.0</td>\n      <td>1260.604421</td>\n    </tr>\n    <tr>\n      <th>1</th>\n      <td>trip-153671041653548748 IND462022AAA IND209304AAA</td>\n      <td>training</td>\n      <td>2018-09-12 00:00:16.535741</td>\n      <td>thanos::sroute:d7c989ba-a29b-4a0b-b2f4-288cdc6...</td>\n      <td>FTL</td>\n      <td>trip-153671041653548748</td>\n      <td>IND462022AAA</td>\n      <td>Bhopal_Trnsport_H (Madhya Pradesh)</td>\n      <td>IND209304AAA</td>\n      <td>Kanpur_Central_H_6 (Uttar Pradesh)</td>\n      <td>...</td>\n      <td>2018-09-12 16:39:46.858469</td>\n      <td>999.0</td>\n      <td>440.973689</td>\n      <td>830.0</td>\n      <td>388.0</td>\n      <td>544.8027</td>\n      <td>820.0</td>\n      <td>649.8528</td>\n      <td>474.0</td>\n      <td>999.505379</td>\n    </tr>\n    <tr>\n      <th>2</th>\n      <td>trip-153671042288605164 IND561203AAB IND562101AAA</td>\n      <td>training</td>\n      <td>2018-09-12 00:00:22.886430</td>\n      <td>thanos::sroute:3a1b0ab2-bb0b-4c53-8c59-eb2a2c0...</td>\n      <td>Carting</td>\n      <td>trip-153671042288605164</td>\n      <td>IND561203AAB</td>\n      <td>Doddablpur_ChikaDPP_D (Karnataka)</td>\n      <td>IND562101AAA</td>\n      <td>Chikblapur_ShntiSgr_D (Karnataka)</td>\n      <td>...</td>\n      <td>2018-09-12 03:01:59.598855</td>\n      <td>58.0</td>\n      <td>24.644021</td>\n      <td>47.0</td>\n      <td>26.0</td>\n      <td>28.1994</td>\n      <td>46.0</td>\n      <td>28.1995</td>\n      <td>26.0</td>\n      <td>58.832388</td>\n    </tr>\n    <tr>\n      <th>3</th>\n      <td>trip-153671042288605164 IND572101AAA IND561203AAB</td>\n      <td>training</td>\n      <td>2018-09-12 00:00:22.886430</td>\n      <td>thanos::sroute:3a1b0ab2-bb0b-4c53-8c59-eb2a2c0...</td>\n      <td>Carting</td>\n      <td>trip-153671042288605164</td>\n      <td>IND572101AAA</td>\n      <td>Tumkur_Veersagr_I (Karnataka)</td>\n      <td>IND561203AAB</td>\n      <td>Doddablpur_ChikaDPP_D (Karnataka)</td>\n      <td>...</td>\n      <td>2018-09-12 02:03:09.655591</td>\n      <td>122.0</td>\n      <td>48.542890</td>\n      <td>96.0</td>\n      <td>42.0</td>\n      <td>56.9116</td>\n      <td>95.0</td>\n      <td>55.9899</td>\n      <td>39.0</td>\n      <td>122.779486</td>\n    </tr>\n    <tr>\n      <th>4</th>\n      <td>trip-153671043369099517 IND000000ACB IND160002AAC</td>\n      <td>training</td>\n      <td>2018-09-12 00:00:33.691250</td>\n      <td>thanos::sroute:de5e208e-7641-45e6-8100-4d9fb1e...</td>\n      <td>FTL</td>\n      <td>trip-153671043369099517</td>\n      <td>IND000000ACB</td>\n      <td>Gurgaon_Bilaspur_HB (Haryana)</td>\n      <td>IND160002AAC</td>\n      <td>Chandigarh_Mehmdpur_H (Punjab)</td>\n      <td>...</td>\n      <td>2018-09-14 17:34:55.442454</td>\n      <td>834.0</td>\n      <td>237.439610</td>\n      <td>611.0</td>\n      <td>212.0</td>\n      <td>281.2109</td>\n      <td>608.0</td>\n      <td>317.7408</td>\n      <td>231.0</td>\n      <td>834.638929</td>\n    </tr>\n    <tr>\n      <th>...</th>\n      <td>...</td>\n      <td>...</td>\n      <td>...</td>\n      <td>...</td>\n      <td>...</td>\n      <td>...</td>\n      <td>...</td>\n      <td>...</td>\n      <td>...</td>\n      <td>...</td>\n      <td>...</td>\n      <td>...</td>\n      <td>...</td>\n      <td>...</td>\n      <td>...</td>\n      <td>...</td>\n      <td>...</td>\n      <td>...</td>\n      <td>...</td>\n      <td>...</td>\n      <td>...</td>\n    </tr>\n    <tr>\n      <th>26217</th>\n      <td>trip-153861115439069069 IND628204AAA IND627657AAA</td>\n      <td>test</td>\n      <td>2018-10-03 23:59:14.390954</td>\n      <td>thanos::sroute:c5f2ba2c-8486-4940-8af6-d1d2a6a...</td>\n      <td>Carting</td>\n      <td>trip-153861115439069069</td>\n      <td>IND628204AAA</td>\n      <td>Tirchchndr_Shnmgprm_D (Tamil Nadu)</td>\n      <td>IND627657AAA</td>\n      <td>Thisayanvilai_UdnkdiRD_D (Tamil Nadu)</td>\n      <td>...</td>\n      <td>2018-10-04 03:31:11.183797</td>\n      <td>62.0</td>\n      <td>33.627182</td>\n      <td>51.0</td>\n      <td>41.0</td>\n      <td>42.5213</td>\n      <td>49.0</td>\n      <td>42.1431</td>\n      <td>42.0</td>\n      <td>62.115193</td>\n    </tr>\n    <tr>\n      <th>26218</th>\n      <td>trip-153861115439069069 IND628613AAA IND627005AAA</td>\n      <td>test</td>\n      <td>2018-10-03 23:59:14.390954</td>\n      <td>thanos::sroute:c5f2ba2c-8486-4940-8af6-d1d2a6a...</td>\n      <td>Carting</td>\n      <td>trip-153861115439069069</td>\n      <td>IND628613AAA</td>\n      <td>Peikulam_SriVnktpm_D (Tamil Nadu)</td>\n      <td>IND627005AAA</td>\n      <td>Tirunelveli_VdkkuSrt_I (Tamil Nadu)</td>\n      <td>...</td>\n      <td>2018-10-04 05:47:45.162682</td>\n      <td>91.0</td>\n      <td>33.673835</td>\n      <td>90.0</td>\n      <td>48.0</td>\n      <td>40.6080</td>\n      <td>89.0</td>\n      <td>78.5869</td>\n      <td>77.0</td>\n      <td>91.087797</td>\n    </tr>\n    <tr>\n      <th>26219</th>\n      <td>trip-153861115439069069 IND628801AAA IND628204AAA</td>\n      <td>test</td>\n      <td>2018-10-03 23:59:14.390954</td>\n      <td>thanos::sroute:c5f2ba2c-8486-4940-8af6-d1d2a6a...</td>\n      <td>Carting</td>\n      <td>trip-153861115439069069</td>\n      <td>IND628801AAA</td>\n      <td>Eral_Busstand_D (Tamil Nadu)</td>\n      <td>IND628204AAA</td>\n      <td>Tirchchndr_Shnmgprm_D (Tamil Nadu)</td>\n      <td>...</td>\n      <td>2018-10-04 02:29:04.272194</td>\n      <td>44.0</td>\n      <td>12.661945</td>\n      <td>30.0</td>\n      <td>14.0</td>\n      <td>16.0185</td>\n      <td>29.0</td>\n      <td>16.0184</td>\n      <td>14.0</td>\n      <td>44.174403</td>\n    </tr>\n    <tr>\n      <th>26220</th>\n      <td>trip-153861118270144424 IND583119AAA IND583101AAA</td>\n      <td>test</td>\n      <td>2018-10-03 23:59:42.701692</td>\n      <td>thanos::sroute:412fea14-6d1f-4222-8a5f-a517042...</td>\n      <td>FTL</td>\n      <td>trip-153861118270144424</td>\n      <td>IND583119AAA</td>\n      <td>Sandur_WrdN1DPP_D (Karnataka)</td>\n      <td>IND583101AAA</td>\n      <td>Bellary_Dc (Karnataka)</td>\n      <td>...</td>\n      <td>2018-10-04 08:46:09.166940</td>\n      <td>287.0</td>\n      <td>40.546740</td>\n      <td>233.0</td>\n      <td>42.0</td>\n      <td>52.5303</td>\n      <td>233.0</td>\n      <td>52.5303</td>\n      <td>42.0</td>\n      <td>287.474007</td>\n    </tr>\n    <tr>\n      <th>26221</th>\n      <td>trip-153861118270144424 IND583201AAA IND583119AAA</td>\n      <td>test</td>\n      <td>2018-10-03 23:59:42.701692</td>\n      <td>thanos::sroute:412fea14-6d1f-4222-8a5f-a517042...</td>\n      <td>FTL</td>\n      <td>trip-153861118270144424</td>\n      <td>IND583201AAA</td>\n      <td>Hospet (Karnataka)</td>\n      <td>IND583119AAA</td>\n      <td>Sandur_WrdN1DPP_D (Karnataka)</td>\n      <td>...</td>\n      <td>2018-10-04 03:58:40.726547</td>\n      <td>66.0</td>\n      <td>25.534793</td>\n      <td>42.0</td>\n      <td>26.0</td>\n      <td>28.0484</td>\n      <td>41.0</td>\n      <td>28.0484</td>\n      <td>25.0</td>\n      <td>66.933565</td>\n    </tr>\n  </tbody>\n</table>\n<p>26222 rows × 21 columns</p>\n</div>"
     },
     "execution_count": 32,
     "metadata": {},
     "output_type": "execute_result"
    }
   ],
   "source": [
    "df"
   ],
   "metadata": {
    "collapsed": false,
    "ExecuteTime": {
     "end_time": "2023-08-27T13:18:11.487527300Z",
     "start_time": "2023-08-27T13:18:11.283853600Z"
    }
   },
   "id": "b905113f403ef436"
  },
  {
   "cell_type": "code",
   "execution_count": 33,
   "outputs": [],
   "source": [
    "trip_agg = {\n",
    "\n",
    "    'data' : 'first',\n",
    "    'trip_creation_time': 'first',\n",
    "    'route_schedule_uuid' : 'first',\n",
    "    'route_type' : 'first',\n",
    "    'trip_uuid' : 'first',\n",
    "    \n",
    "    'source_center' : 'first',\n",
    "    'source_name' : 'first',\n",
    "\n",
    "    'destination_center' : 'last',\n",
    "    'destination_name' : 'last',\n",
    "    \n",
    "    'od_time_diff_hour' : 'sum',\n",
    "    'delivery_duration' : 'sum',\n",
    "    \n",
    "    'actual_distance_to_destination' : 'sum',\n",
    "    \n",
    "    'actual_time' : 'sum',\n",
    "    'segment_actual_time' : 'sum',\n",
    "    \n",
    "    'osrm_time' : 'sum',\n",
    "    'segment_osrm_time' : 'sum',\n",
    "    \n",
    "    'osrm_distance' : 'sum',\n",
    "    'segment_osrm_distance' : 'sum',\n",
    "\n",
    "}"
   ],
   "metadata": {
    "collapsed": false,
    "ExecuteTime": {
     "end_time": "2023-08-27T13:21:23.241418700Z",
     "start_time": "2023-08-27T13:21:23.098361800Z"
    }
   },
   "id": "fd15153cad353a77"
  },
  {
   "cell_type": "code",
   "execution_count": 34,
   "outputs": [],
   "source": [
    "df = df.groupby('trip_uuid').agg(trip_agg).reset_index(drop = True)"
   ],
   "metadata": {
    "collapsed": false,
    "ExecuteTime": {
     "end_time": "2023-08-27T13:21:26.402576300Z",
     "start_time": "2023-08-27T13:21:26.348958500Z"
    }
   },
   "id": "66ea29b38ebca745"
  },
  {
   "cell_type": "markdown",
   "source": [
    "### Feature Engineer\n",
    "- Feature Engineered `od_time_diff_hour` by calculating difference b/w `od_end_time` and `od_start_time` and it is similar to `delivery duration`\n",
    "- Creating new Date Time Columns from `trip_creating_feature`\n",
    "- Fetching Names of Cities, States, Places from `destination_name` and `source_name`"
   ],
   "metadata": {
    "collapsed": false
   },
   "id": "5409343c160526e0"
  },
  {
   "cell_type": "code",
   "execution_count": 35,
   "outputs": [
    {
     "data": {
      "text/plain": "       trip_year  trip_month  trip_hour  trip_day  trip_week  trip_dayofweek\n0           2018           9          0        12         37               2\n1           2018           9          0        12         37               2\n2           2018           9          0        12         37               2\n3           2018           9          0        12         37               2\n4           2018           9          0        12         37               2\n...          ...         ...        ...       ...        ...             ...\n14782       2018          10         23         3         40               2\n14783       2018          10         23         3         40               2\n14784       2018          10         23         3         40               2\n14785       2018          10         23         3         40               2\n14786       2018          10         23         3         40               2\n\n[14787 rows x 6 columns]",
      "text/html": "<div>\n<style scoped>\n    .dataframe tbody tr th:only-of-type {\n        vertical-align: middle;\n    }\n\n    .dataframe tbody tr th {\n        vertical-align: top;\n    }\n\n    .dataframe thead th {\n        text-align: right;\n    }\n</style>\n<table border=\"1\" class=\"dataframe\">\n  <thead>\n    <tr style=\"text-align: right;\">\n      <th></th>\n      <th>trip_year</th>\n      <th>trip_month</th>\n      <th>trip_hour</th>\n      <th>trip_day</th>\n      <th>trip_week</th>\n      <th>trip_dayofweek</th>\n    </tr>\n  </thead>\n  <tbody>\n    <tr>\n      <th>0</th>\n      <td>2018</td>\n      <td>9</td>\n      <td>0</td>\n      <td>12</td>\n      <td>37</td>\n      <td>2</td>\n    </tr>\n    <tr>\n      <th>1</th>\n      <td>2018</td>\n      <td>9</td>\n      <td>0</td>\n      <td>12</td>\n      <td>37</td>\n      <td>2</td>\n    </tr>\n    <tr>\n      <th>2</th>\n      <td>2018</td>\n      <td>9</td>\n      <td>0</td>\n      <td>12</td>\n      <td>37</td>\n      <td>2</td>\n    </tr>\n    <tr>\n      <th>3</th>\n      <td>2018</td>\n      <td>9</td>\n      <td>0</td>\n      <td>12</td>\n      <td>37</td>\n      <td>2</td>\n    </tr>\n    <tr>\n      <th>4</th>\n      <td>2018</td>\n      <td>9</td>\n      <td>0</td>\n      <td>12</td>\n      <td>37</td>\n      <td>2</td>\n    </tr>\n    <tr>\n      <th>...</th>\n      <td>...</td>\n      <td>...</td>\n      <td>...</td>\n      <td>...</td>\n      <td>...</td>\n      <td>...</td>\n    </tr>\n    <tr>\n      <th>14782</th>\n      <td>2018</td>\n      <td>10</td>\n      <td>23</td>\n      <td>3</td>\n      <td>40</td>\n      <td>2</td>\n    </tr>\n    <tr>\n      <th>14783</th>\n      <td>2018</td>\n      <td>10</td>\n      <td>23</td>\n      <td>3</td>\n      <td>40</td>\n      <td>2</td>\n    </tr>\n    <tr>\n      <th>14784</th>\n      <td>2018</td>\n      <td>10</td>\n      <td>23</td>\n      <td>3</td>\n      <td>40</td>\n      <td>2</td>\n    </tr>\n    <tr>\n      <th>14785</th>\n      <td>2018</td>\n      <td>10</td>\n      <td>23</td>\n      <td>3</td>\n      <td>40</td>\n      <td>2</td>\n    </tr>\n    <tr>\n      <th>14786</th>\n      <td>2018</td>\n      <td>10</td>\n      <td>23</td>\n      <td>3</td>\n      <td>40</td>\n      <td>2</td>\n    </tr>\n  </tbody>\n</table>\n<p>14787 rows × 6 columns</p>\n</div>"
     },
     "execution_count": 35,
     "metadata": {},
     "output_type": "execute_result"
    }
   ],
   "source": [
    "df['trip_year'] = df['trip_creation_time'].dt.year\n",
    "df['trip_month'] = df['trip_creation_time'].dt.month\n",
    "df['trip_hour'] = df['trip_creation_time'].dt.hour\n",
    "df['trip_day'] = df['trip_creation_time'].dt.day\n",
    "df['trip_week'] = df['trip_creation_time'].dt.isocalendar().week\n",
    "df['trip_dayofweek'] = df['trip_creation_time'].dt.dayofweek\n",
    "df[['trip_year', 'trip_month', 'trip_hour', 'trip_day', 'trip_week', 'trip_dayofweek']]"
   ],
   "metadata": {
    "collapsed": false,
    "ExecuteTime": {
     "end_time": "2023-08-27T13:21:27.836779100Z",
     "start_time": "2023-08-27T13:21:27.802334700Z"
    }
   },
   "id": "42b86723ec49045f"
  },
  {
   "cell_type": "code",
   "execution_count": 36,
   "outputs": [],
   "source": [
    "def state_name(x) :\n",
    "    return x.split('(')[1].replace(\")\",\"\")\n",
    "def city_name(x) :\n",
    "    return x.split(\"(\")[0].split(\"_\")[0]\n",
    "def place_name(x) :\n",
    "    x = x.split('(')[0]\n",
    "    len_ = len(x.split('_'))\n",
    "    if len_ >=3 :\n",
    "        return x.split(\"_\")[1]\n",
    "    if len_ == 2 :\n",
    "        return x.split('_')[0]\n",
    "    return x.split(' ')[0]"
   ],
   "metadata": {
    "collapsed": false,
    "ExecuteTime": {
     "end_time": "2023-08-27T13:21:30.170768600Z",
     "start_time": "2023-08-27T13:21:30.159282Z"
    }
   },
   "id": "ad2727d0f1ef437a"
  },
  {
   "cell_type": "code",
   "execution_count": 37,
   "outputs": [],
   "source": [
    "df['source_state'] = df['source_name'].apply(lambda x: state_name(x))\n",
    "df['destination_state'] = df['destination_name'].apply(lambda x: state_name(x))\n",
    "df['source_city']= df['source_name'].apply(lambda x: city_name(x))\n",
    "df['destination_city']= df['destination_name'].apply(lambda x: city_name(x))\n",
    "df['source_place'] = df['source_name'].apply(lambda x: place_name(x))\n",
    "df['destination_place'] = df['destination_name'].apply(lambda x: place_name(x))"
   ],
   "metadata": {
    "collapsed": false,
    "ExecuteTime": {
     "end_time": "2023-08-27T13:21:31.587376400Z",
     "start_time": "2023-08-27T13:21:31.509667500Z"
    }
   },
   "id": "5cec0583976e50c7"
  },
  {
   "cell_type": "markdown",
   "source": [
    "# Exploratory Data Analysis\n",
    "- This Dataset is for the year 2018 from the Month of September to October \n",
    "- Average and Median Duration for a trip is approximately  530 hrs, 239hrs"
   ],
   "metadata": {
    "collapsed": false
   },
   "id": "1dd0650c4a948345"
  },
  {
   "cell_type": "code",
   "execution_count": 38,
   "outputs": [
    {
     "data": {
      "text/plain": "           data         trip_creation_time  \\\n0      training 2018-09-12 00:00:16.535741   \n1      training 2018-09-12 00:00:22.886430   \n2      training 2018-09-12 00:00:33.691250   \n3      training 2018-09-12 00:01:00.113710   \n4      training 2018-09-12 00:02:09.740725   \n...         ...                        ...   \n14782      test 2018-10-03 23:55:56.258533   \n14783      test 2018-10-03 23:57:23.863155   \n14784      test 2018-10-03 23:57:44.429324   \n14785      test 2018-10-03 23:59:14.390954   \n14786      test 2018-10-03 23:59:42.701692   \n\n                                     route_schedule_uuid route_type  \\\n0      thanos::sroute:d7c989ba-a29b-4a0b-b2f4-288cdc6...        FTL   \n1      thanos::sroute:3a1b0ab2-bb0b-4c53-8c59-eb2a2c0...    Carting   \n2      thanos::sroute:de5e208e-7641-45e6-8100-4d9fb1e...        FTL   \n3      thanos::sroute:f0176492-a679-4597-8332-bbd1c7f...    Carting   \n4      thanos::sroute:d9f07b12-65e0-4f3b-bec8-df06134...        FTL   \n...                                                  ...        ...   \n14782  thanos::sroute:8a120994-f577-4491-9e4b-b7e4a14...    Carting   \n14783  thanos::sroute:b30e1ec3-3bfa-4bd2-a7fb-3b75769...    Carting   \n14784  thanos::sroute:5609c268-e436-4e0a-8180-3db4a74...    Carting   \n14785  thanos::sroute:c5f2ba2c-8486-4940-8af6-d1d2a6a...    Carting   \n14786  thanos::sroute:412fea14-6d1f-4222-8a5f-a517042...        FTL   \n\n                     trip_uuid source_center  \\\n0      trip-153671041653548748  IND209304AAA   \n1      trip-153671042288605164  IND561203AAB   \n2      trip-153671043369099517  IND000000ACB   \n3      trip-153671046011330457  IND400072AAB   \n4      trip-153671052974046625  IND583101AAA   \n...                        ...           ...   \n14782  trip-153861095625827784  IND160002AAC   \n14783  trip-153861104386292051  IND121004AAB   \n14784  trip-153861106442901555  IND208006AAA   \n14785  trip-153861115439069069  IND627005AAA   \n14786  trip-153861118270144424  IND583119AAA   \n\n                               source_name destination_center  \\\n0       Kanpur_Central_H_6 (Uttar Pradesh)       IND209304AAA   \n1        Doddablpur_ChikaDPP_D (Karnataka)       IND561203AAB   \n2            Gurgaon_Bilaspur_HB (Haryana)       IND000000ACB   \n3                 Mumbai Hub (Maharashtra)       IND401104AAA   \n4                   Bellary_Dc (Karnataka)       IND583119AAA   \n...                                    ...                ...   \n14782       Chandigarh_Mehmdpur_H (Punjab)       IND160002AAC   \n14783         FBD_Balabhgarh_DPC (Haryana)       IND121004AAA   \n14784   Kanpur_GovndNgr_DC (Uttar Pradesh)       IND208006AAA   \n14785  Tirunelveli_VdkkuSrt_I (Tamil Nadu)       IND628204AAA   \n14786        Sandur_WrdN1DPP_D (Karnataka)       IND583119AAA   \n\n                         destination_name  od_time_diff_hour  ...  trip_hour  \\\n0      Kanpur_Central_H_6 (Uttar Pradesh)        2260.109800  ...          0   \n1       Doddablpur_ChikaDPP_D (Karnataka)         181.611874  ...          0   \n2           Gurgaon_Bilaspur_HB (Haryana)        3934.362520  ...          0   \n3          Mumbai_MiraRd_IP (Maharashtra)         100.494935  ...          0   \n4           Sandur_WrdN1DPP_D (Karnataka)         718.349042  ...          0   \n...                                   ...                ...  ...        ...   \n14782      Chandigarh_Mehmdpur_H (Punjab)         258.028928  ...         23   \n14783      Faridabad_Blbgarh_DC (Haryana)          60.590521  ...         23   \n14784  Kanpur_GovndNgr_DC (Uttar Pradesh)         422.119867  ...         23   \n14785  Tirchchndr_Shnmgprm_D (Tamil Nadu)         348.512862  ...         23   \n14786       Sandur_WrdN1DPP_D (Karnataka)         354.407571  ...         23   \n\n       trip_day  trip_week  trip_dayofweek   source_state  destination_state  \\\n0            12         37               2  Uttar Pradesh      Uttar Pradesh   \n1            12         37               2      Karnataka          Karnataka   \n2            12         37               2        Haryana            Haryana   \n3            12         37               2    Maharashtra        Maharashtra   \n4            12         37               2      Karnataka          Karnataka   \n...         ...        ...             ...            ...                ...   \n14782         3         40               2         Punjab             Punjab   \n14783         3         40               2        Haryana            Haryana   \n14784         3         40               2  Uttar Pradesh      Uttar Pradesh   \n14785         3         40               2     Tamil Nadu         Tamil Nadu   \n14786         3         40               2      Karnataka          Karnataka   \n\n       source_city  destination_city  source_place  destination_place  \n0           Kanpur            Kanpur       Central            Central  \n1       Doddablpur        Doddablpur      ChikaDPP           ChikaDPP  \n2          Gurgaon           Gurgaon      Bilaspur           Bilaspur  \n3      Mumbai Hub             Mumbai        Mumbai             MiraRd  \n4          Bellary            Sandur       Bellary           WrdN1DPP  \n...            ...               ...           ...                ...  \n14782   Chandigarh        Chandigarh      Mehmdpur           Mehmdpur  \n14783          FBD         Faridabad    Balabhgarh            Blbgarh  \n14784       Kanpur            Kanpur      GovndNgr           GovndNgr  \n14785  Tirunelveli        Tirchchndr      VdkkuSrt           Shnmgprm  \n14786       Sandur            Sandur      WrdN1DPP           WrdN1DPP  \n\n[14787 rows x 30 columns]",
      "text/html": "<div>\n<style scoped>\n    .dataframe tbody tr th:only-of-type {\n        vertical-align: middle;\n    }\n\n    .dataframe tbody tr th {\n        vertical-align: top;\n    }\n\n    .dataframe thead th {\n        text-align: right;\n    }\n</style>\n<table border=\"1\" class=\"dataframe\">\n  <thead>\n    <tr style=\"text-align: right;\">\n      <th></th>\n      <th>data</th>\n      <th>trip_creation_time</th>\n      <th>route_schedule_uuid</th>\n      <th>route_type</th>\n      <th>trip_uuid</th>\n      <th>source_center</th>\n      <th>source_name</th>\n      <th>destination_center</th>\n      <th>destination_name</th>\n      <th>od_time_diff_hour</th>\n      <th>...</th>\n      <th>trip_hour</th>\n      <th>trip_day</th>\n      <th>trip_week</th>\n      <th>trip_dayofweek</th>\n      <th>source_state</th>\n      <th>destination_state</th>\n      <th>source_city</th>\n      <th>destination_city</th>\n      <th>source_place</th>\n      <th>destination_place</th>\n    </tr>\n  </thead>\n  <tbody>\n    <tr>\n      <th>0</th>\n      <td>training</td>\n      <td>2018-09-12 00:00:16.535741</td>\n      <td>thanos::sroute:d7c989ba-a29b-4a0b-b2f4-288cdc6...</td>\n      <td>FTL</td>\n      <td>trip-153671041653548748</td>\n      <td>IND209304AAA</td>\n      <td>Kanpur_Central_H_6 (Uttar Pradesh)</td>\n      <td>IND209304AAA</td>\n      <td>Kanpur_Central_H_6 (Uttar Pradesh)</td>\n      <td>2260.109800</td>\n      <td>...</td>\n      <td>0</td>\n      <td>12</td>\n      <td>37</td>\n      <td>2</td>\n      <td>Uttar Pradesh</td>\n      <td>Uttar Pradesh</td>\n      <td>Kanpur</td>\n      <td>Kanpur</td>\n      <td>Central</td>\n      <td>Central</td>\n    </tr>\n    <tr>\n      <th>1</th>\n      <td>training</td>\n      <td>2018-09-12 00:00:22.886430</td>\n      <td>thanos::sroute:3a1b0ab2-bb0b-4c53-8c59-eb2a2c0...</td>\n      <td>Carting</td>\n      <td>trip-153671042288605164</td>\n      <td>IND561203AAB</td>\n      <td>Doddablpur_ChikaDPP_D (Karnataka)</td>\n      <td>IND561203AAB</td>\n      <td>Doddablpur_ChikaDPP_D (Karnataka)</td>\n      <td>181.611874</td>\n      <td>...</td>\n      <td>0</td>\n      <td>12</td>\n      <td>37</td>\n      <td>2</td>\n      <td>Karnataka</td>\n      <td>Karnataka</td>\n      <td>Doddablpur</td>\n      <td>Doddablpur</td>\n      <td>ChikaDPP</td>\n      <td>ChikaDPP</td>\n    </tr>\n    <tr>\n      <th>2</th>\n      <td>training</td>\n      <td>2018-09-12 00:00:33.691250</td>\n      <td>thanos::sroute:de5e208e-7641-45e6-8100-4d9fb1e...</td>\n      <td>FTL</td>\n      <td>trip-153671043369099517</td>\n      <td>IND000000ACB</td>\n      <td>Gurgaon_Bilaspur_HB (Haryana)</td>\n      <td>IND000000ACB</td>\n      <td>Gurgaon_Bilaspur_HB (Haryana)</td>\n      <td>3934.362520</td>\n      <td>...</td>\n      <td>0</td>\n      <td>12</td>\n      <td>37</td>\n      <td>2</td>\n      <td>Haryana</td>\n      <td>Haryana</td>\n      <td>Gurgaon</td>\n      <td>Gurgaon</td>\n      <td>Bilaspur</td>\n      <td>Bilaspur</td>\n    </tr>\n    <tr>\n      <th>3</th>\n      <td>training</td>\n      <td>2018-09-12 00:01:00.113710</td>\n      <td>thanos::sroute:f0176492-a679-4597-8332-bbd1c7f...</td>\n      <td>Carting</td>\n      <td>trip-153671046011330457</td>\n      <td>IND400072AAB</td>\n      <td>Mumbai Hub (Maharashtra)</td>\n      <td>IND401104AAA</td>\n      <td>Mumbai_MiraRd_IP (Maharashtra)</td>\n      <td>100.494935</td>\n      <td>...</td>\n      <td>0</td>\n      <td>12</td>\n      <td>37</td>\n      <td>2</td>\n      <td>Maharashtra</td>\n      <td>Maharashtra</td>\n      <td>Mumbai Hub</td>\n      <td>Mumbai</td>\n      <td>Mumbai</td>\n      <td>MiraRd</td>\n    </tr>\n    <tr>\n      <th>4</th>\n      <td>training</td>\n      <td>2018-09-12 00:02:09.740725</td>\n      <td>thanos::sroute:d9f07b12-65e0-4f3b-bec8-df06134...</td>\n      <td>FTL</td>\n      <td>trip-153671052974046625</td>\n      <td>IND583101AAA</td>\n      <td>Bellary_Dc (Karnataka)</td>\n      <td>IND583119AAA</td>\n      <td>Sandur_WrdN1DPP_D (Karnataka)</td>\n      <td>718.349042</td>\n      <td>...</td>\n      <td>0</td>\n      <td>12</td>\n      <td>37</td>\n      <td>2</td>\n      <td>Karnataka</td>\n      <td>Karnataka</td>\n      <td>Bellary</td>\n      <td>Sandur</td>\n      <td>Bellary</td>\n      <td>WrdN1DPP</td>\n    </tr>\n    <tr>\n      <th>...</th>\n      <td>...</td>\n      <td>...</td>\n      <td>...</td>\n      <td>...</td>\n      <td>...</td>\n      <td>...</td>\n      <td>...</td>\n      <td>...</td>\n      <td>...</td>\n      <td>...</td>\n      <td>...</td>\n      <td>...</td>\n      <td>...</td>\n      <td>...</td>\n      <td>...</td>\n      <td>...</td>\n      <td>...</td>\n      <td>...</td>\n      <td>...</td>\n      <td>...</td>\n      <td>...</td>\n    </tr>\n    <tr>\n      <th>14782</th>\n      <td>test</td>\n      <td>2018-10-03 23:55:56.258533</td>\n      <td>thanos::sroute:8a120994-f577-4491-9e4b-b7e4a14...</td>\n      <td>Carting</td>\n      <td>trip-153861095625827784</td>\n      <td>IND160002AAC</td>\n      <td>Chandigarh_Mehmdpur_H (Punjab)</td>\n      <td>IND160002AAC</td>\n      <td>Chandigarh_Mehmdpur_H (Punjab)</td>\n      <td>258.028928</td>\n      <td>...</td>\n      <td>23</td>\n      <td>3</td>\n      <td>40</td>\n      <td>2</td>\n      <td>Punjab</td>\n      <td>Punjab</td>\n      <td>Chandigarh</td>\n      <td>Chandigarh</td>\n      <td>Mehmdpur</td>\n      <td>Mehmdpur</td>\n    </tr>\n    <tr>\n      <th>14783</th>\n      <td>test</td>\n      <td>2018-10-03 23:57:23.863155</td>\n      <td>thanos::sroute:b30e1ec3-3bfa-4bd2-a7fb-3b75769...</td>\n      <td>Carting</td>\n      <td>trip-153861104386292051</td>\n      <td>IND121004AAB</td>\n      <td>FBD_Balabhgarh_DPC (Haryana)</td>\n      <td>IND121004AAA</td>\n      <td>Faridabad_Blbgarh_DC (Haryana)</td>\n      <td>60.590521</td>\n      <td>...</td>\n      <td>23</td>\n      <td>3</td>\n      <td>40</td>\n      <td>2</td>\n      <td>Haryana</td>\n      <td>Haryana</td>\n      <td>FBD</td>\n      <td>Faridabad</td>\n      <td>Balabhgarh</td>\n      <td>Blbgarh</td>\n    </tr>\n    <tr>\n      <th>14784</th>\n      <td>test</td>\n      <td>2018-10-03 23:57:44.429324</td>\n      <td>thanos::sroute:5609c268-e436-4e0a-8180-3db4a74...</td>\n      <td>Carting</td>\n      <td>trip-153861106442901555</td>\n      <td>IND208006AAA</td>\n      <td>Kanpur_GovndNgr_DC (Uttar Pradesh)</td>\n      <td>IND208006AAA</td>\n      <td>Kanpur_GovndNgr_DC (Uttar Pradesh)</td>\n      <td>422.119867</td>\n      <td>...</td>\n      <td>23</td>\n      <td>3</td>\n      <td>40</td>\n      <td>2</td>\n      <td>Uttar Pradesh</td>\n      <td>Uttar Pradesh</td>\n      <td>Kanpur</td>\n      <td>Kanpur</td>\n      <td>GovndNgr</td>\n      <td>GovndNgr</td>\n    </tr>\n    <tr>\n      <th>14785</th>\n      <td>test</td>\n      <td>2018-10-03 23:59:14.390954</td>\n      <td>thanos::sroute:c5f2ba2c-8486-4940-8af6-d1d2a6a...</td>\n      <td>Carting</td>\n      <td>trip-153861115439069069</td>\n      <td>IND627005AAA</td>\n      <td>Tirunelveli_VdkkuSrt_I (Tamil Nadu)</td>\n      <td>IND628204AAA</td>\n      <td>Tirchchndr_Shnmgprm_D (Tamil Nadu)</td>\n      <td>348.512862</td>\n      <td>...</td>\n      <td>23</td>\n      <td>3</td>\n      <td>40</td>\n      <td>2</td>\n      <td>Tamil Nadu</td>\n      <td>Tamil Nadu</td>\n      <td>Tirunelveli</td>\n      <td>Tirchchndr</td>\n      <td>VdkkuSrt</td>\n      <td>Shnmgprm</td>\n    </tr>\n    <tr>\n      <th>14786</th>\n      <td>test</td>\n      <td>2018-10-03 23:59:42.701692</td>\n      <td>thanos::sroute:412fea14-6d1f-4222-8a5f-a517042...</td>\n      <td>FTL</td>\n      <td>trip-153861118270144424</td>\n      <td>IND583119AAA</td>\n      <td>Sandur_WrdN1DPP_D (Karnataka)</td>\n      <td>IND583119AAA</td>\n      <td>Sandur_WrdN1DPP_D (Karnataka)</td>\n      <td>354.407571</td>\n      <td>...</td>\n      <td>23</td>\n      <td>3</td>\n      <td>40</td>\n      <td>2</td>\n      <td>Karnataka</td>\n      <td>Karnataka</td>\n      <td>Sandur</td>\n      <td>Sandur</td>\n      <td>WrdN1DPP</td>\n      <td>WrdN1DPP</td>\n    </tr>\n  </tbody>\n</table>\n<p>14787 rows × 30 columns</p>\n</div>"
     },
     "execution_count": 38,
     "metadata": {},
     "output_type": "execute_result"
    }
   ],
   "source": [
    "df"
   ],
   "metadata": {
    "collapsed": false,
    "ExecuteTime": {
     "end_time": "2023-08-27T13:21:33.368841200Z",
     "start_time": "2023-08-27T13:21:33.302907Z"
    }
   },
   "id": "89be8ddbb013dc62"
  },
  {
   "cell_type": "code",
   "execution_count": 39,
   "outputs": [
    {
     "name": "stdout",
     "output_type": "stream",
     "text": [
      "<class 'pandas.core.frame.DataFrame'>\n",
      "RangeIndex: 14787 entries, 0 to 14786\n",
      "Data columns (total 30 columns):\n",
      " #   Column                          Non-Null Count  Dtype         \n",
      "---  ------                          --------------  -----         \n",
      " 0   data                            14787 non-null  object        \n",
      " 1   trip_creation_time              14787 non-null  datetime64[ns]\n",
      " 2   route_schedule_uuid             14787 non-null  object        \n",
      " 3   route_type                      14787 non-null  object        \n",
      " 4   trip_uuid                       14787 non-null  object        \n",
      " 5   source_center                   14787 non-null  object        \n",
      " 6   source_name                     14787 non-null  object        \n",
      " 7   destination_center              14787 non-null  object        \n",
      " 8   destination_name                14787 non-null  object        \n",
      " 9   od_time_diff_hour               14787 non-null  float64       \n",
      " 10  delivery_duration               14787 non-null  float64       \n",
      " 11  actual_distance_to_destination  14787 non-null  float64       \n",
      " 12  actual_time                     14787 non-null  float64       \n",
      " 13  segment_actual_time             14787 non-null  float64       \n",
      " 14  osrm_time                       14787 non-null  float64       \n",
      " 15  segment_osrm_time               14787 non-null  float64       \n",
      " 16  osrm_distance                   14787 non-null  float64       \n",
      " 17  segment_osrm_distance           14787 non-null  float64       \n",
      " 18  trip_year                       14787 non-null  int32         \n",
      " 19  trip_month                      14787 non-null  int32         \n",
      " 20  trip_hour                       14787 non-null  int32         \n",
      " 21  trip_day                        14787 non-null  int32         \n",
      " 22  trip_week                       14787 non-null  UInt32        \n",
      " 23  trip_dayofweek                  14787 non-null  int32         \n",
      " 24  source_state                    14787 non-null  object        \n",
      " 25  destination_state               14787 non-null  object        \n",
      " 26  source_city                     14787 non-null  object        \n",
      " 27  destination_city                14787 non-null  object        \n",
      " 28  source_place                    14787 non-null  object        \n",
      " 29  destination_place               14787 non-null  object        \n",
      "dtypes: UInt32(1), datetime64[ns](1), float64(9), int32(5), object(14)\n",
      "memory usage: 3.1+ MB\n"
     ]
    }
   ],
   "source": [
    "df.info()"
   ],
   "metadata": {
    "collapsed": false,
    "ExecuteTime": {
     "end_time": "2023-08-27T13:21:50.379902100Z",
     "start_time": "2023-08-27T13:21:50.325177900Z"
    }
   },
   "id": "d97f3786616732fb"
  },
  {
   "cell_type": "code",
   "execution_count": 40,
   "outputs": [
    {
     "name": "stdout",
     "output_type": "stream",
     "text": [
      "Are there any Null Values : False\n"
     ]
    }
   ],
   "source": [
    "print(f\"Are there any Null Values : {df.isna().any().any()}\")"
   ],
   "metadata": {
    "collapsed": false,
    "ExecuteTime": {
     "end_time": "2023-08-27T13:21:52.383728600Z",
     "start_time": "2023-08-27T13:21:52.336133600Z"
    }
   },
   "id": "954ca8c716995c52"
  },
  {
   "cell_type": "code",
   "execution_count": 41,
   "outputs": [
    {
     "data": {
      "text/plain": "                  trip_creation_time  od_time_diff_hour  delivery_duration  \\\ncount                          14787       14787.000000       14787.000000   \nmean   2018-09-22 12:26:28.269885696         530.313517         529.429025   \nmin       2018-09-12 00:00:16.535741          23.461468          23.000000   \n25%    2018-09-17 02:38:18.128431872         149.698496         149.000000   \n50%    2018-09-22 03:39:19.609193984         279.710750         279.000000   \n75%    2018-09-27 19:23:14.074359552         633.537697         632.000000   \nmax       2018-10-03 23:59:42.701692        7898.551955        7898.000000   \nstd                              NaN         658.415490         658.254936   \n\n       actual_distance_to_destination   actual_time  segment_actual_time  \\\ncount                    14787.000000  14787.000000         14787.000000   \nmean                       164.090196    356.306012           353.059174   \nmin                          9.002461      9.000000             9.000000   \n25%                         22.777099     67.000000            66.000000   \n50%                         48.287894    148.000000           147.000000   \n75%                        163.591258    367.000000           364.000000   \nmax                       2186.531787   6265.000000          6230.000000   \nstd                        305.502982    561.517936           556.365911   \n\n          osrm_time  segment_osrm_time  osrm_distance  segment_osrm_distance  \\\ncount  14787.000000       14787.000000   14787.000000           14787.000000   \nmean     160.990938         180.511598     203.887411             222.705466   \nmin        6.000000           6.000000       9.072900               9.072900   \n25%       29.000000          30.000000      30.756900              32.578850   \n50%       60.000000          65.000000      65.302800              69.784200   \n75%      168.000000         184.000000     206.644200             216.560600   \nmax     2032.000000        2564.000000    2840.081000            3523.632400   \nstd      271.459495         314.679279     370.565564             416.846279   \n\n       trip_year    trip_month     trip_hour      trip_day  trip_week  \\\ncount    14787.0  14787.000000  14787.000000  14787.000000    14787.0   \nmean      2018.0      9.120105     12.456212     18.375127  38.293907   \nmin       2018.0      9.000000      0.000000      1.000000       37.0   \n25%       2018.0      9.000000      4.000000     14.000000       38.0   \n50%       2018.0      9.000000     14.000000     19.000000       38.0   \n75%       2018.0      9.000000     20.000000     25.000000       39.0   \nmax       2018.0     10.000000     23.000000     30.000000       40.0   \nstd          0.0      0.325096      7.987387      7.882198   0.967366   \n\n       trip_dayofweek  \ncount    14787.000000  \nmean         2.920944  \nmin          0.000000  \n25%          1.000000  \n50%          3.000000  \n75%          5.000000  \nmax          6.000000  \nstd          1.927690  ",
      "text/html": "<div>\n<style scoped>\n    .dataframe tbody tr th:only-of-type {\n        vertical-align: middle;\n    }\n\n    .dataframe tbody tr th {\n        vertical-align: top;\n    }\n\n    .dataframe thead th {\n        text-align: right;\n    }\n</style>\n<table border=\"1\" class=\"dataframe\">\n  <thead>\n    <tr style=\"text-align: right;\">\n      <th></th>\n      <th>trip_creation_time</th>\n      <th>od_time_diff_hour</th>\n      <th>delivery_duration</th>\n      <th>actual_distance_to_destination</th>\n      <th>actual_time</th>\n      <th>segment_actual_time</th>\n      <th>osrm_time</th>\n      <th>segment_osrm_time</th>\n      <th>osrm_distance</th>\n      <th>segment_osrm_distance</th>\n      <th>trip_year</th>\n      <th>trip_month</th>\n      <th>trip_hour</th>\n      <th>trip_day</th>\n      <th>trip_week</th>\n      <th>trip_dayofweek</th>\n    </tr>\n  </thead>\n  <tbody>\n    <tr>\n      <th>count</th>\n      <td>14787</td>\n      <td>14787.000000</td>\n      <td>14787.000000</td>\n      <td>14787.000000</td>\n      <td>14787.000000</td>\n      <td>14787.000000</td>\n      <td>14787.000000</td>\n      <td>14787.000000</td>\n      <td>14787.000000</td>\n      <td>14787.000000</td>\n      <td>14787.0</td>\n      <td>14787.000000</td>\n      <td>14787.000000</td>\n      <td>14787.000000</td>\n      <td>14787.0</td>\n      <td>14787.000000</td>\n    </tr>\n    <tr>\n      <th>mean</th>\n      <td>2018-09-22 12:26:28.269885696</td>\n      <td>530.313517</td>\n      <td>529.429025</td>\n      <td>164.090196</td>\n      <td>356.306012</td>\n      <td>353.059174</td>\n      <td>160.990938</td>\n      <td>180.511598</td>\n      <td>203.887411</td>\n      <td>222.705466</td>\n      <td>2018.0</td>\n      <td>9.120105</td>\n      <td>12.456212</td>\n      <td>18.375127</td>\n      <td>38.293907</td>\n      <td>2.920944</td>\n    </tr>\n    <tr>\n      <th>min</th>\n      <td>2018-09-12 00:00:16.535741</td>\n      <td>23.461468</td>\n      <td>23.000000</td>\n      <td>9.002461</td>\n      <td>9.000000</td>\n      <td>9.000000</td>\n      <td>6.000000</td>\n      <td>6.000000</td>\n      <td>9.072900</td>\n      <td>9.072900</td>\n      <td>2018.0</td>\n      <td>9.000000</td>\n      <td>0.000000</td>\n      <td>1.000000</td>\n      <td>37.0</td>\n      <td>0.000000</td>\n    </tr>\n    <tr>\n      <th>25%</th>\n      <td>2018-09-17 02:38:18.128431872</td>\n      <td>149.698496</td>\n      <td>149.000000</td>\n      <td>22.777099</td>\n      <td>67.000000</td>\n      <td>66.000000</td>\n      <td>29.000000</td>\n      <td>30.000000</td>\n      <td>30.756900</td>\n      <td>32.578850</td>\n      <td>2018.0</td>\n      <td>9.000000</td>\n      <td>4.000000</td>\n      <td>14.000000</td>\n      <td>38.0</td>\n      <td>1.000000</td>\n    </tr>\n    <tr>\n      <th>50%</th>\n      <td>2018-09-22 03:39:19.609193984</td>\n      <td>279.710750</td>\n      <td>279.000000</td>\n      <td>48.287894</td>\n      <td>148.000000</td>\n      <td>147.000000</td>\n      <td>60.000000</td>\n      <td>65.000000</td>\n      <td>65.302800</td>\n      <td>69.784200</td>\n      <td>2018.0</td>\n      <td>9.000000</td>\n      <td>14.000000</td>\n      <td>19.000000</td>\n      <td>38.0</td>\n      <td>3.000000</td>\n    </tr>\n    <tr>\n      <th>75%</th>\n      <td>2018-09-27 19:23:14.074359552</td>\n      <td>633.537697</td>\n      <td>632.000000</td>\n      <td>163.591258</td>\n      <td>367.000000</td>\n      <td>364.000000</td>\n      <td>168.000000</td>\n      <td>184.000000</td>\n      <td>206.644200</td>\n      <td>216.560600</td>\n      <td>2018.0</td>\n      <td>9.000000</td>\n      <td>20.000000</td>\n      <td>25.000000</td>\n      <td>39.0</td>\n      <td>5.000000</td>\n    </tr>\n    <tr>\n      <th>max</th>\n      <td>2018-10-03 23:59:42.701692</td>\n      <td>7898.551955</td>\n      <td>7898.000000</td>\n      <td>2186.531787</td>\n      <td>6265.000000</td>\n      <td>6230.000000</td>\n      <td>2032.000000</td>\n      <td>2564.000000</td>\n      <td>2840.081000</td>\n      <td>3523.632400</td>\n      <td>2018.0</td>\n      <td>10.000000</td>\n      <td>23.000000</td>\n      <td>30.000000</td>\n      <td>40.0</td>\n      <td>6.000000</td>\n    </tr>\n    <tr>\n      <th>std</th>\n      <td>NaN</td>\n      <td>658.415490</td>\n      <td>658.254936</td>\n      <td>305.502982</td>\n      <td>561.517936</td>\n      <td>556.365911</td>\n      <td>271.459495</td>\n      <td>314.679279</td>\n      <td>370.565564</td>\n      <td>416.846279</td>\n      <td>0.0</td>\n      <td>0.325096</td>\n      <td>7.987387</td>\n      <td>7.882198</td>\n      <td>0.967366</td>\n      <td>1.927690</td>\n    </tr>\n  </tbody>\n</table>\n</div>"
     },
     "execution_count": 41,
     "metadata": {},
     "output_type": "execute_result"
    }
   ],
   "source": [
    "df.describe()"
   ],
   "metadata": {
    "collapsed": false,
    "ExecuteTime": {
     "end_time": "2023-08-27T13:21:53.784407700Z",
     "start_time": "2023-08-27T13:21:53.709792100Z"
    }
   },
   "id": "2612047b07edb06b"
  },
  {
   "cell_type": "code",
   "execution_count": 42,
   "outputs": [
    {
     "data": {
      "text/plain": "            data                                route_schedule_uuid  \\\ncount      14787                                              14787   \nunique         2                                               1497   \ntop     training  thanos::sroute:a16bfa03-3462-4bce-9c82-5784c7d...   \nfreq       10645                                                 53   \n\n       route_type                trip_uuid source_center  \\\ncount       14787                    14787         14787   \nunique          2                    14787           930   \ntop       Carting  trip-153671041653548748  IND000000ACB   \nfreq         8906                        1          1052   \n\n                          source_name destination_center  \\\ncount                           14787              14787   \nunique                            930               1035   \ntop     Gurgaon_Bilaspur_HB (Haryana)       IND000000ACB   \nfreq                             1052                821   \n\n                     destination_name source_state destination_state  \\\ncount                           14787        14787             14787   \nunique                           1035           29                31   \ntop     Gurgaon_Bilaspur_HB (Haryana)  Maharashtra       Maharashtra   \nfreq                              821         2714              2561   \n\n       source_city destination_city source_place destination_place  \ncount        14787            14787        14787             14787  \nunique         731              856          770               874  \ntop        Gurgaon        Bengaluru     Bilaspur          Bilaspur  \nfreq          1128             1088         1074               864  ",
      "text/html": "<div>\n<style scoped>\n    .dataframe tbody tr th:only-of-type {\n        vertical-align: middle;\n    }\n\n    .dataframe tbody tr th {\n        vertical-align: top;\n    }\n\n    .dataframe thead th {\n        text-align: right;\n    }\n</style>\n<table border=\"1\" class=\"dataframe\">\n  <thead>\n    <tr style=\"text-align: right;\">\n      <th></th>\n      <th>data</th>\n      <th>route_schedule_uuid</th>\n      <th>route_type</th>\n      <th>trip_uuid</th>\n      <th>source_center</th>\n      <th>source_name</th>\n      <th>destination_center</th>\n      <th>destination_name</th>\n      <th>source_state</th>\n      <th>destination_state</th>\n      <th>source_city</th>\n      <th>destination_city</th>\n      <th>source_place</th>\n      <th>destination_place</th>\n    </tr>\n  </thead>\n  <tbody>\n    <tr>\n      <th>count</th>\n      <td>14787</td>\n      <td>14787</td>\n      <td>14787</td>\n      <td>14787</td>\n      <td>14787</td>\n      <td>14787</td>\n      <td>14787</td>\n      <td>14787</td>\n      <td>14787</td>\n      <td>14787</td>\n      <td>14787</td>\n      <td>14787</td>\n      <td>14787</td>\n      <td>14787</td>\n    </tr>\n    <tr>\n      <th>unique</th>\n      <td>2</td>\n      <td>1497</td>\n      <td>2</td>\n      <td>14787</td>\n      <td>930</td>\n      <td>930</td>\n      <td>1035</td>\n      <td>1035</td>\n      <td>29</td>\n      <td>31</td>\n      <td>731</td>\n      <td>856</td>\n      <td>770</td>\n      <td>874</td>\n    </tr>\n    <tr>\n      <th>top</th>\n      <td>training</td>\n      <td>thanos::sroute:a16bfa03-3462-4bce-9c82-5784c7d...</td>\n      <td>Carting</td>\n      <td>trip-153671041653548748</td>\n      <td>IND000000ACB</td>\n      <td>Gurgaon_Bilaspur_HB (Haryana)</td>\n      <td>IND000000ACB</td>\n      <td>Gurgaon_Bilaspur_HB (Haryana)</td>\n      <td>Maharashtra</td>\n      <td>Maharashtra</td>\n      <td>Gurgaon</td>\n      <td>Bengaluru</td>\n      <td>Bilaspur</td>\n      <td>Bilaspur</td>\n    </tr>\n    <tr>\n      <th>freq</th>\n      <td>10645</td>\n      <td>53</td>\n      <td>8906</td>\n      <td>1</td>\n      <td>1052</td>\n      <td>1052</td>\n      <td>821</td>\n      <td>821</td>\n      <td>2714</td>\n      <td>2561</td>\n      <td>1128</td>\n      <td>1088</td>\n      <td>1074</td>\n      <td>864</td>\n    </tr>\n  </tbody>\n</table>\n</div>"
     },
     "execution_count": 42,
     "metadata": {},
     "output_type": "execute_result"
    }
   ],
   "source": [
    "df.describe(include='object')"
   ],
   "metadata": {
    "collapsed": false,
    "ExecuteTime": {
     "end_time": "2023-08-27T13:21:54.997874300Z",
     "start_time": "2023-08-27T13:21:54.925224400Z"
    }
   },
   "id": "88400541112b6d85"
  },
  {
   "cell_type": "code",
   "execution_count": 223,
   "outputs": [
    {
     "data": {
      "text/plain": "           data         trip_creation_time  \\\n0      training 2018-09-12 00:00:16.535741   \n1      training 2018-09-12 00:00:22.886430   \n2      training 2018-09-12 00:00:33.691250   \n3      training 2018-09-12 00:01:00.113710   \n4      training 2018-09-12 00:02:09.740725   \n...         ...                        ...   \n14782      test 2018-10-03 23:55:56.258533   \n14783      test 2018-10-03 23:57:23.863155   \n14784      test 2018-10-03 23:57:44.429324   \n14785      test 2018-10-03 23:59:14.390954   \n14786      test 2018-10-03 23:59:42.701692   \n\n                                     route_schedule_uuid route_type  \\\n0      thanos::sroute:d7c989ba-a29b-4a0b-b2f4-288cdc6...        FTL   \n1      thanos::sroute:3a1b0ab2-bb0b-4c53-8c59-eb2a2c0...    Carting   \n2      thanos::sroute:de5e208e-7641-45e6-8100-4d9fb1e...        FTL   \n3      thanos::sroute:f0176492-a679-4597-8332-bbd1c7f...    Carting   \n4      thanos::sroute:d9f07b12-65e0-4f3b-bec8-df06134...        FTL   \n...                                                  ...        ...   \n14782  thanos::sroute:8a120994-f577-4491-9e4b-b7e4a14...    Carting   \n14783  thanos::sroute:b30e1ec3-3bfa-4bd2-a7fb-3b75769...    Carting   \n14784  thanos::sroute:5609c268-e436-4e0a-8180-3db4a74...    Carting   \n14785  thanos::sroute:c5f2ba2c-8486-4940-8af6-d1d2a6a...    Carting   \n14786  thanos::sroute:412fea14-6d1f-4222-8a5f-a517042...        FTL   \n\n                     trip_uuid source_center  \\\n0      trip-153671041653548748  IND209304AAA   \n1      trip-153671042288605164  IND561203AAB   \n2      trip-153671043369099517  IND000000ACB   \n3      trip-153671046011330457  IND400072AAB   \n4      trip-153671052974046625  IND583101AAA   \n...                        ...           ...   \n14782  trip-153861095625827784  IND160002AAC   \n14783  trip-153861104386292051  IND121004AAB   \n14784  trip-153861106442901555  IND208006AAA   \n14785  trip-153861115439069069  IND627005AAA   \n14786  trip-153861118270144424  IND583119AAA   \n\n                               source_name destination_center  \\\n0       Kanpur_Central_H_6 (Uttar Pradesh)       IND209304AAA   \n1        Doddablpur_ChikaDPP_D (Karnataka)       IND561203AAB   \n2            Gurgaon_Bilaspur_HB (Haryana)       IND000000ACB   \n3                 Mumbai Hub (Maharashtra)       IND401104AAA   \n4                   Bellary_Dc (Karnataka)       IND583119AAA   \n...                                    ...                ...   \n14782       Chandigarh_Mehmdpur_H (Punjab)       IND160002AAC   \n14783         FBD_Balabhgarh_DPC (Haryana)       IND121004AAA   \n14784   Kanpur_GovndNgr_DC (Uttar Pradesh)       IND208006AAA   \n14785  Tirunelveli_VdkkuSrt_I (Tamil Nadu)       IND628204AAA   \n14786        Sandur_WrdN1DPP_D (Karnataka)       IND583119AAA   \n\n                         destination_name  od_time_diff_hour  ...  trip_hour  \\\n0      Kanpur_Central_H_6 (Uttar Pradesh)        2260.109800  ...          0   \n1       Doddablpur_ChikaDPP_D (Karnataka)         181.611874  ...          0   \n2           Gurgaon_Bilaspur_HB (Haryana)        3934.362520  ...          0   \n3          Mumbai_MiraRd_IP (Maharashtra)         100.494935  ...          0   \n4           Sandur_WrdN1DPP_D (Karnataka)         718.349042  ...          0   \n...                                   ...                ...  ...        ...   \n14782      Chandigarh_Mehmdpur_H (Punjab)         258.028928  ...         23   \n14783      Faridabad_Blbgarh_DC (Haryana)          60.590521  ...         23   \n14784  Kanpur_GovndNgr_DC (Uttar Pradesh)         422.119867  ...         23   \n14785  Tirchchndr_Shnmgprm_D (Tamil Nadu)         348.512862  ...         23   \n14786       Sandur_WrdN1DPP_D (Karnataka)         354.407571  ...         23   \n\n       trip_day  trip_week  trip_dayofweek  destination_state   source_state  \\\n0            12         37               2      Uttar Pradesh  Uttar Pradesh   \n1            12         37               2          Karnataka      Karnataka   \n2            12         37               2            Haryana        Haryana   \n3            12         37               2        Maharashtra    Maharashtra   \n4            12         37               2          Karnataka      Karnataka   \n...         ...        ...             ...                ...            ...   \n14782         3         40               2             Punjab         Punjab   \n14783         3         40               2            Haryana        Haryana   \n14784         3         40               2      Uttar Pradesh  Uttar Pradesh   \n14785         3         40               2         Tamil Nadu     Tamil Nadu   \n14786         3         40               2          Karnataka      Karnataka   \n\n       destination_city  source_city  destination_place  source_place  \n0                Kanpur       Kanpur            Central       Central  \n1            Doddablpur   Doddablpur           ChikaDPP      ChikaDPP  \n2               Gurgaon      Gurgaon           Bilaspur      Bilaspur  \n3                Mumbai  Mumbai Hub              MiraRd        Mumbai  \n4                Sandur      Bellary           WrdN1DPP       Bellary  \n...                 ...          ...                ...           ...  \n14782        Chandigarh   Chandigarh           Mehmdpur      Mehmdpur  \n14783         Faridabad          FBD            Blbgarh    Balabhgarh  \n14784            Kanpur       Kanpur           GovndNgr      GovndNgr  \n14785        Tirchchndr  Tirunelveli           Shnmgprm      VdkkuSrt  \n14786            Sandur       Sandur           WrdN1DPP      WrdN1DPP  \n\n[14787 rows x 30 columns]",
      "text/html": "<div>\n<style scoped>\n    .dataframe tbody tr th:only-of-type {\n        vertical-align: middle;\n    }\n\n    .dataframe tbody tr th {\n        vertical-align: top;\n    }\n\n    .dataframe thead th {\n        text-align: right;\n    }\n</style>\n<table border=\"1\" class=\"dataframe\">\n  <thead>\n    <tr style=\"text-align: right;\">\n      <th></th>\n      <th>data</th>\n      <th>trip_creation_time</th>\n      <th>route_schedule_uuid</th>\n      <th>route_type</th>\n      <th>trip_uuid</th>\n      <th>source_center</th>\n      <th>source_name</th>\n      <th>destination_center</th>\n      <th>destination_name</th>\n      <th>od_time_diff_hour</th>\n      <th>...</th>\n      <th>trip_hour</th>\n      <th>trip_day</th>\n      <th>trip_week</th>\n      <th>trip_dayofweek</th>\n      <th>destination_state</th>\n      <th>source_state</th>\n      <th>destination_city</th>\n      <th>source_city</th>\n      <th>destination_place</th>\n      <th>source_place</th>\n    </tr>\n  </thead>\n  <tbody>\n    <tr>\n      <th>0</th>\n      <td>training</td>\n      <td>2018-09-12 00:00:16.535741</td>\n      <td>thanos::sroute:d7c989ba-a29b-4a0b-b2f4-288cdc6...</td>\n      <td>FTL</td>\n      <td>trip-153671041653548748</td>\n      <td>IND209304AAA</td>\n      <td>Kanpur_Central_H_6 (Uttar Pradesh)</td>\n      <td>IND209304AAA</td>\n      <td>Kanpur_Central_H_6 (Uttar Pradesh)</td>\n      <td>2260.109800</td>\n      <td>...</td>\n      <td>0</td>\n      <td>12</td>\n      <td>37</td>\n      <td>2</td>\n      <td>Uttar Pradesh</td>\n      <td>Uttar Pradesh</td>\n      <td>Kanpur</td>\n      <td>Kanpur</td>\n      <td>Central</td>\n      <td>Central</td>\n    </tr>\n    <tr>\n      <th>1</th>\n      <td>training</td>\n      <td>2018-09-12 00:00:22.886430</td>\n      <td>thanos::sroute:3a1b0ab2-bb0b-4c53-8c59-eb2a2c0...</td>\n      <td>Carting</td>\n      <td>trip-153671042288605164</td>\n      <td>IND561203AAB</td>\n      <td>Doddablpur_ChikaDPP_D (Karnataka)</td>\n      <td>IND561203AAB</td>\n      <td>Doddablpur_ChikaDPP_D (Karnataka)</td>\n      <td>181.611874</td>\n      <td>...</td>\n      <td>0</td>\n      <td>12</td>\n      <td>37</td>\n      <td>2</td>\n      <td>Karnataka</td>\n      <td>Karnataka</td>\n      <td>Doddablpur</td>\n      <td>Doddablpur</td>\n      <td>ChikaDPP</td>\n      <td>ChikaDPP</td>\n    </tr>\n    <tr>\n      <th>2</th>\n      <td>training</td>\n      <td>2018-09-12 00:00:33.691250</td>\n      <td>thanos::sroute:de5e208e-7641-45e6-8100-4d9fb1e...</td>\n      <td>FTL</td>\n      <td>trip-153671043369099517</td>\n      <td>IND000000ACB</td>\n      <td>Gurgaon_Bilaspur_HB (Haryana)</td>\n      <td>IND000000ACB</td>\n      <td>Gurgaon_Bilaspur_HB (Haryana)</td>\n      <td>3934.362520</td>\n      <td>...</td>\n      <td>0</td>\n      <td>12</td>\n      <td>37</td>\n      <td>2</td>\n      <td>Haryana</td>\n      <td>Haryana</td>\n      <td>Gurgaon</td>\n      <td>Gurgaon</td>\n      <td>Bilaspur</td>\n      <td>Bilaspur</td>\n    </tr>\n    <tr>\n      <th>3</th>\n      <td>training</td>\n      <td>2018-09-12 00:01:00.113710</td>\n      <td>thanos::sroute:f0176492-a679-4597-8332-bbd1c7f...</td>\n      <td>Carting</td>\n      <td>trip-153671046011330457</td>\n      <td>IND400072AAB</td>\n      <td>Mumbai Hub (Maharashtra)</td>\n      <td>IND401104AAA</td>\n      <td>Mumbai_MiraRd_IP (Maharashtra)</td>\n      <td>100.494935</td>\n      <td>...</td>\n      <td>0</td>\n      <td>12</td>\n      <td>37</td>\n      <td>2</td>\n      <td>Maharashtra</td>\n      <td>Maharashtra</td>\n      <td>Mumbai</td>\n      <td>Mumbai Hub</td>\n      <td>MiraRd</td>\n      <td>Mumbai</td>\n    </tr>\n    <tr>\n      <th>4</th>\n      <td>training</td>\n      <td>2018-09-12 00:02:09.740725</td>\n      <td>thanos::sroute:d9f07b12-65e0-4f3b-bec8-df06134...</td>\n      <td>FTL</td>\n      <td>trip-153671052974046625</td>\n      <td>IND583101AAA</td>\n      <td>Bellary_Dc (Karnataka)</td>\n      <td>IND583119AAA</td>\n      <td>Sandur_WrdN1DPP_D (Karnataka)</td>\n      <td>718.349042</td>\n      <td>...</td>\n      <td>0</td>\n      <td>12</td>\n      <td>37</td>\n      <td>2</td>\n      <td>Karnataka</td>\n      <td>Karnataka</td>\n      <td>Sandur</td>\n      <td>Bellary</td>\n      <td>WrdN1DPP</td>\n      <td>Bellary</td>\n    </tr>\n    <tr>\n      <th>...</th>\n      <td>...</td>\n      <td>...</td>\n      <td>...</td>\n      <td>...</td>\n      <td>...</td>\n      <td>...</td>\n      <td>...</td>\n      <td>...</td>\n      <td>...</td>\n      <td>...</td>\n      <td>...</td>\n      <td>...</td>\n      <td>...</td>\n      <td>...</td>\n      <td>...</td>\n      <td>...</td>\n      <td>...</td>\n      <td>...</td>\n      <td>...</td>\n      <td>...</td>\n      <td>...</td>\n    </tr>\n    <tr>\n      <th>14782</th>\n      <td>test</td>\n      <td>2018-10-03 23:55:56.258533</td>\n      <td>thanos::sroute:8a120994-f577-4491-9e4b-b7e4a14...</td>\n      <td>Carting</td>\n      <td>trip-153861095625827784</td>\n      <td>IND160002AAC</td>\n      <td>Chandigarh_Mehmdpur_H (Punjab)</td>\n      <td>IND160002AAC</td>\n      <td>Chandigarh_Mehmdpur_H (Punjab)</td>\n      <td>258.028928</td>\n      <td>...</td>\n      <td>23</td>\n      <td>3</td>\n      <td>40</td>\n      <td>2</td>\n      <td>Punjab</td>\n      <td>Punjab</td>\n      <td>Chandigarh</td>\n      <td>Chandigarh</td>\n      <td>Mehmdpur</td>\n      <td>Mehmdpur</td>\n    </tr>\n    <tr>\n      <th>14783</th>\n      <td>test</td>\n      <td>2018-10-03 23:57:23.863155</td>\n      <td>thanos::sroute:b30e1ec3-3bfa-4bd2-a7fb-3b75769...</td>\n      <td>Carting</td>\n      <td>trip-153861104386292051</td>\n      <td>IND121004AAB</td>\n      <td>FBD_Balabhgarh_DPC (Haryana)</td>\n      <td>IND121004AAA</td>\n      <td>Faridabad_Blbgarh_DC (Haryana)</td>\n      <td>60.590521</td>\n      <td>...</td>\n      <td>23</td>\n      <td>3</td>\n      <td>40</td>\n      <td>2</td>\n      <td>Haryana</td>\n      <td>Haryana</td>\n      <td>Faridabad</td>\n      <td>FBD</td>\n      <td>Blbgarh</td>\n      <td>Balabhgarh</td>\n    </tr>\n    <tr>\n      <th>14784</th>\n      <td>test</td>\n      <td>2018-10-03 23:57:44.429324</td>\n      <td>thanos::sroute:5609c268-e436-4e0a-8180-3db4a74...</td>\n      <td>Carting</td>\n      <td>trip-153861106442901555</td>\n      <td>IND208006AAA</td>\n      <td>Kanpur_GovndNgr_DC (Uttar Pradesh)</td>\n      <td>IND208006AAA</td>\n      <td>Kanpur_GovndNgr_DC (Uttar Pradesh)</td>\n      <td>422.119867</td>\n      <td>...</td>\n      <td>23</td>\n      <td>3</td>\n      <td>40</td>\n      <td>2</td>\n      <td>Uttar Pradesh</td>\n      <td>Uttar Pradesh</td>\n      <td>Kanpur</td>\n      <td>Kanpur</td>\n      <td>GovndNgr</td>\n      <td>GovndNgr</td>\n    </tr>\n    <tr>\n      <th>14785</th>\n      <td>test</td>\n      <td>2018-10-03 23:59:14.390954</td>\n      <td>thanos::sroute:c5f2ba2c-8486-4940-8af6-d1d2a6a...</td>\n      <td>Carting</td>\n      <td>trip-153861115439069069</td>\n      <td>IND627005AAA</td>\n      <td>Tirunelveli_VdkkuSrt_I (Tamil Nadu)</td>\n      <td>IND628204AAA</td>\n      <td>Tirchchndr_Shnmgprm_D (Tamil Nadu)</td>\n      <td>348.512862</td>\n      <td>...</td>\n      <td>23</td>\n      <td>3</td>\n      <td>40</td>\n      <td>2</td>\n      <td>Tamil Nadu</td>\n      <td>Tamil Nadu</td>\n      <td>Tirchchndr</td>\n      <td>Tirunelveli</td>\n      <td>Shnmgprm</td>\n      <td>VdkkuSrt</td>\n    </tr>\n    <tr>\n      <th>14786</th>\n      <td>test</td>\n      <td>2018-10-03 23:59:42.701692</td>\n      <td>thanos::sroute:412fea14-6d1f-4222-8a5f-a517042...</td>\n      <td>FTL</td>\n      <td>trip-153861118270144424</td>\n      <td>IND583119AAA</td>\n      <td>Sandur_WrdN1DPP_D (Karnataka)</td>\n      <td>IND583119AAA</td>\n      <td>Sandur_WrdN1DPP_D (Karnataka)</td>\n      <td>354.407571</td>\n      <td>...</td>\n      <td>23</td>\n      <td>3</td>\n      <td>40</td>\n      <td>2</td>\n      <td>Karnataka</td>\n      <td>Karnataka</td>\n      <td>Sandur</td>\n      <td>Sandur</td>\n      <td>WrdN1DPP</td>\n      <td>WrdN1DPP</td>\n    </tr>\n  </tbody>\n</table>\n<p>14787 rows × 30 columns</p>\n</div>"
     },
     "execution_count": 223,
     "metadata": {},
     "output_type": "execute_result"
    }
   ],
   "source": [
    "df"
   ],
   "metadata": {
    "collapsed": false,
    "ExecuteTime": {
     "end_time": "2023-08-27T12:54:27.063713Z",
     "start_time": "2023-08-27T12:54:26.833104200Z"
    }
   },
   "id": "9e49672f62a59ef9"
  }
 ],
 "metadata": {
  "kernelspec": {
   "display_name": "Python 3 (ipykernel)",
   "language": "python",
   "name": "python3"
  },
  "language_info": {
   "codemirror_mode": {
    "name": "ipython",
    "version": 3
   },
   "file_extension": ".py",
   "mimetype": "text/x-python",
   "name": "python",
   "nbconvert_exporter": "python",
   "pygments_lexer": "ipython3",
   "version": "3.9.17"
  }
 },
 "nbformat": 4,
 "nbformat_minor": 5
}
