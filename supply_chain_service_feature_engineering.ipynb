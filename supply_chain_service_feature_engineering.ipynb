{
 "cells": [
  {
   "cell_type": "markdown",
   "source": [
    "# Importing Libraries"
   ],
   "metadata": {
    "collapsed": false
   },
   "id": "db0b1b781ec9d943"
  },
  {
   "cell_type": "code",
   "execution_count": 68,
   "outputs": [],
   "source": [
    "import numpy as np\n",
    "import pandas as pd\n",
    "import matplotlib.pyplot as plt\n",
    "import seaborn as sns\n",
    "from sklearn.impute import SimpleImputer"
   ],
   "metadata": {
    "collapsed": false,
    "ExecuteTime": {
     "end_time": "2023-08-01T13:09:37.346255Z",
     "start_time": "2023-08-01T13:09:35.234713800Z"
    }
   },
   "id": "269859e11f4b736d"
  },
  {
   "cell_type": "markdown",
   "source": [
    "# Agenda—To distill and articulate data-derived insights in a manner that is easily comprehensible for Stakeholders without a technical background"
   ],
   "metadata": {
    "collapsed": false
   },
   "id": "969c0fd1a9ced4ae"
  },
  {
   "cell_type": "markdown",
   "source": [
    "# Importing Dataset"
   ],
   "metadata": {
    "collapsed": false
   },
   "id": "87b53e132f6b9faa"
  },
  {
   "cell_type": "code",
   "execution_count": 37,
   "outputs": [],
   "source": [
    "df = pd.read_csv('https://d2beiqkhq929f0.cloudfront.net/public_assets/assets/000/001/551/original/delhivery_data.csv?1642751181')"
   ],
   "metadata": {
    "collapsed": false,
    "ExecuteTime": {
     "end_time": "2023-08-01T11:40:07.863091600Z",
     "start_time": "2023-08-01T11:40:01.520462100Z"
    }
   },
   "id": "b87fb9194e2ae764"
  },
  {
   "cell_type": "code",
   "execution_count": 38,
   "outputs": [
    {
     "data": {
      "text/plain": "            data          trip_creation_time  \\\n27541       test  2018-10-01 14:04:46.615696   \n110555  training  2018-09-12 00:44:36.229517   \n9435    training  2018-09-21 18:32:41.364041   \n127147  training  2018-09-23 13:56:39.604748   \n66401       test  2018-10-02 00:45:36.291037   \n120051      test  2018-10-03 02:08:56.433771   \n92730   training  2018-09-17 16:48:04.701262   \n57530   training  2018-09-13 01:54:33.375941   \n3       training  2018-09-20 02:35:36.476840   \n73637       test  2018-09-27 21:41:45.425778   \n138447  training  2018-09-12 17:39:20.673568   \n75896       test  2018-09-28 23:52:44.113953   \n115789  training  2018-09-25 02:49:53.890770   \n123759      test  2018-09-27 22:38:11.371840   \n108822  training  2018-09-25 03:10:57.395642   \n82874       test  2018-10-03 18:02:09.072458   \n92850       test  2018-09-28 19:24:28.326703   \n19015   training  2018-09-17 03:51:52.014776   \n136804  training  2018-09-24 21:03:10.045345   \n100787  training  2018-09-16 04:29:53.383201   \n\n                                      route_schedule_uuid route_type  \\\n27541   thanos::sroute:bc7dbb1d-9379-4674-b8d3-f9c3b96...        FTL   \n110555  thanos::sroute:2b217b8b-1ceb-45f8-a03a-08952fc...    Carting   \n9435    thanos::sroute:ef440d0b-5e79-4fe0-a7de-1cfa8c2...        FTL   \n127147  thanos::sroute:731fb539-6925-459c-8074-17df8b6...        FTL   \n66401   thanos::sroute:c427d4a6-205a-4c62-be78-7dac143...        FTL   \n120051  thanos::sroute:ea7ffec5-756e-450d-9fbf-9466b8e...        FTL   \n92730   thanos::sroute:9161ccfd-ff50-4210-b6d1-40b10ab...    Carting   \n57530   thanos::sroute:8a7e68b3-2a05-489f-85a1-5ccfbf6...        FTL   \n3       thanos::sroute:eb7bfc78-b351-4c0e-a951-fa3d5c3...    Carting   \n73637   thanos::sroute:6587bfb1-f715-4237-a145-b7c86f0...    Carting   \n138447  thanos::sroute:a55479f7-a834-41f4-8b3a-a6764ea...    Carting   \n75896   thanos::sroute:d1820d5b-74d1-4647-a4c2-77afb9c...    Carting   \n115789  thanos::sroute:951d77aa-4725-4c4e-882d-42acc35...        FTL   \n123759  thanos::sroute:a47a9fc6-858c-4a83-b7fc-760c9de...    Carting   \n108822  thanos::sroute:e9b2d11d-a4ff-4744-bff5-cdabe54...    Carting   \n82874   thanos::sroute:cd69fb4c-8a2d-4885-b9ff-c4819c6...        FTL   \n92850   thanos::sroute:981e3306-1209-469c-87ab-3c7c827...        FTL   \n19015   thanos::sroute:02e5cbc5-8881-493e-a7b9-c8ab5bb...        FTL   \n136804  thanos::sroute:55feac1b-306e-4408-8dc2-c84626a...        FTL   \n100787  thanos::sroute:ed7c7fe2-4d4f-41cd-97b2-8804df7...    Carting   \n\n                      trip_uuid source_center  \\\n27541   trip-153840268661544382  IND000000ACB   \n110555  trip-153671307622926083  IND413304AAA   \n9435    trip-153755476136378416  IND501359AAE   \n127147  trip-153771099960449196  IND110037AAM   \n66401   trip-153844113629077468  IND842001AAA   \n120051  trip-153853253643339248  IND124112AAA   \n92730   trip-153720288470100912  IND680012AAA   \n57530   trip-153680367337554523  IND723130AAA   \n3       trip-153741093647649320  IND388121AAA   \n73637   trip-153808450542539811  IND742401AAA   \n138447  trip-153677396067330881  IND000000ADV   \n75896   trip-153817876411370435  IND600044AAD   \n115789  trip-153784379389050953  IND421302AAG   \n123759  trip-153808789137158698  IND642126AAA   \n108822  trip-153784505739538703  IND212402AAA   \n82874   trip-153858972907220043  IND472001AAA   \n92850   trip-153816266832648098  IND341510AAB   \n19015   trip-153715631201454340  IND464001AAA   \n136804  trip-153782299004509229  IND509001AAA   \n100787  trip-153707220125778005  IND712311AAA   \n\n                                   source_name destination_center  \\\n27541            Gurgaon_Bilaspur_HB (Haryana)       IND712311AAA   \n110555     Pandharpur_RajCmplx_D (Maharashtra)       IND415301AAB   \n9435          Hyderabad_Shamshbd_H (Telangana)       IND462022AAA   \n127147                 Delhi_Airport_H (Delhi)       IND202001AAB   \n66401              Muzaffrpur_Bbganj_I (Bihar)       IND845438AAA   \n120051               Meham_GModDPP_D (Haryana)       IND125001AAA   \n92730              Arimbur_Veluthur_D (Kerala)       IND679303AAA   \n57530           Hura_Central_D_1 (West Bengal)       IND723101AAA   \n3                   Anand_VUNagar_DC (Gujarat)       IND388620AAB   \n73637   Ghanashyampur_NditaDPP_D (West Bengal)       IND742102AAB   \n138447         Chennai_Mdhavram_C (Tamil Nadu)       IND600044AAC   \n75896        Chennai_Chrompet_DPC (Tamil Nadu)       IND603001AAA   \n115789       Bhiwandi_Mankoli_HB (Maharashtra)       IND000000ACB   \n123759       Udumalpet_Artclgrd_D (Tamil Nadu)       IND642001AAA   \n108822      Phulpur_Shekhpur_D (Uttar Pradesh)       IND211002AAB   \n82874    Tikamgarh_MndiRoad_D (Madhya Pradesh)       IND485001AAC   \n92850          Merta_Central_DPP_1 (Rajasthan)       IND305001AAC   \n19015      Vidisha_ShrprDPP_D (Madhya Pradesh)       IND464221AAA   \n136804             Mahabubnagar_DC (Telangana)       IND509203AAA   \n100787        Kolkata_Dankuni_HB (West Bengal)       IND700065AAA   \n\n                             destination_name               od_start_time  \\\n27541        Kolkata_Dankuni_HB (West Bengal)  2018-10-01 14:04:46.615696   \n110555       Atapadi_Vidyangr_D (Maharashtra)  2018-09-12 03:29:08.883016   \n9435       Bhopal_Trnsport_H (Madhya Pradesh)  2018-09-22 18:12:24.354392   \n127147     Aligarh_KhirByps_I (Uttar Pradesh)  2018-09-23 13:56:39.604748   \n66401              Bettiah_BypassRd_D (Bihar)  2018-10-02 00:45:36.291037   \n120051             Hisar_ModelTwn_P (Haryana)  2018-10-03 13:05:50.129014   \n92730    Sankaramangalam_Central_D_1 (Kerala)  2018-09-18 00:48:12.687598   \n57530         Purulia_GariDPP_D (West Bengal)  2018-09-13 08:25:53.926550   \n3               Khambhat_MotvdDPP_D (Gujarat)  2018-09-20 03:21:32.418600   \n73637    Berhampore_Central_I_2 (West Bengal)  2018-09-28 05:15:18.846801   \n138447       Chennai_Chrompet_PC (Tamil Nadu)  2018-09-12 17:39:20.673568   \n75896        Chennai_Chnglptu_DC (Tamil Nadu)  2018-09-28 23:52:44.113953   \n115789          Gurgaon_Bilaspur_HB (Haryana)  2018-09-25 02:49:53.890770   \n123759      Pollachi_Venkatsa_DC (Tamil Nadu)  2018-09-28 02:45:53.082218   \n108822  Allahabad_Central_H_1 (Uttar Pradesh)  2018-09-25 08:31:12.041558   \n82874      Satna_Central_I_2 (Madhya Pradesh)  2018-10-04 06:04:00.247162   \n92850            Ajmer_FoySGRRD_I (Rajasthan)  2018-09-29 09:12:33.824512   \n19015   GanjBasoda_MnRDDPP_D (Madhya Pradesh)  2018-09-17 08:56:44.670744   \n136804         Bijnapally_nagar_D (Telangana)  2018-09-25 01:15:10.742464   \n100787       CCU_Beliaghata_DPC (West Bengal)  2018-09-16 04:29:53.383201   \n\n        ...            cutoff_timestamp  actual_distance_to_destination  \\\n27541   ...         2018-10-02 11:47:30                      594.581894   \n110555  ...  2018-09-12 03:29:08.883016                       47.489816   \n9435    ...         2018-09-23 15:41:55                       44.530687   \n127147  ...         2018-09-23 19:59:19                       44.376974   \n66401   ...         2018-10-02 01:44:30                      110.053843   \n120051  ...         2018-10-03 13:44:08                       44.837243   \n92730   ...         2018-09-18 01:15:22                       36.105388   \n57530   ...         2018-09-13 08:47:56                       23.264025   \n3       ...         2018-09-20 03:39:57                       36.118028   \n73637   ...         2018-09-28 05:29:55                       38.068799   \n138447  ...         2018-09-12 18:11:21                       27.113270   \n75896   ...         2018-09-29 01:20:32                       18.029490   \n115789  ...         2018-09-25 18:06:02                      638.678265   \n123759  ...         2018-09-28 03:14:43                       19.516073   \n108822  ...         2018-09-25 09:33:29                       41.937948   \n82874   ...         2018-10-04 12:21:53                       23.560496   \n92850   ...         2018-09-29 10:23:40                       22.268560   \n19015   ...         2018-09-17 09:47:56                       22.720856   \n136804  ...         2018-09-25 01:33:25                       31.833778   \n100787  ...         2018-09-16 05:41:21                        9.272566   \n\n        actual_time  osrm_time osrm_distance     factor  segment_actual_time  \\\n27541        1125.0      446.0      632.1619   2.522422                 54.0   \n110555         72.0       53.0       57.2303   1.358491                  8.0   \n9435           99.0       38.0       54.2642   2.605263                 37.0   \n127147         64.0       46.0       46.1241   1.391304                 29.0   \n66401         180.0       90.0      128.1000   2.000000                 23.0   \n120051         92.0       37.0       46.1375   2.486486                 28.0   \n92730          55.0       41.0       43.1098   1.341463                 15.0   \n57530          31.0       18.0       25.5382   1.722222                 31.0   \n3              62.0       40.0       45.5620   1.550000                 21.0   \n73637         176.0       62.0       54.9413   2.838710                  2.0   \n138447         52.0       34.0       36.8608   1.529412                 18.0   \n75896          42.0       15.0       20.1884   2.800000                 24.0   \n115789        862.0      548.0      756.5840   1.572993                 24.0   \n123759         23.0       20.0       20.5886   1.150000                  9.0   \n108822       1027.0       36.0       49.2560  28.527778                 19.0   \n82874          52.0       19.0       23.9741   2.736842                 52.0   \n92850          72.0       26.0       33.4870   2.769231                 72.0   \n19015          55.0       68.0       74.5083   0.808824                 55.0   \n136804         56.0       34.0       38.0280   1.647059                 28.0   \n100787         46.0       16.0       13.0705   2.875000                 46.0   \n\n        segment_osrm_time  segment_osrm_distance  segment_factor  \n27541                17.0                25.2526        3.176471  \n110555               10.0                11.1340        0.800000  \n9435                 18.0                25.6056        2.055556  \n127147               28.0                21.4328        1.035714  \n66401                19.0                26.8737        1.210526  \n120051               16.0                22.6762        1.750000  \n92730                11.0                10.6043        1.363636  \n57530                18.0                25.5382        1.722222  \n3                    12.0                13.0224        1.750000  \n73637                 1.0                 1.0833        2.000000  \n138447               12.0                13.6702        1.500000  \n75896                 7.0                 9.8308        3.428571  \n115789               22.0                24.8645        1.090909  \n123759                9.0                 9.8067        1.000000  \n108822                3.0                 4.8578        6.333333  \n82874                19.0                23.9741        2.736842  \n92850                26.0                33.4870        2.769231  \n19015                68.0                74.5083        0.808824  \n136804               12.0                14.0540        2.333333  \n100787               16.0                13.0705        2.875000  \n\n[20 rows x 24 columns]",
      "text/html": "<div>\n<style scoped>\n    .dataframe tbody tr th:only-of-type {\n        vertical-align: middle;\n    }\n\n    .dataframe tbody tr th {\n        vertical-align: top;\n    }\n\n    .dataframe thead th {\n        text-align: right;\n    }\n</style>\n<table border=\"1\" class=\"dataframe\">\n  <thead>\n    <tr style=\"text-align: right;\">\n      <th></th>\n      <th>data</th>\n      <th>trip_creation_time</th>\n      <th>route_schedule_uuid</th>\n      <th>route_type</th>\n      <th>trip_uuid</th>\n      <th>source_center</th>\n      <th>source_name</th>\n      <th>destination_center</th>\n      <th>destination_name</th>\n      <th>od_start_time</th>\n      <th>...</th>\n      <th>cutoff_timestamp</th>\n      <th>actual_distance_to_destination</th>\n      <th>actual_time</th>\n      <th>osrm_time</th>\n      <th>osrm_distance</th>\n      <th>factor</th>\n      <th>segment_actual_time</th>\n      <th>segment_osrm_time</th>\n      <th>segment_osrm_distance</th>\n      <th>segment_factor</th>\n    </tr>\n  </thead>\n  <tbody>\n    <tr>\n      <th>27541</th>\n      <td>test</td>\n      <td>2018-10-01 14:04:46.615696</td>\n      <td>thanos::sroute:bc7dbb1d-9379-4674-b8d3-f9c3b96...</td>\n      <td>FTL</td>\n      <td>trip-153840268661544382</td>\n      <td>IND000000ACB</td>\n      <td>Gurgaon_Bilaspur_HB (Haryana)</td>\n      <td>IND712311AAA</td>\n      <td>Kolkata_Dankuni_HB (West Bengal)</td>\n      <td>2018-10-01 14:04:46.615696</td>\n      <td>...</td>\n      <td>2018-10-02 11:47:30</td>\n      <td>594.581894</td>\n      <td>1125.0</td>\n      <td>446.0</td>\n      <td>632.1619</td>\n      <td>2.522422</td>\n      <td>54.0</td>\n      <td>17.0</td>\n      <td>25.2526</td>\n      <td>3.176471</td>\n    </tr>\n    <tr>\n      <th>110555</th>\n      <td>training</td>\n      <td>2018-09-12 00:44:36.229517</td>\n      <td>thanos::sroute:2b217b8b-1ceb-45f8-a03a-08952fc...</td>\n      <td>Carting</td>\n      <td>trip-153671307622926083</td>\n      <td>IND413304AAA</td>\n      <td>Pandharpur_RajCmplx_D (Maharashtra)</td>\n      <td>IND415301AAB</td>\n      <td>Atapadi_Vidyangr_D (Maharashtra)</td>\n      <td>2018-09-12 03:29:08.883016</td>\n      <td>...</td>\n      <td>2018-09-12 03:29:08.883016</td>\n      <td>47.489816</td>\n      <td>72.0</td>\n      <td>53.0</td>\n      <td>57.2303</td>\n      <td>1.358491</td>\n      <td>8.0</td>\n      <td>10.0</td>\n      <td>11.1340</td>\n      <td>0.800000</td>\n    </tr>\n    <tr>\n      <th>9435</th>\n      <td>training</td>\n      <td>2018-09-21 18:32:41.364041</td>\n      <td>thanos::sroute:ef440d0b-5e79-4fe0-a7de-1cfa8c2...</td>\n      <td>FTL</td>\n      <td>trip-153755476136378416</td>\n      <td>IND501359AAE</td>\n      <td>Hyderabad_Shamshbd_H (Telangana)</td>\n      <td>IND462022AAA</td>\n      <td>Bhopal_Trnsport_H (Madhya Pradesh)</td>\n      <td>2018-09-22 18:12:24.354392</td>\n      <td>...</td>\n      <td>2018-09-23 15:41:55</td>\n      <td>44.530687</td>\n      <td>99.0</td>\n      <td>38.0</td>\n      <td>54.2642</td>\n      <td>2.605263</td>\n      <td>37.0</td>\n      <td>18.0</td>\n      <td>25.6056</td>\n      <td>2.055556</td>\n    </tr>\n    <tr>\n      <th>127147</th>\n      <td>training</td>\n      <td>2018-09-23 13:56:39.604748</td>\n      <td>thanos::sroute:731fb539-6925-459c-8074-17df8b6...</td>\n      <td>FTL</td>\n      <td>trip-153771099960449196</td>\n      <td>IND110037AAM</td>\n      <td>Delhi_Airport_H (Delhi)</td>\n      <td>IND202001AAB</td>\n      <td>Aligarh_KhirByps_I (Uttar Pradesh)</td>\n      <td>2018-09-23 13:56:39.604748</td>\n      <td>...</td>\n      <td>2018-09-23 19:59:19</td>\n      <td>44.376974</td>\n      <td>64.0</td>\n      <td>46.0</td>\n      <td>46.1241</td>\n      <td>1.391304</td>\n      <td>29.0</td>\n      <td>28.0</td>\n      <td>21.4328</td>\n      <td>1.035714</td>\n    </tr>\n    <tr>\n      <th>66401</th>\n      <td>test</td>\n      <td>2018-10-02 00:45:36.291037</td>\n      <td>thanos::sroute:c427d4a6-205a-4c62-be78-7dac143...</td>\n      <td>FTL</td>\n      <td>trip-153844113629077468</td>\n      <td>IND842001AAA</td>\n      <td>Muzaffrpur_Bbganj_I (Bihar)</td>\n      <td>IND845438AAA</td>\n      <td>Bettiah_BypassRd_D (Bihar)</td>\n      <td>2018-10-02 00:45:36.291037</td>\n      <td>...</td>\n      <td>2018-10-02 01:44:30</td>\n      <td>110.053843</td>\n      <td>180.0</td>\n      <td>90.0</td>\n      <td>128.1000</td>\n      <td>2.000000</td>\n      <td>23.0</td>\n      <td>19.0</td>\n      <td>26.8737</td>\n      <td>1.210526</td>\n    </tr>\n    <tr>\n      <th>120051</th>\n      <td>test</td>\n      <td>2018-10-03 02:08:56.433771</td>\n      <td>thanos::sroute:ea7ffec5-756e-450d-9fbf-9466b8e...</td>\n      <td>FTL</td>\n      <td>trip-153853253643339248</td>\n      <td>IND124112AAA</td>\n      <td>Meham_GModDPP_D (Haryana)</td>\n      <td>IND125001AAA</td>\n      <td>Hisar_ModelTwn_P (Haryana)</td>\n      <td>2018-10-03 13:05:50.129014</td>\n      <td>...</td>\n      <td>2018-10-03 13:44:08</td>\n      <td>44.837243</td>\n      <td>92.0</td>\n      <td>37.0</td>\n      <td>46.1375</td>\n      <td>2.486486</td>\n      <td>28.0</td>\n      <td>16.0</td>\n      <td>22.6762</td>\n      <td>1.750000</td>\n    </tr>\n    <tr>\n      <th>92730</th>\n      <td>training</td>\n      <td>2018-09-17 16:48:04.701262</td>\n      <td>thanos::sroute:9161ccfd-ff50-4210-b6d1-40b10ab...</td>\n      <td>Carting</td>\n      <td>trip-153720288470100912</td>\n      <td>IND680012AAA</td>\n      <td>Arimbur_Veluthur_D (Kerala)</td>\n      <td>IND679303AAA</td>\n      <td>Sankaramangalam_Central_D_1 (Kerala)</td>\n      <td>2018-09-18 00:48:12.687598</td>\n      <td>...</td>\n      <td>2018-09-18 01:15:22</td>\n      <td>36.105388</td>\n      <td>55.0</td>\n      <td>41.0</td>\n      <td>43.1098</td>\n      <td>1.341463</td>\n      <td>15.0</td>\n      <td>11.0</td>\n      <td>10.6043</td>\n      <td>1.363636</td>\n    </tr>\n    <tr>\n      <th>57530</th>\n      <td>training</td>\n      <td>2018-09-13 01:54:33.375941</td>\n      <td>thanos::sroute:8a7e68b3-2a05-489f-85a1-5ccfbf6...</td>\n      <td>FTL</td>\n      <td>trip-153680367337554523</td>\n      <td>IND723130AAA</td>\n      <td>Hura_Central_D_1 (West Bengal)</td>\n      <td>IND723101AAA</td>\n      <td>Purulia_GariDPP_D (West Bengal)</td>\n      <td>2018-09-13 08:25:53.926550</td>\n      <td>...</td>\n      <td>2018-09-13 08:47:56</td>\n      <td>23.264025</td>\n      <td>31.0</td>\n      <td>18.0</td>\n      <td>25.5382</td>\n      <td>1.722222</td>\n      <td>31.0</td>\n      <td>18.0</td>\n      <td>25.5382</td>\n      <td>1.722222</td>\n    </tr>\n    <tr>\n      <th>3</th>\n      <td>training</td>\n      <td>2018-09-20 02:35:36.476840</td>\n      <td>thanos::sroute:eb7bfc78-b351-4c0e-a951-fa3d5c3...</td>\n      <td>Carting</td>\n      <td>trip-153741093647649320</td>\n      <td>IND388121AAA</td>\n      <td>Anand_VUNagar_DC (Gujarat)</td>\n      <td>IND388620AAB</td>\n      <td>Khambhat_MotvdDPP_D (Gujarat)</td>\n      <td>2018-09-20 03:21:32.418600</td>\n      <td>...</td>\n      <td>2018-09-20 03:39:57</td>\n      <td>36.118028</td>\n      <td>62.0</td>\n      <td>40.0</td>\n      <td>45.5620</td>\n      <td>1.550000</td>\n      <td>21.0</td>\n      <td>12.0</td>\n      <td>13.0224</td>\n      <td>1.750000</td>\n    </tr>\n    <tr>\n      <th>73637</th>\n      <td>test</td>\n      <td>2018-09-27 21:41:45.425778</td>\n      <td>thanos::sroute:6587bfb1-f715-4237-a145-b7c86f0...</td>\n      <td>Carting</td>\n      <td>trip-153808450542539811</td>\n      <td>IND742401AAA</td>\n      <td>Ghanashyampur_NditaDPP_D (West Bengal)</td>\n      <td>IND742102AAB</td>\n      <td>Berhampore_Central_I_2 (West Bengal)</td>\n      <td>2018-09-28 05:15:18.846801</td>\n      <td>...</td>\n      <td>2018-09-28 05:29:55</td>\n      <td>38.068799</td>\n      <td>176.0</td>\n      <td>62.0</td>\n      <td>54.9413</td>\n      <td>2.838710</td>\n      <td>2.0</td>\n      <td>1.0</td>\n      <td>1.0833</td>\n      <td>2.000000</td>\n    </tr>\n    <tr>\n      <th>138447</th>\n      <td>training</td>\n      <td>2018-09-12 17:39:20.673568</td>\n      <td>thanos::sroute:a55479f7-a834-41f4-8b3a-a6764ea...</td>\n      <td>Carting</td>\n      <td>trip-153677396067330881</td>\n      <td>IND000000ADV</td>\n      <td>Chennai_Mdhavram_C (Tamil Nadu)</td>\n      <td>IND600044AAC</td>\n      <td>Chennai_Chrompet_PC (Tamil Nadu)</td>\n      <td>2018-09-12 17:39:20.673568</td>\n      <td>...</td>\n      <td>2018-09-12 18:11:21</td>\n      <td>27.113270</td>\n      <td>52.0</td>\n      <td>34.0</td>\n      <td>36.8608</td>\n      <td>1.529412</td>\n      <td>18.0</td>\n      <td>12.0</td>\n      <td>13.6702</td>\n      <td>1.500000</td>\n    </tr>\n    <tr>\n      <th>75896</th>\n      <td>test</td>\n      <td>2018-09-28 23:52:44.113953</td>\n      <td>thanos::sroute:d1820d5b-74d1-4647-a4c2-77afb9c...</td>\n      <td>Carting</td>\n      <td>trip-153817876411370435</td>\n      <td>IND600044AAD</td>\n      <td>Chennai_Chrompet_DPC (Tamil Nadu)</td>\n      <td>IND603001AAA</td>\n      <td>Chennai_Chnglptu_DC (Tamil Nadu)</td>\n      <td>2018-09-28 23:52:44.113953</td>\n      <td>...</td>\n      <td>2018-09-29 01:20:32</td>\n      <td>18.029490</td>\n      <td>42.0</td>\n      <td>15.0</td>\n      <td>20.1884</td>\n      <td>2.800000</td>\n      <td>24.0</td>\n      <td>7.0</td>\n      <td>9.8308</td>\n      <td>3.428571</td>\n    </tr>\n    <tr>\n      <th>115789</th>\n      <td>training</td>\n      <td>2018-09-25 02:49:53.890770</td>\n      <td>thanos::sroute:951d77aa-4725-4c4e-882d-42acc35...</td>\n      <td>FTL</td>\n      <td>trip-153784379389050953</td>\n      <td>IND421302AAG</td>\n      <td>Bhiwandi_Mankoli_HB (Maharashtra)</td>\n      <td>IND000000ACB</td>\n      <td>Gurgaon_Bilaspur_HB (Haryana)</td>\n      <td>2018-09-25 02:49:53.890770</td>\n      <td>...</td>\n      <td>2018-09-25 18:06:02</td>\n      <td>638.678265</td>\n      <td>862.0</td>\n      <td>548.0</td>\n      <td>756.5840</td>\n      <td>1.572993</td>\n      <td>24.0</td>\n      <td>22.0</td>\n      <td>24.8645</td>\n      <td>1.090909</td>\n    </tr>\n    <tr>\n      <th>123759</th>\n      <td>test</td>\n      <td>2018-09-27 22:38:11.371840</td>\n      <td>thanos::sroute:a47a9fc6-858c-4a83-b7fc-760c9de...</td>\n      <td>Carting</td>\n      <td>trip-153808789137158698</td>\n      <td>IND642126AAA</td>\n      <td>Udumalpet_Artclgrd_D (Tamil Nadu)</td>\n      <td>IND642001AAA</td>\n      <td>Pollachi_Venkatsa_DC (Tamil Nadu)</td>\n      <td>2018-09-28 02:45:53.082218</td>\n      <td>...</td>\n      <td>2018-09-28 03:14:43</td>\n      <td>19.516073</td>\n      <td>23.0</td>\n      <td>20.0</td>\n      <td>20.5886</td>\n      <td>1.150000</td>\n      <td>9.0</td>\n      <td>9.0</td>\n      <td>9.8067</td>\n      <td>1.000000</td>\n    </tr>\n    <tr>\n      <th>108822</th>\n      <td>training</td>\n      <td>2018-09-25 03:10:57.395642</td>\n      <td>thanos::sroute:e9b2d11d-a4ff-4744-bff5-cdabe54...</td>\n      <td>Carting</td>\n      <td>trip-153784505739538703</td>\n      <td>IND212402AAA</td>\n      <td>Phulpur_Shekhpur_D (Uttar Pradesh)</td>\n      <td>IND211002AAB</td>\n      <td>Allahabad_Central_H_1 (Uttar Pradesh)</td>\n      <td>2018-09-25 08:31:12.041558</td>\n      <td>...</td>\n      <td>2018-09-25 09:33:29</td>\n      <td>41.937948</td>\n      <td>1027.0</td>\n      <td>36.0</td>\n      <td>49.2560</td>\n      <td>28.527778</td>\n      <td>19.0</td>\n      <td>3.0</td>\n      <td>4.8578</td>\n      <td>6.333333</td>\n    </tr>\n    <tr>\n      <th>82874</th>\n      <td>test</td>\n      <td>2018-10-03 18:02:09.072458</td>\n      <td>thanos::sroute:cd69fb4c-8a2d-4885-b9ff-c4819c6...</td>\n      <td>FTL</td>\n      <td>trip-153858972907220043</td>\n      <td>IND472001AAA</td>\n      <td>Tikamgarh_MndiRoad_D (Madhya Pradesh)</td>\n      <td>IND485001AAC</td>\n      <td>Satna_Central_I_2 (Madhya Pradesh)</td>\n      <td>2018-10-04 06:04:00.247162</td>\n      <td>...</td>\n      <td>2018-10-04 12:21:53</td>\n      <td>23.560496</td>\n      <td>52.0</td>\n      <td>19.0</td>\n      <td>23.9741</td>\n      <td>2.736842</td>\n      <td>52.0</td>\n      <td>19.0</td>\n      <td>23.9741</td>\n      <td>2.736842</td>\n    </tr>\n    <tr>\n      <th>92850</th>\n      <td>test</td>\n      <td>2018-09-28 19:24:28.326703</td>\n      <td>thanos::sroute:981e3306-1209-469c-87ab-3c7c827...</td>\n      <td>FTL</td>\n      <td>trip-153816266832648098</td>\n      <td>IND341510AAB</td>\n      <td>Merta_Central_DPP_1 (Rajasthan)</td>\n      <td>IND305001AAC</td>\n      <td>Ajmer_FoySGRRD_I (Rajasthan)</td>\n      <td>2018-09-29 09:12:33.824512</td>\n      <td>...</td>\n      <td>2018-09-29 10:23:40</td>\n      <td>22.268560</td>\n      <td>72.0</td>\n      <td>26.0</td>\n      <td>33.4870</td>\n      <td>2.769231</td>\n      <td>72.0</td>\n      <td>26.0</td>\n      <td>33.4870</td>\n      <td>2.769231</td>\n    </tr>\n    <tr>\n      <th>19015</th>\n      <td>training</td>\n      <td>2018-09-17 03:51:52.014776</td>\n      <td>thanos::sroute:02e5cbc5-8881-493e-a7b9-c8ab5bb...</td>\n      <td>FTL</td>\n      <td>trip-153715631201454340</td>\n      <td>IND464001AAA</td>\n      <td>Vidisha_ShrprDPP_D (Madhya Pradesh)</td>\n      <td>IND464221AAA</td>\n      <td>GanjBasoda_MnRDDPP_D (Madhya Pradesh)</td>\n      <td>2018-09-17 08:56:44.670744</td>\n      <td>...</td>\n      <td>2018-09-17 09:47:56</td>\n      <td>22.720856</td>\n      <td>55.0</td>\n      <td>68.0</td>\n      <td>74.5083</td>\n      <td>0.808824</td>\n      <td>55.0</td>\n      <td>68.0</td>\n      <td>74.5083</td>\n      <td>0.808824</td>\n    </tr>\n    <tr>\n      <th>136804</th>\n      <td>training</td>\n      <td>2018-09-24 21:03:10.045345</td>\n      <td>thanos::sroute:55feac1b-306e-4408-8dc2-c84626a...</td>\n      <td>FTL</td>\n      <td>trip-153782299004509229</td>\n      <td>IND509001AAA</td>\n      <td>Mahabubnagar_DC (Telangana)</td>\n      <td>IND509203AAA</td>\n      <td>Bijnapally_nagar_D (Telangana)</td>\n      <td>2018-09-25 01:15:10.742464</td>\n      <td>...</td>\n      <td>2018-09-25 01:33:25</td>\n      <td>31.833778</td>\n      <td>56.0</td>\n      <td>34.0</td>\n      <td>38.0280</td>\n      <td>1.647059</td>\n      <td>28.0</td>\n      <td>12.0</td>\n      <td>14.0540</td>\n      <td>2.333333</td>\n    </tr>\n    <tr>\n      <th>100787</th>\n      <td>training</td>\n      <td>2018-09-16 04:29:53.383201</td>\n      <td>thanos::sroute:ed7c7fe2-4d4f-41cd-97b2-8804df7...</td>\n      <td>Carting</td>\n      <td>trip-153707220125778005</td>\n      <td>IND712311AAA</td>\n      <td>Kolkata_Dankuni_HB (West Bengal)</td>\n      <td>IND700065AAA</td>\n      <td>CCU_Beliaghata_DPC (West Bengal)</td>\n      <td>2018-09-16 04:29:53.383201</td>\n      <td>...</td>\n      <td>2018-09-16 05:41:21</td>\n      <td>9.272566</td>\n      <td>46.0</td>\n      <td>16.0</td>\n      <td>13.0705</td>\n      <td>2.875000</td>\n      <td>46.0</td>\n      <td>16.0</td>\n      <td>13.0705</td>\n      <td>2.875000</td>\n    </tr>\n  </tbody>\n</table>\n<p>20 rows × 24 columns</p>\n</div>"
     },
     "execution_count": 38,
     "metadata": {},
     "output_type": "execute_result"
    }
   ],
   "source": [
    "df.sample(20)"
   ],
   "metadata": {
    "collapsed": false,
    "ExecuteTime": {
     "end_time": "2023-08-01T11:40:08.959334300Z",
     "start_time": "2023-08-01T11:40:08.922071900Z"
    }
   },
   "id": "45728a3f50b9e8a6"
  },
  {
   "cell_type": "markdown",
   "source": [
    "# Basic Data Exploration\n",
    "-  Under Column Profiling, we can see there are few Null Values for destination name and source name \n",
    "-  It was Decided to fill them up with Mode of both source_name and destination_name "
   ],
   "metadata": {
    "collapsed": false
   },
   "id": "502d468c5ce8cd1b"
  },
  {
   "cell_type": "markdown",
   "source": [
    " Dropping Unnecessary Columns"
   ],
   "metadata": {
    "collapsed": false
   },
   "id": "3298af824abca174"
  },
  {
   "cell_type": "code",
   "execution_count": 39,
   "outputs": [],
   "source": [
    "df.drop(['is_cutoff','cutoff_factor','cutoff_timestamp','factor','segment_factor'],axis=1,inplace=True)"
   ],
   "metadata": {
    "collapsed": false,
    "ExecuteTime": {
     "end_time": "2023-08-01T11:40:12.703935Z",
     "start_time": "2023-08-01T11:40:12.663932300Z"
    }
   },
   "id": "3e5599425de7ea81"
  },
  {
   "cell_type": "markdown",
   "source": [
    "\n",
    "## Basic Column Profiling\n"
   ],
   "metadata": {
    "collapsed": false
   },
   "id": "f09f84e73f1160f"
  },
  {
   "cell_type": "code",
   "execution_count": 40,
   "outputs": [
    {
     "name": "stdout",
     "output_type": "stream",
     "text": [
      "<class 'pandas.core.frame.DataFrame'>\n",
      "RangeIndex: 144867 entries, 0 to 144866\n",
      "Data columns (total 19 columns):\n",
      " #   Column                          Non-Null Count   Dtype  \n",
      "---  ------                          --------------   -----  \n",
      " 0   data                            144867 non-null  object \n",
      " 1   trip_creation_time              144867 non-null  object \n",
      " 2   route_schedule_uuid             144867 non-null  object \n",
      " 3   route_type                      144867 non-null  object \n",
      " 4   trip_uuid                       144867 non-null  object \n",
      " 5   source_center                   144867 non-null  object \n",
      " 6   source_name                     144574 non-null  object \n",
      " 7   destination_center              144867 non-null  object \n",
      " 8   destination_name                144606 non-null  object \n",
      " 9   od_start_time                   144867 non-null  object \n",
      " 10  od_end_time                     144867 non-null  object \n",
      " 11  start_scan_to_end_scan          144867 non-null  float64\n",
      " 12  actual_distance_to_destination  144867 non-null  float64\n",
      " 13  actual_time                     144867 non-null  float64\n",
      " 14  osrm_time                       144867 non-null  float64\n",
      " 15  osrm_distance                   144867 non-null  float64\n",
      " 16  segment_actual_time             144867 non-null  float64\n",
      " 17  segment_osrm_time               144867 non-null  float64\n",
      " 18  segment_osrm_distance           144867 non-null  float64\n",
      "dtypes: float64(8), object(11)\n",
      "memory usage: 21.0+ MB\n"
     ]
    }
   ],
   "source": [
    "df.info()"
   ],
   "metadata": {
    "collapsed": false,
    "ExecuteTime": {
     "end_time": "2023-08-01T11:40:16.263472500Z",
     "start_time": "2023-08-01T11:40:16.118152400Z"
    }
   },
   "id": "11bce4131ba37968"
  },
  {
   "cell_type": "markdown",
   "source": [
    "## Dealing With Null Values"
   ],
   "metadata": {
    "collapsed": false
   },
   "id": "2feb75bb48bd9759"
  },
  {
   "cell_type": "code",
   "execution_count": 41,
   "outputs": [
    {
     "data": {
      "text/plain": "Index(['source_name', 'destination_name'], dtype='object')"
     },
     "execution_count": 41,
     "metadata": {},
     "output_type": "execute_result"
    }
   ],
   "source": [
    "df.columns[df.isna().any()]"
   ],
   "metadata": {
    "collapsed": false,
    "ExecuteTime": {
     "end_time": "2023-08-01T11:40:19.860832400Z",
     "start_time": "2023-08-01T11:40:19.712035800Z"
    }
   },
   "id": "aecbf5bb533b0afd"
  },
  {
   "cell_type": "code",
   "execution_count": 43,
   "outputs": [
    {
     "data": {
      "text/plain": "data                                0\ntrip_creation_time                  0\nroute_schedule_uuid                 0\nroute_type                          0\ntrip_uuid                           0\nsource_center                       0\nsource_name                       293\ndestination_center                  0\ndestination_name                  261\nod_start_time                       0\nod_end_time                         0\nstart_scan_to_end_scan              0\nactual_distance_to_destination      0\nactual_time                         0\nosrm_time                           0\nosrm_distance                       0\nsegment_actual_time                 0\nsegment_osrm_time                   0\nsegment_osrm_distance               0\ndtype: int64"
     },
     "execution_count": 43,
     "metadata": {},
     "output_type": "execute_result"
    }
   ],
   "source": [
    "df.isna().sum()"
   ],
   "metadata": {
    "collapsed": false,
    "ExecuteTime": {
     "end_time": "2023-08-01T11:40:35.944887Z",
     "start_time": "2023-08-01T11:40:35.799768600Z"
    }
   },
   "id": "43a4fd61d0391b51"
  },
  {
   "cell_type": "code",
   "execution_count": 42,
   "outputs": [
    {
     "data": {
      "text/plain": "data                              0.000000\ntrip_creation_time                0.000000\nroute_schedule_uuid               0.000000\nroute_type                        0.000000\ntrip_uuid                         0.000000\nsource_center                     0.000000\nsource_name                       0.202254\ndestination_center                0.000000\ndestination_name                  0.180165\nod_start_time                     0.000000\nod_end_time                       0.000000\nstart_scan_to_end_scan            0.000000\nactual_distance_to_destination    0.000000\nactual_time                       0.000000\nosrm_time                         0.000000\nosrm_distance                     0.000000\nsegment_actual_time               0.000000\nsegment_osrm_time                 0.000000\nsegment_osrm_distance             0.000000\ndtype: float64"
     },
     "execution_count": 42,
     "metadata": {},
     "output_type": "execute_result"
    }
   ],
   "source": [
    "df.isna().sum()/df.shape[0] *100"
   ],
   "metadata": {
    "collapsed": false,
    "ExecuteTime": {
     "end_time": "2023-08-01T11:40:22.023360600Z",
     "start_time": "2023-08-01T11:40:21.872794Z"
    }
   },
   "id": "8b31414ef9fcd894"
  },
  {
   "cell_type": "markdown",
   "source": [
    "Haryana Has been the most frequent place where destination name is not present "
   ],
   "metadata": {
    "collapsed": false
   },
   "id": "74026cab7c83c944"
  },
  {
   "cell_type": "code",
   "execution_count": 9,
   "outputs": [
    {
     "data": {
      "text/plain": "0    Gurgaon_Bilaspur_HB (Haryana)\nName: source_name, dtype: object"
     },
     "execution_count": 9,
     "metadata": {},
     "output_type": "execute_result"
    }
   ],
   "source": [
    "df[df.isnull().any(axis=1)]['source_name'].mode()"
   ],
   "metadata": {
    "collapsed": false,
    "ExecuteTime": {
     "end_time": "2023-08-01T11:24:58.718456900Z",
     "start_time": "2023-08-01T11:24:58.520410300Z"
    }
   },
   "id": "8f340e03ad98f64e"
  },
  {
   "cell_type": "markdown",
   "source": [
    "Rajasthan Has been the most frequent place where Source name is not present "
   ],
   "metadata": {
    "collapsed": false
   },
   "id": "c7b991314efb88b1"
  },
  {
   "cell_type": "code",
   "execution_count": 10,
   "outputs": [
    {
     "data": {
      "text/plain": "0    Jaipur_Hub (Rajasthan)\nName: destination_name, dtype: object"
     },
     "execution_count": 10,
     "metadata": {},
     "output_type": "execute_result"
    }
   ],
   "source": [
    "df[df.isnull().any(axis=1)]['destination_name'].mode()"
   ],
   "metadata": {
    "collapsed": false,
    "ExecuteTime": {
     "end_time": "2023-08-01T11:25:00.291425400Z",
     "start_time": "2023-08-01T11:25:00.115261100Z"
    }
   },
   "id": "30660a4c0dd5b324"
  },
  {
   "cell_type": "markdown",
   "source": [
    "Overview of Null Data where Source_Name is Haryana "
   ],
   "metadata": {
    "collapsed": false
   },
   "id": "f2fbdd0db841acf4"
  },
  {
   "cell_type": "code",
   "execution_count": 44,
   "outputs": [
    {
     "data": {
      "text/plain": "            data route_type source_center                    source_name  \\\n12698   training        FTL  IND000000ACB  Gurgaon_Bilaspur_HB (Haryana)   \n12699   training        FTL  IND000000ACB  Gurgaon_Bilaspur_HB (Haryana)   \n12700   training        FTL  IND000000ACB  Gurgaon_Bilaspur_HB (Haryana)   \n12701   training        FTL  IND000000ACB  Gurgaon_Bilaspur_HB (Haryana)   \n12702   training        FTL  IND000000ACB  Gurgaon_Bilaspur_HB (Haryana)   \n...          ...        ...           ...                            ...   \n144478      test        FTL  IND000000ACB  Gurgaon_Bilaspur_HB (Haryana)   \n144479      test        FTL  IND000000ACB  Gurgaon_Bilaspur_HB (Haryana)   \n144480      test        FTL  IND000000ACB  Gurgaon_Bilaspur_HB (Haryana)   \n144481      test        FTL  IND000000ACB  Gurgaon_Bilaspur_HB (Haryana)   \n144482      test        FTL  IND000000ACB  Gurgaon_Bilaspur_HB (Haryana)   \n\n       destination_center destination_name  \n12698        IND282002AAD              NaN  \n12699        IND282002AAD              NaN  \n12700        IND282002AAD              NaN  \n12701        IND282002AAD              NaN  \n12702        IND282002AAD              NaN  \n...                   ...              ...  \n144478       IND282002AAD              NaN  \n144479       IND282002AAD              NaN  \n144480       IND282002AAD              NaN  \n144481       IND282002AAD              NaN  \n144482       IND282002AAD              NaN  \n\n[80 rows x 6 columns]",
      "text/html": "<div>\n<style scoped>\n    .dataframe tbody tr th:only-of-type {\n        vertical-align: middle;\n    }\n\n    .dataframe tbody tr th {\n        vertical-align: top;\n    }\n\n    .dataframe thead th {\n        text-align: right;\n    }\n</style>\n<table border=\"1\" class=\"dataframe\">\n  <thead>\n    <tr style=\"text-align: right;\">\n      <th></th>\n      <th>data</th>\n      <th>route_type</th>\n      <th>source_center</th>\n      <th>source_name</th>\n      <th>destination_center</th>\n      <th>destination_name</th>\n    </tr>\n  </thead>\n  <tbody>\n    <tr>\n      <th>12698</th>\n      <td>training</td>\n      <td>FTL</td>\n      <td>IND000000ACB</td>\n      <td>Gurgaon_Bilaspur_HB (Haryana)</td>\n      <td>IND282002AAD</td>\n      <td>NaN</td>\n    </tr>\n    <tr>\n      <th>12699</th>\n      <td>training</td>\n      <td>FTL</td>\n      <td>IND000000ACB</td>\n      <td>Gurgaon_Bilaspur_HB (Haryana)</td>\n      <td>IND282002AAD</td>\n      <td>NaN</td>\n    </tr>\n    <tr>\n      <th>12700</th>\n      <td>training</td>\n      <td>FTL</td>\n      <td>IND000000ACB</td>\n      <td>Gurgaon_Bilaspur_HB (Haryana)</td>\n      <td>IND282002AAD</td>\n      <td>NaN</td>\n    </tr>\n    <tr>\n      <th>12701</th>\n      <td>training</td>\n      <td>FTL</td>\n      <td>IND000000ACB</td>\n      <td>Gurgaon_Bilaspur_HB (Haryana)</td>\n      <td>IND282002AAD</td>\n      <td>NaN</td>\n    </tr>\n    <tr>\n      <th>12702</th>\n      <td>training</td>\n      <td>FTL</td>\n      <td>IND000000ACB</td>\n      <td>Gurgaon_Bilaspur_HB (Haryana)</td>\n      <td>IND282002AAD</td>\n      <td>NaN</td>\n    </tr>\n    <tr>\n      <th>...</th>\n      <td>...</td>\n      <td>...</td>\n      <td>...</td>\n      <td>...</td>\n      <td>...</td>\n      <td>...</td>\n    </tr>\n    <tr>\n      <th>144478</th>\n      <td>test</td>\n      <td>FTL</td>\n      <td>IND000000ACB</td>\n      <td>Gurgaon_Bilaspur_HB (Haryana)</td>\n      <td>IND282002AAD</td>\n      <td>NaN</td>\n    </tr>\n    <tr>\n      <th>144479</th>\n      <td>test</td>\n      <td>FTL</td>\n      <td>IND000000ACB</td>\n      <td>Gurgaon_Bilaspur_HB (Haryana)</td>\n      <td>IND282002AAD</td>\n      <td>NaN</td>\n    </tr>\n    <tr>\n      <th>144480</th>\n      <td>test</td>\n      <td>FTL</td>\n      <td>IND000000ACB</td>\n      <td>Gurgaon_Bilaspur_HB (Haryana)</td>\n      <td>IND282002AAD</td>\n      <td>NaN</td>\n    </tr>\n    <tr>\n      <th>144481</th>\n      <td>test</td>\n      <td>FTL</td>\n      <td>IND000000ACB</td>\n      <td>Gurgaon_Bilaspur_HB (Haryana)</td>\n      <td>IND282002AAD</td>\n      <td>NaN</td>\n    </tr>\n    <tr>\n      <th>144482</th>\n      <td>test</td>\n      <td>FTL</td>\n      <td>IND000000ACB</td>\n      <td>Gurgaon_Bilaspur_HB (Haryana)</td>\n      <td>IND282002AAD</td>\n      <td>NaN</td>\n    </tr>\n  </tbody>\n</table>\n<p>80 rows × 6 columns</p>\n</div>"
     },
     "execution_count": 44,
     "metadata": {},
     "output_type": "execute_result"
    }
   ],
   "source": [
    "df.loc[(df['source_name']=='Gurgaon_Bilaspur_HB (Haryana)') & (df['destination_name'].isna())][['data','route_type','source_center','source_name','destination_center','destination_name']]"
   ],
   "metadata": {
    "collapsed": false,
    "ExecuteTime": {
     "end_time": "2023-08-01T11:40:59.068531400Z",
     "start_time": "2023-08-01T11:40:59.026532400Z"
    }
   },
   "id": "8c24e8beef315300"
  },
  {
   "cell_type": "markdown",
   "source": [
    "###  Imputing Null Values\n",
    "- Created a Reference list of Center Code and Center Name and Validated Result \n",
    "- Turns out There Few Center-ID With Null Values, Which resulted in the same result as Before"
   ],
   "metadata": {
    "collapsed": false
   },
   "id": "96ab903a08c0ae27"
  },
  {
   "cell_type": "code",
   "execution_count": 45,
   "outputs": [],
   "source": [
    "list_of_source_center = df.groupby(['source_center','source_name']).size()\n",
    "list_of_source_center = pd.DataFrame(list_of_source_center)\n",
    "list_of_source_center = list_of_source_center.reset_index()\n",
    "list_of_source_center = list_of_source_center.rename(columns={0: 'count','source_center':'center','source_name':'name'})"
   ],
   "metadata": {
    "collapsed": false,
    "ExecuteTime": {
     "end_time": "2023-08-01T11:41:01.449490300Z",
     "start_time": "2023-08-01T11:41:01.404508600Z"
    }
   },
   "id": "656947bc65990b0d"
  },
  {
   "cell_type": "code",
   "execution_count": 46,
   "outputs": [
    {
     "data": {
      "text/plain": "center    0\nname      0\ncount     0\ndtype: int64"
     },
     "execution_count": 46,
     "metadata": {},
     "output_type": "execute_result"
    }
   ],
   "source": [
    "list_of_source_center.isna().sum()"
   ],
   "metadata": {
    "collapsed": false,
    "ExecuteTime": {
     "end_time": "2023-08-01T11:41:02.411636500Z",
     "start_time": "2023-08-01T11:41:02.384363400Z"
    }
   },
   "id": "5e1e00acfdb3b85c"
  },
  {
   "cell_type": "code",
   "execution_count": 47,
   "outputs": [],
   "source": [
    "list_of_destination_center = df.groupby(['destination_center','destination_name']).size()\n",
    "list_of_destination_center = pd.DataFrame(list_of_destination_center)\n",
    "list_of_destination_center = list_of_destination_center.reset_index()\n",
    "list_of_destination_center = list_of_destination_center.rename(columns={0: 'count','destination_center':'center','destination_name':'name'})"
   ],
   "metadata": {
    "collapsed": false,
    "ExecuteTime": {
     "end_time": "2023-08-01T11:41:03.678919200Z",
     "start_time": "2023-08-01T11:41:03.645502300Z"
    }
   },
   "id": "fa9e1c631e1e0cfb"
  },
  {
   "cell_type": "code",
   "execution_count": 48,
   "outputs": [
    {
     "data": {
      "text/plain": "center    0\nname      0\ncount     0\ndtype: int64"
     },
     "execution_count": 48,
     "metadata": {},
     "output_type": "execute_result"
    }
   ],
   "source": [
    "list_of_destination_center.isna().sum()"
   ],
   "metadata": {
    "collapsed": false,
    "ExecuteTime": {
     "end_time": "2023-08-01T11:41:04.767976200Z",
     "start_time": "2023-08-01T11:41:04.743122300Z"
    }
   },
   "id": "7c1347917f98476e"
  },
  {
   "cell_type": "code",
   "execution_count": null,
   "outputs": [],
   "source": [
    "center_lookup = pd.concat([list_of_source_center,list_of_destination_center],ignore_index=True)\n",
    "center_lookup.drop_duplicates(inplace=True)\n",
    "center_to_name = center_lookup.set_index('center')['name'].to_dict()\n"
   ],
   "metadata": {
    "collapsed": false
   },
   "id": "4a60696c4e451873"
  },
  {
   "cell_type": "markdown",
   "source": [
    "#### Method - 1 Filling Values using Reference"
   ],
   "metadata": {
    "collapsed": false
   },
   "id": "ce6d77acfad5c756"
  },
  {
   "cell_type": "code",
   "execution_count": 69,
   "outputs": [
    {
     "data": {
      "text/plain": "{'IND000000AAL': 'Pune_PC (Maharashtra)',\n 'IND000000AAQ': 'Barasat_KrshnNgr_D (West Bengal)',\n 'IND000000AAS': 'Bongaigaon_Chpaguri_D (Assam)',\n 'IND000000AAZ': 'Buldhana_Thsil3PL_D (Maharashtra)',\n 'IND000000ABA': 'Cochin_Chtrpuza_D (Kerala)',\n 'IND000000ABD': 'Pallakad_ChndrNgr_D (Kerala)',\n 'IND000000ABG': 'Hyderabad_Bownplly_C (Telangana)',\n 'IND000000ACA': 'Ludhiana_MilrGanj_HB (Punjab)',\n 'IND000000ACB': 'Gurgaon_Bilaspur_HB (Haryana)',\n 'IND000000ACK': 'Hyderabad_Chikdply_C (Telangana)',\n 'IND000000ACN': 'Hyderabad_Mhdiptnm_C (Telangana)',\n 'IND000000ACT': 'Delhi_Gateway_HB (Delhi)',\n 'IND000000ADM': 'Cochin_Kdvantra_D (Kerala)',\n 'IND000000ADV': 'Chennai_Mdhavram_C (Tamil Nadu)',\n 'IND000000AEL': 'Delhi_PunjabiB_L (Delhi)',\n 'IND000000AEM': 'Gurgaon_Bilaspur_RP (Haryana)',\n 'IND000000AET': 'Barpeta_ShivBari_D (Assam)',\n 'IND000000AFF': 'Darjeeling_Hillcard_DC (West Bengal)',\n 'IND000000AFG': 'Tirur_PmthuKlm_D (Kerala)',\n 'IND000000AFJ': 'Trivandrum_Pettah_D (Kerala)',\n 'IND000000AFR': 'Cochin_PanditRd_D (Kerala)',\n 'IND000000AFT': 'Mumbai_Sanpada_I (Maharashtra)',\n 'IND110014AAA': 'Delhi_Bhogal (Delhi)',\n 'IND110020AAB': 'OK_RPC (Delhi)',\n 'IND110024AAA': 'Delhi_Lajpat_IP (Delhi)',\n 'IND110030AAD': 'Delhi_Kishangarh_DPC (Delhi)',\n 'IND110035AAC': 'Delhi_North_R_8 (Delhi)',\n 'IND110037AAK': 'Delhi_Kapshera_L (Delhi)',\n 'IND110037AAM': 'Delhi_Airport_H (Delhi)',\n 'IND110039AAA': 'Delhi_Barwala (Delhi)',\n 'IND110043AAA': 'Delhi_Nangli_IP (Delhi)',\n 'IND110043AAC': 'Delhi_Nangli_L (Delhi)',\n 'IND110044AAB': 'Del_Okhla_PC (Delhi)',\n 'IND110052AAA': 'Delhi_Wazirpur_L (Delhi)',\n 'IND110064AAA': 'Delhi_Mayapuri_PC (Delhi)',\n 'IND110077AAA': 'Delhi_Palam (Delhi)',\n 'IND110078AAA': 'Janakpuri (Delhi)',\n 'IND110083AAA': 'Delhi_Mangol_DC (Delhi)',\n 'IND110085AAB': 'Delhi_Rohini_DPC (Delhi)',\n 'IND110092AAC': 'Delhi_Patparganj_DPC (Delhi)',\n 'IND110093AAA': 'Delhi_Shahdara (Delhi)',\n 'IND110095AAB': 'Delhi_Jhilmil_L (Delhi)',\n 'IND121001AAA': 'Faridabad (Haryana)',\n 'IND121002AAA': 'Faridabad_Old (Haryana)',\n 'IND121002AAB': 'Faridabad_Mthurard_L (Haryana)',\n 'IND121004AAA': 'Faridabad_Blbgarh_DC (Haryana)',\n 'IND121004AAB': 'FBD_Balabhgarh_DPC (Haryana)',\n 'IND121004AAC': 'Faridabad_MohnVRTL_D (Haryana)',\n 'IND121102AAA': 'Palwal (Haryana)',\n 'IND122001AAA': 'GGN_DPC (Haryana)',\n 'IND122001AAD': 'Gurgaon_Kadipur (Haryana)',\n 'IND122001AAJ': 'Mahbubabad_Yellanda_D (Telangana)',\n 'IND122002AAD': 'Gurgaon_Central_D_15 (Haryana)',\n 'IND122004AAA': 'Gurgaon_Begumpur_CP (Haryana)',\n 'IND122503AAA': 'Pataudi_DC (Haryana)',\n 'IND123001AAA': 'Narnaul_DC (Haryana)',\n 'IND123401AAB': 'Rewari_YuktiDPP_D (Haryana)',\n 'IND124001AAB': 'Rohtak (Haryana)',\n 'IND124103AAA': 'Jhajjar_DC (Haryana)',\n 'IND124112AAA': 'Meham_GModDPP_D (Haryana)',\n 'IND124141AAA': 'ChrkhiDdri_PuranDPP_D (Haryana)',\n 'IND124507AAA': 'Bahadurgarh_DC (Haryana)',\n 'IND125001AAA': 'Hisar_ModelTwn_P (Haryana)',\n 'IND125005AAA': 'Hisar_IndstlAr_I (Haryana)',\n 'IND125033AAA': 'Hansi_DelRdDPP_D (Haryana)',\n 'IND125047AAB': 'Hisar_AgrohDPP_D (Haryana)',\n 'IND125050AAA': 'Fatehabad_SirsaDPP_D (Haryana)',\n 'IND125051AAA': 'Ratia_SchdvDPP_D (Haryana)',\n 'IND125104AAA': 'Sirsa_AnprnDPP_D (Haryana)',\n 'IND125111AAA': 'Fatehabad_BhunaDPP_D (Haryana)',\n 'IND125121AAA': 'Barwala_Central_DPP_1 (Haryana)',\n 'IND126102AAA': 'Jind_DC (Haryana)',\n 'IND126112AAA': 'Safidon_HatRDDPP_D (Haryana)',\n 'IND127021AAA': 'Bhiwani_DC (Haryana)',\n 'IND127201AAA': 'Loharu_BstndDPP_D (Haryana)',\n 'IND131021AAA': 'Sonipat_AmzonDev_V (Haryana)',\n 'IND131028AAB': 'Sonipat_Kundli_H (Haryana)',\n 'IND131028AAE': 'Sonipat_Central_D_2 (Haryana)',\n 'IND131301AAA': 'Gohana_DvlalDPP_D (Haryana)',\n 'IND132001AAA': 'Karnal (Haryana)',\n 'IND132103AAA': 'Panipat (Haryana)',\n 'IND132103AAB': 'Panipat_PC (Haryana)',\n 'IND133004AAA': 'Ambala (Haryana)',\n 'IND134102AAA': 'Kalka_Pinjore_DC (Haryana)',\n 'IND134109AAA': 'Chandigarh_Panchkula (Chandigarh)',\n 'IND134203AAA': 'Naraingarh_Ward2DPP_D (Haryana)',\n 'IND135001AAA': 'YamunaNagar_DC (Haryana)',\n 'IND136027AAA': 'Kaithal_DC (Haryana)',\n 'IND136118AAA': 'Kurukshetra_DC (Haryana)',\n 'IND136128AAA': 'Pehowa_WdN14DPP_D (Haryana)',\n 'IND140001AAA': 'RoopNagar_ChotiHvl_DC (Punjab)',\n 'IND140118AAA': 'AnandprShb_PnjPiara_D (Punjab)',\n 'IND140301AAA': 'Chandigarh_Kharar_DC (Chandigarh)',\n 'IND140401AAA': 'Rajpura_DC (Punjab)',\n 'IND140406AAA': 'SirhindFatehgarh_DC (Punjab)',\n 'IND140501AAA': 'Lalru_OnkarDPP_D (Punjab)',\n 'IND140901AAA': 'Chandigarh_Mullanpr_DC (Chandigarh)',\n 'IND141003AAB': 'Ludhiana_GillChwk_DC (Punjab)',\n 'IND141010AAA': 'Ludhiana_DC (Punjab)',\n 'IND141109AAA': 'Raikot_DC (Punjab)',\n 'IND141115AAA': 'Machhiwara_MnBzrDPP_D (Punjab)',\n 'IND142001AAB': 'Moga_DPC (Punjab)',\n 'IND142026AAA': 'Jagraon_DC (Punjab)',\n 'IND142401AAA': 'Khanna_DC (Punjab)',\n 'IND143001AAA': 'Amritsar_DPC (Punjab)',\n 'IND144001AAA': 'Jalandhar_DC (Punjab)',\n 'IND144001AAB': 'Jalandhar_DPC (Punjab)',\n 'IND144001AAC': 'Jalandhar_Sodal Road (Punjab)',\n 'IND144040AAA': 'Nakodar_ChowkDPP_D (Punjab)',\n 'IND144401AAB': 'Phagwara_Lovely_D (Punjab)',\n 'IND144514AAA': 'Nawanshahr_DC (Punjab)',\n 'IND144527AAA': 'Garhshnker_Jagrata_D (Punjab)',\n 'IND144601AAA': 'Kapurthala_DC (Punjab)',\n 'IND145001AAA': 'Pathankot_DC (Punjab)',\n 'IND147001AAB': 'Patiala (Punjab)',\n 'IND147001AAD': 'Patiala_GainMrkt_L (Punjab)',\n 'IND147101AAA': 'Samana_PODPP_D (Punjab)',\n 'IND147105AAA': 'Patran_MheshNGR_D (Punjab)',\n 'IND147201AAA': 'Nabha_Sahni_D (Punjab)',\n 'IND147301AAA': 'Mandi_Gobindgarh_DC (Punjab)',\n 'IND148023AAA': 'Malerkotla_DC (Punjab)',\n 'IND148028AAA': 'Sunam_DC (Punjab)',\n 'IND148101AAA': 'Barnala_DC (Punjab)',\n 'IND148102AAA': 'Bhadaur_BChwkDPP_D (Punjab)',\n 'IND151001AAA': 'Bhatinda_DPC (Punjab)',\n 'IND151103AAA': 'RampuraPhul_DC (Punjab)',\n 'IND151302AAA': 'TalwandiSabo_Wardno3_D (Punjab)',\n 'IND151505AAA': 'Mansa_GreenVly_D (Punjab)',\n 'IND151506AAA': 'Jhunir_BhaRDDPP_D (Punjab)',\n 'IND152024AAA': 'Jalalabad_Muktsar_D (Punjab)',\n 'IND152026AAA': 'Muktsar_DPC (Punjab)',\n 'IND152101AAA': 'Giddarbaha_DC (Punjab)',\n 'IND152107AAA': 'Malout_DC (Punjab)',\n 'IND152116AAA': 'Abohar_DC (Punjab)',\n 'IND152123AAA': 'Fazilka_GndhiChk_D (Punjab)',\n 'IND160002AAC': 'Chandigarh_Mehmdpur_H (Punjab)',\n 'IND160003AAA': 'Chandigarh (Chandigarh)',\n 'IND160055AAA': 'Chandigarh_Mohali (Chandigarh)',\n 'IND160102AAC': 'Chandigarh_Raiprvlg_L (Chandigarh)',\n 'IND160102AAD': 'Chandigarh_Raiprkln_C (Chandigarh)',\n 'IND173025AAA': 'PaontSahib_Gurudwar_D (Himachal Pradesh)',\n 'IND173212AAA': 'Solan_MohanPrk_D (Himachal Pradesh)',\n 'IND173220AAA': 'Parwanoo_Central_D_1 (Himachal Pradesh)',\n 'IND174001AAA': 'BilaspurHP_Indsarea_D (Himachal Pradesh)',\n 'IND174021AAA': 'Ghumarwin_Gndhichk_D (Himachal Pradesh)',\n 'IND174101AAB': 'Nalagarh_Central_DPP_2 (Himachal Pradesh)',\n 'IND174103AAA': 'Baddi_ByePass_D (Himachal Pradesh)',\n 'IND174307AAA': 'Bangana_Bhaleti_D (Himachal Pradesh)',\n 'IND175001AAA': 'Mandi_PlaceCol_D (Himachal Pradesh)',\n 'IND175015AAA': 'JognderNgr_Dhelu_D (Himachal Pradesh)',\n 'IND175018AAA': 'SundarNgr_Bhogpur_D (Himachal Pradesh)',\n 'IND175101AAA': 'Kullu_AkhraBzr_D (Himachal Pradesh)',\n 'IND176048AAA': 'Jahu_Sulgwan_D (Himachal Pradesh)',\n 'IND176061AAA': 'Palampur_Cnsrvila_D (Himachal Pradesh)',\n 'IND176110AAB': 'Sujanpur_SainkSCL_D (Himachal Pradesh)',\n 'IND176201AAA': 'Jassur_AadiDPP_D (Himachal Pradesh)',\n 'IND176215AAA': 'Dharamshala_GrudwrRd_D (Himachal Pradesh)',\n 'IND176303AAA': 'Dalhousie_Banikhet_D (Himachal Pradesh)',\n 'IND176310AAA': 'Chamba_Bangotu_D (Himachal Pradesh)',\n 'IND177001AAA': 'Hamirpur_GutmgrCl_D (Himachal Pradesh)',\n 'IND177033AAA': 'Nadaun_Ward6_D (Himachal Pradesh)',\n 'IND177101AAA': 'DehraGopipur_Central_D_1 (Himachal Pradesh)',\n 'IND177203AAA': 'Amb_Adrshngr_D (Himachal Pradesh)',\n 'IND181152AAA': 'Jammu_TrnptNgr_L (Jammu & Kashmir)',\n 'IND181152AAB': 'Jammu_Central_I_1 (Jammu & Kashmir)',\n 'IND181201AAB': 'Akhnoor_ThthiCwk_D (Jammu & Kashmir)',\n 'IND184104AAA': 'Kathua_BOB_D (Jammu & Kashmir)',\n 'IND184121AAA': 'Samba_Wardno13_D (Jammu & Kashmir)',\n 'IND201001AAA': 'Ghaziabad_Patel Nagar (Uttar Pradesh)',\n 'IND201001AAC': 'Ghaziabad_Central_L_8 (Uttar Pradesh)',\n 'IND201005AAA': 'Ghaziabad_RjndrNgr_DC (Uttar Pradesh)',\n 'IND201007AAA': 'GZB_Mohan_Nagar_DPC (Uttar Pradesh)',\n 'IND201007AAB': 'Ghaziabad_MohanNgr_C (Uttar Pradesh)',\n 'IND201204AAA': 'Modinagar_SikriKla_DC (Uttar Pradesh)',\n 'IND201301AAD': 'NOI_RPC (Delhi)',\n 'IND201301AAF': 'Noida_Sec 02_DPC (Uttar Pradesh)',\n 'IND201301AAL': 'Dadri_ICDCant_D (Uttar Pradesh)',\n 'IND201301AAM': 'Noida_Sector63_L (Uttar Pradesh)',\n 'IND201304AAA': 'Noida_Sec-83_DC (Uttar Pradesh)',\n 'IND201306AAA': 'Noida_Surajpur_DC (Uttar Pradesh)',\n 'IND201307AAA': 'Noida_Chukhndi_D (Uttar Pradesh)',\n 'IND202001AAB': 'Aligarh_KhirByps_I (Uttar Pradesh)',\n 'IND202001AAC': 'Aligarh_Central_D_2 (Uttar Pradesh)',\n 'IND203001AAA': 'Bulndshahr_Ymunpurm_D (Uttar Pradesh)',\n 'IND203131AAA': 'Khurja_Pnjbiyon_D (Uttar Pradesh)',\n 'IND203135AAA': 'Jewar_SJRoad_D (Uttar Pradesh)',\n 'IND203390AAA': 'Anupshahar_DcntCLY_D (Uttar Pradesh)',\n 'IND203396AAB': 'Pahasu_Kanongyn_D (Uttar Pradesh)',\n 'IND204101AAA': 'Hathras (Uttar Pradesh)',\n 'IND204215AAA': 'SikandraRao_JydevNGR_D (Uttar Pradesh)',\n 'IND205001AAB': 'Mainpuri_Agraroad_I (Uttar Pradesh)',\n 'IND205135AAA': 'Shikohabad_Katrmira_D (Uttar Pradesh)',\n 'IND206001AAA': 'Etawah_MhraChng_D (Uttar Pradesh)',\n 'IND206122AAA': 'Auraiya_AryaNagr_D (Uttar Pradesh)',\n 'IND207001AAA': 'Etah_CivlLine_D (Uttar Pradesh)',\n 'IND207123AAA': 'Kasganj_BnkrGate_D (Uttar Pradesh)',\n 'IND207247AAB': 'Aliganj_KaimgnjRD_D (Uttar Pradesh)',\n 'IND207302AAA': 'Jalesar_ChngiDPP_D (Uttar Pradesh)',\n 'IND208006AAA': 'Kanpur_GovndNgr_DC (Uttar Pradesh)',\n 'IND208012AAA': 'Kanpur_Central_D_7 (Uttar Pradesh)',\n 'IND208017AAA': 'Kanpur_Central_D_5 (Uttar Pradesh)',\n 'IND208019AAA': 'Kanpur_Rawatpur_D (Uttar Pradesh)',\n 'IND209101AAA': 'Akbarpur_NehruNGR_D (Uttar Pradesh)',\n 'IND209111AAA': 'Pukhrayan_Arulimod_D (Uttar Pradesh)',\n 'IND209206AAB': 'Ghatampur_StatinRD_D (Uttar Pradesh)',\n 'IND209304AAA': 'Kanpur_Central_H_6 (Uttar Pradesh)',\n 'IND209625AAA': 'Farrukhbad_Pnchlght_D (Uttar Pradesh)',\n 'IND209721AAB': 'Chhibramau_Bhainpura_D (Uttar Pradesh)',\n 'IND209801AAA': 'Unnao_VikasRam_D (Uttar Pradesh)',\n 'IND210001AAA': 'Banda_GayatriN_D (Uttar Pradesh)',\n 'IND210427AAA': 'Mahoba_Mlkpura_D (Uttar Pradesh)',\n 'IND210431AAA': 'Rath_Mughlpra_D (Uttar Pradesh)',\n 'IND210501AAB': 'Bewar_BndhuTRH_D (Uttar Pradesh)',\n 'IND211002AAB': 'Allahabad_Central_H_1 (Uttar Pradesh)',\n 'IND211008AAA': 'Allahabad_Central_D_3 (Uttar Pradesh)',\n 'IND211010AAB': 'Allahabad_Mirapati_L (Uttar Pradesh)',\n 'IND211011AAA': 'Allahabad_Central_D_5 (Uttar Pradesh)',\n 'IND212402AAA': 'Phulpur_Shekhpur_D (Uttar Pradesh)',\n 'IND212501AAA': 'Soraon_BypassRD_D (Uttar Pradesh)',\n 'IND212601AAA': 'Fatehpur_Kotwali_D (Uttar Pradesh)',\n 'IND221010AAA': 'Varanasi (Uttar Pradesh)',\n 'IND221010AAB': 'Varanasi_MahmurGj_IP (Uttar Pradesh)',\n 'IND221303AAA': 'Gopiganj_Wardno13_D (Uttar Pradesh)',\n 'IND221313AAA': 'Varanasi_Central_H_4 (Uttar Pradesh)',\n 'IND221401AAA': 'Bhadohi_Rajpura_D (Uttar Pradesh)',\n 'IND221706AAA': 'Ratanpura_MubarDPP_D (Uttar Pradesh)',\n 'IND222001AAA': 'Jaunpur_Katghara_D (Uttar Pradesh)',\n 'IND222125AAB': 'Badlapur_Bhaluahi_D (Uttar Pradesh)',\n 'IND223101AAB': 'Shahganj_KcharaRD_D (Uttar Pradesh)',\n 'IND224001AAA': 'Faizabad_TrnspNgr_D (Uttar Pradesh)',\n 'IND224141AAB': 'Gosainganj_Pakrela_D (Uttar Pradesh)',\n 'IND226004AAA': 'Lucknow_Hub (Uttar Pradesh)',\n 'IND231205AAA': 'Chopan_PreetDPP_D (Uttar Pradesh)',\n 'IND231208AAA': 'Duddhi_MChwkDPP_D (Uttar Pradesh)',\n 'IND231217AAA': 'Renukoot_Govind_D (Uttar Pradesh)',\n 'IND231225AAB': 'Anpara_Parasi_D (Uttar Pradesh)',\n 'IND232101AAB': 'MughalSarai_Central_D_2 (Uttar Pradesh)',\n 'IND232104AAB': 'Chandauli_ShubsNGR_D (Uttar Pradesh)',\n 'IND233001AAA': 'Ghazipur_Kaithwal_D (Uttar Pradesh)',\n 'IND241124AAB': 'Shahabad_KDRoad_D (Uttar Pradesh)',\n 'IND242001AAA': 'Shahjhnpur_NavdaCln_D (Uttar Pradesh)',\n 'IND242221AAA': 'Jalalabad_farukngr_D (Uttar Pradesh)',\n 'IND242307AAB': 'Tilhar_SingCLNY_D (Uttar Pradesh)',\n 'IND243001AAA': 'Bareilly_Central_D_2 (Uttar Pradesh)',\n 'IND243002AAA': 'Bareilly (Uttar Pradesh)',\n 'IND243201AAA': 'Baheri_HoliCDPP_D (Uttar Pradesh)',\n 'IND243301AAB': 'Aonla_KdidmCLY_D (Uttar Pradesh)',\n 'IND243503AAB': 'Faridpur_ShjnprRD_D (Uttar Pradesh)',\n 'IND244001AAA': 'Moradabad_DC (Uttar Pradesh)',\n 'IND244221AAA': 'Amroha_SamitiRd_D (Uttar Pradesh)',\n 'IND244235AAA': 'Gajraula_JawaharN_D (Uttar Pradesh)',\n 'IND244301AAA': 'Sambhal_Khwssrai_D (Uttar Pradesh)',\n 'IND244412AAA': 'Chandausi_Ganesh_D (Uttar Pradesh)',\n 'IND244501AAA': 'Kanth_Dayanand_D (Uttar Pradesh)',\n 'IND244601AAB': 'Thakurdwara_Fathuluh_D (Uttar Pradesh)',\n 'IND244713AAA': 'Kashipur_Vaishali_D (Uttarakhand)',\n 'IND244715AAA': 'Ramnagar_BhwniGnj_D (Uttarakhand)',\n 'IND244901AAB': 'Rampur_RoshnBgh_I (Uttar Pradesh)',\n 'IND244901AAC': 'Rampur_ThanaDPP_D (Uttar Pradesh)',\n 'IND244921AAB': 'Bilaspur_GrmNgriya_D (Uttar Pradesh)',\n 'IND245101AAA': 'Hapur_Swargash_D (Uttar Pradesh)',\n 'IND245304AAA': 'Pilkhuwa_HapurRD_D (Uttar Pradesh)',\n 'IND246001AAA': 'Pauri_Khndyusn_D (Uttarakhand)',\n 'IND246149AAA': 'Kotdwara_Nzbadrd_D (Uttarakhand)',\n 'IND246174AAA': 'SrinagarUK_Srikot_D (Uttarakhand)',\n 'IND246424AAA': 'Chamoli_CGRoad_D (Uttarakhand)',\n 'IND246444AAB': 'Karnaprayag_Umalodge_D (Uttarakhand)',\n 'IND246701AAA': 'Bijnor_NaginaRd_D (Uttar Pradesh)',\n 'IND246725AAB': 'Chandpur_NorprRD_D (Uttar Pradesh)',\n 'IND246761AAA': 'Dhampur_NaginaRD_D (Uttar Pradesh)',\n 'IND246763AAA': 'Najibabad_KotdwrRD_D (Uttar Pradesh)',\n 'IND247554AAA': 'Deoband_Ramvlg_D (Uttar Pradesh)',\n 'IND247667AAA': 'Roorkee_Dc (Uttarakhand)',\n 'IND247667AAB': 'Roorkee_IOTCEncl_L (Uttarakhand)',\n 'IND247776AAA': 'Shamli_KarnalRd_D (Uttar Pradesh)',\n 'IND248001AAA': 'Dehradun (Uttarakhand)',\n 'IND248001AAD': 'Dehradun_Nirjanpur_L (Uttarakhand)',\n 'IND248122AAB': 'Mussoorie_BrlwgDPP_D (Uttarakhand)',\n 'IND248197AAA': 'Dehradun_Selakui_D (Uttarakhand)',\n 'IND249201AAA': 'Rishikesh_DC (Uttarakhand)',\n 'IND249407AAA': 'Haridwar (Uttarakhand)',\n 'IND250002AAA': 'Meerut (Uttar Pradesh)',\n 'IND250221AAA': 'Daurala_Sardhnrd_D (Uttar Pradesh)',\n 'IND250611AAA': 'Baraut_SrnprHwy_D (Uttar Pradesh)',\n 'IND251001AAA': 'Muzaffrngr_MhmodNgr_D (Uttar Pradesh)',\n 'IND251201AAA': 'Khatauli_TilakNgr_D (Uttar Pradesh)',\n 'IND251309AAB': 'Budhana_Busstand_D (Uttar Pradesh)',\n 'IND261001AAA': 'Sitapur_Chowk_D (Uttar Pradesh)',\n 'IND261201AAB': 'Biswan_PatelNGR_D (Uttar Pradesh)',\n 'IND262001AAA': 'Pilibhit_ViksClny_D (Uttar Pradesh)',\n 'IND262122AAB': 'Puranpur_MdothdRD_D (Uttar Pradesh)',\n 'IND262405AAA': 'Sitarganj_SidculRd_D (Uttarakhand)',\n 'IND262501AAA': 'Pithorgarh_Kumud_D (Uttarakhand)',\n 'IND262701AAA': 'Lakhimpur_Maheva_D (Uttar Pradesh)',\n 'IND262802AAA': 'Gola_BkgnRoad_D (Uttar Pradesh)',\n 'IND263002AAA': 'Nainital_Sookhtal_D (Uttarakhand)',\n 'IND263139AAA': 'Haldwani_PiliKoti_D (Uttarakhand)',\n 'IND263153AAB': 'Rudrapur_UdhamNgr_H (Uttarakhand)',\n 'IND263401AAA': 'Kashipur_BajprDPP_D (Uttarakhand)',\n 'IND263601AAA': 'Almora_SuzkiSrv_D (Uttarakhand)',\n 'IND263645AAA': 'Ranikhet_Subhash_D (Uttarakhand)',\n 'IND271001AAA': 'Gonda_KotwaliN_D (Uttar Pradesh)',\n 'IND271201AAA': 'Balrampur_PBRDDPP_D (Uttar Pradesh)',\n 'IND271210AAA': 'Tulsipur_Central_DPP_1 (Uttar Pradesh)',\n 'IND272001AAA': 'Basti_GndhiNgr_D (Uttar Pradesh)',\n 'IND272155AAA': 'Harraiya_MahuGDPP_D (Uttar Pradesh)',\n 'IND272207AAB': 'Naugarh_Central_D_1 (Uttar Pradesh)',\n 'IND273014AAB': 'Gorakhpur_Matriprm_IP (Uttar Pradesh)',\n 'IND273155AAA': 'Anandnagar_LohiaDPP_D (Uttar Pradesh)',\n 'IND273303AAA': 'Maharajganj_PakriDPP_D (Uttar Pradesh)',\n 'IND273304AAA': 'Nichlaul_Wardno13_D (Uttar Pradesh)',\n 'IND274001AAA': 'Deoria_CCRoad_D (Uttar Pradesh)',\n 'IND274301AAB': 'Kaptanganj_Subshngr_D (Uttar Pradesh)',\n 'IND274304AAA': 'Kushinagar_KasyaDPP_D (Uttar Pradesh)',\n 'IND274304AAB': 'Padrauna_BawliDPPP_D (Uttar Pradesh)',\n 'IND274402AAA': 'Kushinagar_JiswlDPP_D (Uttar Pradesh)',\n 'IND274509AAB': 'Salempur_Banjaria_D (Uttar Pradesh)',\n 'IND275101AAA': 'Mau_BaliaMod_D (Uttar Pradesh)',\n 'IND275303AAA': 'Dohrighat_AzmrdDPP_D (Uttar Pradesh)',\n 'IND275503AAA': 'Ghosi_Jamalpur_D (Uttar Pradesh)',\n 'IND276128AAA': 'Azamgarh_ChtwrDPP_D (Uttar Pradesh)',\n 'IND276129AAA': 'Chiraiyakot_KamalDPP_D (Uttar Pradesh)',\n 'IND276140AAA': 'Jiyanpur_Central_DPP_1 (Uttar Pradesh)',\n 'IND276305AAA': 'Saraimeer_MsmcyDPP_D (Uttar Pradesh)',\n 'IND277201AAA': 'Bariya_BgnprDPP_D (Uttar Pradesh)',\n 'IND277211AAA': 'Sahatwar_PnchmDPP_D (Uttar Pradesh)',\n 'IND277303AAC': 'Sikandarpur_Central_D_3 (Uttar Pradesh)',\n 'IND281121AAB': 'Vrindavan_MathuraRD_D (Uttar Pradesh)',\n 'IND281401AAA': 'Chhata_GvrdnDPP_D (Uttar Pradesh)',\n 'IND282001AAA': 'Agra_Idgah_P (Uttar Pradesh)',\n 'IND282001AAC': 'Agra_Idgah_L (Uttar Pradesh)',\n 'IND282001AAF': 'Agra_Central_D_3 (Uttar Pradesh)',\n 'IND283122AAB': 'Kirauli_AchneraRD_D (Uttar Pradesh)',\n 'IND283203AAA': 'Firozabad_Sudmpuri_D (Uttar Pradesh)',\n 'IND284001AAA': 'Jhansi_LVMColge_D (Uttar Pradesh)',\n 'IND284403AAA': 'Lalitpur_RjghatRd_D (Uttar Pradesh)',\n 'IND285001AAD': 'Orai_Ajnari_D (Uttar Pradesh)',\n 'IND285205AAB': 'Konch_Central_D_2 (Uttar Pradesh)',\n 'IND301001AAB': 'Alwar_Central_I_1 (Rajasthan)',\n 'IND301019AAA': 'Bhiwadi DC (Rajasthan)',\n 'IND301705AAA': 'Neemrana_Rcocmplx_D (Rajasthan)',\n 'IND302004AAA': 'Jaipur_NgrNigam_DC (Rajasthan)',\n 'IND302006AAA': 'Jaipur (Rajasthan)',\n 'IND302006AAC': 'Jaipur_Central_D_10 (Rajasthan)',\n 'IND302014AAA': 'Jaipur_Hub (Rajasthan)',\n 'IND302014AAB': 'Jaipur_Central_I_7 (Rajasthan)',\n 'IND302020AAA': 'Jaipur_VarunCly_DC (Rajasthan)',\n 'IND302022AAD': 'Jaipur_RIICO_L (Rajasthan)',\n 'IND302026AAA': 'Jaipur_Bhankrot_DC (Rajasthan)',\n 'IND303002AAA': 'Achrol_BgwriDPP_D (Rajasthan)',\n 'IND303008AAB': 'Dudu_NrainaRD_D (Rajasthan)',\n 'IND303106AAA': 'Paota_SmClyDPP_D (Rajasthan)',\n 'IND303108AAB': 'Kotputli_LXngrDPP_D (Rajasthan)',\n 'IND303301AAB': 'Bassi_DmodrNGR_D (Rajasthan)',\n 'IND303303AAA': 'Dausa_IndraCln_D (Rajasthan)',\n 'IND303338AAB': 'Phulera_NarenaRD_D (Rajasthan)',\n 'IND303503AAA': 'Lalsot_NWclyDPP_D (Rajasthan)',\n 'IND303603AAB': 'Renwal_ChomuRD_D (Rajasthan)',\n 'IND303702AAB': 'Chomu_ShsmlDPP_D (Rajasthan)',\n 'IND303901AAA': 'Chaksu_TonkRoad_D (Rajasthan)',\n 'IND304001AAA': 'Tonk_DC (Rajasthan)',\n 'IND305001AAC': 'Ajmer_FoySGRRD_I (Rajasthan)',\n 'IND305404AAA': 'Kekri_LxmntDPP_D (Rajasthan)',\n 'IND305601AAC': 'Nasirabad_Central_DPP_2 (Rajasthan)',\n 'IND305624AAA': 'Bijainagar_Central_DPP_1 (Rajasthan)',\n 'IND305802AAA': 'Kishangarh_Central_D_2 (Rajasthan)',\n 'IND305901AAA': 'Beawar_DC (Rajasthan)',\n 'IND306116AAA': 'Falna_SbhRDDPP_D (Rajasthan)',\n 'IND306304AAB': 'Raipur_BypRDDPP_D (Rajasthan)',\n 'IND306401AAB': 'Pali_Nayagaon_I (Rajasthan)',\n 'IND306902AAA': 'Sumerpur_BazarDPP_D (Rajasthan)',\n 'IND307001AAA': 'Sirohi_Ricco_D (Rajasthan)',\n 'IND311001AAA': 'Bhilwara_DC (Rajasthan)',\n 'IND311301AAA': 'Asind_BsStdDPP_D (Rajasthan)',\n 'IND311302AAA': 'Badnaur_BhmrdDPP_D (Rajasthan)',\n 'IND312001AAA': 'Chittaurgarh_DC (Rajasthan)',\n 'IND312403AAA': 'BariSadri_BhmprDPP_D (Rajasthan)',\n 'IND312601AAA': 'Nimbahera_MsjidDPP_D (Rajasthan)',\n 'IND312605AAB': 'Pratapgarh_Nimachrd_D (Rajasthan)',\n 'IND313001AAB': 'Udaipur_Mangri_I (Rajasthan)',\n 'IND313324AAA': 'Rajsamand_kankroli_D (Rajasthan)',\n 'IND321001AAA': 'Bharatpur_DC (Rajasthan)',\n 'IND321001AAB': 'Bharatpur_NraynDPP_D (Rajasthan)',\n 'IND321022AAA': 'Kaman_BsstdDPP_D (Rajasthan)',\n 'IND321408AAB': 'Weir_BsstdDPP_D (Rajasthan)',\n 'IND321606AAA': 'Kherli_GodamDPP_D (Rajasthan)',\n 'IND322001AAC': 'SawaiMadhopur_Central_DPP_1 (Rajasthan)',\n 'IND322201AAA': 'Gangapur_Ward6DPP_D (Rajasthan)',\n 'IND322230AAA': 'Hindaun_MndwrRod_D (Rajasthan)',\n 'IND322241AAA': 'Karauli_HnsChowk_D (Rajasthan)',\n 'IND327001AAB': 'Banswara_KhandDPP_D (Rajasthan)',\n 'IND328001AAA': 'Dholpur_GtRoad_D (Rajasthan)',\n 'IND331023AAA': 'Rajgarh_SadulDPP_D (Rajasthan)',\n 'IND331304AAA': 'Taranagar_RajRdDPP_D (Rajasthan)',\n 'IND331507AAA': 'Sujangarh_JngidDPP_D (Rajasthan)',\n 'IND331701AAA': 'Sidhmukh_MnbzrDPP_D (Rajasthan)',\n 'IND332001AAB': 'Sikar_FatehpRd_I (Rajasthan)',\n 'IND332404AAA': 'Reengus_Shop2DPP_D (Rajasthan)',\n 'IND332713AAA': 'NeemKaThana_War5DPP_D (Rajasthan)',\n 'IND333001AAA': 'Jhunjhunu_DC (Rajasthan)',\n 'IND333028AAA': 'Sultana_Central_DPP_1 (Rajasthan)',\n 'IND333031AAA': 'Pilani (Rajasthan)',\n 'IND333042AAA': 'Nawalgarh_NavldiDPP_D (Rajasthan)',\n 'IND333504AAA': 'Khetri_NagarDPP_D (Rajasthan)',\n 'IND334001AAB': 'Bikaner_DC (Rajasthan)',\n 'IND334001AAC': 'Bikaner_ITICollg_L (Rajasthan)',\n 'IND334803AAA': 'Nokha_DeVDPP_D (Rajasthan)',\n 'IND335001AAA': 'Ganga Nagar_DC (Rajasthan)',\n 'IND335051AAA': 'RaisingNgr_BisnolDPP_D (Rajasthan)',\n 'IND335501AAA': 'Bhadra_GMndiDPP_D (Rajasthan)',\n 'IND335513AAA': 'Hanumangarh_DC (Rajasthan)',\n 'IND335523AAB': 'Nohar_Central_DPP_2 (Rajasthan)',\n 'IND335524AAA': 'Rawatsar_ShivmDPP_D (Rajasthan)',\n 'IND335701AAA': 'Anupgarh_PrmNrDPP_D (Rajasthan)',\n 'IND335703AAA': 'Srivijaynagar_BhwanDPP_D (Rajasthan)',\n 'IND335803AAA': 'Pilibanga_BsstdDPP_D (Rajasthan)',\n 'IND335804AAD': 'Suratgarh_Central_DPP_2 (Rajasthan)',\n 'IND341001AAC': 'Nagaur_KisanCo_D (Rajasthan)',\n 'IND341030AAA': 'Tarnau_BsstdDPP_D (Rajasthan)',\n 'IND341303AAA': 'Didwana_KatlaDPP_D (Rajasthan)',\n 'IND341306AAA': 'Sujangarh_LdnunDPP_D (Rajasthan)',\n 'IND341503AAB': 'Degana_BhukrdPP_D (Rajasthan)',\n 'IND341505AAA': 'Makrana_Mwalibad_D (Rajasthan)',\n 'IND341510AAB': 'Merta_Central_DPP_1 (Rajasthan)',\n 'IND341512AAA': 'Parbatsar_AjmhwDPP_D (Rajasthan)',\n 'IND342005AAD': 'Jodhpur_Basni_I (Rajasthan)',\n 'IND342301AAA': 'Phalodi_PalikDPP_D (Rajasthan)',\n 'IND342601AAA': 'Piparcity_BsstdDPP_D (Rajasthan)',\n 'IND342602AAC': 'Bilara_Central_DPP_2 (Rajasthan)',\n 'IND342902AAA': 'Gotan_DKLogDPP_D (Rajasthan)',\n 'IND343001AAA': 'Jalore_RoopNgr_D (Rajasthan)',\n 'IND343029AAB': 'Bhinmal_RwStnDPP_D (Rajasthan)',\n 'IND344001AAA': 'Barmer_Nehru3PL_D (Rajasthan)',\n 'IND344022AAB': 'Balotra_BsnoiHPL_D (Rajasthan)',\n 'IND345001AAA': 'Jaisalmer_Gopa3PL_D (Rajasthan)',\n 'IND345021AAA': 'Pokhran_SttinDPP_D (Rajasthan)',\n 'IND360003AAA': 'Rajkot_Kothriya_DC (Gujarat)',\n 'IND360311AAA': 'Gondal_DC (Gujarat)',\n 'IND360370AAA': 'Jetpur_DC (Gujarat)',\n 'IND360410AAA': 'Dhoraji_JmnvadRd_DC (Gujarat)',\n 'IND360490AAA': 'Upleta_AdrshSt_DC (Gujarat)',\n 'IND360510AAB': 'Bhanvad_Mainroad_D (Gujarat)',\n 'IND360530AAB': 'Jamjodhpur_Court_D (Gujarat)',\n 'IND360575AAA': 'Porbandar_DC (Gujarat)',\n 'IND361001AAA': 'Jamnagar_Dc (Gujarat)',\n 'IND361305AAC': 'Khambhalia_JdswarRD_D (Gujarat)',\n 'IND361315AAA': 'Bhatiya_Kalyanpr_D (Gujarat)',\n 'IND361335AAA': 'Dwarka_StnRoad_DC (Gujarat)',\n 'IND362001AAA': 'Junagadh_DPC (Gujarat)',\n 'IND362150AAA': 'Talala_SsnRdDPP_D (Gujarat)',\n 'IND362220AAA': 'Junagadh_keshod_DC (Gujarat)',\n 'IND362225AAA': 'Mangrol_JilRDDPP_D (Gujarat)',\n 'IND362265AAA': 'Veraval_DC (Gujarat)',\n 'IND362560AAA': 'Una_Mamlatdr_DC (Gujarat)',\n 'IND362720AAA': 'Kodinar_NCplxDPP_D (Gujarat)',\n 'IND363001AAA': 'Surendranagar_DC (Gujarat)',\n 'IND363310AAB': 'Dhrangadhra_NvygRDPP_D (Gujarat)',\n 'IND363330AAB': 'Halvad_CrossRD_D (Gujarat)',\n 'IND363421AAB': 'Limbdi_Busstand_D (Gujarat)',\n 'IND363520AAC': 'Chotila_Central_D_2 (Gujarat)',\n 'IND363621AAB': 'Wankaner_JivanDPP_D (Gujarat)',\n 'IND363641AAA': 'Morbi_DC (Gujarat)',\n 'IND364004AAB': 'Bhavnagar_ChtrGIDC_IP (Gujarat)',\n 'IND364270AAA': 'Palitana_STRdDPP_D (Gujarat)',\n 'IND364290AAA': 'Bhavnagar_Mahuva_DC (Gujarat)',\n 'IND365560AAA': 'Amreli_MrktYrd_DC (Gujarat)',\n 'IND365560AAB': 'Amreli_Rajula_DC (Gujarat)',\n 'IND370001AAA': 'Bhuj_DC (Gujarat)',\n 'IND370110AAA': 'Anjar_DC (Gujarat)',\n 'IND370201AAA': 'Gandhidham_Sector1A_IP (Gujarat)',\n 'IND370615AAB': 'Nakhatrana_ClgRDDPP_D (Gujarat)',\n 'IND380005AAA': 'Amd_Chandkheda_Dc (Gujarat)',\n 'IND380006AAA': 'Ahmedabad_Paldi_D (Gujarat)',\n 'IND380006AAB': 'Ahmedabad_Mithakal_D (Gujarat)',\n 'IND380021AAA': 'AMD_Rakhial (Gujarat)',\n 'IND380054AAA': 'AMD_Memnagar (Gujarat)',\n 'IND382421AAA': 'Gandhinagar_DC (Gujarat)',\n 'IND382430AAB': 'Ahmedabad_East_H_1 (Gujarat)',\n 'IND382715AAA': 'Kadi_KaranNGR_D (Gujarat)',\n 'IND382721AAA': 'Gandhinagar_Kalol_DC (Gujarat)',\n 'IND383001AAA': 'Himmatnagar_DC (Gujarat)',\n 'IND383255AAB': 'Khedbrahma_Patelfli_D (Gujarat)',\n 'IND383315AAC': 'Modasa_Central_D_1 (Gujarat)',\n 'IND384170AAA': 'Unjha_DC (Gujarat)',\n 'IND384205AAA': 'Mehsana_Panchot_IP (Gujarat)',\n 'IND384265AAB': 'Patan_Central_D_2 (Gujarat)',\n 'IND384355AAB': 'Vadnagar_BsstdDPP_D (Gujarat)',\n 'IND385001AAA': 'Palanpur_DC (Gujarat)',\n 'IND385320AAA': 'Bhabhar_TirupDPP_D (Gujarat)',\n 'IND385340AAB': 'Radhanpur_Santalpr_D (Gujarat)',\n 'IND385535AAA': 'Deesa_HawaiPlr_DC (Gujarat)',\n 'IND387001AAA': 'Nadiad_DC (Gujarat)',\n 'IND387620AAB': 'Kapadvanj_Busstand_D (Gujarat)',\n 'IND388121AAA': 'Anand_VUNagar_DC (Gujarat)',\n 'IND388220AAA': 'Umreth_Dakor_DC (Gujarat)',\n 'IND388320AAA': 'Anand_Vaghasi_IP (Gujarat)',\n 'IND388620AAB': 'Khambhat_MotvdDPP_D (Gujarat)',\n 'IND389001AAA': 'Godhra_DC (Gujarat)',\n 'IND389151AAA': 'Dahod_DC (Gujarat)',\n 'IND390018AAB': 'Vadodara_Karelibaug_DC (Gujarat)',\n 'IND390020AAA': 'Vadodara (Gujarat)',\n 'IND390022AAA': 'Vadodara_Karelibaug_DPC (Gujarat)',\n 'IND391110AAD': 'Dabhoi_Central_DPP_3 (Gujarat)',\n 'IND395001AAA': 'Surat_Central_D_9 (Gujarat)',\n 'IND395004AAB': 'Surat_Central_D_3 (Gujarat)',\n 'IND395006AAA': 'Surat_Varachha_DC (Gujarat)',\n 'IND395009AAA': 'Surat_Central_D_12 (Gujarat)',\n 'IND395010AAB': 'Surat_Brpc (Gujarat)',\n 'IND395023AAA': 'Surat_HUB (Gujarat)',\n 'IND395023AAD': 'Surat_Central_I_4 (Gujarat)',\n 'IND396001AAA': 'Valsad_DC (Gujarat)',\n 'IND396105AAA': 'Bhilad_Umargaon_DC (Gujarat)',\n 'IND396191AAB': 'Vapi_IndEstat_L (Gujarat)',\n 'IND396191AAC': 'Vapi_IndEstat_I (Gujarat)',\n 'IND396232AAA': 'Silvassa_Samrvrni_D (Dadra and Nagar Haveli)',\n 'IND396321AAA': 'Bilimora_DC (Gujarat)',\n 'IND396445AAA': 'Navsari_DC (Gujarat)',\n 'IND396580AAB': 'Vansda_CikhliRD_D (Gujarat)',\n 'IND400011AAA': 'LowerParel_CP (Maharashtra)',\n 'IND400015AAA': 'Mumbai_CottonGreen_DPC (Maharashtra)',\n 'IND400015AAB': 'Mumbai_CotnGren_M (Maharashtra)',\n 'IND400016AAA': 'Mumbai Mahim (Maharashtra)',\n 'IND400016AAB': 'Mumbai_MhimWest_C (Maharashtra)',\n 'IND400037AAA': 'Mumbai Antop Hill (Maharashtra)',\n 'IND400064AAB': 'Mumbai_MaladWest_CP (Maharashtra)',\n 'IND400072AAA': 'Mumbai_Tejpal_M (Maharashtra)',\n 'IND400072AAB': 'Mumbai Hub (Maharashtra)',\n 'IND400072AAC': 'BOM_Sakinaka_RP (Maharashtra)',\n 'IND400072AAD': 'Mumbai_Chndivli_PC (Maharashtra)',\n 'IND400072AAI': 'Mumbai_Chndivli_D (Maharashtra)',\n 'IND400072AAJ': 'Mumbai_Tejpal_I (Maharashtra)',\n 'IND400102AAB': 'Mumbai_Jogeshwri_L (Maharashtra)',\n 'IND400102AAC': 'Mumbai_Jogshwri_I (Maharashtra)',\n 'IND400612AAA': 'Mumbai_Mumbra_DC (Maharashtra)',\n 'IND400701AAA': 'Mumbai_Ghansoli_DC (Maharashtra)',\n 'IND400701AAB': 'Mumbai_Pawane_L (Maharashtra)',\n 'IND400705AAA': 'Mumbai_Sanpada_CP (Maharashtra)',\n 'IND400706AAA': 'Mumbai_Nerul_D (Maharashtra)',\n 'IND401104AAA': 'Mumbai_MiraRd_IP (Maharashtra)',\n 'IND401104AAB': 'Mumbai_MiraRoad_M (Maharashtra)',\n 'IND401209AAA': 'Mumbai_Virar_DC (Maharashtra)',\n 'IND401209AAB': 'Mumbai_Vasai_CP (Maharashtra)',\n 'IND401501AAA': 'Boisar_OstwlEmp_D (Maharashtra)',\n 'IND401602AAA': 'Dahanu_KetyDPP_D (Maharashtra)',\n 'IND402107AAA': 'Pen_BljiMrkt_D (Maharashtra)',\n 'IND402109AAA': 'Roha_DataSagr_D (Maharashtra)',\n 'IND402301AAA': 'Mahad_Govndsgr_D (Maharashtra)',\n 'IND403002AAA': 'Central Goa (Goa)',\n 'IND403401AAA': 'Goa_Ponda_Dc (Goa)',\n 'IND403507AAA': 'Panaji Goa (Goa)',\n 'IND403507AAB': 'Goa_Mapusa (Goa)',\n 'IND403601AAA': 'Goa_Margao_Dc (Goa)',\n 'IND403702AAA': 'Canacona_CharRsta_D (Goa)',\n 'IND403726AAA': 'Goa_Hub (Goa)',\n 'IND403726AAB': 'Goa_ZuariNgr_IP (Goa)',\n 'IND410206AAA': 'Jasai_JNPT_D (Maharashtra)',\n 'IND410206AAB': 'Mumbai_Panvel_D (Maharashtra)',\n 'IND410401AAA': 'Lonavala_NngrgnRd_D (Maharashtra)',\n 'IND410501AAF': 'Talegaon_Central_DPP_4 (Maharashtra)',\n 'IND410503AAA': 'Ambegaon_Manchar_D (Maharashtra)',\n 'IND410505AAB': 'Rajgurunagar_Chakan_D (Maharashtra)',\n 'IND411014AAA': 'PNQ Vadgaon Sheri DPC (Maharashtra)',\n 'IND411017AAA': 'PNQ Rahatani DPC (Maharashtra)',\n 'IND411021AAA': 'PNQ Pashan DPC (Maharashtra)',\n 'IND411033AAA': 'Pune_Tathawde_H (Maharashtra)',\n 'IND411033AAB': 'Pune_Chinchwad DC (Maharashtra)',\n 'IND411036AAA': 'Pune_Mundhawa_L (Maharashtra)',\n 'IND411043AAA': 'Pune Balaji Nagar (Maharashtra)',\n 'IND411048AAA': 'Pune_East_D_8 (Maharashtra)',\n 'IND412105AAC': 'Pune_North_D_3 (Maharashtra)',\n 'IND412210AAC': 'Shirur_Central_DPP_3 (Maharashtra)',\n 'IND412803AAB': 'Wai_Central_DPP_3 (Maharashtra)',\n 'IND413002AAA': 'Solapur_Central_I_2 (Maharashtra)',\n 'IND413304AAA': 'Pandharpur_RajCmplx_D (Maharashtra)',\n 'IND413307AAB': 'Sangola_Central_DPP_2 (Maharashtra)',\n 'IND413307AAC': 'Sangola_Central_DPP_3 (Maharashtra)',\n 'IND413401AAA': 'Barshi_Kurduwdi_D (Maharashtra)',\n 'IND413501AAA': 'Osmanabad_Kakdepot_D (Maharashtra)',\n 'IND413517AAA': 'Udgir_NlgaonRd_D (Maharashtra)',\n 'IND413531AAA': 'Latur_Srnwsngr_D (Maharashtra)',\n 'IND413709AAA': 'Shrirampur_DavkharRd_D (Maharashtra)',\n 'IND414001AAA': 'AhmedNagar_DC (Maharashtra)',\n 'IND414203AAB': 'Ashti_SavtaHTL_D (Maharashtra)',\n 'IND414302AAB': 'Parner_Hindcwk_D (Maharashtra)',\n 'IND414502AAA': 'Shevgaon_VidyaNgr_D (Maharashtra)',\n 'IND415003AAA': 'Satara_DC (Maharashtra)',\n 'IND415124AAA': 'Karad_Mundhe_D (Maharashtra)',\n 'IND415301AAB': 'Atapadi_Vidyangr_D (Maharashtra)',\n 'IND415408AAC': 'Shirala_Central_DPP_3 (Maharashtra)',\n 'IND415409AAB': 'Islampur_Shantanu_D (Maharashtra)',\n 'IND415605AAA': 'Chiplun_LxmiNiws_D (Maharashtra)',\n 'IND415612AAA': 'Ratnagiri_MjgaonRd_D (Maharashtra)',\n 'IND415709AAA': 'Khed_Mahad_D (Maharashtra)',\n 'IND416012AAA': 'Kolhapur_Shivaji_I (Maharashtra)',\n 'IND416122AAA': 'Kolhapur_Central_H_2 (Maharashtra)',\n 'IND416404AAA': 'Jath_Shivprsad_D (Maharashtra)',\n 'IND416510AAA': 'Sawantwadi_LaxmiNgr_D (Maharashtra)',\n 'IND416602AAC': 'Kankavali_NrdawDPP_D (Maharashtra)',\n 'IND416606AAA': 'Malvan_BllvMarg_D (Maharashtra)',\n 'IND421301AAA': 'Mumbai_Kalyan West _Dc (Maharashtra)',\n 'IND421302AAF': 'Mumbai_Kalyan (Maharashtra)',\n 'IND421302AAG': 'Bhiwandi_Mankoli_HB (Maharashtra)',\n 'IND421302AAN': 'GreaterThane_Anjur_C (Maharashtra)',\n 'IND421302AAR': 'Mumbai_East_I_21 (Maharashtra)',\n 'IND421401AAC': 'Murbad_SnkunDPP_D (Maharashtra)',\n 'IND421502AAA': 'Mumbai_Ambernath_Dc (Maharashtra)',\n 'IND421601AAB': 'Asangaon_Shahapur_D (Maharashtra)',\n 'IND421802AAA': 'Khandala_Satara_D (Maharashtra)',\n 'IND422011AAD': 'Nashik_TgrniaRD_I (Maharashtra)',\n 'IND422103AAC': 'Sinnar_Central_D_1 (Maharashtra)',\n 'IND422605AAA': 'Sangamner_JawanChk_D (Maharashtra)',\n 'IND423105AAA': 'Malegaon_Rawlgaon_D (Maharashtra)',\n 'IND423106AAA': 'Manmad_Malegaon_D (Maharashtra)',\n 'IND423109AAA': 'Shirdi_SaiBansi_D (Maharashtra)',\n 'IND423601AAA': 'Kopargaon_NkshtrPz_D (Maharashtra)',\n 'IND423701AAB': 'Vaijiapur_YeolaRD_D (Maharashtra)',\n 'IND424006AAA': 'Dhule_MIDCAvdn_I (Maharashtra)',\n 'IND424101AAA': 'Chalisgaon_BhadgDPP_D (Maharashtra)',\n 'IND424201AAA': 'Pachora_PcrrdDPP_D (Maharashtra)',\n 'IND424304AAC': 'Sakri_DhuleRoad_D (Maharashtra)',\n 'IND425109AAA': 'Erandol_BsStdDPP_D (Maharashtra)',\n 'IND425201AAA': 'Bhusawal_Samarth_D (Maharashtra)',\n 'IND425401AAA': 'Amalner_Murtingr_D (Maharashtra)',\n 'IND425405AAA': 'Shirpur_KrantiNgr_D (Maharashtra)',\n 'IND425406AAA': 'Shindkheda_KakaCplx_D (Maharashtra)',\n 'IND425409AAA': 'Shahada_Nandrbar_D (Maharashtra)',\n 'IND425412AAA': 'Nandurbar_DhuleRd_D (Maharashtra)',\n 'IND425508AAB': 'Raver_Truptingr_D (Maharashtra)',\n 'IND431001AAB': 'Aurangabad_Pratpngr_D (Maharashtra)',\n 'IND431107AAB': 'Paithan_SantaNGR_D (Maharashtra)',\n 'IND431112AAB': 'Sillod_ZebaTWR_D (Maharashtra)',\n 'IND431122AAA': 'Beed_JalnaRd_D (Maharashtra)',\n 'IND431127AAA': 'Georai_Bazarrd_D (Maharashtra)',\n 'IND431131AAB': 'Majalgaon_SmbjiCwk_D (Maharashtra)',\n 'IND431136AAC': 'Aurangabad_Central_H_1 (Maharashtra)',\n 'IND431203AAA': 'Jalna_BhgyaNgr_D (Maharashtra)',\n 'IND431514AAA': 'Gangakher_Busstand_D (Maharashtra)',\n 'IND431515AAA': 'Parli_JirgeNgr_D (Maharashtra)',\n 'IND431517AAB': 'Ambajogai_BnsllNgr_D (Maharashtra)',\n 'IND431603AAA': 'Nanded_Aswningr_I (Maharashtra)',\n 'IND431708AAA': 'Loha_SivjiCWK_D (Maharashtra)',\n 'IND431717AAA': 'Degloor_Busstand_D (Maharashtra)',\n 'IND441206AAB': 'Brahmapuri_DhnliRth_D (Maharashtra)',\n 'IND441603AAA': 'Chamorshi_Central_DPP_1 (Maharashtra)',\n 'IND441614AAA': 'Gondia_RamNgr_D (Maharashtra)',\n 'IND441904AAB': 'Bhandara_RjnaiDPP_D (Maharashtra)',\n 'IND441912AAA': 'Bhandara_KaremDPP_D (Maharashtra)',\n 'IND442001AAA': 'Wardha_RamaNgr_D (Maharashtra)',\n 'IND442101AAB': 'Deoli_Central_DPP_2 (Maharashtra)',\n 'IND442605AAA': 'Gadchiroli_Central_DPP_1 (Maharashtra)',\n 'IND443201AAA': 'Chikhli_KKndrDPP_D (Maharashtra)',\n 'IND443301AAA': 'Mehkar_SagarDPP_D (Maharashtra)',\n 'IND444005AAB': 'Akola_Gaurkshn_I (Maharashtra)',\n 'IND444203AAA': 'Shegaon_SChwkDPP_D (Maharashtra)',\n 'IND444303AAA': 'Khamgaon_WamanDPP_D (Maharashtra)',\n 'IND444602AAA': 'Amravati_DC (Maharashtra)',\n 'IND445101AAA': 'Nagpur_Gondkhry_H (Maharashtra)',\n 'IND450331AAA': 'Burhanpur_StRoad_D (Madhya Pradesh)',\n 'IND451666AAA': 'Sendhwa_VishnuVhr_D (Madhya Pradesh)',\n 'IND452001AAC': 'Jalgaon_DC (Maharashtra)',\n 'IND454001AAA': 'Dhar_Trimurti_D (Madhya Pradesh)',\n 'IND457001AAA': 'Ratlam_Khjurwli_DC (Madhya Pradesh)',\n 'IND457226AAA': 'Jaora_RtlamNka_D (Madhya Pradesh)',\n 'IND458001AAB': 'Mandsaur_YashDPP_D (Madhya Pradesh)',\n 'IND458664AAA': 'Neemuch_KarjuDPP_D (Madhya Pradesh)',\n 'IND458990AAA': 'Sitamau_Central_DPP_1 (Madhya Pradesh)',\n 'IND460001AAA': 'Betul_PatelWrd_D (Madhya Pradesh)',\n 'IND461001AAA': 'Hoshangabad_MnRDDPP_D (Madhya Pradesh)',\n 'IND461111AAA': 'Itarsi_DivrsnRd_D (Madhya Pradesh)',\n 'IND462001AAA': 'Bhopal_Old City (Madhya Pradesh)',\n 'IND462011AAA': 'Bhopal MP Nagar (Madhya Pradesh)',\n 'IND462021AAA': 'Bhopal_Indrapri_DC (Madhya Pradesh)',\n 'IND462022AAA': 'Bhopal_Trnsport_H (Madhya Pradesh)',\n 'IND462042AAA': 'Bhopal_Kolar Mandakni (Madhya Pradesh)',\n 'IND464001AAA': 'Vidisha_ShrprDPP_D (Madhya Pradesh)',\n 'IND464221AAA': 'GanjBasoda_MnRDDPP_D (Madhya Pradesh)',\n 'IND464668AAA': 'Bareli_SourvDPP_D (Madhya Pradesh)',\n 'IND465001AAA': 'Shajapur_MhpraRD_D (Madhya Pradesh)',\n 'IND465333AAA': 'Shujalpur_AstrdDPP_D (Madhya Pradesh)',\n 'IND465669AAB': 'Narsinghgarh_Central_D_1 (Madhya Pradesh)',\n 'IND465683AAA': 'Pachore_Shop3DPP_D (Madhya Pradesh)',\n 'IND466001AAA': 'Sehore_Mangalam_D (Madhya Pradesh)',\n 'IND466116AAA': 'Ashta_ShantiNg_D (Madhya Pradesh)',\n 'IND470004AAA': 'Sagar_Bahreya_I (Madhya Pradesh)',\n 'IND470113AAA': 'Bina_Srvdycwk_D (Madhya Pradesh)',\n 'IND470117AAA': 'Khurai_Talaiya_D (Madhya Pradesh)',\n 'IND471001AAA': 'Chhatarpur_Busstand_D (Madhya Pradesh)',\n 'IND472001AAA': 'Tikamgarh_MndiRoad_D (Madhya Pradesh)',\n 'IND473001AAA': 'Guna_HnumnDPP_D (Madhya Pradesh)',\n 'IND473226AAA': 'Guna_Raghogrh_D (Madhya Pradesh)',\n 'IND473331AAA': 'Ashokngr_Bypassrd_D (Madhya Pradesh)',\n 'IND473443AAA': 'Mungaoli_AshkngRd_D (Madhya Pradesh)',\n 'IND474003AAA': 'Gwalior_HrihrNgr_I (Madhya Pradesh)',\n 'IND476001AAA': 'Morena_Prjapati_D (Madhya Pradesh)',\n 'IND476111AAA': 'Ambah_MrenTirh_D (Madhya Pradesh)',\n 'IND477001AAA': 'Bhind_BhrolDPP_D (Madhya Pradesh)',\n 'IND477001AAB': 'Bhind_EtwahDPP_D (Madhya Pradesh)',\n 'IND480001AAA': 'Chhindwara_NagpurRd_D (Madhya Pradesh)',\n 'IND480334AAA': 'Pandhurna_Mataward_D (Madhya Pradesh)',\n 'IND480661AAA': 'Seoni_Kidwai_D (Madhya Pradesh)',\n 'IND480886AAA': 'Lakhnadon_Central_DPP_1 (Madhya Pradesh)',\n 'IND481661AAA': 'Mandla_Mharajpr_D (Madhya Pradesh)',\n 'IND482002AAA': 'Jabalpur (Madhya Pradesh)',\n 'IND483225AAA': 'Sihora_KtnRdDPP_D (Madhya Pradesh)',\n 'IND483501AAA': 'Katni_Bargawan_DC (Madhya Pradesh)',\n 'IND483770AAA': 'Barhi_Central_DPP_1 (Madhya Pradesh)',\n 'IND484001AAA': 'Shahdol_Sohagpur_D (Madhya Pradesh)',\n 'IND484224AAA': 'Anuppur_JthriDPP_DC (Madhya Pradesh)',\n 'IND484446AAA': 'Dola_ChainDPP_D (Madhya Pradesh)',\n 'IND484551AAA': 'PaliBirsighpr_CtyLgDPP_D (Madhya Pradesh)',\n 'IND484661AAE': 'Umaria_Central_DPP_3 (Madhya Pradesh)',\n 'IND485001AAC': 'Satna_Central_I_2 (Madhya Pradesh)',\n 'IND485771AAA': 'Maihar_MngalDPP_D (Madhya Pradesh)',\n 'IND486001AAA': 'Rewa_Dc (Madhya Pradesh)',\n 'IND486661AAA': 'Sidhi_Padra_D (Madhya Pradesh)',\n 'IND486771AAA': 'Churhat_Central_DPP_1 (Madhya Pradesh)',\n 'IND486886AAA': 'Singrauli_Waidhan_D (Madhya Pradesh)',\n 'IND486889AAA': 'Singrauli_Ward8DPP_D (Madhya Pradesh)',\n 'IND487001AAA': 'Narsingpur_JrjolDPP_D (Madhya Pradesh)',\n 'IND487001AAB': 'Narsinghpur_KndliDPP_D (Madhya Pradesh)',\n 'IND487551AAA': 'Gadarwara_MPward_D (Madhya Pradesh)',\n 'IND488001AAA': 'Panna_Mohnprwa_D (Madhya Pradesh)',\n 'IND491001AAA': 'Durg_Pulgaon_DC (Chhattisgarh)',\n 'IND492001AAB': 'Raipur_Katora_IP (Chhattisgarh)',\n 'IND493118AAC': 'Bhatpara_TrengaRD_D (Chhattisgarh)',\n 'IND493445AAB': 'Mahasamund_RajpurRD_D (Chhattisgarh)',\n 'IND494334AAB': 'Kanker_KrisnKunj_D (Chhattisgarh)',\n 'IND495004AAA': 'Bilaspur_Torwa_DC (Chhattisgarh)',\n 'IND495334AAB': 'Mungeli_Panderia_D (Chhattisgarh)',\n 'IND495677AAA': 'Korba_Tilknagr_DC (Chhattisgarh)',\n 'IND500008AAC': 'Hyderabad_Tolichwk_I (Telangana)',\n 'IND500008AAD': 'Hyderabad_Tolichwk_L (Telangana)',\n 'IND500008AAF': 'Hyderabad_South_D_4 (Telangana)',\n 'IND500010AAA': 'Hyderabad_Alwal_I (Telangana)',\n 'IND500010AAB': 'Hyderabad_Alwal_L (Telangana)',\n 'IND500018AAA': 'Hyderabad_PndrgNgr_DC (Telangana)',\n 'IND500032AAA': 'Hyd_Chandanagar_Dc (Telangana)',\n 'IND500035AAA': 'Hyd_LB-Nagar_Dc (Telangana)',\n 'IND500039AAB': 'Hyd_Uppal_Dc (Telangana)',\n 'IND500039AAC': 'Hyderabad_Uppal_I (Telangana)',\n 'IND500039AAD': 'Hyderabad_Uppal_L (Telangana)',\n 'IND500050AAA': 'Patancheru_Ameenpur_I (Telangana)',\n 'IND500055AAA': 'Hyd_Trimulgherry_Dc (Telangana)',\n 'IND500055AAC': 'Hyderabad_North_D_2 (Telangana)',\n 'IND500080AAB': 'Hyderabad_Chikdply_I (Telangana)',\n 'IND501101AAB': 'Vikarabad_Central_DPP_2 (Telangana)',\n 'IND501141AAA': 'Tandur_SnthiNGR_D (Telangana)',\n 'IND501301AAC': 'Ghatkesar_Central_D_1 (Telangana)',\n 'IND501359AAE': 'Hyderabad_Shamshbd_H (Telangana)',\n 'IND501359AAG': 'Hyderabad_South_R_11 (Telangana)',\n 'IND501401AAC': 'Medchal_MROoffce_D (Telangana)',\n 'IND502110AAA': 'Medak_Dwaraka_D (Telangana)',\n 'IND502220AAC': 'Zahirabad_Mohim_D (Telangana)',\n 'IND502286AAB': 'Narayankhed_Datatrya_D (Telangana)',\n 'IND502295AAA': 'Sangareddy_Pothredy_D (Telangana)',\n 'IND502313AAA': 'Narsapur_Xroad_D (Telangana)',\n 'IND503111AAC': 'Kamareddy_Devenply_I (Telangana)',\n 'IND503122AAA': 'Yellareddy_JKRoad_D (Telangana)',\n 'IND503185AAA': 'Bodhan_SuryaDPP_D (Telangana)',\n 'IND503187AAA': 'Banswada_Menagrdn_D (Telangana)',\n 'IND504201AAA': 'Chinnur_AsnsdhRD_D (Telangana)',\n 'IND504208AAB': 'Mancherial_Hitech_D (Telangana)',\n 'IND504215AAA': 'Luxettipet_ShivaDPP_D (Telangana)',\n 'IND504251AAA': 'Bellmpalli_BasthDPP_D (Telangana)',\n 'IND504293AAA': 'Asifabad_PaikjNGR_D (Telangana)',\n 'IND504296AAA': 'Kaghaznagar_Central_DPP_1 (Telangana)',\n 'IND505001AAA': 'Karimnagar_DC (Telangana)',\n 'IND505001AAB': 'Karimnagar_KamnHbRD_I (Telangana)',\n 'IND505122AAA': 'Jammikunta_ConduDPP_D (Telangana)',\n 'IND505184AAC': 'Manthani_Chaitnya_D (Telangana)',\n 'IND505209AAA': 'Ramagundam_Pdmavati_D (Telangana)',\n 'IND505302AAB': 'Vemulawada_Central_DPP_2 (Telangana)',\n 'IND505325AAA': 'Metpally_GunjRDPP_D (Telangana)',\n 'IND505326AAA': 'Koratla_BhemuDPP_D (Telangana)',\n 'IND505327AAA': 'Jagtial_Aravind_D (Telangana)',\n 'IND505425AAA': 'DhrmpuriTS_HanumDPP_D (Telangana)',\n 'IND505467AAA': 'Husnabad_Greenmkt_D (Telangana)',\n 'IND505503AAA': 'Mahadevpur_Kataram_D (Telangana)',\n 'IND506001AAC': 'Warangal_Central_D_2 (Telangana)',\n 'IND506002AAA': 'Warangal_HunterRd_I (Telangana)',\n 'IND506132AAA': 'Khanpur_Nrsampt_D (Telangana)',\n 'IND506143AAA': 'Ghanpur_Palakrty_D (Telangana)',\n 'IND506167AAB': 'Jangaon_Hanmkond_D (Telangana)',\n 'IND506169AAB': 'Bhupalpally_JwahrNGR_D (Telangana)',\n 'IND506314AAA': 'Rayaparthi_Perkadrd_D (Telangana)',\n 'IND506343AAA': 'Mulugu_LaxmiNGR_D (Telangana)',\n 'IND507002AAA': 'Khammam_NSTRoad_I (Telangana)',\n 'IND507111AAA': 'Bhadrachalam_ITDARd_D (Telangana)',\n 'IND507117AAB': 'Manuguru_AskNagar_D (Telangana)',\n 'IND507123AAA': 'Yellandu_Sudimala_D (Telangana)',\n 'IND507159AAA': 'Kusumnchi_SKRoad_D (Telangana)',\n 'IND507303AAA': 'Sathupally_VidyaNGR_D (Telangana)',\n 'IND508001AAA': 'Nalgonda_HydRoad_DC (Telangana)',\n 'IND508116AAA': 'Bhuvanagiri_HBColny_D (Telangana)',\n 'IND508206AAA': 'Kodad_VidyaNgr_D (Telangana)',\n 'IND508207AAB': 'Miryalguda_Ragvendr_D (Telangana)',\n 'IND508213AAB': 'Suryapet_Krishna_D (Telangana)',\n 'IND508223AAA': 'Thirumalagiri_Xroad_D (Telangana)',\n 'IND508248AAB': 'Devarakonda_DindiRD_D (Telangana)',\n 'IND508252AAB': 'Choutuppal_Nagaram_D (Telangana)',\n 'IND508277AAB': 'Mothkur_Mainroad_D (Telangana)',\n 'IND508377AAB': 'Haliya_PeroorRD_D (Telangana)',\n 'IND509001AAA': 'Mahabubnagar_DC (Telangana)',\n 'IND509103AAB': 'Wanaparthy_VallaDPP_D (Telangana)',\n 'IND509124AAA': 'JoguGadwal_ColctrOf_D (Telangana)',\n 'IND509203AAA': 'Bijnapally_nagar_D (Telangana)',\n 'IND509216AAC': 'Shadnagar_Central_D_1 (Telangana)',\n 'IND509301AAA': 'Jadcherla_Badeplly_D (Telangana)',\n 'IND509324AAA': 'Kalwakurthy_VidyaNGR_D (Telangana)',\n 'IND509358AAA': 'Kadthal_GndhiDPP_D (Telangana)',\n 'IND515004AAA': 'Anantapur_KamaStrt_I (Andhra Pradesh)',\n 'IND515134AAA': 'Puttaprthi_Gokulam_D (Andhra Pradesh)',\n 'IND515201AAA': 'Hindupur_Parigi_D (Andhra Pradesh)',\n 'IND515301AAA': 'Madakasira_RTCStand_D (Andhra Pradesh)',\n 'IND515401AAB': 'Gooty_StatonRd_D (Andhra Pradesh)',\n 'IND515411AAA': 'Tadipatri_CBRoad_D (Andhra Pradesh)',\n 'IND515591AAA': 'Kadiri_GVManu_D (Andhra Pradesh)',\n 'IND515671AAA': 'Dharmavram_SaiNgr_D (Andhra Pradesh)',\n 'IND515761AAA': 'Kalyandurg_Shankrpa_D (Andhra Pradesh)',\n 'IND515801AAA': 'Guntakal_Verpatem_D (Andhra Pradesh)',\n 'IND515865AAB': 'Rayadurgam_RailGate_D (Andhra Pradesh)',\n 'IND516001AAA': 'Cuddapah_DC (Andhra Pradesh)',\n 'IND516101AAA': 'Koduru_MGRoad_D (Andhra Pradesh)',\n 'IND516115AAA': 'Rajampet_RSRoad_D (Andhra Pradesh)',\n 'IND516227AAA': 'Badvel_Sidrd_D (Andhra Pradesh)',\n 'IND516269AAA': 'Rayachoti_Madnpali_D (Andhra Pradesh)',\n 'IND516360AAB': 'Proddatur_Central_D_2 (Andhra Pradesh)',\n 'IND516390AAA': 'Pulivendula_RTCStand_D (Andhra Pradesh)',\n 'IND517325AAA': 'Madnapalle_PngnrRd_D (Andhra Pradesh)',\n 'IND517501AAB': 'Tirupati_Balajicly_I (Andhra Pradesh)',\n 'IND517583AAA': 'Puttur_Artmclny_D (Andhra Pradesh)',\n 'IND517644AAA': 'Sriklahsti_SDKNgr_D (Andhra Pradesh)',\n 'IND518002AAA': 'Kurnool_AbbasNgr_I (Andhra Pradesh)',\n 'IND518102AAA': 'Srisailam_Sishumdr_D (Andhra Pradesh)',\n 'IND518124AAA': 'Bngnpalle_Enkndla_D (Andhra Pradesh)',\n 'IND518206AAA': 'Betamcherla_CmtNgRod_D (Andhra Pradesh)',\n 'IND518222AAA': 'Dhone_RmNyrDPP_D (Andhra Pradesh)',\n 'IND518401AAA': 'Nandikotkr_UmarDPP_D (Andhra Pradesh)',\n 'IND518422AAB': 'Atmakur_IndraNgr_D (Andhra Pradesh)',\n 'IND518501AAA': 'Nandyal_SrnvsNgr_D (Andhra Pradesh)',\n 'IND520011AAA': 'Vijayawada (Andhra Pradesh)',\n 'IND521001AAA': 'Machilipatnam_DC (Andhra Pradesh)',\n 'IND521105AAA': 'HanumanJNC_VijywdRD_D (Andhra Pradesh)',\n 'IND521165AAA': 'Vuyyuru_BhogdDPP_D (Andhra Pradesh)',\n 'IND521185AAA': 'Nandigama_Chndrlpd_D (Andhra Pradesh)',\n 'IND521201AAA': 'Nuzvid_Ward17_D (Andhra Pradesh)',\n 'IND521225AAB': 'Vijayawada_Rynapadu_H (Andhra Pradesh)',\n 'IND521301AAA': 'Gudivada_GvrCompx_D (Andhra Pradesh)',\n 'IND521333AAA': 'Kaikaluru_Atapaka_D (Andhra Pradesh)',\n 'IND522647AAA': 'Vinukonda_Kothapet_D (Andhra Pradesh)',\n 'IND523002AAA': 'Ongole_SubhVRTL_I (Andhra Pradesh)',\n 'IND523105AAA': 'Kandukur_LICOffce_D (Andhra Pradesh)',\n 'IND523201AAA': 'Addanki_Oilmilrd_D (Andhra Pradesh)',\n 'IND523226AAA': 'Chimkurthy_MSRClgRd_D (Andhra Pradesh)',\n 'IND523230AAA': 'Kanigiri_Tiglgndi_D (Andhra Pradesh)',\n 'IND523316AAB': 'Markapur_VidyaNgr_D (Andhra Pradesh)',\n 'IND524003AAA': 'Nellore_DC (Andhra Pradesh)',\n 'IND524101AAB': 'Gudur_Bngisheb_D (Andhra Pradesh)',\n 'IND524132AAA': 'Venktagiri_TirupthiRd_D (Andhra Pradesh)',\n 'IND524201AAA': 'Kavali_Kacheri_D (Andhra Pradesh)',\n 'IND530012AAA': 'Visakhapatnam_Gajuwaka_IP (Andhra Pradesh)',\n 'IND530012AAC': 'Vizag_Gajuwaka_L (Andhra Pradesh)',\n 'IND530018AAA': 'Vizag _NAD (Andhra Pradesh)',\n 'IND530026AAA': 'Vizag_Gajuwaka (Andhra Pradesh)',\n 'IND530043AAA': 'Visakhapatnam_VislkNgr_DC (Andhra Pradesh)',\n 'IND531001AAA': 'Anakapalle_Kothuru_D (Andhra Pradesh)',\n 'IND531036AAA': 'Chodavaram_BaljiDPP_D (Andhra Pradesh)',\n 'IND531116AAA': 'Narsiptnm_Wardno8_D (Andhra Pradesh)',\n 'IND531163AAA': 'Bheemunipatnam_SaiTempl_D (Andhra Pradesh)',\n 'IND532001AAB': 'Srikakulam_Kuslpram_I (Andhra Pradesh)',\n 'IND532127AAA': 'Rajam_SamathBv_D (Andhra Pradesh)',\n 'IND532201AAA': 'Tekkali_AmvdiDPP_D (Andhra Pradesh)',\n 'IND532222AAA': 'Palasa_Central_DPP_1 (Andhra Pradesh)',\n 'IND532421AAA': 'Narasnpeta_HudcoDPP_D (Andhra Pradesh)',\n 'IND532440AAA': 'Palakonda_VadaiDPP_D (Andhra Pradesh)',\n 'IND533003AAA': 'Kakinada_DC (Andhra Pradesh)',\n 'IND533106AAA': 'Rajamundry_AtoNgrRd_I (Andhra Pradesh)',\n 'IND533201AAA': 'Amalapuram_Vijdurg_D (Andhra Pradesh)',\n 'IND533242AAA': 'Razole_Shanthi_D (Andhra Pradesh)',\n 'IND533262AAA': 'Draksharamam_Anaipeta_D (Andhra Pradesh)',\n 'IND533308AAB': 'Mandapeta_Mainrd_D (Andhra Pradesh)',\n 'IND533401AAA': 'Tuni_Eaglvari_D (Andhra Pradesh)',\n 'IND534001AAA': 'Eluru_Agraharm_DC (Andhra Pradesh)',\n 'IND534260AAC': 'Palakollu_CroadDPP_D (Andhra Pradesh)',\n 'IND535001AAA': 'Vizianagaram_NcsRd_DC (Andhra Pradesh)',\n 'IND535501AAB': 'Parvathipuram_Central_D_2 (Andhra Pradesh)',\n 'IND535558AAA': 'Bobbili_ColegRd_D (Andhra Pradesh)',\n 'IND535591AAA': 'Salur_ward9_D (Andhra Pradesh)',\n 'IND560002AAA': 'Bengaluru_KHRoad_I (Karnataka)',\n 'IND560027AAA': 'Blr_Domlur (Karnataka)',\n 'IND560043AAC': 'HBR Layout PC (Karnataka)',\n 'IND560048AAB': 'Bengaluru_Hoodi_IP (Karnataka)',\n 'IND560058AAB': 'Bengaluru_Peenya_IP (Karnataka)',\n 'IND560058AAD': 'Bengaluru_Peenya_L (Karnataka)',\n 'IND560060AAB': 'Bengaluru_Kengeri_IP (Karnataka)',\n 'IND560064AAD': 'Bengaluru_Bagaluru_D (Karnataka)',\n 'IND560067AAC': 'Bengaluru_Kadugodi_D (Karnataka)',\n 'IND560077AAA': 'Bengaluru_ Kothanur_L (Karnataka)',\n 'IND560078AAC': 'BLR_JPNagar_Pc (Karnataka)',\n 'IND560083AAB': 'Bengaluru_Bnnrghta_L (Karnataka)',\n 'IND560085AAA': 'Bengaluru_Banshkri_DC (Karnataka)',\n 'IND560099AAB': 'Bengaluru_Bomsndra_HB (Karnataka)',\n 'IND560099AAG': 'Bengaluru_Bomsndra_L (Karnataka)',\n 'IND560099AAH': 'Bengaluru_South_D_20 (Karnataka)',\n 'IND560300AAA': 'Bengaluru_KGAirprt_HB (Karnataka)',\n 'IND560300AAB': 'Bangalore_East_I_20 (Karnataka)',\n 'IND561202AAB': 'Pavagada_PnukndRD_D (Karnataka)',\n 'IND561203AAB': 'Doddablpur_ChikaDPP_D (Karnataka)',\n 'IND561207AAB': 'Bagepalli_TBCross_D (Karnataka)',\n 'IND562101AAA': 'Chikblapur_ShntiSgr_D (Karnataka)',\n 'IND562108AAA': 'Gauribidanur_Gurukrpa_D (Karnataka)',\n 'IND562114AAA': 'Hoskote_DC (Karnataka)',\n 'IND562117AAA': 'Kanakapura_VaniThtr_D (Karnataka)',\n 'IND562125AAA': 'Bengaluru_Sarjapur_D (Karnataka)',\n 'IND562132AAA': 'Bangalore_Nelmngla_H (Karnataka)',\n 'IND562132AAC': 'Bengaluru_Nelmngla_L (Karnataka)',\n 'IND562159AAA': 'Ramanagara_BMRd_DC (Karnataka)',\n 'IND563101AAB': 'Kolar_Ambedkar_D (Karnataka)',\n 'IND563116AAA': 'Bethamangala_FshryOFC_D (Karnataka)',\n 'IND563125AAB': 'Chintamani_Central_D_2 (Karnataka)',\n 'IND563130AAA': 'Malur_NharuExt_D (Karnataka)',\n 'IND563131AAA': 'Mulbagal_Sunku_D (Karnataka)',\n 'IND563131AAB': 'Bangarapet_KolarRd_D (Karnataka)',\n 'IND570020AAA': 'Mysore_Yadvgiri_IP (Karnataka)',\n 'IND571104AAA': 'Koppa_BMRd_D (Karnataka)',\n 'IND571105AAA': 'Hunsur_RatnaDPP_D (Karnataka)',\n 'IND571111AAB': 'Gundlupet_Swamylyt_D (Karnataka)',\n 'IND571114AAA': 'HDKote_BegurRD_D (Karnataka)',\n 'IND571124AAA': 'Tirumakudalu_Narasipr_D (Karnataka)',\n 'IND571213AAA': 'Gonikoppal_Thomas_D (Karnataka)',\n 'IND571301AAA': 'Nanjangud_RPRoad_D (Karnataka)',\n 'IND571313AAB': 'Chamarjngr_BrDbleRd_D (Karnataka)',\n 'IND571401AAA': 'Mandya_Dc (Karnataka)',\n 'IND571426AAA': 'Krishnarajpet_MuruPost_D (Karnataka)',\n 'IND571430AAA': 'Malavalli_SulthnRd_D (Karnataka)',\n 'IND571432AAB': 'Nagamangala_MandyaRD_D (Karnataka)',\n 'IND571438AAB': 'Srirangapatna_Bburynkpl_D (Karnataka)',\n 'IND571440AAA': 'Kollegala_NarsipuraRd_D (Karnataka)',\n 'IND572101AAA': 'Tumkur_Veersagr_I (Karnataka)',\n 'IND572201AAB': 'Tiptur_YTRd_D (Karnataka)',\n 'IND573103AAA': 'Arsikere_HsnRdDPP_D (Karnataka)',\n 'IND573116AAA': 'Channaraya_patna_D (Karnataka)',\n 'IND573134AAB': 'Sakleshpur_RgvdrDPP_D (Karnataka)',\n 'IND573142AAA': 'Ramanathapura_Central_D_2 (Karnataka)',\n 'IND573201AAB': 'Hassan_Pandrnga_I (Karnataka)',\n 'IND574104AAA': 'Karkala_MarketRd_D (Karnataka)',\n 'IND574117AAA': 'Uchila_Busstand_D (Karnataka)',\n 'IND574202AAA': 'Puttur_Darbe_DC (Karnataka)',\n 'IND574211AAA': 'Bantwal_Trmltmpl_D (Karnataka)',\n 'IND574216AAA': 'Dhrmsthala_Beltngdi_D (Karnataka)',\n 'IND574221AAA': 'Kadaba_AnugrDPP_D (Karnataka)',\n 'IND574227AAA': 'Moodbidri_MrdiVlge_D (Karnataka)',\n 'IND574239AAA': 'Sullia_Srirampt_D (Karnataka)',\n 'IND575004AAB': 'Mangalore_Kuntikna_H (Karnataka)',\n 'IND575014AAA': 'Surathkal_DC (Karnataka)',\n 'IND576101AAA': 'Udupi (Karnataka)',\n 'IND576201AAA': 'Kundapura_DC (Karnataka)',\n 'IND577002AAA': 'Davangere_Central_I_1 (Karnataka)',\n 'IND577101AAA': 'Chikmagalur_DC (Karnataka)',\n 'IND577126AAA': 'Koppa_Sangetha_D (Karnataka)',\n 'IND577132AAD': 'Mudigere_HesglDPP_D (Karnataka)',\n 'IND577201AAA': 'Shimoga_DC (Karnataka)',\n 'IND577401AAA': 'Sagara_Vardhard_D (Karnataka)',\n 'IND577432AAA': 'Thirthahalli_NadthiCx_D (Karnataka)',\n 'IND577501AAA': 'Chitradurga_DC (Karnataka)',\n 'IND577522AAA': 'Challakere_Shivangr_D (Karnataka)',\n 'IND577535AAC': 'Molakalmuru_KnsgraRD_D (Karnataka)',\n 'IND577598AAB': 'Madikeri_MuthpTmp_D (Karnataka)',\n 'IND577598AAC': 'Hiriyur_TahurDPP_D (Karnataka)',\n 'IND580002AAA': 'Dharwad_Dc (Karnataka)',\n 'IND580028AAA': 'Hubli_Adargchi_IP (Karnataka)',\n 'IND581110AAE': 'Haveri_GuttalRD_D (Karnataka)',\n 'IND581115AAC': 'Ranebennur_SriRmNGR_D (Karnataka)',\n 'IND581119AAB': 'Ukkadagatri_Tuminkte_D (Karnataka)',\n 'IND581303AAA': 'Karwar_Central_D_1 (Karnataka)',\n 'IND581314AAA': 'Ankola_Kakrmath_D (Karnataka)',\n 'IND581320AAA': 'Bhatkal_KmkshBul_D (Karnataka)',\n 'IND581325AAA': 'Dandeli_RKComplx_D (Karnataka)',\n 'IND581334AAA': 'Honnavar_Prbhtngr_D (Karnataka)',\n 'IND581343AAC': 'Kumta_Central_DPP_2 (Karnataka)',\n 'IND581400AAB': 'Mallapur_ShtDRDPP_D (Karnataka)',\n 'IND581402AAA': 'Sirsi_Vidygiri_D (Karnataka)',\n 'IND582101AAB': 'Gadag_Cdosclrd_D (Karnataka)',\n 'IND582209AAA': 'Rona_GadagRD_D (Karnataka)',\n 'IND583101AAA': 'Bellary_Dc (Karnataka)',\n 'IND583119AAA': 'Sandur_WrdN1DPP_D (Karnataka)',\n 'IND583201AAA': 'Hospet (Karnataka)',\n 'IND583227AAA': 'Gangavathi_PhrmPlza_D (Karnataka)',\n 'IND583231AAA': 'Koppal_Banikatt_D (Karnataka)',\n 'IND584101AAA': 'Raichur_LSRoad_DC (Karnataka)',\n 'IND584123AAA': 'Manvi_APMCYard_D (Karnataka)',\n 'IND584128AAA': 'Sindhanur_VasaviNg_D (Karnataka)',\n 'IND585104AAA': 'Gulbarga_Nehrugnj_I (Karnataka)',\n 'IND585211AAA': 'Chittapur_GlbrgaRD_D (Karnataka)',\n 'IND585222AAA': 'Sedam_DBRCmplx_D (Karnataka)',\n 'IND585307AAB': 'Chincholi_Mainroad_D (Karnataka)',\n 'IND585314AAA': 'Aland_RazaviRd_D (Karnataka)',\n 'IND585330AAE': 'Humnabad_EBroad_D (Karnataka)',\n 'IND585401AAA': 'Bidar (Karnataka)',\n 'IND586101AAA': 'Bijapur_KirtiNgr_D (Karnataka)',\n ...}"
     },
     "execution_count": 69,
     "metadata": {},
     "output_type": "execute_result"
    }
   ],
   "source": [
    "center_to_name"
   ],
   "metadata": {
    "collapsed": false,
    "ExecuteTime": {
     "end_time": "2023-08-01T13:10:42.184924800Z",
     "start_time": "2023-08-01T13:10:42.135792700Z"
    }
   },
   "id": "a034b9bf3d15c9b"
  },
  {
   "cell_type": "code",
   "execution_count": 57,
   "outputs": [],
   "source": [
    "df['source_name'] = df['source_center'].map(center_to_name)\n",
    "df['destination_name'] = df['destination_center'].map(center_to_name)"
   ],
   "metadata": {
    "collapsed": false,
    "ExecuteTime": {
     "end_time": "2023-08-01T11:42:26.690567200Z",
     "start_time": "2023-08-01T11:42:26.663169900Z"
    }
   },
   "id": "404fb338d2b7cb63"
  },
  {
   "cell_type": "markdown",
   "source": [
    "Getting List of Center with null values "
   ],
   "metadata": {
    "collapsed": false
   },
   "id": "2491012c3fb18903"
  },
  {
   "cell_type": "code",
   "execution_count": 108,
   "outputs": [],
   "source": [
    "null_source_center = df[df['source_name'].isna()]['source_center'].unique()\n",
    "null_destination_center = df[df['destination_name'].isna()]['destination_center'].unique()"
   ],
   "metadata": {
    "collapsed": false,
    "ExecuteTime": {
     "end_time": "2023-08-01T13:30:13.469984500Z",
     "start_time": "2023-08-01T13:30:13.443895700Z"
    }
   },
   "id": "eb33a9de773e5d9a"
  },
  {
   "cell_type": "markdown",
   "source": [
    "#### Method - 2 Imputing Mode"
   ],
   "metadata": {
    "collapsed": false
   },
   "id": "fe54f92a4f6ba0b6"
  },
  {
   "cell_type": "code",
   "execution_count": 118,
   "outputs": [
    {
     "data": {
      "text/plain": "            data          trip_creation_time  \\\n107014  training  2018-09-14 19:16:57.265323   \n117687  training  2018-09-16 21:12:05.798085   \n141541  training  2018-09-18 09:06:02.999976   \n138381  training  2018-09-25 14:44:11.965670   \n98135   training  2018-09-24 16:16:59.587226   \n59465   training  2018-09-22 05:05:51.696787   \n7284    training  2018-09-26 22:14:23.027831   \n14921       test  2018-09-29 18:32:02.935005   \n48856   training  2018-09-17 23:44:29.556309   \n103324  training  2018-09-24 17:42:25.056189   \n54265   training  2018-09-16 22:59:06.552984   \n140233      test  2018-09-28 16:14:16.288292   \n74239   training  2018-09-26 13:10:32.637699   \n139398  training  2018-09-25 06:01:12.059327   \n26011   training  2018-09-24 19:57:25.849386   \n109714  training  2018-09-12 22:58:12.962120   \n3041    training  2018-09-17 22:44:20.430693   \n123701      test  2018-09-30 04:10:32.536342   \n89285   training  2018-09-17 10:49:33.765667   \n24588       test  2018-09-27 01:33:41.668026   \n58350       test  2018-09-28 02:01:46.504075   \n2713    training  2018-09-20 23:39:22.472939   \n15174       test  2018-10-03 04:55:30.039225   \n56470   training  2018-09-24 04:05:35.796451   \n124128      test  2018-09-28 01:04:48.079487   \n\n                                      route_schedule_uuid route_type  \\\n107014  thanos::sroute:162f9a67-5ebe-4338-8450-1c6d57d...        FTL   \n117687  thanos::sroute:f8c83fd0-6554-44f3-9408-32465bd...        FTL   \n141541  thanos::sroute:1be4d489-68d5-482d-ae98-c40e0a2...        FTL   \n138381  thanos::sroute:e62b91df-195a-455f-b67b-3f1707b...        FTL   \n98135   thanos::sroute:9ca35222-ef75-46f1-b881-c47c88b...        FTL   \n59465   thanos::sroute:25dd334d-e30d-4cfa-b6e8-192bcfe...        FTL   \n7284    thanos::sroute:b3fd32d8-4027-4dc5-a425-eb8ccb8...        FTL   \n14921   thanos::sroute:162f9a67-5ebe-4338-8450-1c6d57d...        FTL   \n48856   thanos::sroute:16abf49b-3f11-48e2-962c-07fcc01...        FTL   \n103324  thanos::sroute:0456b740-1dad-4929-bbe0-87d8843...        FTL   \n54265   thanos::sroute:be1c03eb-fd2f-4455-a933-5e3d085...        FTL   \n140233  thanos::sroute:51d8aa58-9b5b-4bc2-81e9-bb284c6...        FTL   \n74239   thanos::sroute:a9af5fc9-2972-4795-b7a7-9fd3cc0...        FTL   \n139398  thanos::sroute:dca6268f-741a-4d1a-b1b0-aab1309...        FTL   \n26011   thanos::sroute:9ff9217a-3084-48e0-aab2-b340606...        FTL   \n109714  thanos::sroute:791e4841-5a81-46a2-85f3-377c8eb...    Carting   \n3041    thanos::sroute:db3c468a-dd4e-4646-ae40-eb4d1a4...        FTL   \n123701  thanos::sroute:727a00e4-2906-4258-9e0a-d592433...    Carting   \n89285   thanos::sroute:9d00b12d-1264-4770-b34d-0c0602b...    Carting   \n24588   thanos::sroute:21dcaeeb-fa40-45f1-85e9-0b10815...        FTL   \n58350   thanos::sroute:21dcaeeb-fa40-45f1-85e9-0b10815...        FTL   \n2713    thanos::sroute:e51683f5-1083-4a25-b316-e01744a...        FTL   \n15174   thanos::sroute:6be6529b-f2ad-4714-b7ab-ac58f24...        FTL   \n56470   thanos::sroute:870bead8-6c8a-458f-b4d8-658de44...        FTL   \n124128  thanos::sroute:adfe08d8-90c1-4170-aea7-04ce569...        FTL   \n\n                      trip_uuid source_center  \\\n107014  trip-153695261726506759  IND000000ACB   \n117687  trip-153713232579768931  IND573142AAA   \n141541  trip-153726156653486722  IND573201AAB   \n138381  trip-153788665196527462  IND000000ACA   \n98135   trip-153780581958683253  IND211002AAB   \n59465   trip-153759275169639623  IND751002AAB   \n7284    trip-153800006302758138  IND562132AAA   \n14921   trip-153824592293475361  IND000000ACB   \n48856   trip-153722786955590573  IND144001AAA   \n103324  trip-153781094505593363  IND000000ACB   \n54265   trip-153713874655272459  IND000000ACB   \n140233  trip-153815125628803935  IND825409AAA   \n74239   trip-153796743263745045  IND160002AAC   \n139398  trip-153785527205904680  IND000000ACB   \n26011   trip-153781904584912873  IND000000ACB   \n109714  trip-153679309296173520  IND600032AAB   \n3041    trip-153722426043042934  IND411033AAA   \n123701  trip-153828063253608270  IND530012AAA   \n89285   trip-153718137376545571  IND560300AAA   \n24588   trip-153801202166779166  IND421302AAG   \n58350   trip-153810010650379013  IND562132AAA   \n2713    trip-153748676247268853  IND507117AAB   \n15174   trip-153854253003897121  IND000000ACB   \n56470   trip-153776193579607660  IND000000ACB   \n124128  trip-153809668807922043  IND209304AAA   \n\n                                       source_name destination_center  \\\n107014               Gurgaon_Bilaspur_HB (Haryana)       IND712311AAA   \n117687       Ramanathapura_Central_D_2 (Karnataka)       IND573201AAB   \n141541               Hassan_Pandrnga_I (Karnataka)       IND575004AAB   \n138381               Ludhiana_MilrGanj_HB (Punjab)       IND142001AAB   \n98135        Allahabad_Central_H_1 (Uttar Pradesh)       IND209304AAA   \n59465                    Bhubaneshwar_Hub (Orissa)       IND562132AAA   \n7284              Bangalore_Nelmngla_H (Karnataka)       IND000000ACB   \n14921                Gurgaon_Bilaspur_HB (Haryana)       IND712311AAA   \n48856                        Jalandhar_DC (Punjab)       IND144040AAA   \n103324               Gurgaon_Bilaspur_HB (Haryana)       IND562132AAA   \n54265                Gurgaon_Bilaspur_HB (Haryana)       IND712311AAA   \n140233           JhumriTlya_RadhaCpx_D (Jharkhand)       IND000000ACB   \n74239               Chandigarh_Mehmdpur_H (Punjab)       IND142001AAB   \n139398               Gurgaon_Bilaspur_HB (Haryana)       IND562132AAA   \n26011                Gurgaon_Bilaspur_HB (Haryana)       IND382430AAB   \n109714                    Chennai_Hub (Tamil Nadu)       IND600056AAB   \n3041                 Pune_Tathawde_H (Maharashtra)       IND521225AAB   \n123701  Visakhapatnam_Gajuwaka_IP (Andhra Pradesh)       IND531001AAA   \n89285            Bengaluru_KGAirprt_HB (Karnataka)       IND562132AAA   \n24588            Bhiwandi_Mankoli_HB (Maharashtra)       IND562132AAA   \n58350             Bangalore_Nelmngla_H (Karnataka)       IND600056AAB   \n2713               Manuguru_AskNagar_D (Telangana)       IND507303AAA   \n15174                Gurgaon_Bilaspur_HB (Haryana)       IND600056AAB   \n56470                Gurgaon_Bilaspur_HB (Haryana)       IND834002AAB   \n124128          Kanpur_Central_H_6 (Uttar Pradesh)       IND211002AAB   \n\n                              destination_name               od_start_time  \\\n107014        Kolkata_Dankuni_HB (West Bengal)  2018-09-15 02:28:03.794936   \n117687           Hassan_Pandrnga_I (Karnataka)  2018-09-17 07:54:09.648138   \n141541        Mangalore_Kuntikna_H (Karnataka)  2018-09-18 15:03:38.078453   \n138381                       Moga_DPC (Punjab)  2018-09-25 14:44:11.965670   \n98135       Kanpur_Central_H_6 (Uttar Pradesh)  2018-09-25 01:01:30.971457   \n59465         Bangalore_Nelmngla_H (Karnataka)  2018-09-22 20:22:03.359090   \n7284             Gurgaon_Bilaspur_HB (Haryana)  2018-09-26 22:14:23.027831   \n14921         Kolkata_Dankuni_HB (West Bengal)  2018-09-30 03:48:01.522721   \n48856              Nakodar_ChowkDPP_D (Punjab)  2018-09-18 02:54:52.009313   \n103324        Bangalore_Nelmngla_H (Karnataka)  2018-09-24 17:42:25.056189   \n54265         Kolkata_Dankuni_HB (West Bengal)  2018-09-16 22:59:06.552984   \n140233           Gurgaon_Bilaspur_HB (Haryana)  2018-09-29 04:01:18.165294   \n74239                        Moga_DPC (Punjab)  2018-09-26 13:10:32.637699   \n139398        Bangalore_Nelmngla_H (Karnataka)  2018-09-25 06:01:12.059327   \n26011             Ahmedabad_East_H_1 (Gujarat)  2018-09-24 19:57:25.849386   \n109714         MAA_Poonamallee_HB (Tamil Nadu)  2018-09-12 22:58:12.962120   \n3041    Vijayawada_Rynapadu_H (Andhra Pradesh)  2018-09-18 04:56:54.596209   \n123701   Anakapalle_Kothuru_D (Andhra Pradesh)  2018-09-30 04:10:32.536342   \n89285         Bangalore_Nelmngla_H (Karnataka)  2018-09-17 10:49:33.765667   \n24588         Bangalore_Nelmngla_H (Karnataka)  2018-09-27 01:33:41.668026   \n58350          MAA_Poonamallee_HB (Tamil Nadu)  2018-09-29 03:30:11.211726   \n2713         Sathupally_VidyaNGR_D (Telangana)  2018-09-21 05:49:38.771500   \n15174          MAA_Poonamallee_HB (Tamil Nadu)  2018-10-03 04:55:30.039225   \n56470                   Ranchi_Hub (Jharkhand)  2018-09-24 04:05:35.796451   \n124128   Allahabad_Central_H_1 (Uttar Pradesh)  2018-09-28 17:36:59.636111   \n\n                       od_end_time  start_scan_to_end_scan  \\\n107014  2018-09-16 14:22:32.328868                  2154.0   \n117687  2018-09-17 09:28:52.517805                    94.0   \n141541  2018-09-18 22:38:53.010945                   455.0   \n138381  2018-09-25 18:20:10.780377                   215.0   \n98135   2018-09-25 06:14:08.420900                   312.0   \n59465   2018-09-24 09:45:01.765396                  2242.0   \n7284    2018-09-29 03:12:56.095056                  3178.0   \n14921   2018-10-01 17:29:35.135295                  2261.0   \n48856   2018-09-18 03:55:51.659279                    60.0   \n103324  2018-09-26 22:11:05.369825                  3148.0   \n54265   2018-09-18 07:40:48.880076                  1961.0   \n140233  2018-09-30 05:36:01.331791                  1534.0   \n74239   2018-09-26 20:28:46.695258                   438.0   \n139398  2018-09-27 04:53:01.890120                  2811.0   \n26011   2018-09-25 18:15:07.032475                  1337.0   \n109714  2018-09-13 00:06:56.574564                    68.0   \n3041    2018-09-19 05:37:10.850795                  1480.0   \n123701  2018-09-30 05:11:54.509215                    61.0   \n89285   2018-09-17 13:56:25.684321                   186.0   \n24588   2018-09-28 16:10:09.847920                  2316.0   \n58350   2018-09-29 14:35:49.106382                   665.0   \n2713    2018-09-21 09:13:01.154332                   203.0   \n15174   2018-10-05 11:15:01.115906                  3259.0   \n56470   2018-09-25 07:20:32.805047                  1634.0   \n124128  2018-09-29 01:27:00.103609                   470.0   \n\n        actual_distance_to_destination  actual_time  osrm_time  osrm_distance  \\\n107014                     1301.087061       1991.0     1017.0      1429.3217   \n117687                       34.293316         71.0       38.0        41.7166   \n141541                      112.207169        315.0      100.0       142.1344   \n138381                       22.618186         21.0       16.0        22.6527   \n98135                       132.906104        190.0      103.0       146.6487   \n59465                       374.415549        780.0      384.0       489.3304   \n7284                        881.631286       1608.0      874.0      1196.4695   \n14921                      1232.754260       1902.0      949.0      1344.6278   \n48856                        22.555202         34.0       20.0        26.2995   \n103324                       22.746475         49.0       43.0        34.4802   \n54265                       594.194937        790.0      446.0       632.1316   \n140233                      264.145707        371.0      230.0       307.8254   \n74239                       110.081533        159.0       86.0       119.4789   \n139398                     1101.758978       1571.0      987.0      1304.9672   \n26011                       648.129269       1019.0      554.0       778.4043   \n109714                       31.619032         54.0       33.0        37.4178   \n3041                        199.266914        414.0      167.0       231.5178   \n123701                       19.807865         36.0       21.0        23.3707   \n89285                        18.361676         60.0       33.0        23.8862   \n24588                       220.090045        269.0      180.0       243.4081   \n58350                       198.110733        350.0      201.0       266.7938   \n2713                         44.122049         99.0       55.0        76.8800   \n15174                      1342.023463       2218.0     1240.0      1716.8991   \n56470                       176.958879        366.0      172.0       242.3610   \n124128                       88.816137        120.0       66.0        93.0760   \n\n        segment_actual_time  segment_osrm_time  segment_osrm_distance  \n107014                 55.0                2.0                 1.8354  \n117687                 31.0               12.0                13.6125  \n141541                 67.0               40.0                49.3877  \n138381                 21.0               16.0                22.6527  \n98135                  42.0               15.0                22.3639  \n59465                  41.0               24.0                34.1365  \n7284                   24.0               18.0                26.6018  \n14921                  33.0               18.0                26.2526  \n48856                   4.0                3.0                 2.2256  \n103324                 49.0               43.0                34.4802  \n54265                  33.0               16.0                24.0474  \n140233                 27.0               25.0                35.1603  \n74239                  29.0               34.0                46.4926  \n139398                 35.0               28.0                39.7970  \n26011                  35.0               23.0                33.6192  \n109714                  5.0                5.0                 5.0672  \n3041                   26.0               16.0                23.4755  \n123701                  6.0                9.0                 4.2875  \n89285                  28.0               15.0                12.0013  \n24588                  29.0               16.0                22.3853  \n58350                  41.0               28.0                30.1209  \n2713                   67.0               60.0                40.1889  \n15174                  26.0               44.0                63.3647  \n56470                  26.0               18.0                26.8762  \n124128                 30.0               16.0                23.2478  ",
      "text/html": "<div>\n<style scoped>\n    .dataframe tbody tr th:only-of-type {\n        vertical-align: middle;\n    }\n\n    .dataframe tbody tr th {\n        vertical-align: top;\n    }\n\n    .dataframe thead th {\n        text-align: right;\n    }\n</style>\n<table border=\"1\" class=\"dataframe\">\n  <thead>\n    <tr style=\"text-align: right;\">\n      <th></th>\n      <th>data</th>\n      <th>trip_creation_time</th>\n      <th>route_schedule_uuid</th>\n      <th>route_type</th>\n      <th>trip_uuid</th>\n      <th>source_center</th>\n      <th>source_name</th>\n      <th>destination_center</th>\n      <th>destination_name</th>\n      <th>od_start_time</th>\n      <th>od_end_time</th>\n      <th>start_scan_to_end_scan</th>\n      <th>actual_distance_to_destination</th>\n      <th>actual_time</th>\n      <th>osrm_time</th>\n      <th>osrm_distance</th>\n      <th>segment_actual_time</th>\n      <th>segment_osrm_time</th>\n      <th>segment_osrm_distance</th>\n    </tr>\n  </thead>\n  <tbody>\n    <tr>\n      <th>107014</th>\n      <td>training</td>\n      <td>2018-09-14 19:16:57.265323</td>\n      <td>thanos::sroute:162f9a67-5ebe-4338-8450-1c6d57d...</td>\n      <td>FTL</td>\n      <td>trip-153695261726506759</td>\n      <td>IND000000ACB</td>\n      <td>Gurgaon_Bilaspur_HB (Haryana)</td>\n      <td>IND712311AAA</td>\n      <td>Kolkata_Dankuni_HB (West Bengal)</td>\n      <td>2018-09-15 02:28:03.794936</td>\n      <td>2018-09-16 14:22:32.328868</td>\n      <td>2154.0</td>\n      <td>1301.087061</td>\n      <td>1991.0</td>\n      <td>1017.0</td>\n      <td>1429.3217</td>\n      <td>55.0</td>\n      <td>2.0</td>\n      <td>1.8354</td>\n    </tr>\n    <tr>\n      <th>117687</th>\n      <td>training</td>\n      <td>2018-09-16 21:12:05.798085</td>\n      <td>thanos::sroute:f8c83fd0-6554-44f3-9408-32465bd...</td>\n      <td>FTL</td>\n      <td>trip-153713232579768931</td>\n      <td>IND573142AAA</td>\n      <td>Ramanathapura_Central_D_2 (Karnataka)</td>\n      <td>IND573201AAB</td>\n      <td>Hassan_Pandrnga_I (Karnataka)</td>\n      <td>2018-09-17 07:54:09.648138</td>\n      <td>2018-09-17 09:28:52.517805</td>\n      <td>94.0</td>\n      <td>34.293316</td>\n      <td>71.0</td>\n      <td>38.0</td>\n      <td>41.7166</td>\n      <td>31.0</td>\n      <td>12.0</td>\n      <td>13.6125</td>\n    </tr>\n    <tr>\n      <th>141541</th>\n      <td>training</td>\n      <td>2018-09-18 09:06:02.999976</td>\n      <td>thanos::sroute:1be4d489-68d5-482d-ae98-c40e0a2...</td>\n      <td>FTL</td>\n      <td>trip-153726156653486722</td>\n      <td>IND573201AAB</td>\n      <td>Hassan_Pandrnga_I (Karnataka)</td>\n      <td>IND575004AAB</td>\n      <td>Mangalore_Kuntikna_H (Karnataka)</td>\n      <td>2018-09-18 15:03:38.078453</td>\n      <td>2018-09-18 22:38:53.010945</td>\n      <td>455.0</td>\n      <td>112.207169</td>\n      <td>315.0</td>\n      <td>100.0</td>\n      <td>142.1344</td>\n      <td>67.0</td>\n      <td>40.0</td>\n      <td>49.3877</td>\n    </tr>\n    <tr>\n      <th>138381</th>\n      <td>training</td>\n      <td>2018-09-25 14:44:11.965670</td>\n      <td>thanos::sroute:e62b91df-195a-455f-b67b-3f1707b...</td>\n      <td>FTL</td>\n      <td>trip-153788665196527462</td>\n      <td>IND000000ACA</td>\n      <td>Ludhiana_MilrGanj_HB (Punjab)</td>\n      <td>IND142001AAB</td>\n      <td>Moga_DPC (Punjab)</td>\n      <td>2018-09-25 14:44:11.965670</td>\n      <td>2018-09-25 18:20:10.780377</td>\n      <td>215.0</td>\n      <td>22.618186</td>\n      <td>21.0</td>\n      <td>16.0</td>\n      <td>22.6527</td>\n      <td>21.0</td>\n      <td>16.0</td>\n      <td>22.6527</td>\n    </tr>\n    <tr>\n      <th>98135</th>\n      <td>training</td>\n      <td>2018-09-24 16:16:59.587226</td>\n      <td>thanos::sroute:9ca35222-ef75-46f1-b881-c47c88b...</td>\n      <td>FTL</td>\n      <td>trip-153780581958683253</td>\n      <td>IND211002AAB</td>\n      <td>Allahabad_Central_H_1 (Uttar Pradesh)</td>\n      <td>IND209304AAA</td>\n      <td>Kanpur_Central_H_6 (Uttar Pradesh)</td>\n      <td>2018-09-25 01:01:30.971457</td>\n      <td>2018-09-25 06:14:08.420900</td>\n      <td>312.0</td>\n      <td>132.906104</td>\n      <td>190.0</td>\n      <td>103.0</td>\n      <td>146.6487</td>\n      <td>42.0</td>\n      <td>15.0</td>\n      <td>22.3639</td>\n    </tr>\n    <tr>\n      <th>59465</th>\n      <td>training</td>\n      <td>2018-09-22 05:05:51.696787</td>\n      <td>thanos::sroute:25dd334d-e30d-4cfa-b6e8-192bcfe...</td>\n      <td>FTL</td>\n      <td>trip-153759275169639623</td>\n      <td>IND751002AAB</td>\n      <td>Bhubaneshwar_Hub (Orissa)</td>\n      <td>IND562132AAA</td>\n      <td>Bangalore_Nelmngla_H (Karnataka)</td>\n      <td>2018-09-22 20:22:03.359090</td>\n      <td>2018-09-24 09:45:01.765396</td>\n      <td>2242.0</td>\n      <td>374.415549</td>\n      <td>780.0</td>\n      <td>384.0</td>\n      <td>489.3304</td>\n      <td>41.0</td>\n      <td>24.0</td>\n      <td>34.1365</td>\n    </tr>\n    <tr>\n      <th>7284</th>\n      <td>training</td>\n      <td>2018-09-26 22:14:23.027831</td>\n      <td>thanos::sroute:b3fd32d8-4027-4dc5-a425-eb8ccb8...</td>\n      <td>FTL</td>\n      <td>trip-153800006302758138</td>\n      <td>IND562132AAA</td>\n      <td>Bangalore_Nelmngla_H (Karnataka)</td>\n      <td>IND000000ACB</td>\n      <td>Gurgaon_Bilaspur_HB (Haryana)</td>\n      <td>2018-09-26 22:14:23.027831</td>\n      <td>2018-09-29 03:12:56.095056</td>\n      <td>3178.0</td>\n      <td>881.631286</td>\n      <td>1608.0</td>\n      <td>874.0</td>\n      <td>1196.4695</td>\n      <td>24.0</td>\n      <td>18.0</td>\n      <td>26.6018</td>\n    </tr>\n    <tr>\n      <th>14921</th>\n      <td>test</td>\n      <td>2018-09-29 18:32:02.935005</td>\n      <td>thanos::sroute:162f9a67-5ebe-4338-8450-1c6d57d...</td>\n      <td>FTL</td>\n      <td>trip-153824592293475361</td>\n      <td>IND000000ACB</td>\n      <td>Gurgaon_Bilaspur_HB (Haryana)</td>\n      <td>IND712311AAA</td>\n      <td>Kolkata_Dankuni_HB (West Bengal)</td>\n      <td>2018-09-30 03:48:01.522721</td>\n      <td>2018-10-01 17:29:35.135295</td>\n      <td>2261.0</td>\n      <td>1232.754260</td>\n      <td>1902.0</td>\n      <td>949.0</td>\n      <td>1344.6278</td>\n      <td>33.0</td>\n      <td>18.0</td>\n      <td>26.2526</td>\n    </tr>\n    <tr>\n      <th>48856</th>\n      <td>training</td>\n      <td>2018-09-17 23:44:29.556309</td>\n      <td>thanos::sroute:16abf49b-3f11-48e2-962c-07fcc01...</td>\n      <td>FTL</td>\n      <td>trip-153722786955590573</td>\n      <td>IND144001AAA</td>\n      <td>Jalandhar_DC (Punjab)</td>\n      <td>IND144040AAA</td>\n      <td>Nakodar_ChowkDPP_D (Punjab)</td>\n      <td>2018-09-18 02:54:52.009313</td>\n      <td>2018-09-18 03:55:51.659279</td>\n      <td>60.0</td>\n      <td>22.555202</td>\n      <td>34.0</td>\n      <td>20.0</td>\n      <td>26.2995</td>\n      <td>4.0</td>\n      <td>3.0</td>\n      <td>2.2256</td>\n    </tr>\n    <tr>\n      <th>103324</th>\n      <td>training</td>\n      <td>2018-09-24 17:42:25.056189</td>\n      <td>thanos::sroute:0456b740-1dad-4929-bbe0-87d8843...</td>\n      <td>FTL</td>\n      <td>trip-153781094505593363</td>\n      <td>IND000000ACB</td>\n      <td>Gurgaon_Bilaspur_HB (Haryana)</td>\n      <td>IND562132AAA</td>\n      <td>Bangalore_Nelmngla_H (Karnataka)</td>\n      <td>2018-09-24 17:42:25.056189</td>\n      <td>2018-09-26 22:11:05.369825</td>\n      <td>3148.0</td>\n      <td>22.746475</td>\n      <td>49.0</td>\n      <td>43.0</td>\n      <td>34.4802</td>\n      <td>49.0</td>\n      <td>43.0</td>\n      <td>34.4802</td>\n    </tr>\n    <tr>\n      <th>54265</th>\n      <td>training</td>\n      <td>2018-09-16 22:59:06.552984</td>\n      <td>thanos::sroute:be1c03eb-fd2f-4455-a933-5e3d085...</td>\n      <td>FTL</td>\n      <td>trip-153713874655272459</td>\n      <td>IND000000ACB</td>\n      <td>Gurgaon_Bilaspur_HB (Haryana)</td>\n      <td>IND712311AAA</td>\n      <td>Kolkata_Dankuni_HB (West Bengal)</td>\n      <td>2018-09-16 22:59:06.552984</td>\n      <td>2018-09-18 07:40:48.880076</td>\n      <td>1961.0</td>\n      <td>594.194937</td>\n      <td>790.0</td>\n      <td>446.0</td>\n      <td>632.1316</td>\n      <td>33.0</td>\n      <td>16.0</td>\n      <td>24.0474</td>\n    </tr>\n    <tr>\n      <th>140233</th>\n      <td>test</td>\n      <td>2018-09-28 16:14:16.288292</td>\n      <td>thanos::sroute:51d8aa58-9b5b-4bc2-81e9-bb284c6...</td>\n      <td>FTL</td>\n      <td>trip-153815125628803935</td>\n      <td>IND825409AAA</td>\n      <td>JhumriTlya_RadhaCpx_D (Jharkhand)</td>\n      <td>IND000000ACB</td>\n      <td>Gurgaon_Bilaspur_HB (Haryana)</td>\n      <td>2018-09-29 04:01:18.165294</td>\n      <td>2018-09-30 05:36:01.331791</td>\n      <td>1534.0</td>\n      <td>264.145707</td>\n      <td>371.0</td>\n      <td>230.0</td>\n      <td>307.8254</td>\n      <td>27.0</td>\n      <td>25.0</td>\n      <td>35.1603</td>\n    </tr>\n    <tr>\n      <th>74239</th>\n      <td>training</td>\n      <td>2018-09-26 13:10:32.637699</td>\n      <td>thanos::sroute:a9af5fc9-2972-4795-b7a7-9fd3cc0...</td>\n      <td>FTL</td>\n      <td>trip-153796743263745045</td>\n      <td>IND160002AAC</td>\n      <td>Chandigarh_Mehmdpur_H (Punjab)</td>\n      <td>IND142001AAB</td>\n      <td>Moga_DPC (Punjab)</td>\n      <td>2018-09-26 13:10:32.637699</td>\n      <td>2018-09-26 20:28:46.695258</td>\n      <td>438.0</td>\n      <td>110.081533</td>\n      <td>159.0</td>\n      <td>86.0</td>\n      <td>119.4789</td>\n      <td>29.0</td>\n      <td>34.0</td>\n      <td>46.4926</td>\n    </tr>\n    <tr>\n      <th>139398</th>\n      <td>training</td>\n      <td>2018-09-25 06:01:12.059327</td>\n      <td>thanos::sroute:dca6268f-741a-4d1a-b1b0-aab1309...</td>\n      <td>FTL</td>\n      <td>trip-153785527205904680</td>\n      <td>IND000000ACB</td>\n      <td>Gurgaon_Bilaspur_HB (Haryana)</td>\n      <td>IND562132AAA</td>\n      <td>Bangalore_Nelmngla_H (Karnataka)</td>\n      <td>2018-09-25 06:01:12.059327</td>\n      <td>2018-09-27 04:53:01.890120</td>\n      <td>2811.0</td>\n      <td>1101.758978</td>\n      <td>1571.0</td>\n      <td>987.0</td>\n      <td>1304.9672</td>\n      <td>35.0</td>\n      <td>28.0</td>\n      <td>39.7970</td>\n    </tr>\n    <tr>\n      <th>26011</th>\n      <td>training</td>\n      <td>2018-09-24 19:57:25.849386</td>\n      <td>thanos::sroute:9ff9217a-3084-48e0-aab2-b340606...</td>\n      <td>FTL</td>\n      <td>trip-153781904584912873</td>\n      <td>IND000000ACB</td>\n      <td>Gurgaon_Bilaspur_HB (Haryana)</td>\n      <td>IND382430AAB</td>\n      <td>Ahmedabad_East_H_1 (Gujarat)</td>\n      <td>2018-09-24 19:57:25.849386</td>\n      <td>2018-09-25 18:15:07.032475</td>\n      <td>1337.0</td>\n      <td>648.129269</td>\n      <td>1019.0</td>\n      <td>554.0</td>\n      <td>778.4043</td>\n      <td>35.0</td>\n      <td>23.0</td>\n      <td>33.6192</td>\n    </tr>\n    <tr>\n      <th>109714</th>\n      <td>training</td>\n      <td>2018-09-12 22:58:12.962120</td>\n      <td>thanos::sroute:791e4841-5a81-46a2-85f3-377c8eb...</td>\n      <td>Carting</td>\n      <td>trip-153679309296173520</td>\n      <td>IND600032AAB</td>\n      <td>Chennai_Hub (Tamil Nadu)</td>\n      <td>IND600056AAB</td>\n      <td>MAA_Poonamallee_HB (Tamil Nadu)</td>\n      <td>2018-09-12 22:58:12.962120</td>\n      <td>2018-09-13 00:06:56.574564</td>\n      <td>68.0</td>\n      <td>31.619032</td>\n      <td>54.0</td>\n      <td>33.0</td>\n      <td>37.4178</td>\n      <td>5.0</td>\n      <td>5.0</td>\n      <td>5.0672</td>\n    </tr>\n    <tr>\n      <th>3041</th>\n      <td>training</td>\n      <td>2018-09-17 22:44:20.430693</td>\n      <td>thanos::sroute:db3c468a-dd4e-4646-ae40-eb4d1a4...</td>\n      <td>FTL</td>\n      <td>trip-153722426043042934</td>\n      <td>IND411033AAA</td>\n      <td>Pune_Tathawde_H (Maharashtra)</td>\n      <td>IND521225AAB</td>\n      <td>Vijayawada_Rynapadu_H (Andhra Pradesh)</td>\n      <td>2018-09-18 04:56:54.596209</td>\n      <td>2018-09-19 05:37:10.850795</td>\n      <td>1480.0</td>\n      <td>199.266914</td>\n      <td>414.0</td>\n      <td>167.0</td>\n      <td>231.5178</td>\n      <td>26.0</td>\n      <td>16.0</td>\n      <td>23.4755</td>\n    </tr>\n    <tr>\n      <th>123701</th>\n      <td>test</td>\n      <td>2018-09-30 04:10:32.536342</td>\n      <td>thanos::sroute:727a00e4-2906-4258-9e0a-d592433...</td>\n      <td>Carting</td>\n      <td>trip-153828063253608270</td>\n      <td>IND530012AAA</td>\n      <td>Visakhapatnam_Gajuwaka_IP (Andhra Pradesh)</td>\n      <td>IND531001AAA</td>\n      <td>Anakapalle_Kothuru_D (Andhra Pradesh)</td>\n      <td>2018-09-30 04:10:32.536342</td>\n      <td>2018-09-30 05:11:54.509215</td>\n      <td>61.0</td>\n      <td>19.807865</td>\n      <td>36.0</td>\n      <td>21.0</td>\n      <td>23.3707</td>\n      <td>6.0</td>\n      <td>9.0</td>\n      <td>4.2875</td>\n    </tr>\n    <tr>\n      <th>89285</th>\n      <td>training</td>\n      <td>2018-09-17 10:49:33.765667</td>\n      <td>thanos::sroute:9d00b12d-1264-4770-b34d-0c0602b...</td>\n      <td>Carting</td>\n      <td>trip-153718137376545571</td>\n      <td>IND560300AAA</td>\n      <td>Bengaluru_KGAirprt_HB (Karnataka)</td>\n      <td>IND562132AAA</td>\n      <td>Bangalore_Nelmngla_H (Karnataka)</td>\n      <td>2018-09-17 10:49:33.765667</td>\n      <td>2018-09-17 13:56:25.684321</td>\n      <td>186.0</td>\n      <td>18.361676</td>\n      <td>60.0</td>\n      <td>33.0</td>\n      <td>23.8862</td>\n      <td>28.0</td>\n      <td>15.0</td>\n      <td>12.0013</td>\n    </tr>\n    <tr>\n      <th>24588</th>\n      <td>test</td>\n      <td>2018-09-27 01:33:41.668026</td>\n      <td>thanos::sroute:21dcaeeb-fa40-45f1-85e9-0b10815...</td>\n      <td>FTL</td>\n      <td>trip-153801202166779166</td>\n      <td>IND421302AAG</td>\n      <td>Bhiwandi_Mankoli_HB (Maharashtra)</td>\n      <td>IND562132AAA</td>\n      <td>Bangalore_Nelmngla_H (Karnataka)</td>\n      <td>2018-09-27 01:33:41.668026</td>\n      <td>2018-09-28 16:10:09.847920</td>\n      <td>2316.0</td>\n      <td>220.090045</td>\n      <td>269.0</td>\n      <td>180.0</td>\n      <td>243.4081</td>\n      <td>29.0</td>\n      <td>16.0</td>\n      <td>22.3853</td>\n    </tr>\n    <tr>\n      <th>58350</th>\n      <td>test</td>\n      <td>2018-09-28 02:01:46.504075</td>\n      <td>thanos::sroute:21dcaeeb-fa40-45f1-85e9-0b10815...</td>\n      <td>FTL</td>\n      <td>trip-153810010650379013</td>\n      <td>IND562132AAA</td>\n      <td>Bangalore_Nelmngla_H (Karnataka)</td>\n      <td>IND600056AAB</td>\n      <td>MAA_Poonamallee_HB (Tamil Nadu)</td>\n      <td>2018-09-29 03:30:11.211726</td>\n      <td>2018-09-29 14:35:49.106382</td>\n      <td>665.0</td>\n      <td>198.110733</td>\n      <td>350.0</td>\n      <td>201.0</td>\n      <td>266.7938</td>\n      <td>41.0</td>\n      <td>28.0</td>\n      <td>30.1209</td>\n    </tr>\n    <tr>\n      <th>2713</th>\n      <td>training</td>\n      <td>2018-09-20 23:39:22.472939</td>\n      <td>thanos::sroute:e51683f5-1083-4a25-b316-e01744a...</td>\n      <td>FTL</td>\n      <td>trip-153748676247268853</td>\n      <td>IND507117AAB</td>\n      <td>Manuguru_AskNagar_D (Telangana)</td>\n      <td>IND507303AAA</td>\n      <td>Sathupally_VidyaNGR_D (Telangana)</td>\n      <td>2018-09-21 05:49:38.771500</td>\n      <td>2018-09-21 09:13:01.154332</td>\n      <td>203.0</td>\n      <td>44.122049</td>\n      <td>99.0</td>\n      <td>55.0</td>\n      <td>76.8800</td>\n      <td>67.0</td>\n      <td>60.0</td>\n      <td>40.1889</td>\n    </tr>\n    <tr>\n      <th>15174</th>\n      <td>test</td>\n      <td>2018-10-03 04:55:30.039225</td>\n      <td>thanos::sroute:6be6529b-f2ad-4714-b7ab-ac58f24...</td>\n      <td>FTL</td>\n      <td>trip-153854253003897121</td>\n      <td>IND000000ACB</td>\n      <td>Gurgaon_Bilaspur_HB (Haryana)</td>\n      <td>IND600056AAB</td>\n      <td>MAA_Poonamallee_HB (Tamil Nadu)</td>\n      <td>2018-10-03 04:55:30.039225</td>\n      <td>2018-10-05 11:15:01.115906</td>\n      <td>3259.0</td>\n      <td>1342.023463</td>\n      <td>2218.0</td>\n      <td>1240.0</td>\n      <td>1716.8991</td>\n      <td>26.0</td>\n      <td>44.0</td>\n      <td>63.3647</td>\n    </tr>\n    <tr>\n      <th>56470</th>\n      <td>training</td>\n      <td>2018-09-24 04:05:35.796451</td>\n      <td>thanos::sroute:870bead8-6c8a-458f-b4d8-658de44...</td>\n      <td>FTL</td>\n      <td>trip-153776193579607660</td>\n      <td>IND000000ACB</td>\n      <td>Gurgaon_Bilaspur_HB (Haryana)</td>\n      <td>IND834002AAB</td>\n      <td>Ranchi_Hub (Jharkhand)</td>\n      <td>2018-09-24 04:05:35.796451</td>\n      <td>2018-09-25 07:20:32.805047</td>\n      <td>1634.0</td>\n      <td>176.958879</td>\n      <td>366.0</td>\n      <td>172.0</td>\n      <td>242.3610</td>\n      <td>26.0</td>\n      <td>18.0</td>\n      <td>26.8762</td>\n    </tr>\n    <tr>\n      <th>124128</th>\n      <td>test</td>\n      <td>2018-09-28 01:04:48.079487</td>\n      <td>thanos::sroute:adfe08d8-90c1-4170-aea7-04ce569...</td>\n      <td>FTL</td>\n      <td>trip-153809668807922043</td>\n      <td>IND209304AAA</td>\n      <td>Kanpur_Central_H_6 (Uttar Pradesh)</td>\n      <td>IND211002AAB</td>\n      <td>Allahabad_Central_H_1 (Uttar Pradesh)</td>\n      <td>2018-09-28 17:36:59.636111</td>\n      <td>2018-09-29 01:27:00.103609</td>\n      <td>470.0</td>\n      <td>88.816137</td>\n      <td>120.0</td>\n      <td>66.0</td>\n      <td>93.0760</td>\n      <td>30.0</td>\n      <td>16.0</td>\n      <td>23.2478</td>\n    </tr>\n  </tbody>\n</table>\n</div>"
     },
     "execution_count": 118,
     "metadata": {},
     "output_type": "execute_result"
    }
   ],
   "source": [
    "cat_cols = ['source_name','destination_name']\n",
    "mode_impute =  SimpleImputer(strategy ='most_frequent')\n",
    "for i in cat_cols :\n",
    "    df[i] = pd.DataFrame(mode_impute.fit_transform(pd.DataFrame(df[i])))\n",
    "df.sample(25)"
   ],
   "metadata": {
    "collapsed": false,
    "ExecuteTime": {
     "end_time": "2023-08-01T13:59:29.857213400Z",
     "start_time": "2023-08-01T13:59:29.711545900Z"
    }
   },
   "id": "27475f55997ce3a2"
  },
  {
   "cell_type": "code",
   "execution_count": 119,
   "outputs": [
    {
     "data": {
      "text/plain": "data                              0\ntrip_creation_time                0\nroute_schedule_uuid               0\nroute_type                        0\ntrip_uuid                         0\nsource_center                     0\nsource_name                       0\ndestination_center                0\ndestination_name                  0\nod_start_time                     0\nod_end_time                       0\nstart_scan_to_end_scan            0\nactual_distance_to_destination    0\nactual_time                       0\nosrm_time                         0\nosrm_distance                     0\nsegment_actual_time               0\nsegment_osrm_time                 0\nsegment_osrm_distance             0\ndtype: int64"
     },
     "execution_count": 119,
     "metadata": {},
     "output_type": "execute_result"
    }
   ],
   "source": [
    "df.isna().sum()"
   ],
   "metadata": {
    "collapsed": false,
    "ExecuteTime": {
     "end_time": "2023-08-01T14:00:08.177285200Z",
     "start_time": "2023-08-01T14:00:07.953137700Z"
    }
   },
   "id": "9c5b53c7cbce11c4"
  },
  {
   "cell_type": "code",
   "execution_count": null,
   "outputs": [],
   "source": [],
   "metadata": {
    "collapsed": false
   },
   "id": "88b9ae4b3762939d"
  },
  {
   "cell_type": "code",
   "execution_count": null,
   "outputs": [],
   "source": [],
   "metadata": {
    "collapsed": false
   },
   "id": "e65fcaac2ba34fc5"
  },
  {
   "cell_type": "code",
   "execution_count": null,
   "outputs": [],
   "source": [],
   "metadata": {
    "collapsed": false
   },
   "id": "9efcfd7609c549e5"
  },
  {
   "cell_type": "code",
   "execution_count": null,
   "outputs": [],
   "source": [],
   "metadata": {
    "collapsed": false
   },
   "id": "ae06883943c9de38"
  },
  {
   "cell_type": "code",
   "execution_count": null,
   "outputs": [],
   "source": [],
   "metadata": {
    "collapsed": false
   },
   "id": "95d2b82c7db2facf"
  }
 ],
 "metadata": {
  "kernelspec": {
   "display_name": "Python 3",
   "language": "python",
   "name": "python3"
  },
  "language_info": {
   "codemirror_mode": {
    "name": "ipython",
    "version": 2
   },
   "file_extension": ".py",
   "mimetype": "text/x-python",
   "name": "python",
   "nbconvert_exporter": "python",
   "pygments_lexer": "ipython2",
   "version": "2.7.6"
  }
 },
 "nbformat": 4,
 "nbformat_minor": 5
}
